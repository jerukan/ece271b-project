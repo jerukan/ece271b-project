{
 "cells": [
  {
   "cell_type": "markdown",
   "metadata": {},
   "source": [
    "# Project code\n",
    "\n",
    "gg"
   ]
  },
  {
   "cell_type": "code",
   "execution_count": 271,
   "metadata": {},
   "outputs": [],
   "source": [
    "import os\n",
    "from pathlib import Path\n",
    "import time\n",
    "\n",
    "import cv2\n",
    "import lightning as L\n",
    "import matplotlib.pyplot as plt\n",
    "import numpy as np\n",
    "from PIL import Image, UnidentifiedImageError\n",
    "from sklearn import metrics\n",
    "from sklearn.discriminant_analysis import LinearDiscriminantAnalysis\n",
    "from sklearn.random_projection import GaussianRandomProjection\n",
    "from sklearn.linear_model import LogisticRegression\n",
    "from sklearn.decomposition import PCA\n",
    "from sklearn.neighbors import KNeighborsClassifier\n",
    "import tensorly as tl\n",
    "import torch\n",
    "from torch import nn, optim\n",
    "import torch.nn.functional as F\n",
    "from torchvision.datasets import EMNIST\n",
    "from torch.utils.data import Dataset, random_split\n",
    "from torchvision import datasets\n",
    "from torchvision.transforms import v2\n",
    "\n",
    "import utils"
   ]
  },
  {
   "cell_type": "markdown",
   "metadata": {},
   "source": [
    "## Data loading utilities"
   ]
  },
  {
   "cell_type": "code",
   "execution_count": 272,
   "metadata": {},
   "outputs": [
    {
     "name": "stdout",
     "output_type": "stream",
     "text": [
      "Image data/notMNIST_small/A/RGVtb2NyYXRpY2FCb2xkT2xkc3R5bGUgQm9sZC50dGY=.png is not a valid image, skipping\n",
      "Image data/notMNIST_small/F/Q3Jvc3NvdmVyIEJvbGRPYmxpcXVlLnR0Zg==.png is not a valid image, skipping\n",
      "Image data/standard_ocr_dataset/data2/testing_data/G/44404.png is not a valid image, skipping\n"
     ]
    }
   ],
   "source": [
    "# this dataset is already random rotated\n",
    "handiso_ds_train = utils.CharDataset(\"data/handwritten-isolated-english/train\")\n",
    "handiso_ds_test = utils.CharDataset(\"data/handwritten-isolated-english/test\")\n",
    "handiso_test_data, handiso_test_labels = utils.ds_to_vectors(handiso_ds_test)\n",
    "\n",
    "notmnist_ds = utils.CharDataset(\"data/notMNIST_small\", transform=utils.T_randrot)\n",
    "notmnist_ds_train, notmnist_ds_test = random_split(notmnist_ds, [0.8, 0.2])\n",
    "notmnist_test_data, notmnist_test_labels = utils.ds_to_vectors(notmnist_ds_test)\n",
    "\n",
    "stdocr_ds_train_orig = (\n",
    "    utils.CharDataset(\"data/standard_ocr_dataset/data/training_data\", transform=utils.T_randrot) +\n",
    "    utils.CharDataset(\"data/standard_ocr_dataset/data2/training_data\", transform=utils.T_randrot)\n",
    ")\n",
    "stdocr_ds_test = (\n",
    "    utils.CharDataset(\"data/standard_ocr_dataset/data/testing_data\", transform=utils.T_randrot) + \n",
    "    utils.CharDataset(\"data/standard_ocr_dataset/data2/testing_data\", transform=utils.T_randrot)\n",
    ")\n",
    "stdocr_test_data, stdocr_test_labels = utils.ds_to_vectors(stdocr_ds_test)\n",
    "\n",
    "mnist_ds_train_letters = EMNIST(Path(os.getcwd(), \"data\"), \"letters\", download=True, train=True, transform=utils.T_randrot, target_transform=utils.emnistletter_idx_to_class)\n",
    "mnist_ds_train_digits = EMNIST(Path(os.getcwd(), \"data\"), \"digits\", download=True, train=True, transform=utils.T_randrot, target_transform=utils.emnistdigit_idx_to_class)\n",
    "mnist_ds_train_orig = mnist_ds_train_letters + mnist_ds_train_digits\n",
    "mnist_ds_test_letters = EMNIST(Path(os.getcwd(), \"data\"), \"letters\", download=True, train=False, transform=utils.T_randrot, target_transform=utils.emnistletter_idx_to_class)\n",
    "mnist_ds_test_digits = EMNIST(Path(os.getcwd(), \"data\"), \"digits\", download=True, train=False, transform=utils.T_randrot, target_transform=utils.emnistdigit_idx_to_class)\n",
    "mnist_ds_test_orig = mnist_ds_test_letters + mnist_ds_test_digits"
   ]
  },
  {
   "cell_type": "code",
   "execution_count": 273,
   "metadata": {},
   "outputs": [
    {
     "name": "stdout",
     "output_type": "stream",
     "text": [
      "handwritten-isolated-english sizes: [train:13168, test:1792]\n",
      "not MNIST sizes: [train:14980, test:3744]\n",
      "standard OCR ds sizes: [train:41256, test:4249]\n",
      "EMNIST sizes: [train:364800, test:60800]\n"
     ]
    }
   ],
   "source": [
    "print(f\"handwritten-isolated-english sizes: [train:{len(handiso_ds_train)}, test:{len(handiso_ds_test)}]\")\n",
    "print(f\"not MNIST sizes: [train:{len(notmnist_ds_train)}, test:{len(notmnist_ds_test)}]\")\n",
    "print(f\"standard OCR ds sizes: [train:{len(stdocr_ds_train_orig)}, test:{len(stdocr_ds_test)}]\")\n",
    "print(f\"EMNIST sizes: [train:{len(mnist_ds_train_orig)}, test:{len(mnist_ds_test_orig)}]\")"
   ]
  },
  {
   "cell_type": "code",
   "execution_count": 274,
   "metadata": {},
   "outputs": [],
   "source": [
    "# EMNIST dataset is way too large for our purposes, we only take a subset of it\n",
    "stdocr_ds_train, _ = random_split(stdocr_ds_train_orig, [0.5, 0.5])\n",
    "mnist_ds_train, _ = random_split(mnist_ds_train_orig, [0.05, 0.95])\n",
    "mnist_ds_test, _ = random_split(mnist_ds_test_orig, [0.05, 0.95])\n",
    "mnist_test_data, mnist_test_labels = utils.ds_to_vectors(mnist_ds_test)"
   ]
  },
  {
   "cell_type": "code",
   "execution_count": 275,
   "metadata": {},
   "outputs": [
    {
     "name": "stdout",
     "output_type": "stream",
     "text": [
      "handwritten-isolated-english sizes: [train:13168, test:1792]\n",
      "not MNIST sizes: [train:14980, test:3744]\n",
      "standard OCR ds sizes: [train:20628, test:4249]\n",
      "EMNIST sizes: [train:18240, test:3040]\n"
     ]
    }
   ],
   "source": [
    "print(f\"handwritten-isolated-english sizes: [train:{len(handiso_ds_train)}, test:{len(handiso_ds_test)}]\")\n",
    "print(f\"not MNIST sizes: [train:{len(notmnist_ds_train)}, test:{len(notmnist_ds_test)}]\")\n",
    "print(f\"standard OCR ds sizes: [train:{len(stdocr_ds_train)}, test:{len(stdocr_ds_test)}]\")\n",
    "print(f\"EMNIST sizes: [train:{len(mnist_ds_train)}, test:{len(mnist_ds_test)}]\")"
   ]
  },
  {
   "cell_type": "code",
   "execution_count": 276,
   "metadata": {},
   "outputs": [],
   "source": [
    "consolidated_ds_train = handiso_ds_train + notmnist_ds_train + stdocr_ds_train + mnist_ds_train\n",
    "consolidated_ds_test = handiso_ds_test + notmnist_ds_test + stdocr_ds_test + mnist_ds_test"
   ]
  },
  {
   "cell_type": "code",
   "execution_count": 277,
   "metadata": {},
   "outputs": [],
   "source": [
    "cons_train_data, cons_train_labels = utils.ds_to_vectors(consolidated_ds_train)\n",
    "cons_test_data, cons_test_labels = utils.ds_to_vectors(consolidated_ds_test)"
   ]
  },
  {
   "cell_type": "markdown",
   "metadata": {},
   "source": [
    "## Utility functions for model setup and testing"
   ]
  },
  {
   "cell_type": "code",
   "execution_count": 278,
   "metadata": {},
   "outputs": [],
   "source": [
    "def run_all_tests_model(model, data_transform=None):\n",
    "    if data_transform is None:\n",
    "        data_transform = lambda x: x\n",
    "    ts = utils.tic()\n",
    "    handwrscore = model.score(data_transform(handiso_test_data), handiso_test_labels)\n",
    "    notmnistscore = model.score(data_transform(notmnist_test_data), notmnist_test_labels)\n",
    "    stdocrscore = model.score(data_transform(stdocr_test_data), stdocr_test_labels)\n",
    "    mnistscore = model.score(data_transform(mnist_test_data), mnist_test_labels)\n",
    "    utils.toc(ts, \"Model testing\")\n",
    "    tot_test = len(handiso_test_labels) + len(notmnist_test_labels) + len(stdocr_test_labels) + len(mnist_test_labels)\n",
    "    weighted_score = (handwrscore * len(handiso_test_labels) + notmnistscore * len(notmnist_test_labels) + stdocrscore * len(stdocr_test_labels) + mnistscore * len(mnist_test_labels)) / tot_test\n",
    "    print(f\"handwritten-isolated score: {handwrscore}\\n\"\n",
    "          f\"notMNIST score: {notmnistscore}\\n\"\n",
    "          f\"standard OCR score: {stdocrscore}\\n\"\n",
    "          f\"EMNIST score: {mnistscore}\\n\"\n",
    "          f\"Aggregate score: {weighted_score}\")\n",
    "    return handwrscore, notmnistscore, stdocrscore, mnistscore, weighted_score\n",
    "\n",
    "def test_trf_models(create_model_func, trf_funcs, mincomps, maxcomps):\n",
    "    \"\"\"\n",
    "    create_model_func: (X, y, data_transform=func) -> scipy classification model\n",
    "    \"\"\"\n",
    "    assert len(trf_funcs) == (maxcomps + 1) - mincomps\n",
    "    handwrscores, notmnistscores, stdocrscores, mnistscores, aggscores = [], [], [], [], []\n",
    "    traintimes, predicttimes = [], []\n",
    "    for ncomp in range(mincomps, maxcomps + 1):\n",
    "        print(f\"n_components: {ncomp}\")\n",
    "        trf = trf_funcs[ncomp - mincomps]\n",
    "        ts = utils.tic()\n",
    "        consol_model = create_model_func(cons_train_data, cons_train_labels, data_transform=trf)\n",
    "        traintimes.append(utils.toc(ts, printtime=False))\n",
    "        ts = utils.tic()\n",
    "        handwrscore, notmnistscore, stdocrscore, mnistscore, aggscore = run_all_tests_model(consol_model, data_transform=trf)\n",
    "        predicttimes.append(utils.toc(ts, printtime=False))\n",
    "        handwrscores.append(handwrscore)\n",
    "        notmnistscores.append(notmnistscore)\n",
    "        stdocrscores.append(stdocrscore)\n",
    "        mnistscores.append(mnistscore)\n",
    "        aggscores.append(aggscore)\n",
    "        print(\"------\")\n",
    "    return {\n",
    "        \"handwrscores\": handwrscores,\n",
    "        \"notmnistscores\": notmnistscores,\n",
    "        \"stdocrscores\": stdocrscores,\n",
    "        \"mnistscores\": mnistscores,\n",
    "        \"aggscores\": aggscores,\n",
    "        \"traintimes\": traintimes,\n",
    "        \"predicttimes\": predicttimes\n",
    "    }\n",
    "\n",
    "def plot_scores(results, ncomplist, title=\"Classification results for dimensionality reduction\"):\n",
    "    fig, ax = plt.subplots()\n",
    "    ax.plot(ncomplist, results[\"handwrscores\"], \"-\", label=\"handwritten-isolated\")\n",
    "    ax.plot(ncomplist, results[\"notmnistscores\"], \"-\", label=\"notMNIST\")\n",
    "    ax.plot(ncomplist, results[\"stdocrscores\"], \"-\", label=\"standard OCR\")\n",
    "    ax.plot(ncomplist, results[\"mnistscores\"], \"-\", label=\"EMNIST\")\n",
    "    ax.plot(ncomplist, results[\"aggscores\"], \"--\", label=\"aggregated\")\n",
    "    ax.set_xlabel(\"number of components\")\n",
    "    ax.set_ylabel(\"test accuracy\")\n",
    "    ax.legend()\n",
    "    fig.suptitle(title)\n",
    "    fig.tight_layout()\n",
    "    plt.show()"
   ]
  },
  {
   "cell_type": "code",
   "execution_count": 279,
   "metadata": {},
   "outputs": [],
   "source": [
    "def create_logreg(X, y, data_transform=None):\n",
    "    if data_transform is None:\n",
    "        data_transform = lambda x: x\n",
    "    ts = utils.tic()\n",
    "    logreg = LogisticRegression()\n",
    "    logreg.fit(data_transform(X), y)\n",
    "    utils.toc(ts, \"Logistic Regression training\")\n",
    "    return logreg\n",
    "\n",
    "def create_knn(X, y, k=5, data_transform=None):\n",
    "    if data_transform is None:\n",
    "        data_transform = lambda x: x\n",
    "    ts = utils.tic()\n",
    "    knn = KNeighborsClassifier(n_neighbors=k)\n",
    "    knn.fit(data_transform(X), y)\n",
    "    utils.toc(ts, \"KNN training\")\n",
    "    return knn"
   ]
  },
  {
   "cell_type": "markdown",
   "metadata": {},
   "source": [
    "## Raw model tests"
   ]
  },
  {
   "cell_type": "code",
   "execution_count": 280,
   "metadata": {},
   "outputs": [
    {
     "name": "stdout",
     "output_type": "stream",
     "text": [
      "Logistic Regression training took: 34.706820249557495 sec.\n",
      "\n",
      "Model testing took: 0.07656002044677734 sec.\n",
      "\n",
      "handwritten-isolated score: 0.04352678571428571\n",
      "notMNIST score: 0.5771901709401709\n",
      "standard OCR score: 0.45116497999529304\n",
      "EMNIST score: 0.43486842105263157\n",
      "Aggregate score: 0.4271345029239766\n"
     ]
    },
    {
     "name": "stderr",
     "output_type": "stream",
     "text": [
      "/Users/jerry/mambaforge/envs/ece271bpr/lib/python3.10/site-packages/sklearn/linear_model/_logistic.py:469: ConvergenceWarning: lbfgs failed to converge (status=1):\n",
      "STOP: TOTAL NO. of ITERATIONS REACHED LIMIT.\n",
      "\n",
      "Increase the number of iterations (max_iter) or scale the data as shown in:\n",
      "    https://scikit-learn.org/stable/modules/preprocessing.html\n",
      "Please also refer to the documentation for alternative solver options:\n",
      "    https://scikit-learn.org/stable/modules/linear_model.html#logistic-regression\n",
      "  n_iter_i = _check_optimize_result(\n"
     ]
    },
    {
     "data": {
      "text/plain": [
       "(0.04352678571428571,\n",
       " 0.5771901709401709,\n",
       " 0.45116497999529304,\n",
       " 0.43486842105263157,\n",
       " 0.4271345029239766)"
      ]
     },
     "execution_count": 280,
     "metadata": {},
     "output_type": "execute_result"
    }
   ],
   "source": [
    "# logistic regression linear classifier\n",
    "consol_logreg = create_logreg(cons_train_data, cons_train_labels)\n",
    "run_all_tests_model(consol_logreg)"
   ]
  },
  {
   "cell_type": "code",
   "execution_count": 281,
   "metadata": {},
   "outputs": [
    {
     "name": "stdout",
     "output_type": "stream",
     "text": [
      "KNN training took: 0.006300926208496094 sec.\n",
      "\n"
     ]
    },
    {
     "name": "stdout",
     "output_type": "stream",
     "text": [
      "Model testing took: 13.052629947662354 sec.\n",
      "\n",
      "handwritten-isolated score: 0.6037946428571429\n",
      "notMNIST score: 0.7919337606837606\n",
      "standard OCR score: 0.8945634266886326\n",
      "EMNIST score: 0.7161184210526316\n",
      "Aggregate score: 0.7816764132553606\n"
     ]
    },
    {
     "data": {
      "text/plain": [
       "(0.6037946428571429,\n",
       " 0.7919337606837606,\n",
       " 0.8945634266886326,\n",
       " 0.7161184210526316,\n",
       " 0.7816764132553606)"
      ]
     },
     "execution_count": 281,
     "metadata": {},
     "output_type": "execute_result"
    }
   ],
   "source": [
    "# KNN classifier\n",
    "consol_knn = create_knn(cons_train_data, cons_train_labels, k=5)\n",
    "run_all_tests_model(consol_knn)"
   ]
  },
  {
   "cell_type": "markdown",
   "metadata": {},
   "source": [
    "## Tests with PCA"
   ]
  },
  {
   "cell_type": "code",
   "execution_count": 283,
   "metadata": {},
   "outputs": [
    {
     "name": "stdout",
     "output_type": "stream",
     "text": [
      "Creating PCA components took: 1.1809241771697998 sec.\n",
      "\n",
      "Creating PCA components took: 1.0720000267028809 sec.\n",
      "\n",
      "Creating PCA components took: 1.2223529815673828 sec.\n",
      "\n",
      "Creating PCA components took: 1.1452910900115967 sec.\n",
      "\n",
      "Creating PCA components took: 1.0326950550079346 sec.\n",
      "\n",
      "Creating PCA components took: 1.563870906829834 sec.\n",
      "\n",
      "Creating PCA components took: 0.9623832702636719 sec.\n",
      "\n",
      "Creating PCA components took: 1.284830093383789 sec.\n",
      "\n",
      "Creating PCA components took: 2.1858859062194824 sec.\n",
      "\n",
      "Creating PCA components took: 2.449094295501709 sec.\n",
      "\n",
      "Creating PCA components took: 2.4147298336029053 sec.\n",
      "\n",
      "Creating PCA components took: 2.468219757080078 sec.\n",
      "\n",
      "Creating PCA components took: 2.357678174972534 sec.\n",
      "\n",
      "Creating PCA components took: 3.525146722793579 sec.\n",
      "\n",
      "Creating PCA components took: 3.4355456829071045 sec.\n",
      "\n",
      "Creating PCA components took: 2.3651790618896484 sec.\n",
      "\n",
      "Creating PCA components took: 2.541043996810913 sec.\n",
      "\n",
      "Creating PCA components took: 2.6871769428253174 sec.\n",
      "\n",
      "Creating PCA components took: 2.661924123764038 sec.\n",
      "\n",
      "Creating PCA components took: 3.238961935043335 sec.\n",
      "\n",
      "Creating PCA components took: 3.399595022201538 sec.\n",
      "\n",
      "Creating PCA components took: 2.913926124572754 sec.\n",
      "\n",
      "Creating PCA components took: 2.4117202758789062 sec.\n",
      "\n",
      "Creating PCA components took: 2.8849689960479736 sec.\n",
      "\n",
      "Creating PCA components took: 2.5904579162597656 sec.\n",
      "\n",
      "Creating PCA components took: 3.0051560401916504 sec.\n",
      "\n",
      "Creating PCA components took: 2.577658176422119 sec.\n",
      "\n",
      "Creating PCA components took: 2.254937171936035 sec.\n",
      "\n",
      "Creating PCA components took: 2.0220539569854736 sec.\n",
      "\n",
      "Creating PCA components took: 2.100210189819336 sec.\n",
      "\n",
      "Creating PCA components took: 2.2227299213409424 sec.\n",
      "\n",
      "Creating PCA components took: 2.8250668048858643 sec.\n",
      "\n",
      "Creating PCA components took: 2.68166184425354 sec.\n",
      "\n",
      "Creating PCA components took: 3.012204170227051 sec.\n",
      "\n",
      "Creating PCA components took: 3.333969831466675 sec.\n",
      "\n",
      "Creating PCA components took: 2.930295944213867 sec.\n",
      "\n",
      "Creating PCA components took: 3.332641839981079 sec.\n",
      "\n",
      "Creating PCA components took: 2.6505911350250244 sec.\n",
      "\n",
      "Creating PCA components took: 2.884436845779419 sec.\n",
      "\n",
      "Creating PCA components took: 3.0331711769104004 sec.\n",
      "\n",
      "Creating PCA components took: 3.748286008834839 sec.\n",
      "\n",
      "Creating PCA components took: 4.402044057846069 sec.\n",
      "\n",
      "Creating PCA components took: 2.950700044631958 sec.\n",
      "\n",
      "Creating PCA components took: 3.0571248531341553 sec.\n",
      "\n",
      "Creating PCA components took: 2.7662367820739746 sec.\n",
      "\n",
      "Creating PCA components took: 2.799854040145874 sec.\n",
      "\n",
      "Creating PCA components took: 4.298266172409058 sec.\n",
      "\n",
      "Creating PCA components took: 3.247529983520508 sec.\n",
      "\n",
      "Creating PCA components took: 3.3982489109039307 sec.\n",
      "\n",
      "Creating PCA components took: 4.2859697341918945 sec.\n",
      "\n",
      "Creating PCA components took: 3.6524453163146973 sec.\n",
      "\n",
      "Creating PCA components took: 3.2583930492401123 sec.\n",
      "\n",
      "Creating PCA components took: 3.8313956260681152 sec.\n",
      "\n",
      "Creating PCA components took: 3.3833940029144287 sec.\n",
      "\n",
      "Creating PCA components took: 3.733397960662842 sec.\n",
      "\n",
      "Creating PCA components took: 4.6466591358184814 sec.\n",
      "\n",
      "Creating PCA components took: 3.9817209243774414 sec.\n",
      "\n",
      "Creating PCA components took: 4.374715805053711 sec.\n",
      "\n"
     ]
    }
   ],
   "source": [
    "def create_pca(X, n_components):\n",
    "    ts = utils.tic()\n",
    "    pca = PCA(n_components=n_components)\n",
    "    pca.fit(X)\n",
    "    utils.toc(ts, \"Creating PCA components\")\n",
    "    return pca\n",
    "\n",
    "# could probably just initialize PCA with max components first, then just subset the\n",
    "# eigenvectors, but I'm too lazy to do that\n",
    "allpcas = [create_pca(cons_train_data, i) for i in range(2, 60)]\n",
    "pcatrf_funcs = [pca.transform for pca in allpcas]"
   ]
  },
  {
   "cell_type": "code",
   "execution_count": 284,
   "metadata": {},
   "outputs": [],
   "source": [
    "pcatrf_funcs = [pca.transform for pca in allpcas]"
   ]
  },
  {
   "cell_type": "markdown",
   "metadata": {},
   "source": [
    "### Logistic regression linear classifier"
   ]
  },
  {
   "cell_type": "code",
   "execution_count": 285,
   "metadata": {},
   "outputs": [
    {
     "name": "stdout",
     "output_type": "stream",
     "text": [
      "n_components: 2\n"
     ]
    },
    {
     "name": "stderr",
     "output_type": "stream",
     "text": [
      "/Users/jerry/mambaforge/envs/ece271bpr/lib/python3.10/site-packages/sklearn/linear_model/_logistic.py:469: ConvergenceWarning: lbfgs failed to converge (status=1):\n",
      "STOP: TOTAL NO. of ITERATIONS REACHED LIMIT.\n",
      "\n",
      "Increase the number of iterations (max_iter) or scale the data as shown in:\n",
      "    https://scikit-learn.org/stable/modules/preprocessing.html\n",
      "Please also refer to the documentation for alternative solver options:\n",
      "    https://scikit-learn.org/stable/modules/linear_model.html#logistic-regression\n",
      "  n_iter_i = _check_optimize_result(\n"
     ]
    },
    {
     "name": "stdout",
     "output_type": "stream",
     "text": [
      "Logistic Regression training took: 3.660299062728882 sec.\n",
      "\n",
      "Model testing took: 0.0407559871673584 sec.\n",
      "\n",
      "handwritten-isolated score: 0.037388392857142856\n",
      "notMNIST score: 0.1875\n",
      "standard OCR score: 0.014827018121911038\n",
      "EMNIST score: 0.11973684210526316\n",
      "Aggregate score: 0.09325536062378167\n",
      "------\n",
      "n_components: 3\n"
     ]
    },
    {
     "name": "stderr",
     "output_type": "stream",
     "text": [
      "/Users/jerry/mambaforge/envs/ece271bpr/lib/python3.10/site-packages/sklearn/linear_model/_logistic.py:469: ConvergenceWarning: lbfgs failed to converge (status=1):\n",
      "STOP: TOTAL NO. of ITERATIONS REACHED LIMIT.\n",
      "\n",
      "Increase the number of iterations (max_iter) or scale the data as shown in:\n",
      "    https://scikit-learn.org/stable/modules/preprocessing.html\n",
      "Please also refer to the documentation for alternative solver options:\n",
      "    https://scikit-learn.org/stable/modules/linear_model.html#logistic-regression\n",
      "  n_iter_i = _check_optimize_result(\n"
     ]
    },
    {
     "name": "stdout",
     "output_type": "stream",
     "text": [
      "Logistic Regression training took: 3.671694278717041 sec.\n",
      "\n",
      "Model testing took: 0.03338289260864258 sec.\n",
      "\n",
      "handwritten-isolated score: 0.04743303571428571\n",
      "notMNIST score: 0.18669871794871795\n",
      "standard OCR score: 0.02494704636385032\n",
      "EMNIST score: 0.16940789473684212\n",
      "Aggregate score: 0.10955165692007797\n",
      "------\n",
      "n_components: 4\n"
     ]
    },
    {
     "name": "stderr",
     "output_type": "stream",
     "text": [
      "/Users/jerry/mambaforge/envs/ece271bpr/lib/python3.10/site-packages/sklearn/linear_model/_logistic.py:469: ConvergenceWarning: lbfgs failed to converge (status=1):\n",
      "STOP: TOTAL NO. of ITERATIONS REACHED LIMIT.\n",
      "\n",
      "Increase the number of iterations (max_iter) or scale the data as shown in:\n",
      "    https://scikit-learn.org/stable/modules/preprocessing.html\n",
      "Please also refer to the documentation for alternative solver options:\n",
      "    https://scikit-learn.org/stable/modules/linear_model.html#logistic-regression\n",
      "  n_iter_i = _check_optimize_result(\n"
     ]
    },
    {
     "name": "stdout",
     "output_type": "stream",
     "text": [
      "Logistic Regression training took: 3.525557041168213 sec.\n",
      "\n",
      "Model testing took: 0.03853917121887207 sec.\n",
      "\n",
      "handwritten-isolated score: 0.04575892857142857\n",
      "notMNIST score: 0.23050213675213677\n",
      "standard OCR score: 0.02588844433984467\n",
      "EMNIST score: 0.1713815789473684\n",
      "Aggregate score: 0.1228849902534113\n",
      "------\n",
      "n_components: 5\n"
     ]
    },
    {
     "name": "stderr",
     "output_type": "stream",
     "text": [
      "/Users/jerry/mambaforge/envs/ece271bpr/lib/python3.10/site-packages/sklearn/linear_model/_logistic.py:469: ConvergenceWarning: lbfgs failed to converge (status=1):\n",
      "STOP: TOTAL NO. of ITERATIONS REACHED LIMIT.\n",
      "\n",
      "Increase the number of iterations (max_iter) or scale the data as shown in:\n",
      "    https://scikit-learn.org/stable/modules/preprocessing.html\n",
      "Please also refer to the documentation for alternative solver options:\n",
      "    https://scikit-learn.org/stable/modules/linear_model.html#logistic-regression\n",
      "  n_iter_i = _check_optimize_result(\n"
     ]
    },
    {
     "name": "stdout",
     "output_type": "stream",
     "text": [
      "Logistic Regression training took: 3.8569958209991455 sec.\n",
      "\n",
      "Model testing took: 0.04689502716064453 sec.\n",
      "\n",
      "handwritten-isolated score: 0.04296875\n",
      "notMNIST score: 0.2863247863247863\n",
      "standard OCR score: 0.016945163567898328\n",
      "EMNIST score: 0.18980263157894736\n",
      "Aggregate score: 0.14019493177387915\n",
      "------\n",
      "n_components: 6\n"
     ]
    },
    {
     "name": "stderr",
     "output_type": "stream",
     "text": [
      "/Users/jerry/mambaforge/envs/ece271bpr/lib/python3.10/site-packages/sklearn/linear_model/_logistic.py:469: ConvergenceWarning: lbfgs failed to converge (status=1):\n",
      "STOP: TOTAL NO. of ITERATIONS REACHED LIMIT.\n",
      "\n",
      "Increase the number of iterations (max_iter) or scale the data as shown in:\n",
      "    https://scikit-learn.org/stable/modules/preprocessing.html\n",
      "Please also refer to the documentation for alternative solver options:\n",
      "    https://scikit-learn.org/stable/modules/linear_model.html#logistic-regression\n",
      "  n_iter_i = _check_optimize_result(\n"
     ]
    },
    {
     "name": "stdout",
     "output_type": "stream",
     "text": [
      "Logistic Regression training took: 3.9885787963867188 sec.\n",
      "\n",
      "Model testing took: 0.038645029067993164 sec.\n",
      "\n",
      "handwritten-isolated score: 0.04241071428571429\n",
      "notMNIST score: 0.3993055555555556\n",
      "standard OCR score: 0.021887502941868676\n",
      "EMNIST score: 0.24868421052631579\n",
      "Aggregate score: 0.18869395711500975\n",
      "------\n",
      "n_components: 7\n"
     ]
    },
    {
     "name": "stderr",
     "output_type": "stream",
     "text": [
      "/Users/jerry/mambaforge/envs/ece271bpr/lib/python3.10/site-packages/sklearn/linear_model/_logistic.py:469: ConvergenceWarning: lbfgs failed to converge (status=1):\n",
      "STOP: TOTAL NO. of ITERATIONS REACHED LIMIT.\n",
      "\n",
      "Increase the number of iterations (max_iter) or scale the data as shown in:\n",
      "    https://scikit-learn.org/stable/modules/preprocessing.html\n",
      "Please also refer to the documentation for alternative solver options:\n",
      "    https://scikit-learn.org/stable/modules/linear_model.html#logistic-regression\n",
      "  n_iter_i = _check_optimize_result(\n"
     ]
    },
    {
     "name": "stdout",
     "output_type": "stream",
     "text": [
      "Logistic Regression training took: 3.511359930038452 sec.\n",
      "\n",
      "Model testing took: 0.04911208152770996 sec.\n",
      "\n",
      "handwritten-isolated score: 0.04296875\n",
      "notMNIST score: 0.4099893162393162\n",
      "standard OCR score: 0.040715462461755704\n",
      "EMNIST score: 0.2802631578947368\n",
      "Aggregate score: 0.2056140350877193\n",
      "------\n",
      "n_components: 8\n"
     ]
    },
    {
     "name": "stderr",
     "output_type": "stream",
     "text": [
      "/Users/jerry/mambaforge/envs/ece271bpr/lib/python3.10/site-packages/sklearn/linear_model/_logistic.py:469: ConvergenceWarning: lbfgs failed to converge (status=1):\n",
      "STOP: TOTAL NO. of ITERATIONS REACHED LIMIT.\n",
      "\n",
      "Increase the number of iterations (max_iter) or scale the data as shown in:\n",
      "    https://scikit-learn.org/stable/modules/preprocessing.html\n",
      "Please also refer to the documentation for alternative solver options:\n",
      "    https://scikit-learn.org/stable/modules/linear_model.html#logistic-regression\n",
      "  n_iter_i = _check_optimize_result(\n"
     ]
    },
    {
     "name": "stdout",
     "output_type": "stream",
     "text": [
      "Logistic Regression training took: 3.7441186904907227 sec.\n",
      "\n",
      "Model testing took: 0.057836055755615234 sec.\n",
      "\n",
      "handwritten-isolated score: 0.04017857142857143\n",
      "notMNIST score: 0.48370726495726496\n",
      "standard OCR score: 0.057660626029654036\n",
      "EMNIST score: 0.30164473684210524\n",
      "Aggregate score: 0.23742690058479532\n",
      "------\n",
      "n_components: 9\n"
     ]
    },
    {
     "name": "stderr",
     "output_type": "stream",
     "text": [
      "/Users/jerry/mambaforge/envs/ece271bpr/lib/python3.10/site-packages/sklearn/linear_model/_logistic.py:469: ConvergenceWarning: lbfgs failed to converge (status=1):\n",
      "STOP: TOTAL NO. of ITERATIONS REACHED LIMIT.\n",
      "\n",
      "Increase the number of iterations (max_iter) or scale the data as shown in:\n",
      "    https://scikit-learn.org/stable/modules/preprocessing.html\n",
      "Please also refer to the documentation for alternative solver options:\n",
      "    https://scikit-learn.org/stable/modules/linear_model.html#logistic-regression\n",
      "  n_iter_i = _check_optimize_result(\n"
     ]
    },
    {
     "name": "stdout",
     "output_type": "stream",
     "text": [
      "Logistic Regression training took: 3.681859016418457 sec.\n",
      "\n",
      "Model testing took: 0.055022239685058594 sec.\n",
      "\n",
      "handwritten-isolated score: 0.03850446428571429\n",
      "notMNIST score: 0.5235042735042735\n",
      "standard OCR score: 0.07342904212755942\n",
      "EMNIST score: 0.3282894736842105\n",
      "Aggregate score: 0.26035087719298244\n",
      "------\n",
      "n_components: 10\n"
     ]
    },
    {
     "name": "stderr",
     "output_type": "stream",
     "text": [
      "/Users/jerry/mambaforge/envs/ece271bpr/lib/python3.10/site-packages/sklearn/linear_model/_logistic.py:469: ConvergenceWarning: lbfgs failed to converge (status=1):\n",
      "STOP: TOTAL NO. of ITERATIONS REACHED LIMIT.\n",
      "\n",
      "Increase the number of iterations (max_iter) or scale the data as shown in:\n",
      "    https://scikit-learn.org/stable/modules/preprocessing.html\n",
      "Please also refer to the documentation for alternative solver options:\n",
      "    https://scikit-learn.org/stable/modules/linear_model.html#logistic-regression\n",
      "  n_iter_i = _check_optimize_result(\n"
     ]
    },
    {
     "name": "stdout",
     "output_type": "stream",
     "text": [
      "Logistic Regression training took: 4.384088039398193 sec.\n",
      "\n",
      "Model testing took: 0.05741000175476074 sec.\n",
      "\n",
      "handwritten-isolated score: 0.04241071428571429\n",
      "notMNIST score: 0.5301816239316239\n",
      "standard OCR score: 0.0738997411155566\n",
      "EMNIST score: 0.3404605263157895\n",
      "Aggregate score: 0.2658869395711501\n",
      "------\n",
      "n_components: 11\n"
     ]
    },
    {
     "name": "stderr",
     "output_type": "stream",
     "text": [
      "/Users/jerry/mambaforge/envs/ece271bpr/lib/python3.10/site-packages/sklearn/linear_model/_logistic.py:469: ConvergenceWarning: lbfgs failed to converge (status=1):\n",
      "STOP: TOTAL NO. of ITERATIONS REACHED LIMIT.\n",
      "\n",
      "Increase the number of iterations (max_iter) or scale the data as shown in:\n",
      "    https://scikit-learn.org/stable/modules/preprocessing.html\n",
      "Please also refer to the documentation for alternative solver options:\n",
      "    https://scikit-learn.org/stable/modules/linear_model.html#logistic-regression\n",
      "  n_iter_i = _check_optimize_result(\n"
     ]
    },
    {
     "name": "stdout",
     "output_type": "stream",
     "text": [
      "Logistic Regression training took: 4.52540397644043 sec.\n",
      "\n",
      "Model testing took: 0.0733942985534668 sec.\n",
      "\n",
      "handwritten-isolated score: 0.044642857142857144\n",
      "notMNIST score: 0.5403311965811965\n",
      "standard OCR score: 0.08472581783949165\n",
      "EMNIST score: 0.3447368421052632\n",
      "Aggregate score: 0.27376218323586743\n",
      "------\n",
      "n_components: 12\n"
     ]
    },
    {
     "name": "stderr",
     "output_type": "stream",
     "text": [
      "/Users/jerry/mambaforge/envs/ece271bpr/lib/python3.10/site-packages/sklearn/linear_model/_logistic.py:469: ConvergenceWarning: lbfgs failed to converge (status=1):\n",
      "STOP: TOTAL NO. of ITERATIONS REACHED LIMIT.\n",
      "\n",
      "Increase the number of iterations (max_iter) or scale the data as shown in:\n",
      "    https://scikit-learn.org/stable/modules/preprocessing.html\n",
      "Please also refer to the documentation for alternative solver options:\n",
      "    https://scikit-learn.org/stable/modules/linear_model.html#logistic-regression\n",
      "  n_iter_i = _check_optimize_result(\n"
     ]
    },
    {
     "name": "stdout",
     "output_type": "stream",
     "text": [
      "Logistic Regression training took: 4.225451946258545 sec.\n",
      "\n",
      "Model testing took: 0.04904794692993164 sec.\n",
      "\n",
      "handwritten-isolated score: 0.041294642857142856\n",
      "notMNIST score: 0.5277777777777778\n",
      "standard OCR score: 0.10684867027535891\n",
      "EMNIST score: 0.35592105263157897\n",
      "Aggregate score: 0.2796101364522417\n",
      "------\n",
      "n_components: 13\n"
     ]
    },
    {
     "name": "stderr",
     "output_type": "stream",
     "text": [
      "/Users/jerry/mambaforge/envs/ece271bpr/lib/python3.10/site-packages/sklearn/linear_model/_logistic.py:469: ConvergenceWarning: lbfgs failed to converge (status=1):\n",
      "STOP: TOTAL NO. of ITERATIONS REACHED LIMIT.\n",
      "\n",
      "Increase the number of iterations (max_iter) or scale the data as shown in:\n",
      "    https://scikit-learn.org/stable/modules/preprocessing.html\n",
      "Please also refer to the documentation for alternative solver options:\n",
      "    https://scikit-learn.org/stable/modules/linear_model.html#logistic-regression\n",
      "  n_iter_i = _check_optimize_result(\n"
     ]
    },
    {
     "name": "stdout",
     "output_type": "stream",
     "text": [
      "Logistic Regression training took: 4.745046854019165 sec.\n",
      "\n",
      "Model testing took: 0.04312896728515625 sec.\n",
      "\n",
      "handwritten-isolated score: 0.046875\n",
      "notMNIST score: 0.5277777777777778\n",
      "standard OCR score: 0.10802541774535185\n",
      "EMNIST score: 0.34901315789473686\n",
      "Aggregate score: 0.27914230019493175\n",
      "------\n",
      "n_components: 14\n"
     ]
    },
    {
     "name": "stderr",
     "output_type": "stream",
     "text": [
      "/Users/jerry/mambaforge/envs/ece271bpr/lib/python3.10/site-packages/sklearn/linear_model/_logistic.py:469: ConvergenceWarning: lbfgs failed to converge (status=1):\n",
      "STOP: TOTAL NO. of ITERATIONS REACHED LIMIT.\n",
      "\n",
      "Increase the number of iterations (max_iter) or scale the data as shown in:\n",
      "    https://scikit-learn.org/stable/modules/preprocessing.html\n",
      "Please also refer to the documentation for alternative solver options:\n",
      "    https://scikit-learn.org/stable/modules/linear_model.html#logistic-regression\n",
      "  n_iter_i = _check_optimize_result(\n"
     ]
    },
    {
     "name": "stdout",
     "output_type": "stream",
     "text": [
      "Logistic Regression training took: 3.8128089904785156 sec.\n",
      "\n",
      "Model testing took: 0.05097222328186035 sec.\n",
      "\n",
      "handwritten-isolated score: 0.045200892857142856\n",
      "notMNIST score: 0.5347222222222222\n",
      "standard OCR score: 0.11555660155330666\n",
      "EMNIST score: 0.34901315789473686\n",
      "Aggregate score: 0.2834307992202729\n",
      "------\n",
      "n_components: 15\n"
     ]
    },
    {
     "name": "stderr",
     "output_type": "stream",
     "text": [
      "/Users/jerry/mambaforge/envs/ece271bpr/lib/python3.10/site-packages/sklearn/linear_model/_logistic.py:469: ConvergenceWarning: lbfgs failed to converge (status=1):\n",
      "STOP: TOTAL NO. of ITERATIONS REACHED LIMIT.\n",
      "\n",
      "Increase the number of iterations (max_iter) or scale the data as shown in:\n",
      "    https://scikit-learn.org/stable/modules/preprocessing.html\n",
      "Please also refer to the documentation for alternative solver options:\n",
      "    https://scikit-learn.org/stable/modules/linear_model.html#logistic-regression\n",
      "  n_iter_i = _check_optimize_result(\n"
     ]
    },
    {
     "name": "stdout",
     "output_type": "stream",
     "text": [
      "Logistic Regression training took: 4.315653085708618 sec.\n",
      "\n",
      "Model testing took: 0.057601213455200195 sec.\n",
      "\n",
      "handwritten-isolated score: 0.044642857142857144\n",
      "notMNIST score: 0.5504807692307693\n",
      "standard OCR score: 0.1360320075311838\n",
      "EMNIST score: 0.34111842105263157\n",
      "Aggregate score: 0.2928654970760234\n",
      "------\n",
      "n_components: 16\n"
     ]
    },
    {
     "name": "stderr",
     "output_type": "stream",
     "text": [
      "/Users/jerry/mambaforge/envs/ece271bpr/lib/python3.10/site-packages/sklearn/linear_model/_logistic.py:469: ConvergenceWarning: lbfgs failed to converge (status=1):\n",
      "STOP: TOTAL NO. of ITERATIONS REACHED LIMIT.\n",
      "\n",
      "Increase the number of iterations (max_iter) or scale the data as shown in:\n",
      "    https://scikit-learn.org/stable/modules/preprocessing.html\n",
      "Please also refer to the documentation for alternative solver options:\n",
      "    https://scikit-learn.org/stable/modules/linear_model.html#logistic-regression\n",
      "  n_iter_i = _check_optimize_result(\n"
     ]
    },
    {
     "name": "stdout",
     "output_type": "stream",
     "text": [
      "Logistic Regression training took: 4.580425024032593 sec.\n",
      "\n",
      "Model testing took: 0.05246400833129883 sec.\n",
      "\n",
      "handwritten-isolated score: 0.04799107142857143\n",
      "notMNIST score: 0.5550213675213675\n",
      "standard OCR score: 0.1652153447870087\n",
      "EMNIST score: 0.3503289473684211\n",
      "Aggregate score: 0.30651072124756334\n",
      "------\n",
      "n_components: 17\n"
     ]
    },
    {
     "name": "stderr",
     "output_type": "stream",
     "text": [
      "/Users/jerry/mambaforge/envs/ece271bpr/lib/python3.10/site-packages/sklearn/linear_model/_logistic.py:469: ConvergenceWarning: lbfgs failed to converge (status=1):\n",
      "STOP: TOTAL NO. of ITERATIONS REACHED LIMIT.\n",
      "\n",
      "Increase the number of iterations (max_iter) or scale the data as shown in:\n",
      "    https://scikit-learn.org/stable/modules/preprocessing.html\n",
      "Please also refer to the documentation for alternative solver options:\n",
      "    https://scikit-learn.org/stable/modules/linear_model.html#logistic-regression\n",
      "  n_iter_i = _check_optimize_result(\n"
     ]
    },
    {
     "name": "stdout",
     "output_type": "stream",
     "text": [
      "Logistic Regression training took: 3.882213830947876 sec.\n",
      "\n",
      "Model testing took: 0.04754900932312012 sec.\n",
      "\n",
      "handwritten-isolated score: 0.045200892857142856\n",
      "notMNIST score: 0.563034188034188\n",
      "standard OCR score: 0.17015768416097907\n",
      "EMNIST score: 0.36217105263157895\n",
      "Aggregate score: 0.31290448343079924\n",
      "------\n",
      "n_components: 18\n"
     ]
    },
    {
     "name": "stderr",
     "output_type": "stream",
     "text": [
      "/Users/jerry/mambaforge/envs/ece271bpr/lib/python3.10/site-packages/sklearn/linear_model/_logistic.py:469: ConvergenceWarning: lbfgs failed to converge (status=1):\n",
      "STOP: TOTAL NO. of ITERATIONS REACHED LIMIT.\n",
      "\n",
      "Increase the number of iterations (max_iter) or scale the data as shown in:\n",
      "    https://scikit-learn.org/stable/modules/preprocessing.html\n",
      "Please also refer to the documentation for alternative solver options:\n",
      "    https://scikit-learn.org/stable/modules/linear_model.html#logistic-regression\n",
      "  n_iter_i = _check_optimize_result(\n"
     ]
    },
    {
     "name": "stdout",
     "output_type": "stream",
     "text": [
      "Logistic Regression training took: 3.8356900215148926 sec.\n",
      "\n",
      "Model testing took: 0.04875898361206055 sec.\n",
      "\n",
      "handwritten-isolated score: 0.04575892857142857\n",
      "notMNIST score: 0.5654380341880342\n",
      "standard OCR score: 0.1774535184749353\n",
      "EMNIST score: 0.3575657894736842\n",
      "Aggregate score: 0.31500974658869396\n",
      "------\n",
      "n_components: 19\n"
     ]
    },
    {
     "name": "stderr",
     "output_type": "stream",
     "text": [
      "/Users/jerry/mambaforge/envs/ece271bpr/lib/python3.10/site-packages/sklearn/linear_model/_logistic.py:469: ConvergenceWarning: lbfgs failed to converge (status=1):\n",
      "STOP: TOTAL NO. of ITERATIONS REACHED LIMIT.\n",
      "\n",
      "Increase the number of iterations (max_iter) or scale the data as shown in:\n",
      "    https://scikit-learn.org/stable/modules/preprocessing.html\n",
      "Please also refer to the documentation for alternative solver options:\n",
      "    https://scikit-learn.org/stable/modules/linear_model.html#logistic-regression\n",
      "  n_iter_i = _check_optimize_result(\n"
     ]
    },
    {
     "name": "stdout",
     "output_type": "stream",
     "text": [
      "Logistic Regression training took: 3.862977981567383 sec.\n",
      "\n",
      "Model testing took: 0.04191017150878906 sec.\n",
      "\n",
      "handwritten-isolated score: 0.03180803571428571\n",
      "notMNIST score: 0.5435363247863247\n",
      "standard OCR score: 0.22099317486467404\n",
      "EMNIST score: 0.36875\n",
      "Aggregate score: 0.32374269005847955\n",
      "------\n",
      "n_components: 20\n"
     ]
    },
    {
     "name": "stderr",
     "output_type": "stream",
     "text": [
      "/Users/jerry/mambaforge/envs/ece271bpr/lib/python3.10/site-packages/sklearn/linear_model/_logistic.py:469: ConvergenceWarning: lbfgs failed to converge (status=1):\n",
      "STOP: TOTAL NO. of ITERATIONS REACHED LIMIT.\n",
      "\n",
      "Increase the number of iterations (max_iter) or scale the data as shown in:\n",
      "    https://scikit-learn.org/stable/modules/preprocessing.html\n",
      "Please also refer to the documentation for alternative solver options:\n",
      "    https://scikit-learn.org/stable/modules/linear_model.html#logistic-regression\n",
      "  n_iter_i = _check_optimize_result(\n"
     ]
    },
    {
     "name": "stdout",
     "output_type": "stream",
     "text": [
      "Logistic Regression training took: 5.699465036392212 sec.\n",
      "\n",
      "Model testing took: 0.062073707580566406 sec.\n",
      "\n",
      "handwritten-isolated score: 0.04296875\n",
      "notMNIST score: 0.5520833333333334\n",
      "standard OCR score: 0.2433513767945399\n",
      "EMNIST score: 0.38782894736842105\n",
      "Aggregate score: 0.3397270955165692\n",
      "------\n",
      "n_components: 21\n"
     ]
    },
    {
     "name": "stderr",
     "output_type": "stream",
     "text": [
      "/Users/jerry/mambaforge/envs/ece271bpr/lib/python3.10/site-packages/sklearn/linear_model/_logistic.py:469: ConvergenceWarning: lbfgs failed to converge (status=1):\n",
      "STOP: TOTAL NO. of ITERATIONS REACHED LIMIT.\n",
      "\n",
      "Increase the number of iterations (max_iter) or scale the data as shown in:\n",
      "    https://scikit-learn.org/stable/modules/preprocessing.html\n",
      "Please also refer to the documentation for alternative solver options:\n",
      "    https://scikit-learn.org/stable/modules/linear_model.html#logistic-regression\n",
      "  n_iter_i = _check_optimize_result(\n"
     ]
    },
    {
     "name": "stdout",
     "output_type": "stream",
     "text": [
      "Logistic Regression training took: 5.3895509243011475 sec.\n",
      "\n",
      "Model testing took: 0.06903409957885742 sec.\n",
      "\n",
      "handwritten-isolated score: 0.05915178571428571\n",
      "notMNIST score: 0.5603632478632479\n",
      "standard OCR score: 0.26359143327841844\n",
      "EMNIST score: 0.3819078947368421\n",
      "Aggregate score: 0.3497076023391813\n",
      "------\n",
      "n_components: 22\n"
     ]
    },
    {
     "name": "stderr",
     "output_type": "stream",
     "text": [
      "/Users/jerry/mambaforge/envs/ece271bpr/lib/python3.10/site-packages/sklearn/linear_model/_logistic.py:469: ConvergenceWarning: lbfgs failed to converge (status=1):\n",
      "STOP: TOTAL NO. of ITERATIONS REACHED LIMIT.\n",
      "\n",
      "Increase the number of iterations (max_iter) or scale the data as shown in:\n",
      "    https://scikit-learn.org/stable/modules/preprocessing.html\n",
      "Please also refer to the documentation for alternative solver options:\n",
      "    https://scikit-learn.org/stable/modules/linear_model.html#logistic-regression\n",
      "  n_iter_i = _check_optimize_result(\n"
     ]
    },
    {
     "name": "stdout",
     "output_type": "stream",
     "text": [
      "Logistic Regression training took: 5.2929511070251465 sec.\n",
      "\n",
      "Model testing took: 0.0469510555267334 sec.\n",
      "\n",
      "handwritten-isolated score: 0.037388392857142856\n",
      "notMNIST score: 0.5587606837606838\n",
      "standard OCR score: 0.27135796658037187\n",
      "EMNIST score: 0.38223684210526315\n",
      "Aggregate score: 0.3488499025341131\n",
      "------\n",
      "n_components: 23\n"
     ]
    },
    {
     "name": "stderr",
     "output_type": "stream",
     "text": [
      "/Users/jerry/mambaforge/envs/ece271bpr/lib/python3.10/site-packages/sklearn/linear_model/_logistic.py:469: ConvergenceWarning: lbfgs failed to converge (status=1):\n",
      "STOP: TOTAL NO. of ITERATIONS REACHED LIMIT.\n",
      "\n",
      "Increase the number of iterations (max_iter) or scale the data as shown in:\n",
      "    https://scikit-learn.org/stable/modules/preprocessing.html\n",
      "Please also refer to the documentation for alternative solver options:\n",
      "    https://scikit-learn.org/stable/modules/linear_model.html#logistic-regression\n",
      "  n_iter_i = _check_optimize_result(\n"
     ]
    },
    {
     "name": "stdout",
     "output_type": "stream",
     "text": [
      "Logistic Regression training took: 4.71305513381958 sec.\n",
      "\n",
      "Model testing took: 0.04903221130371094 sec.\n",
      "\n",
      "handwritten-isolated score: 0.029575892857142856\n",
      "notMNIST score: 0.5667735042735043\n",
      "standard OCR score: 0.28289009178630264\n",
      "EMNIST score: 0.37993421052631576\n",
      "Aggregate score: 0.35337231968810917\n",
      "------\n",
      "n_components: 24\n"
     ]
    },
    {
     "name": "stderr",
     "output_type": "stream",
     "text": [
      "/Users/jerry/mambaforge/envs/ece271bpr/lib/python3.10/site-packages/sklearn/linear_model/_logistic.py:469: ConvergenceWarning: lbfgs failed to converge (status=1):\n",
      "STOP: TOTAL NO. of ITERATIONS REACHED LIMIT.\n",
      "\n",
      "Increase the number of iterations (max_iter) or scale the data as shown in:\n",
      "    https://scikit-learn.org/stable/modules/preprocessing.html\n",
      "Please also refer to the documentation for alternative solver options:\n",
      "    https://scikit-learn.org/stable/modules/linear_model.html#logistic-regression\n",
      "  n_iter_i = _check_optimize_result(\n"
     ]
    },
    {
     "name": "stdout",
     "output_type": "stream",
     "text": [
      "Logistic Regression training took: 5.2214250564575195 sec.\n",
      "\n",
      "Model testing took: 0.05092000961303711 sec.\n",
      "\n",
      "handwritten-isolated score: 0.04241071428571429\n",
      "notMNIST score: 0.5614316239316239\n",
      "standard OCR score: 0.28241939279830547\n",
      "EMNIST score: 0.3838815789473684\n",
      "Aggregate score: 0.3543859649122807\n",
      "------\n",
      "n_components: 25\n"
     ]
    },
    {
     "name": "stderr",
     "output_type": "stream",
     "text": [
      "/Users/jerry/mambaforge/envs/ece271bpr/lib/python3.10/site-packages/sklearn/linear_model/_logistic.py:469: ConvergenceWarning: lbfgs failed to converge (status=1):\n",
      "STOP: TOTAL NO. of ITERATIONS REACHED LIMIT.\n",
      "\n",
      "Increase the number of iterations (max_iter) or scale the data as shown in:\n",
      "    https://scikit-learn.org/stable/modules/preprocessing.html\n",
      "Please also refer to the documentation for alternative solver options:\n",
      "    https://scikit-learn.org/stable/modules/linear_model.html#logistic-regression\n",
      "  n_iter_i = _check_optimize_result(\n"
     ]
    },
    {
     "name": "stdout",
     "output_type": "stream",
     "text": [
      "Logistic Regression training took: 5.15070915222168 sec.\n",
      "\n",
      "Model testing took: 0.06545186042785645 sec.\n",
      "\n",
      "handwritten-isolated score: 0.04408482142857143\n",
      "notMNIST score: 0.5667735042735043\n",
      "standard OCR score: 0.29418686749823486\n",
      "EMNIST score: 0.38651315789473684\n",
      "Aggregate score: 0.3607017543859649\n",
      "------\n",
      "n_components: 26\n"
     ]
    },
    {
     "name": "stderr",
     "output_type": "stream",
     "text": [
      "/Users/jerry/mambaforge/envs/ece271bpr/lib/python3.10/site-packages/sklearn/linear_model/_logistic.py:469: ConvergenceWarning: lbfgs failed to converge (status=1):\n",
      "STOP: TOTAL NO. of ITERATIONS REACHED LIMIT.\n",
      "\n",
      "Increase the number of iterations (max_iter) or scale the data as shown in:\n",
      "    https://scikit-learn.org/stable/modules/preprocessing.html\n",
      "Please also refer to the documentation for alternative solver options:\n",
      "    https://scikit-learn.org/stable/modules/linear_model.html#logistic-regression\n",
      "  n_iter_i = _check_optimize_result(\n"
     ]
    },
    {
     "name": "stdout",
     "output_type": "stream",
     "text": [
      "Logistic Regression training took: 5.27623176574707 sec.\n",
      "\n",
      "Model testing took: 0.05080127716064453 sec.\n",
      "\n",
      "handwritten-isolated score: 0.04575892857142857\n",
      "notMNIST score: 0.5649038461538461\n",
      "standard OCR score: 0.29230407154624616\n",
      "EMNIST score: 0.3907894736842105\n",
      "Aggregate score: 0.3607797270955166\n",
      "------\n",
      "n_components: 27\n"
     ]
    },
    {
     "name": "stderr",
     "output_type": "stream",
     "text": [
      "/Users/jerry/mambaforge/envs/ece271bpr/lib/python3.10/site-packages/sklearn/linear_model/_logistic.py:469: ConvergenceWarning: lbfgs failed to converge (status=1):\n",
      "STOP: TOTAL NO. of ITERATIONS REACHED LIMIT.\n",
      "\n",
      "Increase the number of iterations (max_iter) or scale the data as shown in:\n",
      "    https://scikit-learn.org/stable/modules/preprocessing.html\n",
      "Please also refer to the documentation for alternative solver options:\n",
      "    https://scikit-learn.org/stable/modules/linear_model.html#logistic-regression\n",
      "  n_iter_i = _check_optimize_result(\n"
     ]
    },
    {
     "name": "stdout",
     "output_type": "stream",
     "text": [
      "Logistic Regression training took: 6.07226300239563 sec.\n",
      "\n",
      "Model testing took: 0.06522512435913086 sec.\n",
      "\n",
      "handwritten-isolated score: 0.041294642857142856\n",
      "notMNIST score: 0.5614316239316239\n",
      "standard OCR score: 0.29842315839020944\n",
      "EMNIST score: 0.3960526315789474\n",
      "Aggregate score: 0.36241715399610136\n",
      "------\n",
      "n_components: 28\n"
     ]
    },
    {
     "name": "stderr",
     "output_type": "stream",
     "text": [
      "/Users/jerry/mambaforge/envs/ece271bpr/lib/python3.10/site-packages/sklearn/linear_model/_logistic.py:469: ConvergenceWarning: lbfgs failed to converge (status=1):\n",
      "STOP: TOTAL NO. of ITERATIONS REACHED LIMIT.\n",
      "\n",
      "Increase the number of iterations (max_iter) or scale the data as shown in:\n",
      "    https://scikit-learn.org/stable/modules/preprocessing.html\n",
      "Please also refer to the documentation for alternative solver options:\n",
      "    https://scikit-learn.org/stable/modules/linear_model.html#logistic-regression\n",
      "  n_iter_i = _check_optimize_result(\n"
     ]
    },
    {
     "name": "stdout",
     "output_type": "stream",
     "text": [
      "Logistic Regression training took: 5.99353289604187 sec.\n",
      "\n",
      "Model testing took: 0.0899348258972168 sec.\n",
      "\n",
      "handwritten-isolated score: 0.044642857142857144\n",
      "notMNIST score: 0.5649038461538461\n",
      "standard OCR score: 0.3113673805601318\n",
      "EMNIST score: 0.3875\n",
      "Aggregate score: 0.3661598440545809\n",
      "------\n",
      "n_components: 29\n"
     ]
    },
    {
     "name": "stderr",
     "output_type": "stream",
     "text": [
      "/Users/jerry/mambaforge/envs/ece271bpr/lib/python3.10/site-packages/sklearn/linear_model/_logistic.py:469: ConvergenceWarning: lbfgs failed to converge (status=1):\n",
      "STOP: TOTAL NO. of ITERATIONS REACHED LIMIT.\n",
      "\n",
      "Increase the number of iterations (max_iter) or scale the data as shown in:\n",
      "    https://scikit-learn.org/stable/modules/preprocessing.html\n",
      "Please also refer to the documentation for alternative solver options:\n",
      "    https://scikit-learn.org/stable/modules/linear_model.html#logistic-regression\n",
      "  n_iter_i = _check_optimize_result(\n"
     ]
    },
    {
     "name": "stdout",
     "output_type": "stream",
     "text": [
      "Logistic Regression training took: 6.1048359870910645 sec.\n",
      "\n",
      "Model testing took: 0.0632479190826416 sec.\n",
      "\n",
      "handwritten-isolated score: 0.04575892857142857\n",
      "notMNIST score: 0.5643696581196581\n",
      "standard OCR score: 0.3193692633560838\n",
      "EMNIST score: 0.3861842105263158\n",
      "Aggregate score: 0.3684990253411306\n",
      "------\n",
      "n_components: 30\n"
     ]
    },
    {
     "name": "stderr",
     "output_type": "stream",
     "text": [
      "/Users/jerry/mambaforge/envs/ece271bpr/lib/python3.10/site-packages/sklearn/linear_model/_logistic.py:469: ConvergenceWarning: lbfgs failed to converge (status=1):\n",
      "STOP: TOTAL NO. of ITERATIONS REACHED LIMIT.\n",
      "\n",
      "Increase the number of iterations (max_iter) or scale the data as shown in:\n",
      "    https://scikit-learn.org/stable/modules/preprocessing.html\n",
      "Please also refer to the documentation for alternative solver options:\n",
      "    https://scikit-learn.org/stable/modules/linear_model.html#logistic-regression\n",
      "  n_iter_i = _check_optimize_result(\n"
     ]
    },
    {
     "name": "stdout",
     "output_type": "stream",
     "text": [
      "Logistic Regression training took: 6.080713987350464 sec.\n",
      "\n",
      "Model testing took: 0.05730009078979492 sec.\n",
      "\n",
      "handwritten-isolated score: 0.0390625\n",
      "notMNIST score: 0.5662393162393162\n",
      "standard OCR score: 0.3287832431160273\n",
      "EMNIST score: 0.39473684210526316\n",
      "Aggregate score: 0.3732553606237817\n",
      "------\n",
      "n_components: 31\n"
     ]
    },
    {
     "name": "stderr",
     "output_type": "stream",
     "text": [
      "/Users/jerry/mambaforge/envs/ece271bpr/lib/python3.10/site-packages/sklearn/linear_model/_logistic.py:469: ConvergenceWarning: lbfgs failed to converge (status=1):\n",
      "STOP: TOTAL NO. of ITERATIONS REACHED LIMIT.\n",
      "\n",
      "Increase the number of iterations (max_iter) or scale the data as shown in:\n",
      "    https://scikit-learn.org/stable/modules/preprocessing.html\n",
      "Please also refer to the documentation for alternative solver options:\n",
      "    https://scikit-learn.org/stable/modules/linear_model.html#logistic-regression\n",
      "  n_iter_i = _check_optimize_result(\n"
     ]
    },
    {
     "name": "stdout",
     "output_type": "stream",
     "text": [
      "Logistic Regression training took: 6.1115639209747314 sec.\n",
      "\n",
      "Model testing took: 0.08182311058044434 sec.\n",
      "\n",
      "handwritten-isolated score: 0.036830357142857144\n",
      "notMNIST score: 0.563301282051282\n",
      "standard OCR score: 0.33796187338197226\n",
      "EMNIST score: 0.3983552631578947\n",
      "Aggregate score: 0.37598440545808964\n",
      "------\n",
      "n_components: 32\n"
     ]
    },
    {
     "name": "stderr",
     "output_type": "stream",
     "text": [
      "/Users/jerry/mambaforge/envs/ece271bpr/lib/python3.10/site-packages/sklearn/linear_model/_logistic.py:469: ConvergenceWarning: lbfgs failed to converge (status=1):\n",
      "STOP: TOTAL NO. of ITERATIONS REACHED LIMIT.\n",
      "\n",
      "Increase the number of iterations (max_iter) or scale the data as shown in:\n",
      "    https://scikit-learn.org/stable/modules/preprocessing.html\n",
      "Please also refer to the documentation for alternative solver options:\n",
      "    https://scikit-learn.org/stable/modules/linear_model.html#logistic-regression\n",
      "  n_iter_i = _check_optimize_result(\n"
     ]
    },
    {
     "name": "stdout",
     "output_type": "stream",
     "text": [
      "Logistic Regression training took: 6.002990007400513 sec.\n",
      "\n",
      "Model testing took: 0.04689598083496094 sec.\n",
      "\n",
      "handwritten-isolated score: 0.04241071428571429\n",
      "notMNIST score: 0.5705128205128205\n",
      "standard OCR score: 0.3424335137679454\n",
      "EMNIST score: 0.39210526315789473\n",
      "Aggregate score: 0.37886939571150097\n",
      "------\n",
      "n_components: 33\n"
     ]
    },
    {
     "name": "stderr",
     "output_type": "stream",
     "text": [
      "/Users/jerry/mambaforge/envs/ece271bpr/lib/python3.10/site-packages/sklearn/linear_model/_logistic.py:469: ConvergenceWarning: lbfgs failed to converge (status=1):\n",
      "STOP: TOTAL NO. of ITERATIONS REACHED LIMIT.\n",
      "\n",
      "Increase the number of iterations (max_iter) or scale the data as shown in:\n",
      "    https://scikit-learn.org/stable/modules/preprocessing.html\n",
      "Please also refer to the documentation for alternative solver options:\n",
      "    https://scikit-learn.org/stable/modules/linear_model.html#logistic-regression\n",
      "  n_iter_i = _check_optimize_result(\n"
     ]
    },
    {
     "name": "stdout",
     "output_type": "stream",
     "text": [
      "Logistic Regression training took: 6.266533136367798 sec.\n",
      "\n",
      "Model testing took: 0.09518265724182129 sec.\n",
      "\n",
      "handwritten-isolated score: 0.04185267857142857\n",
      "notMNIST score: 0.5774572649572649\n",
      "standard OCR score: 0.3525535420098847\n",
      "EMNIST score: 0.4006578947368421\n",
      "Aggregate score: 0.3861988304093567\n",
      "------\n",
      "n_components: 34\n"
     ]
    },
    {
     "name": "stderr",
     "output_type": "stream",
     "text": [
      "/Users/jerry/mambaforge/envs/ece271bpr/lib/python3.10/site-packages/sklearn/linear_model/_logistic.py:469: ConvergenceWarning: lbfgs failed to converge (status=1):\n",
      "STOP: TOTAL NO. of ITERATIONS REACHED LIMIT.\n",
      "\n",
      "Increase the number of iterations (max_iter) or scale the data as shown in:\n",
      "    https://scikit-learn.org/stable/modules/preprocessing.html\n",
      "Please also refer to the documentation for alternative solver options:\n",
      "    https://scikit-learn.org/stable/modules/linear_model.html#logistic-regression\n",
      "  n_iter_i = _check_optimize_result(\n"
     ]
    },
    {
     "name": "stdout",
     "output_type": "stream",
     "text": [
      "Logistic Regression training took: 6.135824918746948 sec.\n",
      "\n",
      "Model testing took: 0.06086611747741699 sec.\n",
      "\n",
      "handwritten-isolated score: 0.04296875\n",
      "notMNIST score: 0.5745192307692307\n",
      "standard OCR score: 0.3567898329018593\n",
      "EMNIST score: 0.39901315789473685\n",
      "Aggregate score: 0.38651072124756336\n",
      "------\n",
      "n_components: 35\n"
     ]
    },
    {
     "name": "stderr",
     "output_type": "stream",
     "text": [
      "/Users/jerry/mambaforge/envs/ece271bpr/lib/python3.10/site-packages/sklearn/linear_model/_logistic.py:469: ConvergenceWarning: lbfgs failed to converge (status=1):\n",
      "STOP: TOTAL NO. of ITERATIONS REACHED LIMIT.\n",
      "\n",
      "Increase the number of iterations (max_iter) or scale the data as shown in:\n",
      "    https://scikit-learn.org/stable/modules/preprocessing.html\n",
      "Please also refer to the documentation for alternative solver options:\n",
      "    https://scikit-learn.org/stable/modules/linear_model.html#logistic-regression\n",
      "  n_iter_i = _check_optimize_result(\n"
     ]
    },
    {
     "name": "stdout",
     "output_type": "stream",
     "text": [
      "Logistic Regression training took: 6.290494918823242 sec.\n",
      "\n",
      "Model testing took: 0.07301211357116699 sec.\n",
      "\n",
      "handwritten-isolated score: 0.04241071428571429\n",
      "notMNIST score: 0.5782585470085471\n",
      "standard OCR score: 0.3549070369498706\n",
      "EMNIST score: 0.40131578947368424\n",
      "Aggregate score: 0.38744639376218326\n",
      "------\n",
      "n_components: 36\n"
     ]
    },
    {
     "name": "stderr",
     "output_type": "stream",
     "text": [
      "/Users/jerry/mambaforge/envs/ece271bpr/lib/python3.10/site-packages/sklearn/linear_model/_logistic.py:469: ConvergenceWarning: lbfgs failed to converge (status=1):\n",
      "STOP: TOTAL NO. of ITERATIONS REACHED LIMIT.\n",
      "\n",
      "Increase the number of iterations (max_iter) or scale the data as shown in:\n",
      "    https://scikit-learn.org/stable/modules/preprocessing.html\n",
      "Please also refer to the documentation for alternative solver options:\n",
      "    https://scikit-learn.org/stable/modules/linear_model.html#logistic-regression\n",
      "  n_iter_i = _check_optimize_result(\n"
     ]
    },
    {
     "name": "stdout",
     "output_type": "stream",
     "text": [
      "Logistic Regression training took: 6.075876951217651 sec.\n",
      "\n",
      "Model testing took: 0.05302119255065918 sec.\n",
      "\n",
      "handwritten-isolated score: 0.04185267857142857\n",
      "notMNIST score: 0.5723824786324786\n",
      "standard OCR score: 0.36102612379383386\n",
      "EMNIST score: 0.4026315789473684\n",
      "Aggregate score: 0.38799220272904483\n",
      "------\n",
      "n_components: 37\n"
     ]
    },
    {
     "name": "stderr",
     "output_type": "stream",
     "text": [
      "/Users/jerry/mambaforge/envs/ece271bpr/lib/python3.10/site-packages/sklearn/linear_model/_logistic.py:469: ConvergenceWarning: lbfgs failed to converge (status=1):\n",
      "STOP: TOTAL NO. of ITERATIONS REACHED LIMIT.\n",
      "\n",
      "Increase the number of iterations (max_iter) or scale the data as shown in:\n",
      "    https://scikit-learn.org/stable/modules/preprocessing.html\n",
      "Please also refer to the documentation for alternative solver options:\n",
      "    https://scikit-learn.org/stable/modules/linear_model.html#logistic-regression\n",
      "  n_iter_i = _check_optimize_result(\n"
     ]
    },
    {
     "name": "stdout",
     "output_type": "stream",
     "text": [
      "Logistic Regression training took: 5.600706100463867 sec.\n",
      "\n",
      "Model testing took: 0.158782958984375 sec.\n",
      "\n",
      "handwritten-isolated score: 0.041294642857142856\n",
      "notMNIST score: 0.5790598290598291\n",
      "standard OCR score: 0.3619675217698282\n",
      "EMNIST score: 0.4052631578947368\n",
      "Aggregate score: 0.3907992202729045\n",
      "------\n",
      "n_components: 38\n"
     ]
    },
    {
     "name": "stderr",
     "output_type": "stream",
     "text": [
      "/Users/jerry/mambaforge/envs/ece271bpr/lib/python3.10/site-packages/sklearn/linear_model/_logistic.py:469: ConvergenceWarning: lbfgs failed to converge (status=1):\n",
      "STOP: TOTAL NO. of ITERATIONS REACHED LIMIT.\n",
      "\n",
      "Increase the number of iterations (max_iter) or scale the data as shown in:\n",
      "    https://scikit-learn.org/stable/modules/preprocessing.html\n",
      "Please also refer to the documentation for alternative solver options:\n",
      "    https://scikit-learn.org/stable/modules/linear_model.html#logistic-regression\n",
      "  n_iter_i = _check_optimize_result(\n"
     ]
    },
    {
     "name": "stdout",
     "output_type": "stream",
     "text": [
      "Logistic Regression training took: 6.373975038528442 sec.\n",
      "\n",
      "Model testing took: 0.07626104354858398 sec.\n",
      "\n",
      "handwritten-isolated score: 0.041294642857142856\n",
      "notMNIST score: 0.5822649572649573\n",
      "standard OCR score: 0.3636149682278183\n",
      "EMNIST score: 0.40592105263157896\n",
      "Aggregate score: 0.3924366471734893\n",
      "------\n",
      "n_components: 39\n"
     ]
    },
    {
     "name": "stderr",
     "output_type": "stream",
     "text": [
      "/Users/jerry/mambaforge/envs/ece271bpr/lib/python3.10/site-packages/sklearn/linear_model/_logistic.py:469: ConvergenceWarning: lbfgs failed to converge (status=1):\n",
      "STOP: TOTAL NO. of ITERATIONS REACHED LIMIT.\n",
      "\n",
      "Increase the number of iterations (max_iter) or scale the data as shown in:\n",
      "    https://scikit-learn.org/stable/modules/preprocessing.html\n",
      "Please also refer to the documentation for alternative solver options:\n",
      "    https://scikit-learn.org/stable/modules/linear_model.html#logistic-regression\n",
      "  n_iter_i = _check_optimize_result(\n"
     ]
    },
    {
     "name": "stdout",
     "output_type": "stream",
     "text": [
      "Logistic Regression training took: 6.3778769969940186 sec.\n",
      "\n",
      "Model testing took: 0.07414031028747559 sec.\n",
      "\n",
      "handwritten-isolated score: 0.03962053571428571\n",
      "notMNIST score: 0.5833333333333334\n",
      "standard OCR score: 0.3636149682278183\n",
      "EMNIST score: 0.40460526315789475\n",
      "Aggregate score: 0.39220272904483433\n",
      "------\n",
      "n_components: 40\n"
     ]
    },
    {
     "name": "stderr",
     "output_type": "stream",
     "text": [
      "/Users/jerry/mambaforge/envs/ece271bpr/lib/python3.10/site-packages/sklearn/linear_model/_logistic.py:469: ConvergenceWarning: lbfgs failed to converge (status=1):\n",
      "STOP: TOTAL NO. of ITERATIONS REACHED LIMIT.\n",
      "\n",
      "Increase the number of iterations (max_iter) or scale the data as shown in:\n",
      "    https://scikit-learn.org/stable/modules/preprocessing.html\n",
      "Please also refer to the documentation for alternative solver options:\n",
      "    https://scikit-learn.org/stable/modules/linear_model.html#logistic-regression\n",
      "  n_iter_i = _check_optimize_result(\n"
     ]
    },
    {
     "name": "stdout",
     "output_type": "stream",
     "text": [
      "Logistic Regression training took: 5.726340055465698 sec.\n",
      "\n",
      "Model testing took: 0.09650993347167969 sec.\n",
      "\n",
      "handwritten-isolated score: 0.04017857142857143\n",
      "notMNIST score: 0.5836004273504274\n",
      "standard OCR score: 0.3685573076017887\n",
      "EMNIST score: 0.4049342105263158\n",
      "Aggregate score: 0.3940740740740741\n",
      "------\n",
      "n_components: 41\n"
     ]
    },
    {
     "name": "stderr",
     "output_type": "stream",
     "text": [
      "/Users/jerry/mambaforge/envs/ece271bpr/lib/python3.10/site-packages/sklearn/linear_model/_logistic.py:469: ConvergenceWarning: lbfgs failed to converge (status=1):\n",
      "STOP: TOTAL NO. of ITERATIONS REACHED LIMIT.\n",
      "\n",
      "Increase the number of iterations (max_iter) or scale the data as shown in:\n",
      "    https://scikit-learn.org/stable/modules/preprocessing.html\n",
      "Please also refer to the documentation for alternative solver options:\n",
      "    https://scikit-learn.org/stable/modules/linear_model.html#logistic-regression\n",
      "  n_iter_i = _check_optimize_result(\n"
     ]
    },
    {
     "name": "stdout",
     "output_type": "stream",
     "text": [
      "Logistic Regression training took: 5.5536439418792725 sec.\n",
      "\n",
      "Model testing took: 0.07114601135253906 sec.\n",
      "\n",
      "handwritten-isolated score: 0.041294642857142856\n",
      "notMNIST score: 0.5833333333333334\n",
      "standard OCR score: 0.37255824899976464\n",
      "EMNIST score: 0.40460526315789475\n",
      "Aggregate score: 0.39539961013645225\n",
      "------\n",
      "n_components: 42\n"
     ]
    },
    {
     "name": "stderr",
     "output_type": "stream",
     "text": [
      "/Users/jerry/mambaforge/envs/ece271bpr/lib/python3.10/site-packages/sklearn/linear_model/_logistic.py:469: ConvergenceWarning: lbfgs failed to converge (status=1):\n",
      "STOP: TOTAL NO. of ITERATIONS REACHED LIMIT.\n",
      "\n",
      "Increase the number of iterations (max_iter) or scale the data as shown in:\n",
      "    https://scikit-learn.org/stable/modules/preprocessing.html\n",
      "Please also refer to the documentation for alternative solver options:\n",
      "    https://scikit-learn.org/stable/modules/linear_model.html#logistic-regression\n",
      "  n_iter_i = _check_optimize_result(\n"
     ]
    },
    {
     "name": "stdout",
     "output_type": "stream",
     "text": [
      "Logistic Regression training took: 6.64207911491394 sec.\n",
      "\n",
      "Model testing took: 0.1237330436706543 sec.\n",
      "\n",
      "handwritten-isolated score: 0.041294642857142856\n",
      "notMNIST score: 0.5854700854700855\n",
      "standard OCR score: 0.3796187338197223\n",
      "EMNIST score: 0.4085526315789474\n",
      "Aggregate score: 0.3992982456140351\n",
      "------\n",
      "n_components: 43\n"
     ]
    },
    {
     "name": "stderr",
     "output_type": "stream",
     "text": [
      "/Users/jerry/mambaforge/envs/ece271bpr/lib/python3.10/site-packages/sklearn/linear_model/_logistic.py:469: ConvergenceWarning: lbfgs failed to converge (status=1):\n",
      "STOP: TOTAL NO. of ITERATIONS REACHED LIMIT.\n",
      "\n",
      "Increase the number of iterations (max_iter) or scale the data as shown in:\n",
      "    https://scikit-learn.org/stable/modules/preprocessing.html\n",
      "Please also refer to the documentation for alternative solver options:\n",
      "    https://scikit-learn.org/stable/modules/linear_model.html#logistic-regression\n",
      "  n_iter_i = _check_optimize_result(\n"
     ]
    },
    {
     "name": "stdout",
     "output_type": "stream",
     "text": [
      "Logistic Regression training took: 5.674097061157227 sec.\n",
      "\n",
      "Model testing took: 0.08386588096618652 sec.\n",
      "\n",
      "handwritten-isolated score: 0.04185267857142857\n",
      "notMNIST score: 0.5849358974358975\n",
      "standard OCR score: 0.3805601317957166\n",
      "EMNIST score: 0.4082236842105263\n",
      "Aggregate score: 0.3994541910331384\n",
      "------\n",
      "n_components: 44\n"
     ]
    },
    {
     "name": "stderr",
     "output_type": "stream",
     "text": [
      "/Users/jerry/mambaforge/envs/ece271bpr/lib/python3.10/site-packages/sklearn/linear_model/_logistic.py:469: ConvergenceWarning: lbfgs failed to converge (status=1):\n",
      "STOP: TOTAL NO. of ITERATIONS REACHED LIMIT.\n",
      "\n",
      "Increase the number of iterations (max_iter) or scale the data as shown in:\n",
      "    https://scikit-learn.org/stable/modules/preprocessing.html\n",
      "Please also refer to the documentation for alternative solver options:\n",
      "    https://scikit-learn.org/stable/modules/linear_model.html#logistic-regression\n",
      "  n_iter_i = _check_optimize_result(\n"
     ]
    },
    {
     "name": "stdout",
     "output_type": "stream",
     "text": [
      "Logistic Regression training took: 6.2729480266571045 sec.\n",
      "\n",
      "Model testing took: 0.09963083267211914 sec.\n",
      "\n",
      "handwritten-isolated score: 0.04017857142857143\n",
      "notMNIST score: 0.5838675213675214\n",
      "standard OCR score: 0.3817368792657096\n",
      "EMNIST score: 0.40625\n",
      "Aggregate score: 0.39883040935672515\n",
      "------\n",
      "n_components: 45\n"
     ]
    },
    {
     "name": "stderr",
     "output_type": "stream",
     "text": [
      "/Users/jerry/mambaforge/envs/ece271bpr/lib/python3.10/site-packages/sklearn/linear_model/_logistic.py:469: ConvergenceWarning: lbfgs failed to converge (status=1):\n",
      "STOP: TOTAL NO. of ITERATIONS REACHED LIMIT.\n",
      "\n",
      "Increase the number of iterations (max_iter) or scale the data as shown in:\n",
      "    https://scikit-learn.org/stable/modules/preprocessing.html\n",
      "Please also refer to the documentation for alternative solver options:\n",
      "    https://scikit-learn.org/stable/modules/linear_model.html#logistic-regression\n",
      "  n_iter_i = _check_optimize_result(\n"
     ]
    },
    {
     "name": "stdout",
     "output_type": "stream",
     "text": [
      "Logistic Regression training took: 7.0573461055755615 sec.\n",
      "\n",
      "Model testing took: 0.07139182090759277 sec.\n",
      "\n",
      "handwritten-isolated score: 0.044642857142857144\n",
      "notMNIST score: 0.5814636752136753\n",
      "standard OCR score: 0.38267827724170395\n",
      "EMNIST score: 0.4108552631578947\n",
      "Aggregate score: 0.4001559454191033\n",
      "------\n",
      "n_components: 46\n"
     ]
    },
    {
     "name": "stderr",
     "output_type": "stream",
     "text": [
      "/Users/jerry/mambaforge/envs/ece271bpr/lib/python3.10/site-packages/sklearn/linear_model/_logistic.py:469: ConvergenceWarning: lbfgs failed to converge (status=1):\n",
      "STOP: TOTAL NO. of ITERATIONS REACHED LIMIT.\n",
      "\n",
      "Increase the number of iterations (max_iter) or scale the data as shown in:\n",
      "    https://scikit-learn.org/stable/modules/preprocessing.html\n",
      "Please also refer to the documentation for alternative solver options:\n",
      "    https://scikit-learn.org/stable/modules/linear_model.html#logistic-regression\n",
      "  n_iter_i = _check_optimize_result(\n"
     ]
    },
    {
     "name": "stdout",
     "output_type": "stream",
     "text": [
      "Logistic Regression training took: 7.229039907455444 sec.\n",
      "\n",
      "Model testing took: 0.14697480201721191 sec.\n",
      "\n",
      "handwritten-isolated score: 0.0390625\n",
      "notMNIST score: 0.5782585470085471\n",
      "standard OCR score: 0.3869145681336785\n",
      "EMNIST score: 0.41151315789473686\n",
      "Aggregate score: 0.4\n",
      "------\n",
      "n_components: 47\n"
     ]
    },
    {
     "name": "stderr",
     "output_type": "stream",
     "text": [
      "/Users/jerry/mambaforge/envs/ece271bpr/lib/python3.10/site-packages/sklearn/linear_model/_logistic.py:469: ConvergenceWarning: lbfgs failed to converge (status=1):\n",
      "STOP: TOTAL NO. of ITERATIONS REACHED LIMIT.\n",
      "\n",
      "Increase the number of iterations (max_iter) or scale the data as shown in:\n",
      "    https://scikit-learn.org/stable/modules/preprocessing.html\n",
      "Please also refer to the documentation for alternative solver options:\n",
      "    https://scikit-learn.org/stable/modules/linear_model.html#logistic-regression\n",
      "  n_iter_i = _check_optimize_result(\n"
     ]
    },
    {
     "name": "stdout",
     "output_type": "stream",
     "text": [
      "Logistic Regression training took: 7.8836469650268555 sec.\n",
      "\n",
      "Model testing took: 0.11041402816772461 sec.\n",
      "\n",
      "handwritten-isolated score: 0.0390625\n",
      "notMNIST score: 0.5817307692307693\n",
      "standard OCR score: 0.38879736408566723\n",
      "EMNIST score: 0.4118421052631579\n",
      "Aggregate score: 0.40171539961013647\n",
      "------\n",
      "n_components: 48\n"
     ]
    },
    {
     "name": "stderr",
     "output_type": "stream",
     "text": [
      "/Users/jerry/mambaforge/envs/ece271bpr/lib/python3.10/site-packages/sklearn/linear_model/_logistic.py:469: ConvergenceWarning: lbfgs failed to converge (status=1):\n",
      "STOP: TOTAL NO. of ITERATIONS REACHED LIMIT.\n",
      "\n",
      "Increase the number of iterations (max_iter) or scale the data as shown in:\n",
      "    https://scikit-learn.org/stable/modules/preprocessing.html\n",
      "Please also refer to the documentation for alternative solver options:\n",
      "    https://scikit-learn.org/stable/modules/linear_model.html#logistic-regression\n",
      "  n_iter_i = _check_optimize_result(\n"
     ]
    },
    {
     "name": "stdout",
     "output_type": "stream",
     "text": [
      "Logistic Regression training took: 6.995361089706421 sec.\n",
      "\n",
      "Model testing took: 0.09251093864440918 sec.\n",
      "\n",
      "handwritten-isolated score: 0.03794642857142857\n",
      "notMNIST score: 0.5870726495726496\n",
      "standard OCR score: 0.3878559661096729\n",
      "EMNIST score: 0.4144736842105263\n",
      "Aggregate score: 0.4034307992202729\n",
      "------\n",
      "n_components: 49\n"
     ]
    },
    {
     "name": "stderr",
     "output_type": "stream",
     "text": [
      "/Users/jerry/mambaforge/envs/ece271bpr/lib/python3.10/site-packages/sklearn/linear_model/_logistic.py:469: ConvergenceWarning: lbfgs failed to converge (status=1):\n",
      "STOP: TOTAL NO. of ITERATIONS REACHED LIMIT.\n",
      "\n",
      "Increase the number of iterations (max_iter) or scale the data as shown in:\n",
      "    https://scikit-learn.org/stable/modules/preprocessing.html\n",
      "Please also refer to the documentation for alternative solver options:\n",
      "    https://scikit-learn.org/stable/modules/linear_model.html#logistic-regression\n",
      "  n_iter_i = _check_optimize_result(\n"
     ]
    },
    {
     "name": "stdout",
     "output_type": "stream",
     "text": [
      "Logistic Regression training took: 6.94106388092041 sec.\n",
      "\n",
      "Model testing took: 0.08477902412414551 sec.\n",
      "\n",
      "handwritten-isolated score: 0.03627232142857143\n",
      "notMNIST score: 0.5876068376068376\n",
      "standard OCR score: 0.38997411155566014\n",
      "EMNIST score: 0.41348684210526315\n",
      "Aggregate score: 0.4038206627680312\n",
      "------\n",
      "n_components: 50\n"
     ]
    },
    {
     "name": "stderr",
     "output_type": "stream",
     "text": [
      "/Users/jerry/mambaforge/envs/ece271bpr/lib/python3.10/site-packages/sklearn/linear_model/_logistic.py:469: ConvergenceWarning: lbfgs failed to converge (status=1):\n",
      "STOP: TOTAL NO. of ITERATIONS REACHED LIMIT.\n",
      "\n",
      "Increase the number of iterations (max_iter) or scale the data as shown in:\n",
      "    https://scikit-learn.org/stable/modules/preprocessing.html\n",
      "Please also refer to the documentation for alternative solver options:\n",
      "    https://scikit-learn.org/stable/modules/linear_model.html#logistic-regression\n",
      "  n_iter_i = _check_optimize_result(\n"
     ]
    },
    {
     "name": "stdout",
     "output_type": "stream",
     "text": [
      "Logistic Regression training took: 7.741652250289917 sec.\n",
      "\n",
      "Model testing took: 0.0833580493927002 sec.\n",
      "\n",
      "handwritten-isolated score: 0.03627232142857143\n",
      "notMNIST score: 0.5860042735042735\n",
      "standard OCR score: 0.3949164509296305\n",
      "EMNIST score: 0.4144736842105263\n",
      "Aggregate score: 0.405224171539961\n",
      "------\n",
      "n_components: 51\n"
     ]
    },
    {
     "name": "stderr",
     "output_type": "stream",
     "text": [
      "/Users/jerry/mambaforge/envs/ece271bpr/lib/python3.10/site-packages/sklearn/linear_model/_logistic.py:469: ConvergenceWarning: lbfgs failed to converge (status=1):\n",
      "STOP: TOTAL NO. of ITERATIONS REACHED LIMIT.\n",
      "\n",
      "Increase the number of iterations (max_iter) or scale the data as shown in:\n",
      "    https://scikit-learn.org/stable/modules/preprocessing.html\n",
      "Please also refer to the documentation for alternative solver options:\n",
      "    https://scikit-learn.org/stable/modules/linear_model.html#logistic-regression\n",
      "  n_iter_i = _check_optimize_result(\n"
     ]
    },
    {
     "name": "stdout",
     "output_type": "stream",
     "text": [
      "Logistic Regression training took: 6.664577007293701 sec.\n",
      "\n",
      "Model testing took: 0.07213163375854492 sec.\n",
      "\n",
      "handwritten-isolated score: 0.03571428571428571\n",
      "notMNIST score: 0.5860042735042735\n",
      "standard OCR score: 0.3984466933396093\n",
      "EMNIST score: 0.4144736842105263\n",
      "Aggregate score: 0.4063157894736842\n",
      "------\n",
      "n_components: 52\n"
     ]
    },
    {
     "name": "stderr",
     "output_type": "stream",
     "text": [
      "/Users/jerry/mambaforge/envs/ece271bpr/lib/python3.10/site-packages/sklearn/linear_model/_logistic.py:469: ConvergenceWarning: lbfgs failed to converge (status=1):\n",
      "STOP: TOTAL NO. of ITERATIONS REACHED LIMIT.\n",
      "\n",
      "Increase the number of iterations (max_iter) or scale the data as shown in:\n",
      "    https://scikit-learn.org/stable/modules/preprocessing.html\n",
      "Please also refer to the documentation for alternative solver options:\n",
      "    https://scikit-learn.org/stable/modules/linear_model.html#logistic-regression\n",
      "  n_iter_i = _check_optimize_result(\n"
     ]
    },
    {
     "name": "stdout",
     "output_type": "stream",
     "text": [
      "Logistic Regression training took: 7.317263126373291 sec.\n",
      "\n",
      "Model testing took: 0.12900972366333008 sec.\n",
      "\n",
      "handwritten-isolated score: 0.03850446428571429\n",
      "notMNIST score: 0.5841346153846154\n",
      "standard OCR score: 0.4040950811955754\n",
      "EMNIST score: 0.4131578947368421\n",
      "Aggregate score: 0.40771929824561404\n",
      "------\n",
      "n_components: 53\n"
     ]
    },
    {
     "name": "stderr",
     "output_type": "stream",
     "text": [
      "/Users/jerry/mambaforge/envs/ece271bpr/lib/python3.10/site-packages/sklearn/linear_model/_logistic.py:469: ConvergenceWarning: lbfgs failed to converge (status=1):\n",
      "STOP: TOTAL NO. of ITERATIONS REACHED LIMIT.\n",
      "\n",
      "Increase the number of iterations (max_iter) or scale the data as shown in:\n",
      "    https://scikit-learn.org/stable/modules/preprocessing.html\n",
      "Please also refer to the documentation for alternative solver options:\n",
      "    https://scikit-learn.org/stable/modules/linear_model.html#logistic-regression\n",
      "  n_iter_i = _check_optimize_result(\n"
     ]
    },
    {
     "name": "stdout",
     "output_type": "stream",
     "text": [
      "Logistic Regression training took: 7.780130863189697 sec.\n",
      "\n",
      "Model testing took: 0.10377120971679688 sec.\n",
      "\n",
      "handwritten-isolated score: 0.03794642857142857\n",
      "notMNIST score: 0.5836004273504274\n",
      "standard OCR score: 0.3991527418216051\n",
      "EMNIST score: 0.4128289473684211\n",
      "Aggregate score: 0.4057699805068226\n",
      "------\n",
      "n_components: 54\n"
     ]
    },
    {
     "name": "stderr",
     "output_type": "stream",
     "text": [
      "/Users/jerry/mambaforge/envs/ece271bpr/lib/python3.10/site-packages/sklearn/linear_model/_logistic.py:469: ConvergenceWarning: lbfgs failed to converge (status=1):\n",
      "STOP: TOTAL NO. of ITERATIONS REACHED LIMIT.\n",
      "\n",
      "Increase the number of iterations (max_iter) or scale the data as shown in:\n",
      "    https://scikit-learn.org/stable/modules/preprocessing.html\n",
      "Please also refer to the documentation for alternative solver options:\n",
      "    https://scikit-learn.org/stable/modules/linear_model.html#logistic-regression\n",
      "  n_iter_i = _check_optimize_result(\n"
     ]
    },
    {
     "name": "stdout",
     "output_type": "stream",
     "text": [
      "Logistic Regression training took: 8.001464128494263 sec.\n",
      "\n",
      "Model testing took: 0.07163715362548828 sec.\n",
      "\n",
      "handwritten-isolated score: 0.037388392857142856\n",
      "notMNIST score: 0.5833333333333334\n",
      "standard OCR score: 0.4045657801835726\n",
      "EMNIST score: 0.41677631578947366\n",
      "Aggregate score: 0.4083430799220273\n",
      "------\n",
      "n_components: 55\n"
     ]
    },
    {
     "name": "stderr",
     "output_type": "stream",
     "text": [
      "/Users/jerry/mambaforge/envs/ece271bpr/lib/python3.10/site-packages/sklearn/linear_model/_logistic.py:469: ConvergenceWarning: lbfgs failed to converge (status=1):\n",
      "STOP: TOTAL NO. of ITERATIONS REACHED LIMIT.\n",
      "\n",
      "Increase the number of iterations (max_iter) or scale the data as shown in:\n",
      "    https://scikit-learn.org/stable/modules/preprocessing.html\n",
      "Please also refer to the documentation for alternative solver options:\n",
      "    https://scikit-learn.org/stable/modules/linear_model.html#logistic-regression\n",
      "  n_iter_i = _check_optimize_result(\n"
     ]
    },
    {
     "name": "stdout",
     "output_type": "stream",
     "text": [
      "Logistic Regression training took: 9.200718879699707 sec.\n",
      "\n",
      "Model testing took: 0.07754874229431152 sec.\n",
      "\n",
      "handwritten-isolated score: 0.036830357142857144\n",
      "notMNIST score: 0.5841346153846154\n",
      "standard OCR score: 0.4090374205695458\n",
      "EMNIST score: 0.41710526315789476\n",
      "Aggregate score: 0.41005847953216373\n",
      "------\n",
      "n_components: 56\n"
     ]
    },
    {
     "name": "stderr",
     "output_type": "stream",
     "text": [
      "/Users/jerry/mambaforge/envs/ece271bpr/lib/python3.10/site-packages/sklearn/linear_model/_logistic.py:469: ConvergenceWarning: lbfgs failed to converge (status=1):\n",
      "STOP: TOTAL NO. of ITERATIONS REACHED LIMIT.\n",
      "\n",
      "Increase the number of iterations (max_iter) or scale the data as shown in:\n",
      "    https://scikit-learn.org/stable/modules/preprocessing.html\n",
      "Please also refer to the documentation for alternative solver options:\n",
      "    https://scikit-learn.org/stable/modules/linear_model.html#logistic-regression\n",
      "  n_iter_i = _check_optimize_result(\n"
     ]
    },
    {
     "name": "stdout",
     "output_type": "stream",
     "text": [
      "Logistic Regression training took: 7.867702007293701 sec.\n",
      "\n",
      "Model testing took: 0.1341240406036377 sec.\n",
      "\n",
      "handwritten-isolated score: 0.033482142857142856\n",
      "notMNIST score: 0.5849358974358975\n",
      "standard OCR score: 0.40691927512355847\n",
      "EMNIST score: 0.4141447368421053\n",
      "Aggregate score: 0.40842105263157896\n",
      "------\n",
      "n_components: 57\n"
     ]
    },
    {
     "name": "stderr",
     "output_type": "stream",
     "text": [
      "/Users/jerry/mambaforge/envs/ece271bpr/lib/python3.10/site-packages/sklearn/linear_model/_logistic.py:469: ConvergenceWarning: lbfgs failed to converge (status=1):\n",
      "STOP: TOTAL NO. of ITERATIONS REACHED LIMIT.\n",
      "\n",
      "Increase the number of iterations (max_iter) or scale the data as shown in:\n",
      "    https://scikit-learn.org/stable/modules/preprocessing.html\n",
      "Please also refer to the documentation for alternative solver options:\n",
      "    https://scikit-learn.org/stable/modules/linear_model.html#logistic-regression\n",
      "  n_iter_i = _check_optimize_result(\n"
     ]
    },
    {
     "name": "stdout",
     "output_type": "stream",
     "text": [
      "Logistic Regression training took: 7.237640857696533 sec.\n",
      "\n",
      "Model testing took: 0.09117794036865234 sec.\n",
      "\n",
      "handwritten-isolated score: 0.03515625\n",
      "notMNIST score: 0.5830662393162394\n",
      "standard OCR score: 0.40833137208755\n",
      "EMNIST score: 0.4128289473684211\n",
      "Aggregate score: 0.4082651072124756\n",
      "------\n",
      "n_components: 58\n"
     ]
    },
    {
     "name": "stderr",
     "output_type": "stream",
     "text": [
      "/Users/jerry/mambaforge/envs/ece271bpr/lib/python3.10/site-packages/sklearn/linear_model/_logistic.py:469: ConvergenceWarning: lbfgs failed to converge (status=1):\n",
      "STOP: TOTAL NO. of ITERATIONS REACHED LIMIT.\n",
      "\n",
      "Increase the number of iterations (max_iter) or scale the data as shown in:\n",
      "    https://scikit-learn.org/stable/modules/preprocessing.html\n",
      "Please also refer to the documentation for alternative solver options:\n",
      "    https://scikit-learn.org/stable/modules/linear_model.html#logistic-regression\n",
      "  n_iter_i = _check_optimize_result(\n"
     ]
    },
    {
     "name": "stdout",
     "output_type": "stream",
     "text": [
      "Logistic Regression training took: 9.055012226104736 sec.\n",
      "\n",
      "Model testing took: 0.08087491989135742 sec.\n",
      "\n",
      "handwritten-isolated score: 0.030691964285714284\n",
      "notMNIST score: 0.5838675213675214\n",
      "standard OCR score: 0.41374441044951754\n",
      "EMNIST score: 0.41842105263157897\n",
      "Aggregate score: 0.41099415204678363\n",
      "------\n",
      "n_components: 59\n",
      "Logistic Regression training took: 9.664278030395508 sec.\n",
      "\n",
      "Model testing took: 0.07873892784118652 sec.\n",
      "\n",
      "handwritten-isolated score: 0.03404017857142857\n",
      "notMNIST score: 0.5801282051282052\n",
      "standard OCR score: 0.41868674982348786\n",
      "EMNIST score: 0.42138157894736844\n",
      "Aggregate score: 0.4127095516569201\n",
      "------\n"
     ]
    },
    {
     "name": "stderr",
     "output_type": "stream",
     "text": [
      "/Users/jerry/mambaforge/envs/ece271bpr/lib/python3.10/site-packages/sklearn/linear_model/_logistic.py:469: ConvergenceWarning: lbfgs failed to converge (status=1):\n",
      "STOP: TOTAL NO. of ITERATIONS REACHED LIMIT.\n",
      "\n",
      "Increase the number of iterations (max_iter) or scale the data as shown in:\n",
      "    https://scikit-learn.org/stable/modules/preprocessing.html\n",
      "Please also refer to the documentation for alternative solver options:\n",
      "    https://scikit-learn.org/stable/modules/linear_model.html#logistic-regression\n",
      "  n_iter_i = _check_optimize_result(\n"
     ]
    }
   ],
   "source": [
    "logreg_pca_results = test_trf_models(create_logreg, pcatrf_funcs, 2, 59)"
   ]
  },
  {
   "cell_type": "code",
   "execution_count": 286,
   "metadata": {},
   "outputs": [
    {
     "data": {
      "text/plain": [
       "0.4127095516569201"
      ]
     },
     "execution_count": 286,
     "metadata": {},
     "output_type": "execute_result"
    }
   ],
   "source": [
    "np.max(logreg_pca_results[\"aggscores\"])"
   ]
  },
  {
   "cell_type": "code",
   "execution_count": 287,
   "metadata": {},
   "outputs": [
    {
     "data": {
      "image/png": "[encoded data removed]",
      "text/plain": [
       "<Figure size 640x480 with 1 Axes>"
      ]
     },
     "metadata": {},
     "output_type": "display_data"
    }
   ],
   "source": [
    "plot_scores(logreg_pca_results, range(2, 60), title=\"PCA for logistic regression classification\")"
   ]
  },
  {
   "cell_type": "code",
   "execution_count": 288,
   "metadata": {},
   "outputs": [
    {
     "data": {
      "image/png": "[encoded data removed]",
      "text/plain": [
       "<Figure size 640x480 with 1 Axes>"
      ]
     },
     "metadata": {},
     "output_type": "display_data"
    }
   ],
   "source": [
    "plt.plot(range(2, 60), logreg_pca_results[\"traintimes\"], label=\"predict time\")\n",
    "plt.xlabel(\"number of PCA components\")\n",
    "plt.ylabel(\"time taken for training (s)\")\n",
    "plt.title(\"time taken to train logistic regression classifier\")\n",
    "plt.show()"
   ]
  },
  {
   "cell_type": "markdown",
   "metadata": {},
   "source": [
    "### KNN classifier"
   ]
  },
  {
   "cell_type": "code",
   "execution_count": 289,
   "metadata": {},
   "outputs": [
    {
     "name": "stdout",
     "output_type": "stream",
     "text": [
      "n_components: 2\n",
      "KNN training took: 0.42061614990234375 sec.\n",
      "\n",
      "Model testing took: 0.21036171913146973 sec.\n",
      "\n",
      "handwritten-isolated score: 0.2734375\n",
      "notMNIST score: 0.1778846153846154\n",
      "standard OCR score: 0.048011296775711934\n",
      "EMNIST score: 0.16940789473684212\n",
      "Aggregate score: 0.14619883040935672\n",
      "------\n",
      "n_components: 3\n",
      "KNN training took: 0.22087311744689941 sec.\n",
      "\n",
      "Model testing took: 0.22321105003356934 sec.\n",
      "\n",
      "handwritten-isolated score: 0.31919642857142855\n",
      "notMNIST score: 0.2951388888888889\n",
      "standard OCR score: 0.08519651682748883\n",
      "EMNIST score: 0.22631578947368422\n",
      "Aggregate score: 0.21263157894736842\n",
      "------\n",
      "n_components: 4\n",
      "KNN training took: 0.20313096046447754 sec.\n",
      "\n",
      "Model testing took: 0.23586416244506836 sec.\n",
      "\n",
      "handwritten-isolated score: 0.3247767857142857\n",
      "notMNIST score: 0.38648504273504275\n",
      "standard OCR score: 0.17580607201694518\n",
      "EMNIST score: 0.2792763157894737\n",
      "Aggregate score: 0.2826510721247563\n",
      "------\n",
      "n_components: 5\n",
      "KNN training took: 0.19126510620117188 sec.\n",
      "\n",
      "Model testing took: 0.2734987735748291 sec.\n",
      "\n",
      "handwritten-isolated score: 0.35323660714285715\n",
      "notMNIST score: 0.5109508547008547\n",
      "standard OCR score: 0.322664156272064\n",
      "EMNIST score: 0.31875\n",
      "Aggregate score: 0.3809746588693957\n",
      "------\n",
      "n_components: 6\n",
      "KNN training took: 0.1784827709197998 sec.\n",
      "\n",
      "Model testing took: 0.35851478576660156 sec.\n",
      "\n",
      "handwritten-isolated score: 0.3783482142857143\n",
      "notMNIST score: 0.6647970085470085\n",
      "standard OCR score: 0.4925864909390445\n",
      "EMNIST score: 0.4049342105263158\n",
      "Aggregate score: 0.5061208576998051\n",
      "------\n",
      "n_components: 7\n",
      "KNN training took: 0.2049551010131836 sec.\n",
      "\n",
      "Model testing took: 0.4204292297363281 sec.\n",
      "\n",
      "handwritten-isolated score: 0.39620535714285715\n",
      "notMNIST score: 0.7061965811965812\n",
      "standard OCR score: 0.5914332784184514\n",
      "EMNIST score: 0.48355263157894735\n",
      "Aggregate score: 0.5720857699805069\n",
      "------\n",
      "n_components: 8\n",
      "KNN training took: 0.20226192474365234 sec.\n",
      "\n",
      "Model testing took: 0.488508939743042 sec.\n",
      "\n",
      "handwritten-isolated score: 0.41183035714285715\n",
      "notMNIST score: 0.7318376068376068\n",
      "standard OCR score: 0.6726288538479642\n",
      "EMNIST score: 0.5539473684210526\n",
      "Aggregate score: 0.6253411306042885\n",
      "------\n",
      "n_components: 9\n",
      "KNN training took: 0.22234487533569336 sec.\n",
      "\n",
      "Model testing took: 0.6073980331420898 sec.\n",
      "\n",
      "handwritten-isolated score: 0.42689732142857145\n",
      "notMNIST score: 0.7532051282051282\n",
      "standard OCR score: 0.7182866556836903\n",
      "EMNIST score: 0.5717105263157894\n",
      "Aggregate score: 0.6530214424951267\n",
      "------\n",
      "n_components: 10\n",
      "KNN training took: 0.19984912872314453 sec.\n",
      "\n",
      "Model testing took: 0.7025909423828125 sec.\n",
      "\n",
      "handwritten-isolated score: 0.44308035714285715\n",
      "notMNIST score: 0.7625534188034188\n",
      "standard OCR score: 0.751000235349494\n",
      "EMNIST score: 0.5947368421052631\n",
      "Aggregate score: 0.6743079922027291\n",
      "------\n",
      "n_components: 11\n",
      "KNN training took: 0.22677278518676758 sec.\n",
      "\n",
      "Model testing took: 0.8490262031555176 sec.\n",
      "\n",
      "handwritten-isolated score: 0.4525669642857143\n",
      "notMNIST score: 0.782051282051282\n",
      "standard OCR score: 0.7778300776653331\n",
      "EMNIST score: 0.6325657894736842\n",
      "Aggregate score: 0.6991812865497076\n",
      "------\n",
      "n_components: 12\n",
      "KNN training took: 0.21065688133239746 sec.\n",
      "\n",
      "Model testing took: 0.9778308868408203 sec.\n",
      "\n",
      "handwritten-isolated score: 0.4603794642857143\n",
      "notMNIST score: 0.7836538461538461\n",
      "standard OCR score: 0.7987761826312073\n",
      "EMNIST score: 0.6476973684210526\n",
      "Aggregate score: 0.7112670565302144\n",
      "------\n",
      "n_components: 13\n",
      "KNN training took: 0.21726489067077637 sec.\n",
      "\n",
      "Model testing took: 1.18619704246521 sec.\n",
      "\n",
      "handwritten-isolated score: 0.47377232142857145\n",
      "notMNIST score: 0.7900641025641025\n",
      "standard OCR score: 0.8234878795010591\n",
      "EMNIST score: 0.6664473684210527\n",
      "Aggregate score: 0.7276413255360624\n",
      "------\n",
      "n_components: 14\n",
      "KNN training took: 0.23166608810424805 sec.\n",
      "\n",
      "Model testing took: 1.2858021259307861 sec.\n",
      "\n",
      "handwritten-isolated score: 0.48214285714285715\n",
      "notMNIST score: 0.8007478632478633\n",
      "standard OCR score: 0.8361967521769829\n",
      "EMNIST score: 0.6782894736842106\n",
      "Aggregate score: 0.7389473684210527\n",
      "------\n",
      "n_components: 15\n",
      "KNN training took: 0.20142698287963867 sec.\n",
      "\n",
      "Model testing took: 1.631633996963501 sec.\n",
      "\n",
      "handwritten-isolated score: 0.48660714285714285\n",
      "notMNIST score: 0.8050213675213675\n",
      "standard OCR score: 0.8510237702988939\n",
      "EMNIST score: 0.6891447368421053\n",
      "Aggregate score: 0.7483040935672515\n",
      "------\n",
      "n_components: 16\n",
      "KNN training took: 0.2824361324310303 sec.\n",
      "\n",
      "Model testing took: 0.4957430362701416 sec.\n",
      "\n",
      "handwritten-isolated score: 0.4955357142857143\n",
      "notMNIST score: 0.8125\n",
      "standard OCR score: 0.8627912449988232\n",
      "EMNIST score: 0.7003289473684211\n",
      "Aggregate score: 0.7582846003898636\n",
      "------\n",
      "n_components: 17\n",
      "KNN training took: 0.2350780963897705 sec.\n",
      "\n",
      "Model testing took: 0.47776103019714355 sec.\n",
      "\n",
      "handwritten-isolated score: 0.5\n",
      "notMNIST score: 0.8146367521367521\n",
      "standard OCR score: 0.867498234878795\n",
      "EMNIST score: 0.7157894736842105\n",
      "Aggregate score: 0.7647563352826511\n",
      "------\n",
      "n_components: 18\n",
      "KNN training took: 0.18364310264587402 sec.\n",
      "\n",
      "Model testing took: 0.4860212802886963 sec.\n",
      "\n",
      "handwritten-isolated score: 0.4927455357142857\n",
      "notMNIST score: 0.8162393162393162\n",
      "standard OCR score: 0.8733819722287597\n",
      "EMNIST score: 0.7161184210526316\n",
      "Aggregate score: 0.7662378167641326\n",
      "------\n",
      "n_components: 19\n",
      "KNN training took: 0.18872594833374023 sec.\n",
      "\n",
      "Model testing took: 0.4769630432128906 sec.\n",
      "\n",
      "handwritten-isolated score: 0.49609375\n",
      "notMNIST score: 0.8197115384615384\n",
      "standard OCR score: 0.8785596610967287\n",
      "EMNIST score: 0.7240131578947369\n",
      "Aggregate score: 0.7713060428849903\n",
      "------\n",
      "n_components: 20\n",
      "KNN training took: 0.21254301071166992 sec.\n",
      "\n",
      "Model testing took: 0.5039522647857666 sec.\n",
      "\n",
      "handwritten-isolated score: 0.5027901785714286\n",
      "notMNIST score: 0.8237179487179487\n",
      "standard OCR score: 0.879501059072723\n",
      "EMNIST score: 0.7407894736842106\n",
      "Aggregate score: 0.7776998050682261\n",
      "------\n",
      "n_components: 21\n",
      "KNN training took: 0.19835996627807617 sec.\n",
      "\n",
      "Model testing took: 0.5044679641723633 sec.\n",
      "\n",
      "handwritten-isolated score: 0.5061383928571429\n",
      "notMNIST score: 0.8239850427350427\n",
      "standard OCR score: 0.8837373499646975\n",
      "EMNIST score: 0.7401315789473685\n",
      "Aggregate score: 0.7794931773879142\n",
      "------\n",
      "n_components: 22\n",
      "KNN training took: 0.21690917015075684 sec.\n",
      "\n",
      "Model testing took: 0.5558578968048096 sec.\n",
      "\n",
      "handwritten-isolated score: 0.5027901785714286\n",
      "notMNIST score: 0.8274572649572649\n",
      "standard OCR score: 0.8842080489526948\n",
      "EMNIST score: 0.7388157894736842\n",
      "Aggregate score: 0.7798830409356725\n",
      "------\n",
      "n_components: 23\n",
      "KNN training took: 0.2748427391052246 sec.\n",
      "\n",
      "Model testing took: 0.5549800395965576 sec.\n",
      "\n",
      "handwritten-isolated score: 0.5055803571428571\n",
      "notMNIST score: 0.8293269230769231\n",
      "standard OCR score: 0.8849140974346905\n",
      "EMNIST score: 0.7430921052631579\n",
      "Aggregate score: 0.7820662768031189\n",
      "------\n",
      "n_components: 24\n",
      "KNN training took: 0.24525213241577148 sec.\n",
      "\n",
      "Model testing took: 0.5437178611755371 sec.\n",
      "\n",
      "handwritten-isolated score: 0.5189732142857143\n",
      "notMNIST score: 0.8277243589743589\n",
      "standard OCR score: 0.8853847964226876\n",
      "EMNIST score: 0.7463815789473685\n",
      "Aggregate score: 0.7844054580896687\n",
      "------\n",
      "n_components: 25\n",
      "KNN training took: 0.2488417625427246 sec.\n",
      "\n",
      "Model testing took: 0.5453588962554932 sec.\n",
      "\n",
      "handwritten-isolated score: 0.51953125\n",
      "notMNIST score: 0.8309294871794872\n",
      "standard OCR score: 0.886326194398682\n",
      "EMNIST score: 0.7460526315789474\n",
      "Aggregate score: 0.7856530214424952\n",
      "------\n",
      "n_components: 26\n",
      "KNN training took: 0.23225188255310059 sec.\n",
      "\n",
      "Model testing took: 0.589850902557373 sec.\n",
      "\n",
      "handwritten-isolated score: 0.5239955357142857\n",
      "notMNIST score: 0.8327991452991453\n",
      "standard OCR score: 0.8877382913626736\n",
      "EMNIST score: 0.7414473684210526\n",
      "Aggregate score: 0.7861988304093567\n",
      "------\n",
      "n_components: 27\n",
      "KNN training took: 0.2821080684661865 sec.\n",
      "\n",
      "Model testing took: 0.5556888580322266 sec.\n",
      "\n",
      "handwritten-isolated score: 0.5239955357142857\n",
      "notMNIST score: 0.8319978632478633\n",
      "standard OCR score: 0.890327135796658\n",
      "EMNIST score: 0.7424342105263158\n",
      "Aggregate score: 0.7870565302144249\n",
      "------\n",
      "n_components: 28\n",
      "KNN training took: 0.25226283073425293 sec.\n",
      "\n",
      "Model testing took: 0.6077108383178711 sec.\n",
      "\n",
      "handwritten-isolated score: 0.5279017857142857\n",
      "notMNIST score: 0.8327991452991453\n",
      "standard OCR score: 0.8959755236526241\n",
      "EMNIST score: 0.7430921052631579\n",
      "Aggregate score: 0.7898635477582846\n",
      "------\n",
      "n_components: 29\n",
      "KNN training took: 0.23112106323242188 sec.\n",
      "\n",
      "Model testing took: 0.6007568836212158 sec.\n",
      "\n",
      "handwritten-isolated score: 0.5357142857142857\n",
      "notMNIST score: 0.8336004273504274\n",
      "standard OCR score: 0.8959755236526241\n",
      "EMNIST score: 0.7427631578947368\n",
      "Aggregate score: 0.7911111111111111\n",
      "------\n",
      "n_components: 30\n",
      "KNN training took: 0.25332021713256836 sec.\n",
      "\n",
      "Model testing took: 0.6210219860076904 sec.\n",
      "\n",
      "handwritten-isolated score: 0.5407366071428571\n",
      "notMNIST score: 0.8317307692307693\n",
      "standard OCR score: 0.8976229701106143\n",
      "EMNIST score: 0.7447368421052631\n",
      "Aggregate score: 0.7922807017543859\n",
      "------\n",
      "n_components: 31\n",
      "KNN training took: 0.2419877052307129 sec.\n",
      "\n",
      "Model testing took: 0.6155328750610352 sec.\n",
      "\n",
      "handwritten-isolated score: 0.5424107142857143\n",
      "notMNIST score: 0.8295940170940171\n",
      "standard OCR score: 0.89832901859261\n",
      "EMNIST score: 0.750328947368421\n",
      "Aggregate score: 0.7934502923976609\n",
      "------\n",
      "n_components: 32\n",
      "KNN training took: 0.24579191207885742 sec.\n",
      "\n",
      "Model testing took: 0.6078310012817383 sec.\n",
      "\n",
      "handwritten-isolated score: 0.54296875\n",
      "notMNIST score: 0.8311965811965812\n",
      "standard OCR score: 0.8973876206166157\n",
      "EMNIST score: 0.7542763157894737\n",
      "Aggregate score: 0.7946198830409357\n",
      "------\n",
      "n_components: 33\n",
      "KNN training took: 0.23913908004760742 sec.\n",
      "\n",
      "Model testing took: 0.6000280380249023 sec.\n",
      "\n",
      "handwritten-isolated score: 0.5491071428571429\n",
      "notMNIST score: 0.8303952991452992\n",
      "standard OCR score: 0.9016239115085902\n",
      "EMNIST score: 0.7549342105263158\n",
      "Aggregate score: 0.7968031189083821\n",
      "------\n",
      "n_components: 34\n",
      "KNN training took: 0.2264997959136963 sec.\n",
      "\n",
      "Model testing took: 0.586968183517456 sec.\n",
      "\n",
      "handwritten-isolated score: 0.5457589285714286\n",
      "notMNIST score: 0.8309294871794872\n",
      "standard OCR score: 0.8990350670746058\n",
      "EMNIST score: 0.7582236842105263\n",
      "Aggregate score: 0.7964132553606238\n",
      "------\n",
      "n_components: 35\n",
      "KNN training took: 0.30890512466430664 sec.\n",
      "\n",
      "Model testing took: 0.630601167678833 sec.\n",
      "\n",
      "handwritten-isolated score: 0.546875\n",
      "notMNIST score: 0.8303952991452992\n",
      "standard OCR score: 0.8985643680866087\n",
      "EMNIST score: 0.7595394736842105\n",
      "Aggregate score: 0.7965692007797271\n",
      "------\n",
      "n_components: 36\n",
      "KNN training took: 0.23376893997192383 sec.\n",
      "\n",
      "Model testing took: 0.673227071762085 sec.\n",
      "\n",
      "handwritten-isolated score: 0.5474330357142857\n",
      "notMNIST score: 0.8301282051282052\n",
      "standard OCR score: 0.9018592610025888\n",
      "EMNIST score: 0.7601973684210527\n",
      "Aggregate score: 0.7978167641325536\n",
      "------\n",
      "n_components: 37\n",
      "KNN training took: 0.23416495323181152 sec.\n",
      "\n",
      "Model testing took: 0.6729860305786133 sec.\n",
      "\n",
      "handwritten-isolated score: 0.5530133928571429\n",
      "notMNIST score: 0.8309294871794872\n",
      "standard OCR score: 0.9006825135325959\n",
      "EMNIST score: 0.7588815789473684\n",
      "Aggregate score: 0.7981286549707602\n",
      "------\n",
      "n_components: 38\n",
      "KNN training took: 0.2557036876678467 sec.\n",
      "\n",
      "Model testing took: 0.6786069869995117 sec.\n",
      "\n",
      "handwritten-isolated score: 0.5518973214285714\n",
      "notMNIST score: 0.8309294871794872\n",
      "standard OCR score: 0.9009178630265945\n",
      "EMNIST score: 0.7585526315789474\n",
      "Aggregate score: 0.7979727095516569\n",
      "------\n",
      "n_components: 39\n",
      "KNN training took: 0.26885414123535156 sec.\n",
      "\n",
      "Model testing took: 0.6243951320648193 sec.\n",
      "\n",
      "handwritten-isolated score: 0.5563616071428571\n",
      "notMNIST score: 0.8336004273504274\n",
      "standard OCR score: 0.9016239115085902\n",
      "EMNIST score: 0.7595394736842105\n",
      "Aggregate score: 0.7998440545808967\n",
      "------\n",
      "n_components: 40\n",
      "KNN training took: 0.20441222190856934 sec.\n",
      "\n",
      "Model testing took: 0.681196928024292 sec.\n",
      "\n",
      "handwritten-isolated score: 0.5619419642857143\n",
      "notMNIST score: 0.8322649572649573\n",
      "standard OCR score: 0.9002118145445988\n",
      "EMNIST score: 0.7618421052631579\n",
      "Aggregate score: 0.8003118908382066\n",
      "------\n",
      "n_components: 41\n",
      "KNN training took: 0.22387099266052246 sec.\n",
      "\n",
      "Model testing took: 0.7720067501068115 sec.\n",
      "\n",
      "handwritten-isolated score: 0.5630580357142857\n",
      "notMNIST score: 0.8285256410256411\n",
      "standard OCR score: 0.9006825135325959\n",
      "EMNIST score: 0.7618421052631579\n",
      "Aggregate score: 0.7995321637426901\n",
      "------\n",
      "n_components: 42\n",
      "KNN training took: 0.2346479892730713 sec.\n",
      "\n",
      "Model testing took: 0.6970438957214355 sec.\n",
      "\n",
      "handwritten-isolated score: 0.5658482142857143\n",
      "notMNIST score: 0.8285256410256411\n",
      "standard OCR score: 0.9028006589785832\n",
      "EMNIST score: 0.7621710526315789\n",
      "Aggregate score: 0.8007017543859649\n",
      "------\n",
      "n_components: 43\n",
      "KNN training took: 0.25490903854370117 sec.\n",
      "\n",
      "Model testing took: 0.6731662750244141 sec.\n",
      "\n",
      "handwritten-isolated score: 0.5686383928571429\n",
      "notMNIST score: 0.8309294871794872\n",
      "standard OCR score: 0.9020946104965875\n",
      "EMNIST score: 0.7628289473684211\n",
      "Aggregate score: 0.8017153996101365\n",
      "------\n",
      "n_components: 44\n",
      "KNN training took: 0.23413419723510742 sec.\n",
      "\n",
      "Model testing took: 0.747654914855957 sec.\n",
      "\n",
      "handwritten-isolated score: 0.5686383928571429\n",
      "notMNIST score: 0.8303952991452992\n",
      "standard OCR score: 0.9035067074605789\n",
      "EMNIST score: 0.7615131578947368\n",
      "Aggregate score: 0.8017153996101365\n",
      "------\n",
      "n_components: 45\n",
      "KNN training took: 0.28806281089782715 sec.\n",
      "\n",
      "Model testing took: 0.8659849166870117 sec.\n",
      "\n",
      "handwritten-isolated score: 0.5736607142857143\n",
      "notMNIST score: 0.8336004273504274\n",
      "standard OCR score: 0.9046834549305719\n",
      "EMNIST score: 0.7608552631578948\n",
      "Aggregate score: 0.8035867446393762\n",
      "------\n",
      "n_components: 46\n",
      "KNN training took: 0.39037203788757324 sec.\n",
      "\n",
      "Model testing took: 0.7968399524688721 sec.\n",
      "\n",
      "handwritten-isolated score: 0.5708705357142857\n",
      "notMNIST score: 0.8325320512820513\n",
      "standard OCR score: 0.9046834549305719\n",
      "EMNIST score: 0.7592105263157894\n",
      "Aggregate score: 0.802495126705653\n",
      "------\n",
      "n_components: 47\n",
      "KNN training took: 0.29431796073913574 sec.\n",
      "\n",
      "Model testing took: 0.8054180145263672 sec.\n",
      "\n",
      "handwritten-isolated score: 0.57421875\n",
      "notMNIST score: 0.8309294871794872\n",
      "standard OCR score: 0.9020946104965875\n",
      "EMNIST score: 0.7595394736842105\n",
      "Aggregate score: 0.8017153996101365\n",
      "------\n",
      "n_components: 48\n",
      "KNN training took: 0.3184187412261963 sec.\n",
      "\n",
      "Model testing took: 0.7915279865264893 sec.\n",
      "\n",
      "handwritten-isolated score: 0.5814732142857143\n",
      "notMNIST score: 0.8277243589743589\n",
      "standard OCR score: 0.9035067074605789\n",
      "EMNIST score: 0.7615131578947368\n",
      "Aggregate score: 0.802729044834308\n",
      "------\n",
      "n_components: 49\n",
      "KNN training took: 0.2830469608306885 sec.\n",
      "\n",
      "Model testing took: 0.6833388805389404 sec.\n",
      "\n",
      "handwritten-isolated score: 0.5825892857142857\n",
      "notMNIST score: 0.8269230769230769\n",
      "standard OCR score: 0.9030360084725818\n",
      "EMNIST score: 0.7592105263157894\n",
      "Aggregate score: 0.8019493177387914\n",
      "------\n",
      "n_components: 50\n",
      "KNN training took: 0.241530179977417 sec.\n",
      "\n",
      "Model testing took: 0.6994261741638184 sec.\n",
      "\n",
      "handwritten-isolated score: 0.58203125\n",
      "notMNIST score: 0.8277243589743589\n",
      "standard OCR score: 0.9037420569545775\n",
      "EMNIST score: 0.7572368421052632\n",
      "Aggregate score: 0.8018713450292397\n",
      "------\n",
      "n_components: 51\n",
      "KNN training took: 0.23473310470581055 sec.\n",
      "\n",
      "Model testing took: 0.7138111591339111 sec.\n",
      "\n",
      "handwritten-isolated score: 0.5825892857142857\n",
      "notMNIST score: 0.8263888888888888\n",
      "standard OCR score: 0.9046834549305719\n",
      "EMNIST score: 0.7595394736842105\n",
      "Aggregate score: 0.8024171539961014\n",
      "------\n",
      "n_components: 52\n",
      "KNN training took: 0.2592792510986328 sec.\n",
      "\n",
      "Model testing took: 0.7489299774169922 sec.\n",
      "\n",
      "handwritten-isolated score: 0.5809151785714286\n",
      "notMNIST score: 0.8279914529914529\n",
      "standard OCR score: 0.9051541539185691\n",
      "EMNIST score: 0.756578947368421\n",
      "Aggregate score: 0.8021052631578948\n",
      "------\n",
      "n_components: 53\n",
      "KNN training took: 0.36186695098876953 sec.\n",
      "\n",
      "Model testing took: 0.7003288269042969 sec.\n",
      "\n",
      "handwritten-isolated score: 0.5831473214285714\n",
      "notMNIST score: 0.8271901709401709\n",
      "standard OCR score: 0.9056248529065662\n",
      "EMNIST score: 0.7592105263157894\n",
      "Aggregate score: 0.802962962962963\n",
      "------\n",
      "n_components: 54\n",
      "KNN training took: 0.2723407745361328 sec.\n",
      "\n",
      "Model testing took: 0.789639949798584 sec.\n",
      "\n",
      "handwritten-isolated score: 0.5892857142857143\n",
      "notMNIST score: 0.8277243589743589\n",
      "standard OCR score: 0.9051541539185691\n",
      "EMNIST score: 0.7595394736842105\n",
      "Aggregate score: 0.8038986354775829\n",
      "------\n",
      "n_components: 55\n",
      "KNN training took: 0.2440030574798584 sec.\n",
      "\n",
      "Model testing took: 0.7533628940582275 sec.\n",
      "\n",
      "handwritten-isolated score: 0.5892857142857143\n",
      "notMNIST score: 0.8279914529914529\n",
      "standard OCR score: 0.9037420569545775\n",
      "EMNIST score: 0.7595394736842105\n",
      "Aggregate score: 0.8035087719298246\n",
      "------\n",
      "n_components: 56\n",
      "KNN training took: 0.24832820892333984 sec.\n",
      "\n",
      "Model testing took: 0.7839148044586182 sec.\n",
      "\n",
      "handwritten-isolated score: 0.5904017857142857\n",
      "notMNIST score: 0.8271901709401709\n",
      "standard OCR score: 0.9032713579665804\n",
      "EMNIST score: 0.7615131578947368\n",
      "Aggregate score: 0.8037426900584795\n",
      "------\n",
      "n_components: 57\n",
      "KNN training took: 0.24327707290649414 sec.\n",
      "\n",
      "Model testing took: 0.7506611347198486 sec.\n",
      "\n",
      "handwritten-isolated score: 0.5876116071428571\n",
      "notMNIST score: 0.8274572649572649\n",
      "standard OCR score: 0.9037420569545775\n",
      "EMNIST score: 0.7618421052631579\n",
      "Aggregate score: 0.8036647173489279\n",
      "------\n",
      "n_components: 58\n",
      "KNN training took: 0.24276137351989746 sec.\n",
      "\n",
      "Model testing took: 0.7854788303375244 sec.\n",
      "\n",
      "handwritten-isolated score: 0.5859375\n",
      "notMNIST score: 0.8279914529914529\n",
      "standard OCR score: 0.9028006589785832\n",
      "EMNIST score: 0.7588815789473684\n",
      "Aggregate score: 0.8025730994152047\n",
      "------\n",
      "n_components: 59\n",
      "KNN training took: 0.2565181255340576 sec.\n",
      "\n",
      "Model testing took: 0.8182878494262695 sec.\n",
      "\n",
      "handwritten-isolated score: 0.5870535714285714\n",
      "notMNIST score: 0.8271901709401709\n",
      "standard OCR score: 0.9032713579665804\n",
      "EMNIST score: 0.7605263157894737\n",
      "Aggregate score: 0.8030409356725147\n",
      "------\n"
     ]
    }
   ],
   "source": [
    "knn_pca_results = test_trf_models(create_knn, pcatrf_funcs, 2, 59)"
   ]
  },
  {
   "cell_type": "code",
   "execution_count": 290,
   "metadata": {},
   "outputs": [
    {
     "data": {
      "text/plain": [
       "0.8038986354775829"
      ]
     },
     "execution_count": 290,
     "metadata": {},
     "output_type": "execute_result"
    }
   ],
   "source": [
    "np.max(knn_pca_results[\"aggscores\"])"
   ]
  },
  {
   "cell_type": "code",
   "execution_count": 291,
   "metadata": {},
   "outputs": [
    {
     "data": {
      "image/png": "[encoded data removed]",
      "text/plain": [
       "<Figure size 640x480 with 1 Axes>"
      ]
     },
     "metadata": {},
     "output_type": "display_data"
    }
   ],
   "source": [
    "plot_scores(knn_pca_results, range(2, 60), title=\"PCA for KNN classification\")"
   ]
  },
  {
   "cell_type": "code",
   "execution_count": 312,
   "metadata": {},
   "outputs": [
    {
     "data": {
      "image/png": "[encoded data removed]",
      "text/plain": [
       "<Figure size 640x480 with 1 Axes>"
      ]
     },
     "metadata": {},
     "output_type": "display_data"
    }
   ],
   "source": [
    "plt.plot(range(2, 60), knn_pca_results[\"predicttimes\"], label=\"predict time\")\n",
    "plt.xlabel(\"number of PCA components\")\n",
    "plt.ylabel(\"time taken for predictions (s)\")\n",
    "plt.title(\"time taken to predict KNN\")\n",
    "plt.show()"
   ]
  },
  {
   "cell_type": "markdown",
   "metadata": {},
   "source": [
    "## Tests with LDA"
   ]
  },
  {
   "cell_type": "code",
   "execution_count": 293,
   "metadata": {},
   "outputs": [
    {
     "name": "stdout",
     "output_type": "stream",
     "text": [
      "Creating LDA components took: 7.078799247741699 sec.\n",
      "\n",
      "Creating LDA components took: 5.725399971008301 sec.\n",
      "\n",
      "Creating LDA components took: 6.263491153717041 sec.\n",
      "\n",
      "Creating LDA components took: 6.083444833755493 sec.\n",
      "\n",
      "Creating LDA components took: 5.590220212936401 sec.\n",
      "\n",
      "Creating LDA components took: 5.827617883682251 sec.\n",
      "\n",
      "Creating LDA components took: 6.365244150161743 sec.\n",
      "\n",
      "Creating LDA components took: 5.641034126281738 sec.\n",
      "\n",
      "Creating LDA components took: 5.458297967910767 sec.\n",
      "\n",
      "Creating LDA components took: 6.113397836685181 sec.\n",
      "\n",
      "Creating LDA components took: 9.149030208587646 sec.\n",
      "\n",
      "Creating LDA components took: 6.401356220245361 sec.\n",
      "\n",
      "Creating LDA components took: 11.435538291931152 sec.\n",
      "\n",
      "Creating LDA components took: 6.181217908859253 sec.\n",
      "\n",
      "Creating LDA components took: 7.108111143112183 sec.\n",
      "\n",
      "Creating LDA components took: 7.03410005569458 sec.\n",
      "\n",
      "Creating LDA components took: 9.552931785583496 sec.\n",
      "\n",
      "Creating LDA components took: 8.320994138717651 sec.\n",
      "\n",
      "Creating LDA components took: 7.690317153930664 sec.\n",
      "\n",
      "Creating LDA components took: 7.454339981079102 sec.\n",
      "\n",
      "Creating LDA components took: 5.721640110015869 sec.\n",
      "\n",
      "Creating LDA components took: 5.741877794265747 sec.\n",
      "\n",
      "Creating LDA components took: 5.46505880355835 sec.\n",
      "\n",
      "Creating LDA components took: 5.954280138015747 sec.\n",
      "\n",
      "Creating LDA components took: 6.055539846420288 sec.\n",
      "\n",
      "Creating LDA components took: 6.184357166290283 sec.\n",
      "\n",
      "Creating LDA components took: 6.775562047958374 sec.\n",
      "\n",
      "Creating LDA components took: 6.492422819137573 sec.\n",
      "\n",
      "Creating LDA components took: 8.131900787353516 sec.\n",
      "\n",
      "Creating LDA components took: 6.913024187088013 sec.\n",
      "\n",
      "Creating LDA components took: 7.028043985366821 sec.\n",
      "\n",
      "Creating LDA components took: 6.352780103683472 sec.\n",
      "\n",
      "Creating LDA components took: 6.555063962936401 sec.\n",
      "\n",
      "Creating LDA components took: 6.381115913391113 sec.\n",
      "\n"
     ]
    }
   ],
   "source": [
    "def create_lda(X, y, n_components):\n",
    "    ts = utils.tic()\n",
    "    lda = LinearDiscriminantAnalysis(n_components=n_components)\n",
    "    lda.fit(X, y)\n",
    "    utils.toc(ts, \"Creating LDA components\")\n",
    "    return lda\n",
    "allldas = [create_lda(cons_train_data, cons_train_labels, i) for i in range(1, 35)]\n",
    "ldatrf_funcs = [lda.transform for lda in allldas]"
   ]
  },
  {
   "cell_type": "code",
   "execution_count": 294,
   "metadata": {},
   "outputs": [],
   "source": [
    "ldatrf_funcs = [lda.transform for lda in allldas]"
   ]
  },
  {
   "cell_type": "markdown",
   "metadata": {},
   "source": [
    "### Logistic regression linear classifier"
   ]
  },
  {
   "cell_type": "code",
   "execution_count": 295,
   "metadata": {},
   "outputs": [
    {
     "name": "stdout",
     "output_type": "stream",
     "text": [
      "n_components: 1\n",
      "Logistic Regression training took: 0.7483880519866943 sec.\n",
      "\n",
      "Model testing took: 0.06745004653930664 sec.\n",
      "\n",
      "handwritten-isolated score: 0.04241071428571429\n",
      "notMNIST score: 0.13835470085470086\n",
      "standard OCR score: 0.04730524829371617\n",
      "EMNIST score: 0.08157894736842106\n",
      "Aggregate score: 0.08132553606237816\n",
      "------\n",
      "n_components: 2\n",
      "Logistic Regression training took: 0.8579659461975098 sec.\n",
      "\n",
      "Model testing took: 0.039643049240112305 sec.\n",
      "\n",
      "handwritten-isolated score: 0.029017857142857144\n",
      "notMNIST score: 0.21768162393162394\n",
      "standard OCR score: 0.04518710284772888\n",
      "EMNIST score: 0.2013157894736842\n",
      "Aggregate score: 0.1302923976608187\n",
      "------\n",
      "n_components: 3\n",
      "Logistic Regression training took: 1.073214054107666 sec.\n",
      "\n",
      "Model testing took: 0.057763099670410156 sec.\n",
      "\n",
      "handwritten-isolated score: 0.029017857142857144\n",
      "notMNIST score: 0.2825854700854701\n",
      "standard OCR score: 0.07342904212755942\n",
      "EMNIST score: 0.24111842105263157\n",
      "Aggregate score: 0.16803118908382067\n",
      "------\n",
      "n_components: 4\n",
      "Logistic Regression training took: 1.1454458236694336 sec.\n",
      "\n",
      "Model testing took: 0.160444974899292 sec.\n",
      "\n",
      "handwritten-isolated score: 0.05412946428571429\n",
      "notMNIST score: 0.31810897435897434\n",
      "standard OCR score: 0.11226170863732643\n",
      "EMNIST score: 0.25493421052631576\n",
      "Aggregate score: 0.1980506822612086\n",
      "------\n",
      "n_components: 5\n",
      "Logistic Regression training took: 1.0505483150482178 sec.\n",
      "\n",
      "Model testing took: 0.0555272102355957 sec.\n",
      "\n",
      "handwritten-isolated score: 0.04799107142857143\n",
      "notMNIST score: 0.3958333333333333\n",
      "standard OCR score: 0.14850553071310896\n",
      "EMNIST score: 0.3\n",
      "Aggregate score: 0.2425730994152047\n",
      "------\n",
      "n_components: 6\n",
      "Logistic Regression training took: 1.1715359687805176 sec.\n",
      "\n",
      "Model testing took: 0.04639410972595215 sec.\n",
      "\n",
      "handwritten-isolated score: 0.053013392857142856\n",
      "notMNIST score: 0.4404380341880342\n",
      "standard OCR score: 0.18004236290891976\n",
      "EMNIST score: 0.3236842105263158\n",
      "Aggregate score: 0.27235867446393763\n",
      "------\n",
      "n_components: 7\n",
      "Logistic Regression training took: 1.1456239223480225 sec.\n",
      "\n",
      "Model testing took: 0.086029052734375 sec.\n",
      "\n",
      "handwritten-isolated score: 0.05022321428571429\n",
      "notMNIST score: 0.49198717948717946\n",
      "standard OCR score: 0.21252059308072488\n",
      "EMNIST score: 0.34210526315789475\n",
      "Aggregate score: 0.30214424951267055\n",
      "------\n",
      "n_components: 8\n",
      "Logistic Regression training took: 1.414957046508789 sec.\n",
      "\n",
      "Model testing took: 0.05493783950805664 sec.\n",
      "\n",
      "handwritten-isolated score: 0.04743303571428571\n",
      "notMNIST score: 0.5042735042735043\n",
      "standard OCR score: 0.24617557072252294\n",
      "EMNIST score: 0.3569078947368421\n",
      "Aggregate score: 0.32\n",
      "------\n",
      "n_components: 9\n",
      "Logistic Regression training took: 1.438364028930664 sec.\n",
      "\n",
      "Model testing took: 0.08173394203186035 sec.\n",
      "\n",
      "handwritten-isolated score: 0.04408482142857143\n",
      "notMNIST score: 0.5080128205128205\n",
      "standard OCR score: 0.27559425747234645\n",
      "EMNIST score: 0.3575657894736842\n",
      "Aggregate score: 0.33052631578947367\n",
      "------\n",
      "n_components: 10\n",
      "Logistic Regression training took: 1.8945212364196777 sec.\n",
      "\n",
      "Model testing took: 0.049067020416259766 sec.\n",
      "\n",
      "handwritten-isolated score: 0.053013392857142856\n",
      "notMNIST score: 0.5347222222222222\n",
      "standard OCR score: 0.2974817604142151\n",
      "EMNIST score: 0.35986842105263156\n",
      "Aggregate score: 0.3473684210526316\n",
      "------\n",
      "n_components: 11\n",
      "Logistic Regression training took: 1.2874929904937744 sec.\n",
      "\n",
      "Model testing took: 0.04863429069519043 sec.\n",
      "\n",
      "handwritten-isolated score: 0.056919642857142856\n",
      "notMNIST score: 0.5397970085470085\n",
      "standard OCR score: 0.32407625323605554\n",
      "EMNIST score: 0.3648026315789474\n",
      "Aggregate score: 0.35937621832358674\n",
      "------\n",
      "n_components: 12\n",
      "Logistic Regression training took: 1.1450390815734863 sec.\n",
      "\n",
      "Model testing took: 0.05930972099304199 sec.\n",
      "\n",
      "handwritten-isolated score: 0.05803571428571429\n",
      "notMNIST score: 0.5531517094017094\n",
      "standard OCR score: 0.33772652388797364\n",
      "EMNIST score: 0.36578947368421055\n",
      "Aggregate score: 0.36818713450292395\n",
      "------\n",
      "n_components: 13\n",
      "Logistic Regression training took: 1.0512876510620117 sec.\n",
      "\n",
      "Model testing took: 0.04127001762390137 sec.\n",
      "\n",
      "handwritten-isolated score: 0.05859375\n",
      "notMNIST score: 0.5491452991452992\n",
      "standard OCR score: 0.34902329959990586\n",
      "EMNIST score: 0.3667763157894737\n",
      "Aggregate score: 0.3710721247563353\n",
      "------\n",
      "n_components: 14\n",
      "Logistic Regression training took: 1.2951288223266602 sec.\n",
      "\n",
      "Model testing took: 0.04923868179321289 sec.\n",
      "\n",
      "handwritten-isolated score: 0.06194196428571429\n",
      "notMNIST score: 0.561965811965812\n",
      "standard OCR score: 0.3593786773358437\n",
      "EMNIST score: 0.3648026315789474\n",
      "Aggregate score: 0.3782456140350877\n",
      "------\n",
      "n_components: 15\n",
      "Logistic Regression training took: 1.3172848224639893 sec.\n",
      "\n",
      "Model testing took: 0.13930606842041016 sec.\n",
      "\n",
      "handwritten-isolated score: 0.06194196428571429\n",
      "notMNIST score: 0.5673076923076923\n",
      "standard OCR score: 0.37467639444575196\n",
      "EMNIST score: 0.3707236842105263\n",
      "Aggregate score: 0.3862768031189084\n",
      "------\n",
      "n_components: 16\n",
      "Logistic Regression training took: 1.3034889698028564 sec.\n",
      "\n",
      "Model testing took: 0.0455622673034668 sec.\n",
      "\n",
      "handwritten-isolated score: 0.0625\n",
      "notMNIST score: 0.5734508547008547\n",
      "standard OCR score: 0.3897387620616616\n",
      "EMNIST score: 0.375\n",
      "Aggregate score: 0.39415204678362575\n",
      "------\n",
      "n_components: 17\n",
      "Logistic Regression training took: 1.1304881572723389 sec.\n",
      "\n",
      "Model testing took: 0.04610419273376465 sec.\n",
      "\n",
      "handwritten-isolated score: 0.06584821428571429\n",
      "notMNIST score: 0.5779914529914529\n",
      "standard OCR score: 0.3951518004236291\n",
      "EMNIST score: 0.37763157894736843\n",
      "Aggregate score: 0.3983625730994152\n",
      "------\n",
      "n_components: 18\n",
      "Logistic Regression training took: 1.2539680004119873 sec.\n",
      "\n",
      "Model testing took: 0.05284595489501953 sec.\n",
      "\n",
      "handwritten-isolated score: 0.0625\n",
      "notMNIST score: 0.5793269230769231\n",
      "standard OCR score: 0.4116262650035302\n",
      "EMNIST score: 0.37796052631578947\n",
      "Aggregate score: 0.4038206627680312\n",
      "------\n",
      "n_components: 19\n",
      "Logistic Regression training took: 1.5633459091186523 sec.\n",
      "\n",
      "Model testing took: 0.06536507606506348 sec.\n",
      "\n",
      "handwritten-isolated score: 0.06473214285714286\n",
      "notMNIST score: 0.5819978632478633\n",
      "standard OCR score: 0.42056954577547656\n",
      "EMNIST score: 0.3763157894736842\n",
      "Aggregate score: 0.40748538011695906\n",
      "------\n",
      "n_components: 20\n",
      "Logistic Regression training took: 1.6558587551116943 sec.\n",
      "\n",
      "Model testing took: 0.051837921142578125 sec.\n",
      "\n",
      "handwritten-isolated score: 0.06305803571428571\n",
      "notMNIST score: 0.5803952991452992\n",
      "standard OCR score: 0.43116027300541304\n",
      "EMNIST score: 0.3756578947368421\n",
      "Aggregate score: 0.4101364522417154\n",
      "------\n",
      "n_components: 21\n",
      "Logistic Regression training took: 1.5661580562591553 sec.\n",
      "\n",
      "Model testing took: 0.06062197685241699 sec.\n",
      "\n",
      "handwritten-isolated score: 0.060267857142857144\n",
      "notMNIST score: 0.5753205128205128\n",
      "standard OCR score: 0.43421981642739466\n",
      "EMNIST score: 0.3717105263157895\n",
      "Aggregate score: 0.4083430799220273\n",
      "------\n",
      "n_components: 22\n",
      "Logistic Regression training took: 1.736344814300537 sec.\n",
      "\n",
      "Model testing took: 0.042742013931274414 sec.\n",
      "\n",
      "handwritten-isolated score: 0.05970982142857143\n",
      "notMNIST score: 0.5707799145299145\n",
      "standard OCR score: 0.4372793598493763\n",
      "EMNIST score: 0.38026315789473686\n",
      "Aggregate score: 0.4099805068226121\n",
      "------\n",
      "n_components: 23\n",
      "Logistic Regression training took: 1.907379150390625 sec.\n",
      "\n",
      "Model testing took: 0.06277298927307129 sec.\n",
      "\n",
      "handwritten-isolated score: 0.05747767857142857\n",
      "notMNIST score: 0.5734508547008547\n",
      "standard OCR score: 0.4433984466933396\n",
      "EMNIST score: 0.38026315789473686\n",
      "Aggregate score: 0.4124756335282651\n",
      "------\n",
      "n_components: 24\n",
      "Logistic Regression training took: 1.5893340110778809 sec.\n",
      "\n",
      "Model testing took: 0.049147844314575195 sec.\n",
      "\n",
      "handwritten-isolated score: 0.06529017857142858\n",
      "notMNIST score: 0.5713141025641025\n",
      "standard OCR score: 0.44810543657331137\n",
      "EMNIST score: 0.38125\n",
      "Aggregate score: 0.4147368421052632\n",
      "------\n",
      "n_components: 25\n",
      "Logistic Regression training took: 1.6473100185394287 sec.\n",
      "\n",
      "Model testing took: 0.045042991638183594 sec.\n",
      "\n",
      "handwritten-isolated score: 0.06696428571428571\n",
      "notMNIST score: 0.5686431623931624\n",
      "standard OCR score: 0.44857613556130854\n",
      "EMNIST score: 0.38223684210526315\n",
      "Aggregate score: 0.4145808966861598\n",
      "------\n",
      "n_components: 26\n",
      "Logistic Regression training took: 1.629831075668335 sec.\n",
      "\n",
      "Model testing took: 0.10455989837646484 sec.\n",
      "\n",
      "handwritten-isolated score: 0.06975446428571429\n",
      "notMNIST score: 0.5673076923076923\n",
      "standard OCR score: 0.4476347375853142\n",
      "EMNIST score: 0.3832236842105263\n",
      "Aggregate score: 0.4145029239766082\n",
      "------\n",
      "n_components: 27\n",
      "Logistic Regression training took: 1.6987037658691406 sec.\n",
      "\n",
      "Model testing took: 0.07248783111572266 sec.\n",
      "\n",
      "handwritten-isolated score: 0.0703125\n",
      "notMNIST score: 0.5657051282051282\n",
      "standard OCR score: 0.44857613556130854\n",
      "EMNIST score: 0.38125\n",
      "Aggregate score: 0.4139571150097466\n",
      "------\n",
      "n_components: 28\n",
      "Logistic Regression training took: 1.645380973815918 sec.\n",
      "\n",
      "Model testing took: 0.05525374412536621 sec.\n",
      "\n",
      "handwritten-isolated score: 0.06919642857142858\n",
      "notMNIST score: 0.5651709401709402\n",
      "standard OCR score: 0.4558719698752648\n",
      "EMNIST score: 0.3796052631578947\n",
      "Aggregate score: 0.415672514619883\n",
      "------\n",
      "n_components: 29\n",
      "Logistic Regression training took: 1.6883840560913086 sec.\n",
      "\n",
      "Model testing took: 0.047238826751708984 sec.\n",
      "\n",
      "handwritten-isolated score: 0.07198660714285714\n",
      "notMNIST score: 0.5614316239316239\n",
      "standard OCR score: 0.455165921393269\n",
      "EMNIST score: 0.3805921052631579\n",
      "Aggregate score: 0.4149707602339181\n",
      "------\n",
      "n_components: 30\n",
      "Logistic Regression training took: 2.11222767829895 sec.\n",
      "\n",
      "Model testing took: 0.048621177673339844 sec.\n",
      "\n",
      "handwritten-isolated score: 0.07477678571428571\n",
      "notMNIST score: 0.5625\n",
      "standard OCR score: 0.45657801835726053\n",
      "EMNIST score: 0.3832236842105263\n",
      "Aggregate score: 0.4167641325536062\n",
      "------\n",
      "n_components: 31\n",
      "Logistic Regression training took: 1.9239192008972168 sec.\n",
      "\n",
      "Model testing took: 0.06508898735046387 sec.\n",
      "\n",
      "handwritten-isolated score: 0.07589285714285714\n",
      "notMNIST score: 0.5611645299145299\n",
      "standard OCR score: 0.45610731936926335\n",
      "EMNIST score: 0.38355263157894737\n",
      "Aggregate score: 0.41645224171539963\n",
      "------\n",
      "n_components: 32\n",
      "Logistic Regression training took: 1.8591721057891846 sec.\n",
      "\n",
      "Model testing took: 0.040966033935546875 sec.\n",
      "\n",
      "handwritten-isolated score: 0.07700892857142858\n",
      "notMNIST score: 0.5606303418803419\n",
      "standard OCR score: 0.45681336785125914\n",
      "EMNIST score: 0.3851973684210526\n",
      "Aggregate score: 0.4170760233918129\n",
      "------\n",
      "n_components: 33\n",
      "Logistic Regression training took: 1.8533761501312256 sec.\n",
      "\n",
      "Model testing took: 0.035676002502441406 sec.\n",
      "\n",
      "handwritten-isolated score: 0.08035714285714286\n",
      "notMNIST score: 0.5576923076923077\n",
      "standard OCR score: 0.45681336785125914\n",
      "EMNIST score: 0.3861842105263158\n",
      "Aggregate score: 0.4169200779727095\n",
      "------\n",
      "n_components: 34\n",
      "Logistic Regression training took: 2.0101308822631836 sec.\n",
      "\n",
      "Model testing took: 0.049443960189819336 sec.\n",
      "\n",
      "handwritten-isolated score: 0.08426339285714286\n",
      "notMNIST score: 0.5600961538461539\n",
      "standard OCR score: 0.455165921393269\n",
      "EMNIST score: 0.38651315789473684\n",
      "Aggregate score: 0.4176998050682261\n",
      "------\n"
     ]
    }
   ],
   "source": [
    "logreg_lda_results = test_trf_models(create_logreg, ldatrf_funcs, 1, 34)"
   ]
  },
  {
   "cell_type": "code",
   "execution_count": 296,
   "metadata": {},
   "outputs": [
    {
     "data": {
      "text/plain": [
       "0.4176998050682261"
      ]
     },
     "execution_count": 296,
     "metadata": {},
     "output_type": "execute_result"
    }
   ],
   "source": [
    "np.max(logreg_lda_results[\"aggscores\"])"
   ]
  },
  {
   "cell_type": "code",
   "execution_count": 297,
   "metadata": {},
   "outputs": [
    {
     "data": {
      "image/png": "[encoded data removed]",
      "text/plain": [
       "<Figure size 640x480 with 1 Axes>"
      ]
     },
     "metadata": {},
     "output_type": "display_data"
    }
   ],
   "source": [
    "plot_scores(logreg_lda_results, range(1, 35), title=\"LDA for logistic regression classification\")"
   ]
  },
  {
   "cell_type": "markdown",
   "metadata": {},
   "source": [
    "### KNN classifier"
   ]
  },
  {
   "cell_type": "code",
   "execution_count": 298,
   "metadata": {},
   "outputs": [
    {
     "name": "stdout",
     "output_type": "stream",
     "text": [
      "n_components: 1\n",
      "KNN training took: 0.23538589477539062 sec.\n",
      "\n",
      "Model testing took: 0.23496794700622559 sec.\n",
      "\n",
      "handwritten-isolated score: 0.20145089285714285\n",
      "notMNIST score: 0.10016025641025642\n",
      "standard OCR score: 0.04542245234172747\n",
      "EMNIST score: 0.09539473684210527\n",
      "Aggregate score: 0.09504873294346979\n",
      "------\n",
      "n_components: 2\n",
      "KNN training took: 0.16946792602539062 sec.\n",
      "\n",
      "Model testing took: 0.20495080947875977 sec.\n",
      "\n",
      "handwritten-isolated score: 0.23158482142857142\n",
      "notMNIST score: 0.18162393162393162\n",
      "standard OCR score: 0.06942810072958343\n",
      "EMNIST score: 0.16907894736842105\n",
      "Aggregate score: 0.14846003898635476\n",
      "------\n",
      "n_components: 3\n",
      "KNN training took: 0.16876983642578125 sec.\n",
      "\n",
      "Model testing took: 0.3192260265350342 sec.\n",
      "\n",
      "handwritten-isolated score: 0.32421875\n",
      "notMNIST score: 0.28338675213675213\n",
      "standard OCR score: 0.10284772887738292\n",
      "EMNIST score: 0.20164473684210527\n",
      "Aggregate score: 0.20990253411306042\n",
      "------\n",
      "n_components: 4\n",
      "KNN training took: 0.16770267486572266 sec.\n",
      "\n",
      "Model testing took: 0.2585773468017578 sec.\n",
      "\n",
      "handwritten-isolated score: 0.37890625\n",
      "notMNIST score: 0.35496794871794873\n",
      "standard OCR score: 0.16592139326900446\n",
      "EMNIST score: 0.23914473684210527\n",
      "Aggregate score: 0.2682261208576998\n",
      "------\n",
      "n_components: 5\n",
      "KNN training took: 0.18234586715698242 sec.\n",
      "\n",
      "Model testing took: 0.32019901275634766 sec.\n",
      "\n",
      "handwritten-isolated score: 0.4146205357142857\n",
      "notMNIST score: 0.44898504273504275\n",
      "standard OCR score: 0.26570957872440576\n",
      "EMNIST score: 0.27072368421052634\n",
      "Aggregate score: 0.3412085769980507\n",
      "------\n",
      "n_components: 6\n",
      "KNN training took: 0.20072317123413086 sec.\n",
      "\n",
      "Model testing took: 0.40802907943725586 sec.\n",
      "\n",
      "handwritten-isolated score: 0.43359375\n",
      "notMNIST score: 0.5085470085470085\n",
      "standard OCR score: 0.3793833843257237\n",
      "EMNIST score: 0.3144736842105263\n",
      "Aggregate score: 0.4092787524366472\n",
      "------\n",
      "n_components: 7\n",
      "KNN training took: 0.18208932876586914 sec.\n",
      "\n",
      "Model testing took: 0.5615708827972412 sec.\n",
      "\n",
      "handwritten-isolated score: 0.46261160714285715\n",
      "notMNIST score: 0.563034188034188\n",
      "standard OCR score: 0.47164038597317015\n",
      "EMNIST score: 0.35460526315789476\n",
      "Aggregate score: 0.469317738791423\n",
      "------\n",
      "n_components: 8\n",
      "KNN training took: 0.1883561611175537 sec.\n",
      "\n",
      "Model testing took: 0.7047510147094727 sec.\n",
      "\n",
      "handwritten-isolated score: 0.4693080357142857\n",
      "notMNIST score: 0.594284188034188\n",
      "standard OCR score: 0.5610731936926335\n",
      "EMNIST score: 0.38453947368421054\n",
      "Aggregate score: 0.5161013645224172\n",
      "------\n",
      "n_components: 9\n",
      "KNN training took: 0.16749191284179688 sec.\n",
      "\n",
      "Model testing took: 1.0371990203857422 sec.\n",
      "\n",
      "handwritten-isolated score: 0.48214285714285715\n",
      "notMNIST score: 0.6105769230769231\n",
      "standard OCR score: 0.6128500823723229\n",
      "EMNIST score: 0.39769736842105263\n",
      "Aggregate score: 0.5429239766081871\n",
      "------\n",
      "n_components: 10\n",
      "KNN training took: 0.1621229648590088 sec.\n",
      "\n",
      "Model testing took: 1.4085099697113037 sec.\n",
      "\n",
      "handwritten-isolated score: 0.5005580357142857\n",
      "notMNIST score: 0.6340811965811965\n",
      "standard OCR score: 0.6665097670040009\n",
      "EMNIST score: 0.41578947368421054\n",
      "Aggregate score: 0.5744249512670565\n",
      "------\n",
      "n_components: 11\n",
      "KNN training took: 0.18964028358459473 sec.\n",
      "\n",
      "Model testing took: 1.9339141845703125 sec.\n",
      "\n",
      "handwritten-isolated score: 0.5189732142857143\n",
      "notMNIST score: 0.6391559829059829\n",
      "standard OCR score: 0.7076959284537538\n",
      "EMNIST score: 0.4207236842105263\n",
      "Aggregate score: 0.5932943469785575\n",
      "------\n",
      "n_components: 12\n",
      "KNN training took: 0.19076800346374512 sec.\n",
      "\n",
      "Model testing took: 2.58597469329834 sec.\n",
      "\n",
      "handwritten-isolated score: 0.5106026785714286\n",
      "notMNIST score: 0.6527777777777778\n",
      "standard OCR score: 0.7378206636855731\n",
      "EMNIST score: 0.4309210526315789\n",
      "Aggregate score: 0.6084990253411307\n",
      "------\n",
      "n_components: 13\n",
      "KNN training took: 0.18500518798828125 sec.\n",
      "\n",
      "Model testing took: 3.429396867752075 sec.\n",
      "\n",
      "handwritten-isolated score: 0.5290178571428571\n",
      "notMNIST score: 0.6597222222222222\n",
      "standard OCR score: 0.7597081666274418\n",
      "EMNIST score: 0.44046052631578947\n",
      "Aggregate score: 0.6226120857699805\n",
      "------\n",
      "n_components: 14\n",
      "KNN training took: 0.2466897964477539 sec.\n",
      "\n",
      "Model testing took: 4.379587888717651 sec.\n",
      "\n",
      "handwritten-isolated score: 0.5379464285714286\n",
      "notMNIST score: 0.6626602564102564\n",
      "standard OCR score: 0.7811249705813132\n",
      "EMNIST score: 0.45394736842105265\n",
      "Aggregate score: 0.6350097465886939\n",
      "------\n",
      "n_components: 15\n",
      "KNN training took: 0.23354291915893555 sec.\n",
      "\n",
      "Model testing took: 5.656074047088623 sec.\n",
      "\n",
      "handwritten-isolated score: 0.54296875\n",
      "notMNIST score: 0.6725427350427351\n",
      "standard OCR score: 0.7943045422452342\n",
      "EMNIST score: 0.4644736842105263\n",
      "Aggregate score: 0.645458089668616\n",
      "------\n",
      "n_components: 16\n",
      "KNN training took: 0.18139290809631348 sec.\n",
      "\n",
      "Model testing took: 0.8155651092529297 sec.\n",
      "\n",
      "handwritten-isolated score: 0.5407366071428571\n",
      "notMNIST score: 0.6714743589743589\n",
      "standard OCR score: 0.8056013179571664\n",
      "EMNIST score: 0.4720394736842105\n",
      "Aggregate score: 0.6503703703703704\n",
      "------\n",
      "n_components: 17\n",
      "KNN training took: 0.18856596946716309 sec.\n",
      "\n",
      "Model testing took: 0.921126127243042 sec.\n",
      "\n",
      "handwritten-isolated score: 0.5368303571428571\n",
      "notMNIST score: 0.6655982905982906\n",
      "standard OCR score: 0.8159566956931043\n",
      "EMNIST score: 0.47138157894736843\n",
      "Aggregate score: 0.651384015594542\n",
      "------\n",
      "n_components: 18\n",
      "KNN training took: 0.18477177619934082 sec.\n",
      "\n",
      "Model testing took: 0.7818889617919922 sec.\n",
      "\n",
      "handwritten-isolated score: 0.5613839285714286\n",
      "notMNIST score: 0.6669337606837606\n",
      "standard OCR score: 0.8274888208990351\n",
      "EMNIST score: 0.4845394736842105\n",
      "Aggregate score: 0.6621442495126706\n",
      "------\n",
      "n_components: 19\n",
      "KNN training took: 0.1888890266418457 sec.\n",
      "\n",
      "Model testing took: 0.8590500354766846 sec.\n",
      "\n",
      "handwritten-isolated score: 0.5680803571428571\n",
      "notMNIST score: 0.6736111111111112\n",
      "standard OCR score: 0.8336079077429983\n",
      "EMNIST score: 0.48157894736842105\n",
      "Aggregate score: 0.66635477582846\n",
      "------\n",
      "n_components: 20\n",
      "KNN training took: 0.18571209907531738 sec.\n",
      "\n",
      "Model testing took: 0.8331520557403564 sec.\n",
      "\n",
      "handwritten-isolated score: 0.5714285714285714\n",
      "notMNIST score: 0.6677350427350427\n",
      "standard OCR score: 0.8385502471169687\n",
      "EMNIST score: 0.48125\n",
      "Aggregate score: 0.6666666666666666\n",
      "------\n",
      "n_components: 21\n",
      "KNN training took: 0.1554110050201416 sec.\n",
      "\n",
      "Model testing took: 0.7562592029571533 sec.\n",
      "\n",
      "handwritten-isolated score: 0.5703125\n",
      "notMNIST score: 0.6613247863247863\n",
      "standard OCR score: 0.840668392562956\n",
      "EMNIST score: 0.47828947368421054\n",
      "Aggregate score: 0.6646393762183236\n",
      "------\n",
      "n_components: 22\n",
      "KNN training took: 0.22245216369628906 sec.\n",
      "\n",
      "Model testing took: 0.7793200016021729 sec.\n",
      "\n",
      "handwritten-isolated score: 0.5904017857142857\n",
      "notMNIST score: 0.6490384615384616\n",
      "standard OCR score: 0.8463167804189221\n",
      "EMNIST score: 0.4845394736842105\n",
      "Aggregate score: 0.6672124756335283\n",
      "------\n",
      "n_components: 23\n",
      "KNN training took: 0.16582608222961426 sec.\n",
      "\n",
      "Model testing took: 0.6967198848724365 sec.\n",
      "\n",
      "handwritten-isolated score: 0.5775669642857143\n",
      "notMNIST score: 0.6522435897435898\n",
      "standard OCR score: 0.8491409743469052\n",
      "EMNIST score: 0.49703947368421053\n",
      "Aggregate score: 0.6702534113060429\n",
      "------\n",
      "n_components: 24\n",
      "KNN training took: 0.1524217128753662 sec.\n",
      "\n",
      "Model testing took: 0.7233681678771973 sec.\n",
      "\n",
      "handwritten-isolated score: 0.58984375\n",
      "notMNIST score: 0.6474358974358975\n",
      "standard OCR score: 0.8533772652388797\n",
      "EMNIST score: 0.48947368421052634\n",
      "Aggregate score: 0.6701754385964912\n",
      "------\n",
      "n_components: 25\n",
      "KNN training took: 0.1928548812866211 sec.\n",
      "\n",
      "Model testing took: 0.7636699676513672 sec.\n",
      "\n",
      "handwritten-isolated score: 0.58984375\n",
      "notMNIST score: 0.6428952991452992\n",
      "standard OCR score: 0.8540833137208755\n",
      "EMNIST score: 0.4875\n",
      "Aggregate score: 0.6686159844054581\n",
      "------\n",
      "n_components: 26\n",
      "KNN training took: 0.1791841983795166 sec.\n",
      "\n",
      "Model testing took: 0.790855884552002 sec.\n",
      "\n",
      "handwritten-isolated score: 0.58984375\n",
      "notMNIST score: 0.6412927350427351\n",
      "standard OCR score: 0.8522005177688868\n",
      "EMNIST score: 0.48125\n",
      "Aggregate score: 0.6660428849902534\n",
      "------\n",
      "n_components: 27\n",
      "KNN training took: 0.17397403717041016 sec.\n",
      "\n",
      "Model testing took: 0.7422621250152588 sec.\n",
      "\n",
      "handwritten-isolated score: 0.5943080357142857\n",
      "notMNIST score: 0.6410256410256411\n",
      "standard OCR score: 0.8559661096728642\n",
      "EMNIST score: 0.49407894736842106\n",
      "Aggregate score: 0.6708771929824562\n",
      "------\n",
      "n_components: 28\n",
      "KNN training took: 0.1592710018157959 sec.\n",
      "\n",
      "Model testing took: 0.7274079322814941 sec.\n",
      "\n",
      "handwritten-isolated score: 0.5864955357142857\n",
      "notMNIST score: 0.6335470085470085\n",
      "standard OCR score: 0.8623205460108261\n",
      "EMNIST score: 0.48388157894736844\n",
      "Aggregate score: 0.6672904483430799\n",
      "------\n",
      "n_components: 29\n",
      "KNN training took: 0.14390182495117188 sec.\n",
      "\n",
      "Model testing took: 0.7247970104217529 sec.\n",
      "\n",
      "handwritten-isolated score: 0.5881696428571429\n",
      "notMNIST score: 0.6290064102564102\n",
      "standard OCR score: 0.8656154389268063\n",
      "EMNIST score: 0.47796052631578945\n",
      "Aggregate score: 0.6658869395711501\n",
      "------\n",
      "n_components: 30\n",
      "KNN training took: 0.15419793128967285 sec.\n",
      "\n",
      "Model testing took: 0.7442266941070557 sec.\n",
      "\n",
      "handwritten-isolated score: 0.5864955357142857\n",
      "notMNIST score: 0.6332799145299145\n",
      "standard OCR score: 0.8670275358907978\n",
      "EMNIST score: 0.4861842105263158\n",
      "Aggregate score: 0.669317738791423\n",
      "------\n",
      "n_components: 31\n",
      "KNN training took: 0.16625308990478516 sec.\n",
      "\n",
      "Model testing took: 0.746574878692627 sec.\n",
      "\n",
      "handwritten-isolated score: 0.5870535714285714\n",
      "notMNIST score: 0.6282051282051282\n",
      "standard OCR score: 0.8686749823487879\n",
      "EMNIST score: 0.4845394736842105\n",
      "Aggregate score: 0.6680701754385965\n",
      "------\n",
      "n_components: 32\n",
      "KNN training took: 0.17046809196472168 sec.\n",
      "\n",
      "Model testing took: 0.7894582748413086 sec.\n",
      "\n",
      "handwritten-isolated score: 0.5904017857142857\n",
      "notMNIST score: 0.6199252136752137\n",
      "standard OCR score: 0.8618498470228289\n",
      "EMNIST score: 0.48223684210526313\n",
      "Aggregate score: 0.6633138401559454\n",
      "------\n",
      "n_components: 33\n",
      "KNN training took: 0.1486339569091797 sec.\n",
      "\n",
      "Model testing took: 0.7406759262084961 sec.\n",
      "\n",
      "handwritten-isolated score: 0.5993303571428571\n",
      "notMNIST score: 0.6071047008547008\n",
      "standard OCR score: 0.8609084490468345\n",
      "EMNIST score: 0.4819078947368421\n",
      "Aggregate score: 0.6604288499025341\n",
      "------\n",
      "n_components: 34\n",
      "KNN training took: 0.14551115036010742 sec.\n",
      "\n",
      "Model testing took: 0.7738609313964844 sec.\n",
      "\n",
      "handwritten-isolated score: 0.5993303571428571\n",
      "notMNIST score: 0.6065705128205128\n",
      "standard OCR score: 0.8590256530948458\n",
      "EMNIST score: 0.4799342105263158\n",
      "Aggregate score: 0.6591812865497076\n",
      "------\n"
     ]
    }
   ],
   "source": [
    "knn_lda_results = test_trf_models(create_knn, ldatrf_funcs, 1, 34)"
   ]
  },
  {
   "cell_type": "code",
   "execution_count": 299,
   "metadata": {},
   "outputs": [
    {
     "data": {
      "text/plain": [
       "0.6708771929824562"
      ]
     },
     "execution_count": 299,
     "metadata": {},
     "output_type": "execute_result"
    }
   ],
   "source": [
    "np.max(knn_lda_results[\"aggscores\"])"
   ]
  },
  {
   "cell_type": "code",
   "execution_count": 300,
   "metadata": {},
   "outputs": [
    {
     "data": {
      "image/png": "[encoded data removed]",
      "text/plain": [
       "<Figure size 640x480 with 1 Axes>"
      ]
     },
     "metadata": {},
     "output_type": "display_data"
    }
   ],
   "source": [
    "plot_scores(knn_lda_results, range(1, 35), title=\"LDA for KNN classification\")"
   ]
  },
  {
   "cell_type": "markdown",
   "metadata": {},
   "source": [
    "## Tests with random Gaussian projection"
   ]
  },
  {
   "cell_type": "code",
   "execution_count": 301,
   "metadata": {},
   "outputs": [],
   "source": [
    "allgrps = [GaussianRandomProjection(n_components=i, random_state=1).fit(cons_train_data) for i in range(2, 60)]\n",
    "rgptrf_funcs = [grp.transform for grp in allgrps]"
   ]
  },
  {
   "cell_type": "markdown",
   "metadata": {},
   "source": [
    "### Logistic regression"
   ]
  },
  {
   "cell_type": "code",
   "execution_count": 302,
   "metadata": {},
   "outputs": [
    {
     "name": "stdout",
     "output_type": "stream",
     "text": [
      "n_components: 2\n"
     ]
    },
    {
     "name": "stderr",
     "output_type": "stream",
     "text": [
      "/Users/jerry/mambaforge/envs/ece271bpr/lib/python3.10/site-packages/sklearn/linear_model/_logistic.py:469: ConvergenceWarning: lbfgs failed to converge (status=1):\n",
      "STOP: TOTAL NO. of ITERATIONS REACHED LIMIT.\n",
      "\n",
      "Increase the number of iterations (max_iter) or scale the data as shown in:\n",
      "    https://scikit-learn.org/stable/modules/preprocessing.html\n",
      "Please also refer to the documentation for alternative solver options:\n",
      "    https://scikit-learn.org/stable/modules/linear_model.html#logistic-regression\n",
      "  n_iter_i = _check_optimize_result(\n"
     ]
    },
    {
     "name": "stdout",
     "output_type": "stream",
     "text": [
      "Logistic Regression training took: 3.3396120071411133 sec.\n",
      "\n",
      "Model testing took: 0.0171048641204834 sec.\n",
      "\n",
      "handwritten-isolated score: 0.027901785714285716\n",
      "notMNIST score: 0.13808760683760685\n",
      "standard OCR score: 0.01670981407389974\n",
      "EMNIST score: 0.05756578947368421\n",
      "Aggregate score: 0.06339181286549708\n",
      "------\n",
      "n_components: 3\n"
     ]
    },
    {
     "name": "stderr",
     "output_type": "stream",
     "text": [
      "/Users/jerry/mambaforge/envs/ece271bpr/lib/python3.10/site-packages/sklearn/linear_model/_logistic.py:469: ConvergenceWarning: lbfgs failed to converge (status=1):\n",
      "STOP: TOTAL NO. of ITERATIONS REACHED LIMIT.\n",
      "\n",
      "Increase the number of iterations (max_iter) or scale the data as shown in:\n",
      "    https://scikit-learn.org/stable/modules/preprocessing.html\n",
      "Please also refer to the documentation for alternative solver options:\n",
      "    https://scikit-learn.org/stable/modules/linear_model.html#logistic-regression\n",
      "  n_iter_i = _check_optimize_result(\n"
     ]
    },
    {
     "name": "stdout",
     "output_type": "stream",
     "text": [
      "Logistic Regression training took: 3.2592198848724365 sec.\n",
      "\n",
      "Model testing took: 0.03170895576477051 sec.\n",
      "\n",
      "handwritten-isolated score: 0.03404017857142857\n",
      "notMNIST score: 0.13995726495726496\n",
      "standard OCR score: 0.014827018121911038\n",
      "EMNIST score: 0.08980263157894737\n",
      "Aggregate score: 0.07181286549707602\n",
      "------\n",
      "n_components: 4\n"
     ]
    },
    {
     "name": "stderr",
     "output_type": "stream",
     "text": [
      "/Users/jerry/mambaforge/envs/ece271bpr/lib/python3.10/site-packages/sklearn/linear_model/_logistic.py:469: ConvergenceWarning: lbfgs failed to converge (status=1):\n",
      "STOP: TOTAL NO. of ITERATIONS REACHED LIMIT.\n",
      "\n",
      "Increase the number of iterations (max_iter) or scale the data as shown in:\n",
      "    https://scikit-learn.org/stable/modules/preprocessing.html\n",
      "Please also refer to the documentation for alternative solver options:\n",
      "    https://scikit-learn.org/stable/modules/linear_model.html#logistic-regression\n",
      "  n_iter_i = _check_optimize_result(\n"
     ]
    },
    {
     "name": "stdout",
     "output_type": "stream",
     "text": [
      "Logistic Regression training took: 3.424046039581299 sec.\n",
      "\n",
      "Model testing took: 0.019509077072143555 sec.\n",
      "\n",
      "handwritten-isolated score: 0.037388392857142856\n",
      "notMNIST score: 0.2045940170940171\n",
      "standard OCR score: 0.01459166862791245\n",
      "EMNIST score: 0.12861842105263158\n",
      "Aggregate score: 0.1002729044834308\n",
      "------\n",
      "n_components: 5\n"
     ]
    },
    {
     "name": "stderr",
     "output_type": "stream",
     "text": [
      "/Users/jerry/mambaforge/envs/ece271bpr/lib/python3.10/site-packages/sklearn/linear_model/_logistic.py:469: ConvergenceWarning: lbfgs failed to converge (status=1):\n",
      "STOP: TOTAL NO. of ITERATIONS REACHED LIMIT.\n",
      "\n",
      "Increase the number of iterations (max_iter) or scale the data as shown in:\n",
      "    https://scikit-learn.org/stable/modules/preprocessing.html\n",
      "Please also refer to the documentation for alternative solver options:\n",
      "    https://scikit-learn.org/stable/modules/linear_model.html#logistic-regression\n",
      "  n_iter_i = _check_optimize_result(\n"
     ]
    },
    {
     "name": "stdout",
     "output_type": "stream",
     "text": [
      "Logistic Regression training took: 3.5510919094085693 sec.\n",
      "\n",
      "Model testing took: 0.02687382698059082 sec.\n",
      "\n",
      "handwritten-isolated score: 0.048549107142857144\n",
      "notMNIST score: 0.24145299145299146\n",
      "standard OCR score: 0.016474464579901153\n",
      "EMNIST score: 0.1305921052631579\n",
      "Aggregate score: 0.11368421052631579\n",
      "------\n",
      "n_components: 6\n"
     ]
    },
    {
     "name": "stderr",
     "output_type": "stream",
     "text": [
      "/Users/jerry/mambaforge/envs/ece271bpr/lib/python3.10/site-packages/sklearn/linear_model/_logistic.py:469: ConvergenceWarning: lbfgs failed to converge (status=1):\n",
      "STOP: TOTAL NO. of ITERATIONS REACHED LIMIT.\n",
      "\n",
      "Increase the number of iterations (max_iter) or scale the data as shown in:\n",
      "    https://scikit-learn.org/stable/modules/preprocessing.html\n",
      "Please also refer to the documentation for alternative solver options:\n",
      "    https://scikit-learn.org/stable/modules/linear_model.html#logistic-regression\n",
      "  n_iter_i = _check_optimize_result(\n"
     ]
    },
    {
     "name": "stdout",
     "output_type": "stream",
     "text": [
      "Logistic Regression training took: 3.357846975326538 sec.\n",
      "\n",
      "Model testing took: 0.040891170501708984 sec.\n",
      "\n",
      "handwritten-isolated score: 0.04185267857142857\n",
      "notMNIST score: 0.22756410256410256\n",
      "standard OCR score: 0.024005648387855967\n",
      "EMNIST score: 0.13486842105263158\n",
      "Aggregate score: 0.1122027290448343\n",
      "------\n",
      "n_components: 7\n"
     ]
    },
    {
     "name": "stderr",
     "output_type": "stream",
     "text": [
      "/Users/jerry/mambaforge/envs/ece271bpr/lib/python3.10/site-packages/sklearn/linear_model/_logistic.py:469: ConvergenceWarning: lbfgs failed to converge (status=1):\n",
      "STOP: TOTAL NO. of ITERATIONS REACHED LIMIT.\n",
      "\n",
      "Increase the number of iterations (max_iter) or scale the data as shown in:\n",
      "    https://scikit-learn.org/stable/modules/preprocessing.html\n",
      "Please also refer to the documentation for alternative solver options:\n",
      "    https://scikit-learn.org/stable/modules/linear_model.html#logistic-regression\n",
      "  n_iter_i = _check_optimize_result(\n"
     ]
    },
    {
     "name": "stdout",
     "output_type": "stream",
     "text": [
      "Logistic Regression training took: 3.3108131885528564 sec.\n",
      "\n",
      "Model testing took: 0.021893024444580078 sec.\n",
      "\n",
      "handwritten-isolated score: 0.04296875\n",
      "notMNIST score: 0.23317307692307693\n",
      "standard OCR score: 0.031066133207813602\n",
      "EMNIST score: 0.14769736842105263\n",
      "Aggregate score: 0.11937621832358675\n",
      "------\n",
      "n_components: 8\n"
     ]
    },
    {
     "name": "stderr",
     "output_type": "stream",
     "text": [
      "/Users/jerry/mambaforge/envs/ece271bpr/lib/python3.10/site-packages/sklearn/linear_model/_logistic.py:469: ConvergenceWarning: lbfgs failed to converge (status=1):\n",
      "STOP: TOTAL NO. of ITERATIONS REACHED LIMIT.\n",
      "\n",
      "Increase the number of iterations (max_iter) or scale the data as shown in:\n",
      "    https://scikit-learn.org/stable/modules/preprocessing.html\n",
      "Please also refer to the documentation for alternative solver options:\n",
      "    https://scikit-learn.org/stable/modules/linear_model.html#logistic-regression\n",
      "  n_iter_i = _check_optimize_result(\n"
     ]
    },
    {
     "name": "stdout",
     "output_type": "stream",
     "text": [
      "Logistic Regression training took: 3.4999210834503174 sec.\n",
      "\n",
      "Model testing took: 0.025614023208618164 sec.\n",
      "\n",
      "handwritten-isolated score: 0.04185267857142857\n",
      "notMNIST score: 0.2419871794871795\n",
      "standard OCR score: 0.032948929159802305\n",
      "EMNIST score: 0.15756578947368421\n",
      "Aggregate score: 0.12475633528265107\n",
      "------\n",
      "n_components: 9\n"
     ]
    },
    {
     "name": "stderr",
     "output_type": "stream",
     "text": [
      "/Users/jerry/mambaforge/envs/ece271bpr/lib/python3.10/site-packages/sklearn/linear_model/_logistic.py:469: ConvergenceWarning: lbfgs failed to converge (status=1):\n",
      "STOP: TOTAL NO. of ITERATIONS REACHED LIMIT.\n",
      "\n",
      "Increase the number of iterations (max_iter) or scale the data as shown in:\n",
      "    https://scikit-learn.org/stable/modules/preprocessing.html\n",
      "Please also refer to the documentation for alternative solver options:\n",
      "    https://scikit-learn.org/stable/modules/linear_model.html#logistic-regression\n",
      "  n_iter_i = _check_optimize_result(\n"
     ]
    },
    {
     "name": "stdout",
     "output_type": "stream",
     "text": [
      "Logistic Regression training took: 3.152340888977051 sec.\n",
      "\n",
      "Model testing took: 0.030565977096557617 sec.\n",
      "\n",
      "handwritten-isolated score: 0.04352678571428571\n",
      "notMNIST score: 0.27323717948717946\n",
      "standard OCR score: 0.03436102612379383\n",
      "EMNIST score: 0.16578947368421051\n",
      "Aggregate score: 0.13653021442495128\n",
      "------\n",
      "n_components: 10\n"
     ]
    },
    {
     "name": "stderr",
     "output_type": "stream",
     "text": [
      "/Users/jerry/mambaforge/envs/ece271bpr/lib/python3.10/site-packages/sklearn/linear_model/_logistic.py:469: ConvergenceWarning: lbfgs failed to converge (status=1):\n",
      "STOP: TOTAL NO. of ITERATIONS REACHED LIMIT.\n",
      "\n",
      "Increase the number of iterations (max_iter) or scale the data as shown in:\n",
      "    https://scikit-learn.org/stable/modules/preprocessing.html\n",
      "Please also refer to the documentation for alternative solver options:\n",
      "    https://scikit-learn.org/stable/modules/linear_model.html#logistic-regression\n",
      "  n_iter_i = _check_optimize_result(\n"
     ]
    },
    {
     "name": "stdout",
     "output_type": "stream",
     "text": [
      "Logistic Regression training took: 3.4507670402526855 sec.\n",
      "\n",
      "Model testing took: 0.022507190704345703 sec.\n",
      "\n",
      "handwritten-isolated score: 0.048549107142857144\n",
      "notMNIST score: 0.30822649572649574\n",
      "standard OCR score: 0.03341962814779948\n",
      "EMNIST score: 0.1763157894736842\n",
      "Aggregate score: 0.14962962962962964\n",
      "------\n",
      "n_components: 11\n"
     ]
    },
    {
     "name": "stderr",
     "output_type": "stream",
     "text": [
      "/Users/jerry/mambaforge/envs/ece271bpr/lib/python3.10/site-packages/sklearn/linear_model/_logistic.py:469: ConvergenceWarning: lbfgs failed to converge (status=1):\n",
      "STOP: TOTAL NO. of ITERATIONS REACHED LIMIT.\n",
      "\n",
      "Increase the number of iterations (max_iter) or scale the data as shown in:\n",
      "    https://scikit-learn.org/stable/modules/preprocessing.html\n",
      "Please also refer to the documentation for alternative solver options:\n",
      "    https://scikit-learn.org/stable/modules/linear_model.html#logistic-regression\n",
      "  n_iter_i = _check_optimize_result(\n"
     ]
    },
    {
     "name": "stdout",
     "output_type": "stream",
     "text": [
      "Logistic Regression training took: 3.5706968307495117 sec.\n",
      "\n",
      "Model testing took: 0.04988694190979004 sec.\n",
      "\n",
      "handwritten-isolated score: 0.056919642857142856\n",
      "notMNIST score: 0.3173076923076923\n",
      "standard OCR score: 0.0369498705577783\n",
      "EMNIST score: 0.1944078947368421\n",
      "Aggregate score: 0.1589083820662768\n",
      "------\n",
      "n_components: 12\n"
     ]
    },
    {
     "name": "stderr",
     "output_type": "stream",
     "text": [
      "/Users/jerry/mambaforge/envs/ece271bpr/lib/python3.10/site-packages/sklearn/linear_model/_logistic.py:469: ConvergenceWarning: lbfgs failed to converge (status=1):\n",
      "STOP: TOTAL NO. of ITERATIONS REACHED LIMIT.\n",
      "\n",
      "Increase the number of iterations (max_iter) or scale the data as shown in:\n",
      "    https://scikit-learn.org/stable/modules/preprocessing.html\n",
      "Please also refer to the documentation for alternative solver options:\n",
      "    https://scikit-learn.org/stable/modules/linear_model.html#logistic-regression\n",
      "  n_iter_i = _check_optimize_result(\n"
     ]
    },
    {
     "name": "stdout",
     "output_type": "stream",
     "text": [
      "Logistic Regression training took: 3.701948881149292 sec.\n",
      "\n",
      "Model testing took: 0.026475191116333008 sec.\n",
      "\n",
      "handwritten-isolated score: 0.06305803571428571\n",
      "notMNIST score: 0.3301282051282051\n",
      "standard OCR score: 0.042598258413744414\n",
      "EMNIST score: 0.19736842105263158\n",
      "Aggregate score: 0.16608187134502925\n",
      "------\n",
      "n_components: 13\n"
     ]
    },
    {
     "name": "stderr",
     "output_type": "stream",
     "text": [
      "/Users/jerry/mambaforge/envs/ece271bpr/lib/python3.10/site-packages/sklearn/linear_model/_logistic.py:469: ConvergenceWarning: lbfgs failed to converge (status=1):\n",
      "STOP: TOTAL NO. of ITERATIONS REACHED LIMIT.\n",
      "\n",
      "Increase the number of iterations (max_iter) or scale the data as shown in:\n",
      "    https://scikit-learn.org/stable/modules/preprocessing.html\n",
      "Please also refer to the documentation for alternative solver options:\n",
      "    https://scikit-learn.org/stable/modules/linear_model.html#logistic-regression\n",
      "  n_iter_i = _check_optimize_result(\n"
     ]
    },
    {
     "name": "stdout",
     "output_type": "stream",
     "text": [
      "Logistic Regression training took: 3.640212059020996 sec.\n",
      "\n",
      "Model testing took: 0.03666996955871582 sec.\n",
      "\n",
      "handwritten-isolated score: 0.05915178571428571\n",
      "notMNIST score: 0.3418803418803419\n",
      "standard OCR score: 0.042362908919745826\n",
      "EMNIST score: 0.20526315789473684\n",
      "Aggregate score: 0.17076023391812867\n",
      "------\n",
      "n_components: 14\n"
     ]
    },
    {
     "name": "stderr",
     "output_type": "stream",
     "text": [
      "/Users/jerry/mambaforge/envs/ece271bpr/lib/python3.10/site-packages/sklearn/linear_model/_logistic.py:469: ConvergenceWarning: lbfgs failed to converge (status=1):\n",
      "STOP: TOTAL NO. of ITERATIONS REACHED LIMIT.\n",
      "\n",
      "Increase the number of iterations (max_iter) or scale the data as shown in:\n",
      "    https://scikit-learn.org/stable/modules/preprocessing.html\n",
      "Please also refer to the documentation for alternative solver options:\n",
      "    https://scikit-learn.org/stable/modules/linear_model.html#logistic-regression\n",
      "  n_iter_i = _check_optimize_result(\n"
     ]
    },
    {
     "name": "stdout",
     "output_type": "stream",
     "text": [
      "Logistic Regression training took: 4.576205015182495 sec.\n",
      "\n",
      "Model testing took: 0.04974699020385742 sec.\n",
      "\n",
      "handwritten-isolated score: 0.05803571428571429\n",
      "notMNIST score: 0.35336538461538464\n",
      "standard OCR score: 0.05365968463167804\n",
      "EMNIST score: 0.2026315789473684\n",
      "Aggregate score: 0.17707602339181286\n",
      "------\n",
      "n_components: 15\n"
     ]
    },
    {
     "name": "stderr",
     "output_type": "stream",
     "text": [
      "/Users/jerry/mambaforge/envs/ece271bpr/lib/python3.10/site-packages/sklearn/linear_model/_logistic.py:469: ConvergenceWarning: lbfgs failed to converge (status=1):\n",
      "STOP: TOTAL NO. of ITERATIONS REACHED LIMIT.\n",
      "\n",
      "Increase the number of iterations (max_iter) or scale the data as shown in:\n",
      "    https://scikit-learn.org/stable/modules/preprocessing.html\n",
      "Please also refer to the documentation for alternative solver options:\n",
      "    https://scikit-learn.org/stable/modules/linear_model.html#logistic-regression\n",
      "  n_iter_i = _check_optimize_result(\n"
     ]
    },
    {
     "name": "stdout",
     "output_type": "stream",
     "text": [
      "Logistic Regression training took: 3.7141339778900146 sec.\n",
      "\n",
      "Model testing took: 0.051207780838012695 sec.\n",
      "\n",
      "handwritten-isolated score: 0.05357142857142857\n",
      "notMNIST score: 0.35870726495726496\n",
      "standard OCR score: 0.05930807248764415\n",
      "EMNIST score: 0.20296052631578948\n",
      "Aggregate score: 0.17996101364522418\n",
      "------\n",
      "n_components: 16\n"
     ]
    },
    {
     "name": "stderr",
     "output_type": "stream",
     "text": [
      "/Users/jerry/mambaforge/envs/ece271bpr/lib/python3.10/site-packages/sklearn/linear_model/_logistic.py:469: ConvergenceWarning: lbfgs failed to converge (status=1):\n",
      "STOP: TOTAL NO. of ITERATIONS REACHED LIMIT.\n",
      "\n",
      "Increase the number of iterations (max_iter) or scale the data as shown in:\n",
      "    https://scikit-learn.org/stable/modules/preprocessing.html\n",
      "Please also refer to the documentation for alternative solver options:\n",
      "    https://scikit-learn.org/stable/modules/linear_model.html#logistic-regression\n",
      "  n_iter_i = _check_optimize_result(\n"
     ]
    },
    {
     "name": "stdout",
     "output_type": "stream",
     "text": [
      "Logistic Regression training took: 3.878371238708496 sec.\n",
      "\n",
      "Model testing took: 0.027419090270996094 sec.\n",
      "\n",
      "handwritten-isolated score: 0.052455357142857144\n",
      "notMNIST score: 0.3720619658119658\n",
      "standard OCR score: 0.06260296540362438\n",
      "EMNIST score: 0.2075657894736842\n",
      "Aggregate score: 0.1858869395711501\n",
      "------\n",
      "n_components: 17\n"
     ]
    },
    {
     "name": "stderr",
     "output_type": "stream",
     "text": [
      "/Users/jerry/mambaforge/envs/ece271bpr/lib/python3.10/site-packages/sklearn/linear_model/_logistic.py:469: ConvergenceWarning: lbfgs failed to converge (status=1):\n",
      "STOP: TOTAL NO. of ITERATIONS REACHED LIMIT.\n",
      "\n",
      "Increase the number of iterations (max_iter) or scale the data as shown in:\n",
      "    https://scikit-learn.org/stable/modules/preprocessing.html\n",
      "Please also refer to the documentation for alternative solver options:\n",
      "    https://scikit-learn.org/stable/modules/linear_model.html#logistic-regression\n",
      "  n_iter_i = _check_optimize_result(\n"
     ]
    },
    {
     "name": "stdout",
     "output_type": "stream",
     "text": [
      "Logistic Regression training took: 3.660276174545288 sec.\n",
      "\n",
      "Model testing took: 0.037000179290771484 sec.\n",
      "\n",
      "handwritten-isolated score: 0.05078125\n",
      "notMNIST score: 0.37286324786324787\n",
      "standard OCR score: 0.07413509060955518\n",
      "EMNIST score: 0.22072368421052632\n",
      "Aggregate score: 0.19282651072124757\n",
      "------\n",
      "n_components: 18\n"
     ]
    },
    {
     "name": "stderr",
     "output_type": "stream",
     "text": [
      "/Users/jerry/mambaforge/envs/ece271bpr/lib/python3.10/site-packages/sklearn/linear_model/_logistic.py:469: ConvergenceWarning: lbfgs failed to converge (status=1):\n",
      "STOP: TOTAL NO. of ITERATIONS REACHED LIMIT.\n",
      "\n",
      "Increase the number of iterations (max_iter) or scale the data as shown in:\n",
      "    https://scikit-learn.org/stable/modules/preprocessing.html\n",
      "Please also refer to the documentation for alternative solver options:\n",
      "    https://scikit-learn.org/stable/modules/linear_model.html#logistic-regression\n",
      "  n_iter_i = _check_optimize_result(\n"
     ]
    },
    {
     "name": "stdout",
     "output_type": "stream",
     "text": [
      "Logistic Regression training took: 3.539095163345337 sec.\n",
      "\n",
      "Model testing took: 0.037503957748413086 sec.\n",
      "\n",
      "handwritten-isolated score: 0.046875\n",
      "notMNIST score: 0.39663461538461536\n",
      "standard OCR score: 0.07837138150152977\n",
      "EMNIST score: 0.22894736842105262\n",
      "Aggregate score: 0.20257309941520468\n",
      "------\n",
      "n_components: 19\n"
     ]
    },
    {
     "name": "stderr",
     "output_type": "stream",
     "text": [
      "/Users/jerry/mambaforge/envs/ece271bpr/lib/python3.10/site-packages/sklearn/linear_model/_logistic.py:469: ConvergenceWarning: lbfgs failed to converge (status=1):\n",
      "STOP: TOTAL NO. of ITERATIONS REACHED LIMIT.\n",
      "\n",
      "Increase the number of iterations (max_iter) or scale the data as shown in:\n",
      "    https://scikit-learn.org/stable/modules/preprocessing.html\n",
      "Please also refer to the documentation for alternative solver options:\n",
      "    https://scikit-learn.org/stable/modules/linear_model.html#logistic-regression\n",
      "  n_iter_i = _check_optimize_result(\n"
     ]
    },
    {
     "name": "stdout",
     "output_type": "stream",
     "text": [
      "Logistic Regression training took: 3.600369930267334 sec.\n",
      "\n",
      "Model testing took: 0.03593015670776367 sec.\n",
      "\n",
      "handwritten-isolated score: 0.048549107142857144\n",
      "notMNIST score: 0.41773504273504275\n",
      "standard OCR score: 0.0837844198634973\n",
      "EMNIST score: 0.22828947368421051\n",
      "Aggregate score: 0.21060428849902535\n",
      "------\n",
      "n_components: 20\n"
     ]
    },
    {
     "name": "stderr",
     "output_type": "stream",
     "text": [
      "/Users/jerry/mambaforge/envs/ece271bpr/lib/python3.10/site-packages/sklearn/linear_model/_logistic.py:469: ConvergenceWarning: lbfgs failed to converge (status=1):\n",
      "STOP: TOTAL NO. of ITERATIONS REACHED LIMIT.\n",
      "\n",
      "Increase the number of iterations (max_iter) or scale the data as shown in:\n",
      "    https://scikit-learn.org/stable/modules/preprocessing.html\n",
      "Please also refer to the documentation for alternative solver options:\n",
      "    https://scikit-learn.org/stable/modules/linear_model.html#logistic-regression\n",
      "  n_iter_i = _check_optimize_result(\n"
     ]
    },
    {
     "name": "stdout",
     "output_type": "stream",
     "text": [
      "Logistic Regression training took: 4.463447093963623 sec.\n",
      "\n",
      "Model testing took: 0.04059600830078125 sec.\n",
      "\n",
      "handwritten-isolated score: 0.04799107142857143\n",
      "notMNIST score: 0.43349358974358976\n",
      "standard OCR score: 0.09861143798540833\n",
      "EMNIST score: 0.24605263157894736\n",
      "Aggregate score: 0.2242495126705653\n",
      "------\n",
      "n_components: 21\n"
     ]
    },
    {
     "name": "stderr",
     "output_type": "stream",
     "text": [
      "/Users/jerry/mambaforge/envs/ece271bpr/lib/python3.10/site-packages/sklearn/linear_model/_logistic.py:469: ConvergenceWarning: lbfgs failed to converge (status=1):\n",
      "STOP: TOTAL NO. of ITERATIONS REACHED LIMIT.\n",
      "\n",
      "Increase the number of iterations (max_iter) or scale the data as shown in:\n",
      "    https://scikit-learn.org/stable/modules/preprocessing.html\n",
      "Please also refer to the documentation for alternative solver options:\n",
      "    https://scikit-learn.org/stable/modules/linear_model.html#logistic-regression\n",
      "  n_iter_i = _check_optimize_result(\n"
     ]
    },
    {
     "name": "stdout",
     "output_type": "stream",
     "text": [
      "Logistic Regression training took: 4.6131391525268555 sec.\n",
      "\n",
      "Model testing took: 0.031161069869995117 sec.\n",
      "\n",
      "handwritten-isolated score: 0.048549107142857144\n",
      "notMNIST score: 0.44604700854700857\n",
      "standard OCR score: 0.09861143798540833\n",
      "EMNIST score: 0.24407894736842106\n",
      "Aggregate score: 0.22752436647173488\n",
      "------\n",
      "n_components: 22\n"
     ]
    },
    {
     "name": "stderr",
     "output_type": "stream",
     "text": [
      "/Users/jerry/mambaforge/envs/ece271bpr/lib/python3.10/site-packages/sklearn/linear_model/_logistic.py:469: ConvergenceWarning: lbfgs failed to converge (status=1):\n",
      "STOP: TOTAL NO. of ITERATIONS REACHED LIMIT.\n",
      "\n",
      "Increase the number of iterations (max_iter) or scale the data as shown in:\n",
      "    https://scikit-learn.org/stable/modules/preprocessing.html\n",
      "Please also refer to the documentation for alternative solver options:\n",
      "    https://scikit-learn.org/stable/modules/linear_model.html#logistic-regression\n",
      "  n_iter_i = _check_optimize_result(\n"
     ]
    },
    {
     "name": "stdout",
     "output_type": "stream",
     "text": [
      "Logistic Regression training took: 4.611991882324219 sec.\n",
      "\n",
      "Model testing took: 0.025671958923339844 sec.\n",
      "\n",
      "handwritten-isolated score: 0.05133928571428571\n",
      "notMNIST score: 0.45058760683760685\n",
      "standard OCR score: 0.11108496116733349\n",
      "EMNIST score: 0.2542763157894737\n",
      "Aggregate score: 0.23578947368421052\n",
      "------\n",
      "n_components: 23\n"
     ]
    },
    {
     "name": "stderr",
     "output_type": "stream",
     "text": [
      "/Users/jerry/mambaforge/envs/ece271bpr/lib/python3.10/site-packages/sklearn/linear_model/_logistic.py:469: ConvergenceWarning: lbfgs failed to converge (status=1):\n",
      "STOP: TOTAL NO. of ITERATIONS REACHED LIMIT.\n",
      "\n",
      "Increase the number of iterations (max_iter) or scale the data as shown in:\n",
      "    https://scikit-learn.org/stable/modules/preprocessing.html\n",
      "Please also refer to the documentation for alternative solver options:\n",
      "    https://scikit-learn.org/stable/modules/linear_model.html#logistic-regression\n",
      "  n_iter_i = _check_optimize_result(\n"
     ]
    },
    {
     "name": "stdout",
     "output_type": "stream",
     "text": [
      "Logistic Regression training took: 4.60490083694458 sec.\n",
      "\n",
      "Model testing took: 0.027897119522094727 sec.\n",
      "\n",
      "handwritten-isolated score: 0.05357142857142857\n",
      "notMNIST score: 0.4543269230769231\n",
      "standard OCR score: 0.12026359143327842\n",
      "EMNIST score: 0.25493421052631576\n",
      "Aggregate score: 0.2403898635477583\n",
      "------\n",
      "n_components: 24\n"
     ]
    },
    {
     "name": "stderr",
     "output_type": "stream",
     "text": [
      "/Users/jerry/mambaforge/envs/ece271bpr/lib/python3.10/site-packages/sklearn/linear_model/_logistic.py:469: ConvergenceWarning: lbfgs failed to converge (status=1):\n",
      "STOP: TOTAL NO. of ITERATIONS REACHED LIMIT.\n",
      "\n",
      "Increase the number of iterations (max_iter) or scale the data as shown in:\n",
      "    https://scikit-learn.org/stable/modules/preprocessing.html\n",
      "Please also refer to the documentation for alternative solver options:\n",
      "    https://scikit-learn.org/stable/modules/linear_model.html#logistic-regression\n",
      "  n_iter_i = _check_optimize_result(\n"
     ]
    },
    {
     "name": "stdout",
     "output_type": "stream",
     "text": [
      "Logistic Regression training took: 4.611923933029175 sec.\n",
      "\n",
      "Model testing took: 0.0367588996887207 sec.\n",
      "\n",
      "handwritten-isolated score: 0.049107142857142856\n",
      "notMNIST score: 0.4567307692307692\n",
      "standard OCR score: 0.1263826782772417\n",
      "EMNIST score: 0.25921052631578945\n",
      "Aggregate score: 0.24350877192982456\n",
      "------\n",
      "n_components: 25\n"
     ]
    },
    {
     "name": "stderr",
     "output_type": "stream",
     "text": [
      "/Users/jerry/mambaforge/envs/ece271bpr/lib/python3.10/site-packages/sklearn/linear_model/_logistic.py:469: ConvergenceWarning: lbfgs failed to converge (status=1):\n",
      "STOP: TOTAL NO. of ITERATIONS REACHED LIMIT.\n",
      "\n",
      "Increase the number of iterations (max_iter) or scale the data as shown in:\n",
      "    https://scikit-learn.org/stable/modules/preprocessing.html\n",
      "Please also refer to the documentation for alternative solver options:\n",
      "    https://scikit-learn.org/stable/modules/linear_model.html#logistic-regression\n",
      "  n_iter_i = _check_optimize_result(\n"
     ]
    },
    {
     "name": "stdout",
     "output_type": "stream",
     "text": [
      "Logistic Regression training took: 4.719002962112427 sec.\n",
      "\n",
      "Model testing took: 0.03112506866455078 sec.\n",
      "\n",
      "handwritten-isolated score: 0.05022321428571429\n",
      "notMNIST score: 0.45699786324786323\n",
      "standard OCR score: 0.13108966815721346\n",
      "EMNIST score: 0.25921052631578945\n",
      "Aggregate score: 0.24530214424951266\n",
      "------\n",
      "n_components: 26\n"
     ]
    },
    {
     "name": "stderr",
     "output_type": "stream",
     "text": [
      "/Users/jerry/mambaforge/envs/ece271bpr/lib/python3.10/site-packages/sklearn/linear_model/_logistic.py:469: ConvergenceWarning: lbfgs failed to converge (status=1):\n",
      "STOP: TOTAL NO. of ITERATIONS REACHED LIMIT.\n",
      "\n",
      "Increase the number of iterations (max_iter) or scale the data as shown in:\n",
      "    https://scikit-learn.org/stable/modules/preprocessing.html\n",
      "Please also refer to the documentation for alternative solver options:\n",
      "    https://scikit-learn.org/stable/modules/linear_model.html#logistic-regression\n",
      "  n_iter_i = _check_optimize_result(\n"
     ]
    },
    {
     "name": "stdout",
     "output_type": "stream",
     "text": [
      "Logistic Regression training took: 4.966938018798828 sec.\n",
      "\n",
      "Model testing took: 0.04055595397949219 sec.\n",
      "\n",
      "handwritten-isolated score: 0.05078125\n",
      "notMNIST score: 0.45860042735042733\n",
      "standard OCR score: 0.13461991056719227\n",
      "EMNIST score: 0.2680921052631579\n",
      "Aggregate score: 0.24912280701754386\n",
      "------\n",
      "n_components: 27\n"
     ]
    },
    {
     "name": "stderr",
     "output_type": "stream",
     "text": [
      "/Users/jerry/mambaforge/envs/ece271bpr/lib/python3.10/site-packages/sklearn/linear_model/_logistic.py:469: ConvergenceWarning: lbfgs failed to converge (status=1):\n",
      "STOP: TOTAL NO. of ITERATIONS REACHED LIMIT.\n",
      "\n",
      "Increase the number of iterations (max_iter) or scale the data as shown in:\n",
      "    https://scikit-learn.org/stable/modules/preprocessing.html\n",
      "Please also refer to the documentation for alternative solver options:\n",
      "    https://scikit-learn.org/stable/modules/linear_model.html#logistic-regression\n",
      "  n_iter_i = _check_optimize_result(\n"
     ]
    },
    {
     "name": "stdout",
     "output_type": "stream",
     "text": [
      "Logistic Regression training took: 5.660482883453369 sec.\n",
      "\n",
      "Model testing took: 0.039999961853027344 sec.\n",
      "\n",
      "handwritten-isolated score: 0.05078125\n",
      "notMNIST score: 0.4706196581196581\n",
      "standard OCR score: 0.1416803953871499\n",
      "EMNIST score: 0.27171052631578946\n",
      "Aggregate score: 0.25582846003898635\n",
      "------\n",
      "n_components: 28\n"
     ]
    },
    {
     "name": "stderr",
     "output_type": "stream",
     "text": [
      "/Users/jerry/mambaforge/envs/ece271bpr/lib/python3.10/site-packages/sklearn/linear_model/_logistic.py:469: ConvergenceWarning: lbfgs failed to converge (status=1):\n",
      "STOP: TOTAL NO. of ITERATIONS REACHED LIMIT.\n",
      "\n",
      "Increase the number of iterations (max_iter) or scale the data as shown in:\n",
      "    https://scikit-learn.org/stable/modules/preprocessing.html\n",
      "Please also refer to the documentation for alternative solver options:\n",
      "    https://scikit-learn.org/stable/modules/linear_model.html#logistic-regression\n",
      "  n_iter_i = _check_optimize_result(\n"
     ]
    },
    {
     "name": "stdout",
     "output_type": "stream",
     "text": [
      "Logistic Regression training took: 5.154078960418701 sec.\n",
      "\n",
      "Model testing took: 0.04811739921569824 sec.\n",
      "\n",
      "handwritten-isolated score: 0.053013392857142856\n",
      "notMNIST score: 0.4740918803418803\n",
      "standard OCR score: 0.1435631913391386\n",
      "EMNIST score: 0.2743421052631579\n",
      "Aggregate score: 0.258401559454191\n",
      "------\n",
      "n_components: 29\n"
     ]
    },
    {
     "name": "stderr",
     "output_type": "stream",
     "text": [
      "/Users/jerry/mambaforge/envs/ece271bpr/lib/python3.10/site-packages/sklearn/linear_model/_logistic.py:469: ConvergenceWarning: lbfgs failed to converge (status=1):\n",
      "STOP: TOTAL NO. of ITERATIONS REACHED LIMIT.\n",
      "\n",
      "Increase the number of iterations (max_iter) or scale the data as shown in:\n",
      "    https://scikit-learn.org/stable/modules/preprocessing.html\n",
      "Please also refer to the documentation for alternative solver options:\n",
      "    https://scikit-learn.org/stable/modules/linear_model.html#logistic-regression\n",
      "  n_iter_i = _check_optimize_result(\n"
     ]
    },
    {
     "name": "stdout",
     "output_type": "stream",
     "text": [
      "Logistic Regression training took: 5.731131076812744 sec.\n",
      "\n",
      "Model testing took: 0.05166196823120117 sec.\n",
      "\n",
      "handwritten-isolated score: 0.056361607142857144\n",
      "notMNIST score: 0.47489316239316237\n",
      "standard OCR score: 0.14615203577312308\n",
      "EMNIST score: 0.2730263157894737\n",
      "Aggregate score: 0.2596491228070175\n",
      "------\n",
      "n_components: 30\n"
     ]
    },
    {
     "name": "stderr",
     "output_type": "stream",
     "text": [
      "/Users/jerry/mambaforge/envs/ece271bpr/lib/python3.10/site-packages/sklearn/linear_model/_logistic.py:469: ConvergenceWarning: lbfgs failed to converge (status=1):\n",
      "STOP: TOTAL NO. of ITERATIONS REACHED LIMIT.\n",
      "\n",
      "Increase the number of iterations (max_iter) or scale the data as shown in:\n",
      "    https://scikit-learn.org/stable/modules/preprocessing.html\n",
      "Please also refer to the documentation for alternative solver options:\n",
      "    https://scikit-learn.org/stable/modules/linear_model.html#logistic-regression\n",
      "  n_iter_i = _check_optimize_result(\n"
     ]
    },
    {
     "name": "stdout",
     "output_type": "stream",
     "text": [
      "Logistic Regression training took: 5.691986083984375 sec.\n",
      "\n",
      "Model testing took: 0.03341412544250488 sec.\n",
      "\n",
      "handwritten-isolated score: 0.05189732142857143\n",
      "notMNIST score: 0.46821581196581197\n",
      "standard OCR score: 0.1534478700870793\n",
      "EMNIST score: 0.2792763157894737\n",
      "Aggregate score: 0.2609746588693957\n",
      "------\n",
      "n_components: 31\n"
     ]
    },
    {
     "name": "stderr",
     "output_type": "stream",
     "text": [
      "/Users/jerry/mambaforge/envs/ece271bpr/lib/python3.10/site-packages/sklearn/linear_model/_logistic.py:469: ConvergenceWarning: lbfgs failed to converge (status=1):\n",
      "STOP: TOTAL NO. of ITERATIONS REACHED LIMIT.\n",
      "\n",
      "Increase the number of iterations (max_iter) or scale the data as shown in:\n",
      "    https://scikit-learn.org/stable/modules/preprocessing.html\n",
      "Please also refer to the documentation for alternative solver options:\n",
      "    https://scikit-learn.org/stable/modules/linear_model.html#logistic-regression\n",
      "  n_iter_i = _check_optimize_result(\n"
     ]
    },
    {
     "name": "stdout",
     "output_type": "stream",
     "text": [
      "Logistic Regression training took: 5.474925994873047 sec.\n",
      "\n",
      "Model testing took: 0.0659799575805664 sec.\n",
      "\n",
      "handwritten-isolated score: 0.053013392857142856\n",
      "notMNIST score: 0.469017094017094\n",
      "standard OCR score: 0.16192045187102846\n",
      "EMNIST score: 0.2845394736842105\n",
      "Aggregate score: 0.26541910331384017\n",
      "------\n",
      "n_components: 32\n"
     ]
    },
    {
     "name": "stderr",
     "output_type": "stream",
     "text": [
      "/Users/jerry/mambaforge/envs/ece271bpr/lib/python3.10/site-packages/sklearn/linear_model/_logistic.py:469: ConvergenceWarning: lbfgs failed to converge (status=1):\n",
      "STOP: TOTAL NO. of ITERATIONS REACHED LIMIT.\n",
      "\n",
      "Increase the number of iterations (max_iter) or scale the data as shown in:\n",
      "    https://scikit-learn.org/stable/modules/preprocessing.html\n",
      "Please also refer to the documentation for alternative solver options:\n",
      "    https://scikit-learn.org/stable/modules/linear_model.html#logistic-regression\n",
      "  n_iter_i = _check_optimize_result(\n"
     ]
    },
    {
     "name": "stdout",
     "output_type": "stream",
     "text": [
      "Logistic Regression training took: 6.002288818359375 sec.\n",
      "\n",
      "Model testing took: 0.05230116844177246 sec.\n",
      "\n",
      "handwritten-isolated score: 0.04966517857142857\n",
      "notMNIST score: 0.46928418803418803\n",
      "standard OCR score: 0.16074370440103553\n",
      "EMNIST score: 0.2858552631578947\n",
      "Aggregate score: 0.2649512670565302\n",
      "------\n",
      "n_components: 33\n"
     ]
    },
    {
     "name": "stderr",
     "output_type": "stream",
     "text": [
      "/Users/jerry/mambaforge/envs/ece271bpr/lib/python3.10/site-packages/sklearn/linear_model/_logistic.py:469: ConvergenceWarning: lbfgs failed to converge (status=1):\n",
      "STOP: TOTAL NO. of ITERATIONS REACHED LIMIT.\n",
      "\n",
      "Increase the number of iterations (max_iter) or scale the data as shown in:\n",
      "    https://scikit-learn.org/stable/modules/preprocessing.html\n",
      "Please also refer to the documentation for alternative solver options:\n",
      "    https://scikit-learn.org/stable/modules/linear_model.html#logistic-regression\n",
      "  n_iter_i = _check_optimize_result(\n"
     ]
    },
    {
     "name": "stdout",
     "output_type": "stream",
     "text": [
      "Logistic Regression training took: 5.7097249031066895 sec.\n",
      "\n",
      "Model testing took: 0.057412147521972656 sec.\n",
      "\n",
      "handwritten-isolated score: 0.05524553571428571\n",
      "notMNIST score: 0.4700854700854701\n",
      "standard OCR score: 0.17274652859496353\n",
      "EMNIST score: 0.2930921052631579\n",
      "Aggregate score: 0.2716569200779727\n",
      "------\n",
      "n_components: 34\n"
     ]
    },
    {
     "name": "stderr",
     "output_type": "stream",
     "text": [
      "/Users/jerry/mambaforge/envs/ece271bpr/lib/python3.10/site-packages/sklearn/linear_model/_logistic.py:469: ConvergenceWarning: lbfgs failed to converge (status=1):\n",
      "STOP: TOTAL NO. of ITERATIONS REACHED LIMIT.\n",
      "\n",
      "Increase the number of iterations (max_iter) or scale the data as shown in:\n",
      "    https://scikit-learn.org/stable/modules/preprocessing.html\n",
      "Please also refer to the documentation for alternative solver options:\n",
      "    https://scikit-learn.org/stable/modules/linear_model.html#logistic-regression\n",
      "  n_iter_i = _check_optimize_result(\n"
     ]
    },
    {
     "name": "stdout",
     "output_type": "stream",
     "text": [
      "Logistic Regression training took: 5.419523000717163 sec.\n",
      "\n",
      "Model testing took: 0.04177093505859375 sec.\n",
      "\n",
      "handwritten-isolated score: 0.052455357142857144\n",
      "notMNIST score: 0.46981837606837606\n",
      "standard OCR score: 0.17580607201694518\n",
      "EMNIST score: 0.29736842105263156\n",
      "Aggregate score: 0.27321637426900586\n",
      "------\n",
      "n_components: 35\n"
     ]
    },
    {
     "name": "stderr",
     "output_type": "stream",
     "text": [
      "/Users/jerry/mambaforge/envs/ece271bpr/lib/python3.10/site-packages/sklearn/linear_model/_logistic.py:469: ConvergenceWarning: lbfgs failed to converge (status=1):\n",
      "STOP: TOTAL NO. of ITERATIONS REACHED LIMIT.\n",
      "\n",
      "Increase the number of iterations (max_iter) or scale the data as shown in:\n",
      "    https://scikit-learn.org/stable/modules/preprocessing.html\n",
      "Please also refer to the documentation for alternative solver options:\n",
      "    https://scikit-learn.org/stable/modules/linear_model.html#logistic-regression\n",
      "  n_iter_i = _check_optimize_result(\n"
     ]
    },
    {
     "name": "stdout",
     "output_type": "stream",
     "text": [
      "Logistic Regression training took: 6.275170087814331 sec.\n",
      "\n",
      "Model testing took: 0.04529309272766113 sec.\n",
      "\n",
      "handwritten-isolated score: 0.05412946428571429\n",
      "notMNIST score: 0.47435897435897434\n",
      "standard OCR score: 0.17957166392092258\n",
      "EMNIST score: 0.3046052631578947\n",
      "Aggregate score: 0.27773879142300195\n",
      "------\n",
      "n_components: 36\n"
     ]
    },
    {
     "name": "stderr",
     "output_type": "stream",
     "text": [
      "/Users/jerry/mambaforge/envs/ece271bpr/lib/python3.10/site-packages/sklearn/linear_model/_logistic.py:469: ConvergenceWarning: lbfgs failed to converge (status=1):\n",
      "STOP: TOTAL NO. of ITERATIONS REACHED LIMIT.\n",
      "\n",
      "Increase the number of iterations (max_iter) or scale the data as shown in:\n",
      "    https://scikit-learn.org/stable/modules/preprocessing.html\n",
      "Please also refer to the documentation for alternative solver options:\n",
      "    https://scikit-learn.org/stable/modules/linear_model.html#logistic-regression\n",
      "  n_iter_i = _check_optimize_result(\n"
     ]
    },
    {
     "name": "stdout",
     "output_type": "stream",
     "text": [
      "Logistic Regression training took: 5.631582975387573 sec.\n",
      "\n",
      "Model testing took: 0.04578208923339844 sec.\n",
      "\n",
      "handwritten-isolated score: 0.053013392857142856\n",
      "notMNIST score: 0.4740918803418803\n",
      "standard OCR score: 0.1849847022828901\n",
      "EMNIST score: 0.30855263157894736\n",
      "Aggregate score: 0.28023391812865495\n",
      "------\n",
      "n_components: 37\n"
     ]
    },
    {
     "name": "stderr",
     "output_type": "stream",
     "text": [
      "/Users/jerry/mambaforge/envs/ece271bpr/lib/python3.10/site-packages/sklearn/linear_model/_logistic.py:469: ConvergenceWarning: lbfgs failed to converge (status=1):\n",
      "STOP: TOTAL NO. of ITERATIONS REACHED LIMIT.\n",
      "\n",
      "Increase the number of iterations (max_iter) or scale the data as shown in:\n",
      "    https://scikit-learn.org/stable/modules/preprocessing.html\n",
      "Please also refer to the documentation for alternative solver options:\n",
      "    https://scikit-learn.org/stable/modules/linear_model.html#logistic-regression\n",
      "  n_iter_i = _check_optimize_result(\n"
     ]
    },
    {
     "name": "stdout",
     "output_type": "stream",
     "text": [
      "Logistic Regression training took: 4.6493449211120605 sec.\n",
      "\n",
      "Model testing took: 0.04077410697937012 sec.\n",
      "\n",
      "handwritten-isolated score: 0.05412946428571429\n",
      "notMNIST score: 0.47596153846153844\n",
      "standard OCR score: 0.18616144975288304\n",
      "EMNIST score: 0.3078947368421053\n",
      "Aggregate score: 0.28116959064327485\n",
      "------\n",
      "n_components: 38\n"
     ]
    },
    {
     "name": "stderr",
     "output_type": "stream",
     "text": [
      "/Users/jerry/mambaforge/envs/ece271bpr/lib/python3.10/site-packages/sklearn/linear_model/_logistic.py:469: ConvergenceWarning: lbfgs failed to converge (status=1):\n",
      "STOP: TOTAL NO. of ITERATIONS REACHED LIMIT.\n",
      "\n",
      "Increase the number of iterations (max_iter) or scale the data as shown in:\n",
      "    https://scikit-learn.org/stable/modules/preprocessing.html\n",
      "Please also refer to the documentation for alternative solver options:\n",
      "    https://scikit-learn.org/stable/modules/linear_model.html#logistic-regression\n",
      "  n_iter_i = _check_optimize_result(\n"
     ]
    },
    {
     "name": "stdout",
     "output_type": "stream",
     "text": [
      "Logistic Regression training took: 5.927716016769409 sec.\n",
      "\n",
      "Model testing took: 0.050563812255859375 sec.\n",
      "\n",
      "handwritten-isolated score: 0.05412946428571429\n",
      "notMNIST score: 0.4754273504273504\n",
      "standard OCR score: 0.19016239115085903\n",
      "EMNIST score: 0.30986842105263157\n",
      "Aggregate score: 0.2828070175438597\n",
      "------\n",
      "n_components: 39\n"
     ]
    },
    {
     "name": "stderr",
     "output_type": "stream",
     "text": [
      "/Users/jerry/mambaforge/envs/ece271bpr/lib/python3.10/site-packages/sklearn/linear_model/_logistic.py:469: ConvergenceWarning: lbfgs failed to converge (status=1):\n",
      "STOP: TOTAL NO. of ITERATIONS REACHED LIMIT.\n",
      "\n",
      "Increase the number of iterations (max_iter) or scale the data as shown in:\n",
      "    https://scikit-learn.org/stable/modules/preprocessing.html\n",
      "Please also refer to the documentation for alternative solver options:\n",
      "    https://scikit-learn.org/stable/modules/linear_model.html#logistic-regression\n",
      "  n_iter_i = _check_optimize_result(\n"
     ]
    },
    {
     "name": "stdout",
     "output_type": "stream",
     "text": [
      "Logistic Regression training took: 5.061823129653931 sec.\n",
      "\n",
      "Model testing took: 0.04702591896057129 sec.\n",
      "\n",
      "handwritten-isolated score: 0.05524553571428571\n",
      "notMNIST score: 0.47302350427350426\n",
      "standard OCR score: 0.19534008001882797\n",
      "EMNIST score: 0.30986842105263157\n",
      "Aggregate score: 0.2839766081871345\n",
      "------\n",
      "n_components: 40\n"
     ]
    },
    {
     "name": "stderr",
     "output_type": "stream",
     "text": [
      "/Users/jerry/mambaforge/envs/ece271bpr/lib/python3.10/site-packages/sklearn/linear_model/_logistic.py:469: ConvergenceWarning: lbfgs failed to converge (status=1):\n",
      "STOP: TOTAL NO. of ITERATIONS REACHED LIMIT.\n",
      "\n",
      "Increase the number of iterations (max_iter) or scale the data as shown in:\n",
      "    https://scikit-learn.org/stable/modules/preprocessing.html\n",
      "Please also refer to the documentation for alternative solver options:\n",
      "    https://scikit-learn.org/stable/modules/linear_model.html#logistic-regression\n",
      "  n_iter_i = _check_optimize_result(\n"
     ]
    },
    {
     "name": "stdout",
     "output_type": "stream",
     "text": [
      "Logistic Regression training took: 5.939636945724487 sec.\n",
      "\n",
      "Model testing took: 0.04644608497619629 sec.\n",
      "\n",
      "handwritten-isolated score: 0.05078125\n",
      "notMNIST score: 0.4735576923076923\n",
      "standard OCR score: 0.19910567192280537\n",
      "EMNIST score: 0.3167763157894737\n",
      "Aggregate score: 0.28639376218323587\n",
      "------\n",
      "n_components: 41\n"
     ]
    },
    {
     "name": "stderr",
     "output_type": "stream",
     "text": [
      "/Users/jerry/mambaforge/envs/ece271bpr/lib/python3.10/site-packages/sklearn/linear_model/_logistic.py:469: ConvergenceWarning: lbfgs failed to converge (status=1):\n",
      "STOP: TOTAL NO. of ITERATIONS REACHED LIMIT.\n",
      "\n",
      "Increase the number of iterations (max_iter) or scale the data as shown in:\n",
      "    https://scikit-learn.org/stable/modules/preprocessing.html\n",
      "Please also refer to the documentation for alternative solver options:\n",
      "    https://scikit-learn.org/stable/modules/linear_model.html#logistic-regression\n",
      "  n_iter_i = _check_optimize_result(\n"
     ]
    },
    {
     "name": "stdout",
     "output_type": "stream",
     "text": [
      "Logistic Regression training took: 5.680129051208496 sec.\n",
      "\n",
      "Model testing took: 0.07049989700317383 sec.\n",
      "\n",
      "handwritten-isolated score: 0.046875\n",
      "notMNIST score: 0.47489316239316237\n",
      "standard OCR score: 0.20875500117674747\n",
      "EMNIST score: 0.31546052631578947\n",
      "Aggregate score: 0.28912280701754384\n",
      "------\n",
      "n_components: 42\n"
     ]
    },
    {
     "name": "stderr",
     "output_type": "stream",
     "text": [
      "/Users/jerry/mambaforge/envs/ece271bpr/lib/python3.10/site-packages/sklearn/linear_model/_logistic.py:469: ConvergenceWarning: lbfgs failed to converge (status=1):\n",
      "STOP: TOTAL NO. of ITERATIONS REACHED LIMIT.\n",
      "\n",
      "Increase the number of iterations (max_iter) or scale the data as shown in:\n",
      "    https://scikit-learn.org/stable/modules/preprocessing.html\n",
      "Please also refer to the documentation for alternative solver options:\n",
      "    https://scikit-learn.org/stable/modules/linear_model.html#logistic-regression\n",
      "  n_iter_i = _check_optimize_result(\n"
     ]
    },
    {
     "name": "stdout",
     "output_type": "stream",
     "text": [
      "Logistic Regression training took: 5.4852001667022705 sec.\n",
      "\n",
      "Model testing took: 0.11042594909667969 sec.\n",
      "\n",
      "handwritten-isolated score: 0.04966517857142857\n",
      "notMNIST score: 0.4722222222222222\n",
      "standard OCR score: 0.20946104965874324\n",
      "EMNIST score: 0.3194078947368421\n",
      "Aggregate score: 0.28990253411306044\n",
      "------\n",
      "n_components: 43\n"
     ]
    },
    {
     "name": "stderr",
     "output_type": "stream",
     "text": [
      "/Users/jerry/mambaforge/envs/ece271bpr/lib/python3.10/site-packages/sklearn/linear_model/_logistic.py:469: ConvergenceWarning: lbfgs failed to converge (status=1):\n",
      "STOP: TOTAL NO. of ITERATIONS REACHED LIMIT.\n",
      "\n",
      "Increase the number of iterations (max_iter) or scale the data as shown in:\n",
      "    https://scikit-learn.org/stable/modules/preprocessing.html\n",
      "Please also refer to the documentation for alternative solver options:\n",
      "    https://scikit-learn.org/stable/modules/linear_model.html#logistic-regression\n",
      "  n_iter_i = _check_optimize_result(\n"
     ]
    },
    {
     "name": "stdout",
     "output_type": "stream",
     "text": [
      "Logistic Regression training took: 6.3308069705963135 sec.\n",
      "\n",
      "Model testing took: 0.04949498176574707 sec.\n",
      "\n",
      "handwritten-isolated score: 0.05524553571428571\n",
      "notMNIST score: 0.4807692307692308\n",
      "standard OCR score: 0.21110849611673335\n",
      "EMNIST score: 0.31743421052631576\n",
      "Aggregate score: 0.29325536062378166\n",
      "------\n",
      "n_components: 44\n"
     ]
    },
    {
     "name": "stderr",
     "output_type": "stream",
     "text": [
      "/Users/jerry/mambaforge/envs/ece271bpr/lib/python3.10/site-packages/sklearn/linear_model/_logistic.py:469: ConvergenceWarning: lbfgs failed to converge (status=1):\n",
      "STOP: TOTAL NO. of ITERATIONS REACHED LIMIT.\n",
      "\n",
      "Increase the number of iterations (max_iter) or scale the data as shown in:\n",
      "    https://scikit-learn.org/stable/modules/preprocessing.html\n",
      "Please also refer to the documentation for alternative solver options:\n",
      "    https://scikit-learn.org/stable/modules/linear_model.html#logistic-regression\n",
      "  n_iter_i = _check_optimize_result(\n"
     ]
    },
    {
     "name": "stdout",
     "output_type": "stream",
     "text": [
      "Logistic Regression training took: 5.330359935760498 sec.\n",
      "\n",
      "Model testing took: 0.03723883628845215 sec.\n",
      "\n",
      "handwritten-isolated score: 0.05357142857142857\n",
      "notMNIST score: 0.47836538461538464\n",
      "standard OCR score: 0.21628618498470228\n",
      "EMNIST score: 0.3203947368421053\n",
      "Aggregate score: 0.29473684210526313\n",
      "------\n",
      "n_components: 45\n"
     ]
    },
    {
     "name": "stderr",
     "output_type": "stream",
     "text": [
      "/Users/jerry/mambaforge/envs/ece271bpr/lib/python3.10/site-packages/sklearn/linear_model/_logistic.py:469: ConvergenceWarning: lbfgs failed to converge (status=1):\n",
      "STOP: TOTAL NO. of ITERATIONS REACHED LIMIT.\n",
      "\n",
      "Increase the number of iterations (max_iter) or scale the data as shown in:\n",
      "    https://scikit-learn.org/stable/modules/preprocessing.html\n",
      "Please also refer to the documentation for alternative solver options:\n",
      "    https://scikit-learn.org/stable/modules/linear_model.html#logistic-regression\n",
      "  n_iter_i = _check_optimize_result(\n"
     ]
    },
    {
     "name": "stdout",
     "output_type": "stream",
     "text": [
      "Logistic Regression training took: 5.978806018829346 sec.\n",
      "\n",
      "Model testing took: 0.05252408981323242 sec.\n",
      "\n",
      "handwritten-isolated score: 0.052455357142857144\n",
      "notMNIST score: 0.4740918803418803\n",
      "standard OCR score: 0.22122852435867263\n",
      "EMNIST score: 0.3213815789473684\n",
      "Aggregate score: 0.2952046783625731\n",
      "------\n",
      "n_components: 46\n"
     ]
    },
    {
     "name": "stderr",
     "output_type": "stream",
     "text": [
      "/Users/jerry/mambaforge/envs/ece271bpr/lib/python3.10/site-packages/sklearn/linear_model/_logistic.py:469: ConvergenceWarning: lbfgs failed to converge (status=1):\n",
      "STOP: TOTAL NO. of ITERATIONS REACHED LIMIT.\n",
      "\n",
      "Increase the number of iterations (max_iter) or scale the data as shown in:\n",
      "    https://scikit-learn.org/stable/modules/preprocessing.html\n",
      "Please also refer to the documentation for alternative solver options:\n",
      "    https://scikit-learn.org/stable/modules/linear_model.html#logistic-regression\n",
      "  n_iter_i = _check_optimize_result(\n"
     ]
    },
    {
     "name": "stdout",
     "output_type": "stream",
     "text": [
      "Logistic Regression training took: 6.9511659145355225 sec.\n",
      "\n",
      "Model testing took: 0.04298806190490723 sec.\n",
      "\n",
      "handwritten-isolated score: 0.05357142857142857\n",
      "notMNIST score: 0.4909188034188034\n",
      "standard OCR score: 0.21911037891268534\n",
      "EMNIST score: 0.32105263157894737\n",
      "Aggregate score: 0.29949317738791426\n",
      "------\n",
      "n_components: 47\n"
     ]
    },
    {
     "name": "stderr",
     "output_type": "stream",
     "text": [
      "/Users/jerry/mambaforge/envs/ece271bpr/lib/python3.10/site-packages/sklearn/linear_model/_logistic.py:469: ConvergenceWarning: lbfgs failed to converge (status=1):\n",
      "STOP: TOTAL NO. of ITERATIONS REACHED LIMIT.\n",
      "\n",
      "Increase the number of iterations (max_iter) or scale the data as shown in:\n",
      "    https://scikit-learn.org/stable/modules/preprocessing.html\n",
      "Please also refer to the documentation for alternative solver options:\n",
      "    https://scikit-learn.org/stable/modules/linear_model.html#logistic-regression\n",
      "  n_iter_i = _check_optimize_result(\n"
     ]
    },
    {
     "name": "stdout",
     "output_type": "stream",
     "text": [
      "Logistic Regression training took: 6.775940179824829 sec.\n",
      "\n",
      "Model testing took: 0.06799912452697754 sec.\n",
      "\n",
      "handwritten-isolated score: 0.05524553571428571\n",
      "notMNIST score: 0.4855769230769231\n",
      "standard OCR score: 0.22405271828665568\n",
      "EMNIST score: 0.3269736842105263\n",
      "Aggregate score: 0.3012085769980507\n",
      "------\n",
      "n_components: 48\n"
     ]
    },
    {
     "name": "stderr",
     "output_type": "stream",
     "text": [
      "/Users/jerry/mambaforge/envs/ece271bpr/lib/python3.10/site-packages/sklearn/linear_model/_logistic.py:469: ConvergenceWarning: lbfgs failed to converge (status=1):\n",
      "STOP: TOTAL NO. of ITERATIONS REACHED LIMIT.\n",
      "\n",
      "Increase the number of iterations (max_iter) or scale the data as shown in:\n",
      "    https://scikit-learn.org/stable/modules/preprocessing.html\n",
      "Please also refer to the documentation for alternative solver options:\n",
      "    https://scikit-learn.org/stable/modules/linear_model.html#logistic-regression\n",
      "  n_iter_i = _check_optimize_result(\n"
     ]
    },
    {
     "name": "stdout",
     "output_type": "stream",
     "text": [
      "Logistic Regression training took: 6.472879886627197 sec.\n",
      "\n",
      "Model testing took: 0.05425381660461426 sec.\n",
      "\n",
      "handwritten-isolated score: 0.0546875\n",
      "notMNIST score: 0.48691239316239315\n",
      "standard OCR score: 0.22499411626265003\n",
      "EMNIST score: 0.3269736842105263\n",
      "Aggregate score: 0.30183235867446395\n",
      "------\n",
      "n_components: 49\n"
     ]
    },
    {
     "name": "stderr",
     "output_type": "stream",
     "text": [
      "/Users/jerry/mambaforge/envs/ece271bpr/lib/python3.10/site-packages/sklearn/linear_model/_logistic.py:469: ConvergenceWarning: lbfgs failed to converge (status=1):\n",
      "STOP: TOTAL NO. of ITERATIONS REACHED LIMIT.\n",
      "\n",
      "Increase the number of iterations (max_iter) or scale the data as shown in:\n",
      "    https://scikit-learn.org/stable/modules/preprocessing.html\n",
      "Please also refer to the documentation for alternative solver options:\n",
      "    https://scikit-learn.org/stable/modules/linear_model.html#logistic-regression\n",
      "  n_iter_i = _check_optimize_result(\n"
     ]
    },
    {
     "name": "stdout",
     "output_type": "stream",
     "text": [
      "Logistic Regression training took: 6.923567056655884 sec.\n",
      "\n",
      "Model testing took: 0.09111499786376953 sec.\n",
      "\n",
      "handwritten-isolated score: 0.05580357142857143\n",
      "notMNIST score: 0.48824786324786323\n",
      "standard OCR score: 0.2332313485526006\n",
      "EMNIST score: 0.32861842105263156\n",
      "Aggregate score: 0.3054970760233918\n",
      "------\n",
      "n_components: 50\n"
     ]
    },
    {
     "name": "stderr",
     "output_type": "stream",
     "text": [
      "/Users/jerry/mambaforge/envs/ece271bpr/lib/python3.10/site-packages/sklearn/linear_model/_logistic.py:469: ConvergenceWarning: lbfgs failed to converge (status=1):\n",
      "STOP: TOTAL NO. of ITERATIONS REACHED LIMIT.\n",
      "\n",
      "Increase the number of iterations (max_iter) or scale the data as shown in:\n",
      "    https://scikit-learn.org/stable/modules/preprocessing.html\n",
      "Please also refer to the documentation for alternative solver options:\n",
      "    https://scikit-learn.org/stable/modules/linear_model.html#logistic-regression\n",
      "  n_iter_i = _check_optimize_result(\n"
     ]
    },
    {
     "name": "stdout",
     "output_type": "stream",
     "text": [
      "Logistic Regression training took: 8.017869234085083 sec.\n",
      "\n",
      "Model testing took: 0.09419798851013184 sec.\n",
      "\n",
      "handwritten-isolated score: 0.05357142857142857\n",
      "notMNIST score: 0.48664529914529914\n",
      "standard OCR score: 0.23817368792657095\n",
      "EMNIST score: 0.33092105263157895\n",
      "Aggregate score: 0.3069005847953216\n",
      "------\n",
      "n_components: 51\n"
     ]
    },
    {
     "name": "stderr",
     "output_type": "stream",
     "text": [
      "/Users/jerry/mambaforge/envs/ece271bpr/lib/python3.10/site-packages/sklearn/linear_model/_logistic.py:469: ConvergenceWarning: lbfgs failed to converge (status=1):\n",
      "STOP: TOTAL NO. of ITERATIONS REACHED LIMIT.\n",
      "\n",
      "Increase the number of iterations (max_iter) or scale the data as shown in:\n",
      "    https://scikit-learn.org/stable/modules/preprocessing.html\n",
      "Please also refer to the documentation for alternative solver options:\n",
      "    https://scikit-learn.org/stable/modules/linear_model.html#logistic-regression\n",
      "  n_iter_i = _check_optimize_result(\n"
     ]
    },
    {
     "name": "stdout",
     "output_type": "stream",
     "text": [
      "Logistic Regression training took: 6.937790870666504 sec.\n",
      "\n",
      "Model testing took: 0.09687113761901855 sec.\n",
      "\n",
      "handwritten-isolated score: 0.049107142857142856\n",
      "notMNIST score: 0.49011752136752135\n",
      "standard OCR score: 0.24546952224052718\n",
      "EMNIST score: 0.33421052631578946\n",
      "Aggregate score: 0.31048732943469787\n",
      "------\n",
      "n_components: 52\n"
     ]
    },
    {
     "name": "stderr",
     "output_type": "stream",
     "text": [
      "/Users/jerry/mambaforge/envs/ece271bpr/lib/python3.10/site-packages/sklearn/linear_model/_logistic.py:469: ConvergenceWarning: lbfgs failed to converge (status=1):\n",
      "STOP: TOTAL NO. of ITERATIONS REACHED LIMIT.\n",
      "\n",
      "Increase the number of iterations (max_iter) or scale the data as shown in:\n",
      "    https://scikit-learn.org/stable/modules/preprocessing.html\n",
      "Please also refer to the documentation for alternative solver options:\n",
      "    https://scikit-learn.org/stable/modules/linear_model.html#logistic-regression\n",
      "  n_iter_i = _check_optimize_result(\n"
     ]
    },
    {
     "name": "stdout",
     "output_type": "stream",
     "text": [
      "Logistic Regression training took: 4.7055699825286865 sec.\n",
      "\n",
      "Model testing took: 0.05077004432678223 sec.\n",
      "\n",
      "handwritten-isolated score: 0.05022321428571429\n",
      "notMNIST score: 0.49145299145299143\n",
      "standard OCR score: 0.2504118616144975\n",
      "EMNIST score: 0.3361842105263158\n",
      "Aggregate score: 0.3131384015594542\n",
      "------\n",
      "n_components: 53\n"
     ]
    },
    {
     "name": "stderr",
     "output_type": "stream",
     "text": [
      "/Users/jerry/mambaforge/envs/ece271bpr/lib/python3.10/site-packages/sklearn/linear_model/_logistic.py:469: ConvergenceWarning: lbfgs failed to converge (status=1):\n",
      "STOP: TOTAL NO. of ITERATIONS REACHED LIMIT.\n",
      "\n",
      "Increase the number of iterations (max_iter) or scale the data as shown in:\n",
      "    https://scikit-learn.org/stable/modules/preprocessing.html\n",
      "Please also refer to the documentation for alternative solver options:\n",
      "    https://scikit-learn.org/stable/modules/linear_model.html#logistic-regression\n",
      "  n_iter_i = _check_optimize_result(\n"
     ]
    },
    {
     "name": "stdout",
     "output_type": "stream",
     "text": [
      "Logistic Regression training took: 4.67460298538208 sec.\n",
      "\n",
      "Model testing took: 0.06519079208374023 sec.\n",
      "\n",
      "handwritten-isolated score: 0.05133928571428571\n",
      "notMNIST score: 0.4890491452991453\n",
      "standard OCR score: 0.253000706048482\n",
      "EMNIST score: 0.3371710526315789\n",
      "Aggregate score: 0.3136842105263158\n",
      "------\n",
      "n_components: 54\n"
     ]
    },
    {
     "name": "stderr",
     "output_type": "stream",
     "text": [
      "/Users/jerry/mambaforge/envs/ece271bpr/lib/python3.10/site-packages/sklearn/linear_model/_logistic.py:469: ConvergenceWarning: lbfgs failed to converge (status=1):\n",
      "STOP: TOTAL NO. of ITERATIONS REACHED LIMIT.\n",
      "\n",
      "Increase the number of iterations (max_iter) or scale the data as shown in:\n",
      "    https://scikit-learn.org/stable/modules/preprocessing.html\n",
      "Please also refer to the documentation for alternative solver options:\n",
      "    https://scikit-learn.org/stable/modules/linear_model.html#logistic-regression\n",
      "  n_iter_i = _check_optimize_result(\n"
     ]
    },
    {
     "name": "stdout",
     "output_type": "stream",
     "text": [
      "Logistic Regression training took: 4.520593881607056 sec.\n",
      "\n",
      "Model testing took: 0.042088985443115234 sec.\n",
      "\n",
      "handwritten-isolated score: 0.048549107142857144\n",
      "notMNIST score: 0.49572649572649574\n",
      "standard OCR score: 0.25582489997646507\n",
      "EMNIST score: 0.3401315789473684\n",
      "Aggregate score: 0.3168810916179337\n",
      "------\n",
      "n_components: 55\n"
     ]
    },
    {
     "name": "stderr",
     "output_type": "stream",
     "text": [
      "/Users/jerry/mambaforge/envs/ece271bpr/lib/python3.10/site-packages/sklearn/linear_model/_logistic.py:469: ConvergenceWarning: lbfgs failed to converge (status=1):\n",
      "STOP: TOTAL NO. of ITERATIONS REACHED LIMIT.\n",
      "\n",
      "Increase the number of iterations (max_iter) or scale the data as shown in:\n",
      "    https://scikit-learn.org/stable/modules/preprocessing.html\n",
      "Please also refer to the documentation for alternative solver options:\n",
      "    https://scikit-learn.org/stable/modules/linear_model.html#logistic-regression\n",
      "  n_iter_i = _check_optimize_result(\n"
     ]
    },
    {
     "name": "stdout",
     "output_type": "stream",
     "text": [
      "Logistic Regression training took: 5.041200876235962 sec.\n",
      "\n",
      "Model testing took: 0.05400490760803223 sec.\n",
      "\n",
      "handwritten-isolated score: 0.045200892857142856\n",
      "notMNIST score: 0.4949252136752137\n",
      "standard OCR score: 0.2588844433984467\n",
      "EMNIST score: 0.33980263157894736\n",
      "Aggregate score: 0.3171150097465887\n",
      "------\n",
      "n_components: 56\n"
     ]
    },
    {
     "name": "stderr",
     "output_type": "stream",
     "text": [
      "/Users/jerry/mambaforge/envs/ece271bpr/lib/python3.10/site-packages/sklearn/linear_model/_logistic.py:469: ConvergenceWarning: lbfgs failed to converge (status=1):\n",
      "STOP: TOTAL NO. of ITERATIONS REACHED LIMIT.\n",
      "\n",
      "Increase the number of iterations (max_iter) or scale the data as shown in:\n",
      "    https://scikit-learn.org/stable/modules/preprocessing.html\n",
      "Please also refer to the documentation for alternative solver options:\n",
      "    https://scikit-learn.org/stable/modules/linear_model.html#logistic-regression\n",
      "  n_iter_i = _check_optimize_result(\n"
     ]
    },
    {
     "name": "stdout",
     "output_type": "stream",
     "text": [
      "Logistic Regression training took: 5.601222991943359 sec.\n",
      "\n",
      "Model testing took: 0.03617715835571289 sec.\n",
      "\n",
      "handwritten-isolated score: 0.045200892857142856\n",
      "notMNIST score: 0.5024038461538461\n",
      "standard OCR score: 0.2591197928924453\n",
      "EMNIST score: 0.3430921052631579\n",
      "Aggregate score: 0.3201559454191033\n",
      "------\n",
      "n_components: 57\n"
     ]
    },
    {
     "name": "stderr",
     "output_type": "stream",
     "text": [
      "/Users/jerry/mambaforge/envs/ece271bpr/lib/python3.10/site-packages/sklearn/linear_model/_logistic.py:469: ConvergenceWarning: lbfgs failed to converge (status=1):\n",
      "STOP: TOTAL NO. of ITERATIONS REACHED LIMIT.\n",
      "\n",
      "Increase the number of iterations (max_iter) or scale the data as shown in:\n",
      "    https://scikit-learn.org/stable/modules/preprocessing.html\n",
      "Please also refer to the documentation for alternative solver options:\n",
      "    https://scikit-learn.org/stable/modules/linear_model.html#logistic-regression\n",
      "  n_iter_i = _check_optimize_result(\n"
     ]
    },
    {
     "name": "stdout",
     "output_type": "stream",
     "text": [
      "Logistic Regression training took: 4.636379241943359 sec.\n",
      "\n",
      "Model testing took: 0.04970383644104004 sec.\n",
      "\n",
      "handwritten-isolated score: 0.040736607142857144\n",
      "notMNIST score: 0.49732905982905984\n",
      "standard OCR score: 0.25817839491645095\n",
      "EMNIST score: 0.34375\n",
      "Aggregate score: 0.3178947368421053\n",
      "------\n",
      "n_components: 58\n"
     ]
    },
    {
     "name": "stderr",
     "output_type": "stream",
     "text": [
      "/Users/jerry/mambaforge/envs/ece271bpr/lib/python3.10/site-packages/sklearn/linear_model/_logistic.py:469: ConvergenceWarning: lbfgs failed to converge (status=1):\n",
      "STOP: TOTAL NO. of ITERATIONS REACHED LIMIT.\n",
      "\n",
      "Increase the number of iterations (max_iter) or scale the data as shown in:\n",
      "    https://scikit-learn.org/stable/modules/preprocessing.html\n",
      "Please also refer to the documentation for alternative solver options:\n",
      "    https://scikit-learn.org/stable/modules/linear_model.html#logistic-regression\n",
      "  n_iter_i = _check_optimize_result(\n"
     ]
    },
    {
     "name": "stdout",
     "output_type": "stream",
     "text": [
      "Logistic Regression training took: 5.499812841415405 sec.\n",
      "\n",
      "Model testing took: 0.06538009643554688 sec.\n",
      "\n",
      "handwritten-isolated score: 0.04575892857142857\n",
      "notMNIST score: 0.49759615384615385\n",
      "standard OCR score: 0.26123793833843256\n",
      "EMNIST score: 0.3450657894736842\n",
      "Aggregate score: 0.32\n",
      "------\n",
      "n_components: 59\n",
      "Logistic Regression training took: 5.29203987121582 sec.\n",
      "\n",
      "Model testing took: 0.0463559627532959 sec.\n",
      "\n",
      "handwritten-isolated score: 0.044642857142857144\n",
      "notMNIST score: 0.49919871794871795\n",
      "standard OCR score: 0.26006119086843965\n",
      "EMNIST score: 0.3404605263157895\n",
      "Aggregate score: 0.31883040935672513\n",
      "------\n"
     ]
    },
    {
     "name": "stderr",
     "output_type": "stream",
     "text": [
      "/Users/jerry/mambaforge/envs/ece271bpr/lib/python3.10/site-packages/sklearn/linear_model/_logistic.py:469: ConvergenceWarning: lbfgs failed to converge (status=1):\n",
      "STOP: TOTAL NO. of ITERATIONS REACHED LIMIT.\n",
      "\n",
      "Increase the number of iterations (max_iter) or scale the data as shown in:\n",
      "    https://scikit-learn.org/stable/modules/preprocessing.html\n",
      "Please also refer to the documentation for alternative solver options:\n",
      "    https://scikit-learn.org/stable/modules/linear_model.html#logistic-regression\n",
      "  n_iter_i = _check_optimize_result(\n"
     ]
    }
   ],
   "source": [
    "logreg_rgp_results = test_trf_models(create_logreg, rgptrf_funcs, 2, 59)"
   ]
  },
  {
   "cell_type": "code",
   "execution_count": 303,
   "metadata": {},
   "outputs": [
    {
     "data": {
      "text/plain": [
       "0.3201559454191033"
      ]
     },
     "execution_count": 303,
     "metadata": {},
     "output_type": "execute_result"
    }
   ],
   "source": [
    "np.max(logreg_rgp_results[\"aggscores\"])"
   ]
  },
  {
   "cell_type": "code",
   "execution_count": 304,
   "metadata": {},
   "outputs": [
    {
     "data": {
      "image/png": "[encoded data removed]",
      "text/plain": [
       "<Figure size 640x480 with 1 Axes>"
      ]
     },
     "metadata": {},
     "output_type": "display_data"
    }
   ],
   "source": [
    "plot_scores(logreg_rgp_results, range(2, 60), title=\"RGP for logistic regression classification\")"
   ]
  },
  {
   "cell_type": "markdown",
   "metadata": {},
   "source": [
    "### KNN"
   ]
  },
  {
   "cell_type": "code",
   "execution_count": 305,
   "metadata": {},
   "outputs": [
    {
     "name": "stdout",
     "output_type": "stream",
     "text": [
      "n_components: 2\n"
     ]
    },
    {
     "name": "stdout",
     "output_type": "stream",
     "text": [
      "KNN training took: 0.1815030574798584 sec.\n",
      "\n",
      "Model testing took: 0.19801783561706543 sec.\n",
      "\n",
      "handwritten-isolated score: 0.23604910714285715\n",
      "notMNIST score: 0.06677350427350427\n",
      "standard OCR score: 0.03318427865380089\n",
      "EMNIST score: 0.07664473684210527\n",
      "Aggregate score: 0.0816374269005848\n",
      "------\n",
      "n_components: 3\n",
      "KNN training took: 0.1156010627746582 sec.\n",
      "\n",
      "Model testing took: 0.21065187454223633 sec.\n",
      "\n",
      "handwritten-isolated score: 0.27901785714285715\n",
      "notMNIST score: 0.11004273504273504\n",
      "standard OCR score: 0.06072016945163568\n",
      "EMNIST score: 0.10625\n",
      "Aggregate score: 0.11641325536062379\n",
      "------\n",
      "n_components: 4\n",
      "KNN training took: 0.10764098167419434 sec.\n",
      "\n",
      "Model testing took: 0.23465180397033691 sec.\n",
      "\n",
      "handwritten-isolated score: 0.35323660714285715\n",
      "notMNIST score: 0.18803418803418803\n",
      "standard OCR score: 0.10261237938338433\n",
      "EMNIST score: 0.1375\n",
      "Aggregate score: 0.17083820662768032\n",
      "------\n",
      "n_components: 5\n",
      "KNN training took: 0.1099851131439209 sec.\n",
      "\n",
      "Model testing took: 0.3023550510406494 sec.\n",
      "\n",
      "handwritten-isolated score: 0.4056919642857143\n",
      "notMNIST score: 0.23477564102564102\n",
      "standard OCR score: 0.16474464579901152\n",
      "EMNIST score: 0.16019736842105264\n",
      "Aggregate score: 0.21777777777777776\n",
      "------\n",
      "n_components: 6\n",
      "KNN training took: 0.12357091903686523 sec.\n",
      "\n",
      "Model testing took: 0.3744809627532959 sec.\n",
      "\n",
      "handwritten-isolated score: 0.42020089285714285\n",
      "notMNIST score: 0.28205128205128205\n",
      "standard OCR score: 0.2504118616144975\n",
      "EMNIST score: 0.19473684210526315\n",
      "Aggregate score: 0.27017543859649124\n",
      "------\n",
      "n_components: 7\n",
      "KNN training took: 0.11556577682495117 sec.\n",
      "\n",
      "Model testing took: 0.5125248432159424 sec.\n",
      "\n",
      "handwritten-isolated score: 0.4575892857142857\n",
      "notMNIST score: 0.3189102564102564\n",
      "standard OCR score: 0.33654977641798073\n",
      "EMNIST score: 0.22532894736842105\n",
      "Aggregate score: 0.32194931773879143\n",
      "------\n",
      "n_components: 8\n",
      "KNN training took: 0.138596773147583 sec.\n",
      "\n",
      "Model testing took: 0.6227920055389404 sec.\n",
      "\n",
      "handwritten-isolated score: 0.4693080357142857\n",
      "notMNIST score: 0.36939102564102566\n",
      "standard OCR score: 0.4393975052953636\n",
      "EMNIST score: 0.24342105263157895\n",
      "Aggregate score: 0.37668615984405457\n",
      "------\n",
      "n_components: 9\n",
      "KNN training took: 0.11823201179504395 sec.\n",
      "\n",
      "Model testing took: 0.8559341430664062 sec.\n",
      "\n",
      "handwritten-isolated score: 0.47823660714285715\n",
      "notMNIST score: 0.4166666666666667\n",
      "standard OCR score: 0.5045893151329724\n",
      "EMNIST score: 0.26842105263157895\n",
      "Aggregate score: 0.4192592592592593\n",
      "------\n",
      "n_components: 10\n",
      "KNN training took: 0.14725518226623535 sec.\n",
      "\n",
      "Model testing took: 1.1756463050842285 sec.\n",
      "\n",
      "handwritten-isolated score: 0.4849330357142857\n",
      "notMNIST score: 0.4516559829059829\n",
      "standard OCR score: 0.5693104259825842\n",
      "EMNIST score: 0.2855263157894737\n",
      "Aggregate score: 0.45590643274853804\n",
      "------\n",
      "n_components: 11\n",
      "KNN training took: 0.15455198287963867 sec.\n",
      "\n",
      "Model testing took: 1.5371041297912598 sec.\n",
      "\n",
      "handwritten-isolated score: 0.49386160714285715\n",
      "notMNIST score: 0.4738247863247863\n",
      "standard OCR score: 0.6170863732642975\n",
      "EMNIST score: 0.3069078947368421\n",
      "Aggregate score: 0.4845224171539961\n",
      "------\n",
      "n_components: 12\n",
      "KNN training took: 0.1302328109741211 sec.\n",
      "\n",
      "Model testing took: 1.8655991554260254 sec.\n",
      "\n",
      "handwritten-isolated score: 0.49720982142857145\n",
      "notMNIST score: 0.5042735042735043\n",
      "standard OCR score: 0.6578018357260532\n",
      "EMNIST score: 0.32730263157894735\n",
      "Aggregate score: 0.5122027290448343\n",
      "------\n",
      "n_components: 13\n",
      "KNN training took: 0.1648409366607666 sec.\n",
      "\n",
      "Model testing took: 2.312995672225952 sec.\n",
      "\n",
      "handwritten-isolated score: 0.49720982142857145\n",
      "notMNIST score: 0.5325854700854701\n",
      "standard OCR score: 0.697340550717816\n",
      "EMNIST score: 0.3401315789473684\n",
      "Aggregate score: 0.536608187134503\n",
      "------\n",
      "n_components: 14\n",
      "KNN training took: 0.16744709014892578 sec.\n",
      "\n",
      "Model testing took: 2.691849946975708 sec.\n",
      "\n",
      "handwritten-isolated score: 0.5022321428571429\n",
      "notMNIST score: 0.5488782051282052\n",
      "standard OCR score: 0.7229936455636621\n",
      "EMNIST score: 0.3549342105263158\n",
      "Aggregate score: 0.554074074074074\n",
      "------\n",
      "n_components: 15\n",
      "KNN training took: 0.14582467079162598 sec.\n",
      "\n",
      "Model testing took: 3.357221841812134 sec.\n",
      "\n",
      "handwritten-isolated score: 0.5150669642857143\n",
      "notMNIST score: 0.5595619658119658\n",
      "standard OCR score: 0.7364085667215815\n",
      "EMNIST score: 0.3828947368421053\n",
      "Aggregate score: 0.5700584795321637\n",
      "------\n",
      "n_components: 16\n",
      "KNN training took: 0.11212992668151855 sec.\n",
      "\n",
      "Model testing took: 0.4428391456604004 sec.\n",
      "\n",
      "handwritten-isolated score: 0.5172991071428571\n",
      "notMNIST score: 0.5710470085470085\n",
      "standard OCR score: 0.7578253706754531\n",
      "EMNIST score: 0.40921052631578947\n",
      "Aggregate score: 0.5870565302144249\n",
      "------\n",
      "n_components: 17\n",
      "KNN training took: 0.11505413055419922 sec.\n",
      "\n",
      "Model testing took: 0.4467289447784424 sec.\n",
      "\n",
      "handwritten-isolated score: 0.5150669642857143\n",
      "notMNIST score: 0.5900106837606838\n",
      "standard OCR score: 0.7533537302894798\n",
      "EMNIST score: 0.43125\n",
      "Aggregate score: 0.5960233918128655\n",
      "------\n",
      "n_components: 18\n",
      "KNN training took: 0.11687994003295898 sec.\n",
      "\n",
      "Model testing took: 0.45132017135620117 sec.\n",
      "\n",
      "handwritten-isolated score: 0.5239955357142857\n",
      "notMNIST score: 0.6113782051282052\n",
      "standard OCR score: 0.7742998352553542\n",
      "EMNIST score: 0.44375\n",
      "Aggregate score: 0.613411306042885\n",
      "------\n",
      "n_components: 19\n",
      "KNN training took: 0.1040949821472168 sec.\n",
      "\n",
      "Model testing took: 0.45647478103637695 sec.\n",
      "\n",
      "handwritten-isolated score: 0.5262276785714286\n",
      "notMNIST score: 0.6268696581196581\n",
      "standard OCR score: 0.7832431160273006\n",
      "EMNIST score: 0.46348684210526314\n",
      "Aggregate score: 0.62588693957115\n",
      "------\n",
      "n_components: 20\n",
      "KNN training took: 0.11912918090820312 sec.\n",
      "\n",
      "Model testing took: 0.46654200553894043 sec.\n",
      "\n",
      "handwritten-isolated score: 0.54296875\n",
      "notMNIST score: 0.6324786324786325\n",
      "standard OCR score: 0.7848905624852907\n",
      "EMNIST score: 0.47269736842105264\n",
      "Aggregate score: 0.6325925925925926\n",
      "------\n",
      "n_components: 21\n",
      "KNN training took: 0.12845110893249512 sec.\n",
      "\n",
      "Model testing took: 0.48436903953552246 sec.\n",
      "\n",
      "handwritten-isolated score: 0.5412946428571429\n",
      "notMNIST score: 0.6423611111111112\n",
      "standard OCR score: 0.7943045422452342\n",
      "EMNIST score: 0.49046052631578946\n",
      "Aggregate score: 0.6425730994152047\n",
      "------\n",
      "n_components: 22\n",
      "KNN training took: 0.12426114082336426 sec.\n",
      "\n",
      "Model testing took: 0.4978358745574951 sec.\n",
      "\n",
      "handwritten-isolated score: 0.5318080357142857\n",
      "notMNIST score: 0.6519764957264957\n",
      "standard OCR score: 0.8060720169451636\n",
      "EMNIST score: 0.5052631578947369\n",
      "Aggregate score: 0.6514619883040935\n",
      "------\n",
      "n_components: 23\n",
      "KNN training took: 0.121124267578125 sec.\n",
      "\n",
      "Model testing took: 0.5117630958557129 sec.\n",
      "\n",
      "handwritten-isolated score: 0.5373883928571429\n",
      "notMNIST score: 0.6589209401709402\n",
      "standard OCR score: 0.8096022593551424\n",
      "EMNIST score: 0.5131578947368421\n",
      "Aggregate score: 0.6573099415204678\n",
      "------\n",
      "n_components: 24\n",
      "KNN training took: 0.1468808650970459 sec.\n",
      "\n",
      "Model testing took: 0.4988059997558594 sec.\n",
      "\n",
      "handwritten-isolated score: 0.5334821428571429\n",
      "notMNIST score: 0.6663995726495726\n",
      "standard OCR score: 0.8187808896210873\n",
      "EMNIST score: 0.5200657894736842\n",
      "Aggregate score: 0.663625730994152\n",
      "------\n",
      "n_components: 25\n",
      "KNN training took: 0.16294503211975098 sec.\n",
      "\n",
      "Model testing took: 0.5050818920135498 sec.\n",
      "\n",
      "handwritten-isolated score: 0.5401785714285714\n",
      "notMNIST score: 0.6682692307692307\n",
      "standard OCR score: 0.8225464815250647\n",
      "EMNIST score: 0.5194078947368421\n",
      "Aggregate score: 0.6661988304093567\n",
      "------\n",
      "n_components: 26\n",
      "KNN training took: 0.13750886917114258 sec.\n",
      "\n",
      "Model testing took: 0.5176780223846436 sec.\n",
      "\n",
      "handwritten-isolated score: 0.546875\n",
      "notMNIST score: 0.6784188034188035\n",
      "standard OCR score: 0.8244292774770534\n",
      "EMNIST score: 0.5269736842105263\n",
      "Aggregate score: 0.672514619883041\n",
      "------\n",
      "n_components: 27\n",
      "KNN training took: 0.15274906158447266 sec.\n",
      "\n",
      "Model testing took: 0.5297188758850098 sec.\n",
      "\n",
      "handwritten-isolated score: 0.546875\n",
      "notMNIST score: 0.6850961538461539\n",
      "standard OCR score: 0.8227818310190633\n",
      "EMNIST score: 0.5384868421052632\n",
      "Aggregate score: 0.6766471734892787\n",
      "------\n",
      "n_components: 28\n",
      "KNN training took: 0.14886879920959473 sec.\n",
      "\n",
      "Model testing took: 0.5257339477539062 sec.\n",
      "\n",
      "handwritten-isolated score: 0.5541294642857143\n",
      "notMNIST score: 0.6925747863247863\n",
      "standard OCR score: 0.8244292774770534\n",
      "EMNIST score: 0.5526315789473685\n",
      "Aggregate score: 0.6837426900584795\n",
      "------\n",
      "n_components: 29\n",
      "KNN training took: 0.14829301834106445 sec.\n",
      "\n",
      "Model testing took: 0.5353598594665527 sec.\n",
      "\n",
      "handwritten-isolated score: 0.5552455357142857\n",
      "notMNIST score: 0.7000534188034188\n",
      "standard OCR score: 0.8267827724170393\n",
      "EMNIST score: 0.5598684210526316\n",
      "Aggregate score: 0.6885769980506823\n",
      "------\n",
      "n_components: 30\n",
      "KNN training took: 0.1389472484588623 sec.\n",
      "\n",
      "Model testing took: 0.5332880020141602 sec.\n",
      "\n",
      "handwritten-isolated score: 0.5485491071428571\n",
      "notMNIST score: 0.7035256410256411\n",
      "standard OCR score: 0.8361967521769829\n",
      "EMNIST score: 0.5671052631578948\n",
      "Aggregate score: 0.6934892787524366\n",
      "------\n",
      "n_components: 31\n",
      "KNN training took: 0.13795685768127441 sec.\n",
      "\n",
      "Model testing took: 0.5461351871490479 sec.\n",
      "\n",
      "handwritten-isolated score: 0.55078125\n",
      "notMNIST score: 0.7003205128205128\n",
      "standard OCR score: 0.8380795481289716\n",
      "EMNIST score: 0.5657894736842105\n",
      "Aggregate score: 0.69317738791423\n",
      "------\n",
      "n_components: 32\n",
      "KNN training took: 0.1638169288635254 sec.\n",
      "\n",
      "Model testing took: 0.550238847732544 sec.\n",
      "\n",
      "handwritten-isolated score: 0.55078125\n",
      "notMNIST score: 0.7037927350427351\n",
      "standard OCR score: 0.840668392562956\n",
      "EMNIST score: 0.5710526315789474\n",
      "Aggregate score: 0.6962962962962963\n",
      "------\n",
      "n_components: 33\n",
      "KNN training took: 0.14264798164367676 sec.\n",
      "\n",
      "Model testing took: 0.5650300979614258 sec.\n",
      "\n",
      "handwritten-isolated score: 0.55078125\n",
      "notMNIST score: 0.7069978632478633\n",
      "standard OCR score: 0.8449046834549305\n",
      "EMNIST score: 0.5759868421052632\n",
      "Aggregate score: 0.6998050682261209\n",
      "------\n",
      "n_components: 34\n",
      "KNN training took: 0.1472771167755127 sec.\n",
      "\n",
      "Model testing took: 0.5592870712280273 sec.\n",
      "\n",
      "handwritten-isolated score: 0.5424107142857143\n",
      "notMNIST score: 0.7139423076923077\n",
      "standard OCR score: 0.8460814309249235\n",
      "EMNIST score: 0.5763157894736842\n",
      "Aggregate score: 0.701130604288499\n",
      "------\n",
      "n_components: 35\n",
      "KNN training took: 0.1675419807434082 sec.\n",
      "\n",
      "Model testing took: 0.5722339153289795 sec.\n",
      "\n",
      "handwritten-isolated score: 0.5513392857142857\n",
      "notMNIST score: 0.7152777777777778\n",
      "standard OCR score: 0.8477288773829136\n",
      "EMNIST score: 0.5842105263157895\n",
      "Aggregate score: 0.7051851851851851\n",
      "------\n",
      "n_components: 36\n",
      "KNN training took: 0.13483905792236328 sec.\n",
      "\n",
      "Model testing took: 0.5842399597167969 sec.\n",
      "\n",
      "handwritten-isolated score: 0.5619419642857143\n",
      "notMNIST score: 0.7222222222222222\n",
      "standard OCR score: 0.8451400329489291\n",
      "EMNIST score: 0.5930921052631579\n",
      "Aggregate score: 0.7099415204678362\n",
      "------\n",
      "n_components: 37\n",
      "KNN training took: 0.14546513557434082 sec.\n",
      "\n",
      "Model testing took: 0.5999157428741455 sec.\n",
      "\n",
      "handwritten-isolated score: 0.5608258928571429\n",
      "notMNIST score: 0.71875\n",
      "standard OCR score: 0.8491409743469052\n",
      "EMNIST score: 0.5953947368421053\n",
      "Aggregate score: 0.7106432748538012\n",
      "------\n",
      "n_components: 38\n",
      "KNN training took: 0.22019314765930176 sec.\n",
      "\n",
      "Model testing took: 0.5835580825805664 sec.\n",
      "\n",
      "handwritten-isolated score: 0.55859375\n",
      "notMNIST score: 0.7163461538461539\n",
      "standard OCR score: 0.8474935278889151\n",
      "EMNIST score: 0.5983552631578948\n",
      "Aggregate score: 0.709785575048733\n",
      "------\n",
      "n_components: 39\n",
      "KNN training took: 0.13523411750793457 sec.\n",
      "\n",
      "Model testing took: 0.6047008037567139 sec.\n",
      "\n",
      "handwritten-isolated score: 0.5591517857142857\n",
      "notMNIST score: 0.7211538461538461\n",
      "standard OCR score: 0.8489056248529065\n",
      "EMNIST score: 0.6046052631578948\n",
      "Aggregate score: 0.7132163742690059\n",
      "------\n",
      "n_components: 40\n",
      "KNN training took: 0.13763189315795898 sec.\n",
      "\n",
      "Model testing took: 0.6202397346496582 sec.\n",
      "\n",
      "handwritten-isolated score: 0.56640625\n",
      "notMNIST score: 0.7200854700854701\n",
      "standard OCR score: 0.8522005177688868\n",
      "EMNIST score: 0.6075657894736842\n",
      "Aggregate score: 0.7157115009746589\n",
      "------\n",
      "n_components: 41\n",
      "KNN training took: 0.13027715682983398 sec.\n",
      "\n",
      "Model testing took: 0.6134779453277588 sec.\n",
      "\n",
      "handwritten-isolated score: 0.5731026785714286\n",
      "notMNIST score: 0.7206196581196581\n",
      "standard OCR score: 0.8583196046128501\n",
      "EMNIST score: 0.6115131578947368\n",
      "Aggregate score: 0.719766081871345\n",
      "------\n",
      "n_components: 42\n",
      "KNN training took: 0.1387040615081787 sec.\n",
      "\n",
      "Model testing took: 0.6227321624755859 sec.\n",
      "\n",
      "handwritten-isolated score: 0.5658482142857143\n",
      "notMNIST score: 0.7267628205128205\n",
      "standard OCR score: 0.8613791480348317\n",
      "EMNIST score: 0.61875\n",
      "Aggregate score: 0.7232748538011696\n",
      "------\n",
      "n_components: 43\n",
      "KNN training took: 0.14116406440734863 sec.\n",
      "\n",
      "Model testing took: 0.6225500106811523 sec.\n",
      "\n",
      "handwritten-isolated score: 0.5658482142857143\n",
      "notMNIST score: 0.7283653846153846\n",
      "standard OCR score: 0.8613791480348317\n",
      "EMNIST score: 0.6240131578947369\n",
      "Aggregate score: 0.7249902534113061\n",
      "------\n",
      "n_components: 44\n",
      "KNN training took: 0.14220309257507324 sec.\n",
      "\n",
      "Model testing took: 0.636132001876831 sec.\n",
      "\n",
      "handwritten-isolated score: 0.5758928571428571\n",
      "notMNIST score: 0.7294337606837606\n",
      "standard OCR score: 0.8616144975288303\n",
      "EMNIST score: 0.6240131578947369\n",
      "Aggregate score: 0.7267836257309942\n",
      "------\n",
      "n_components: 45\n",
      "KNN training took: 0.14381003379821777 sec.\n",
      "\n",
      "Model testing took: 0.6303219795227051 sec.\n",
      "\n",
      "handwritten-isolated score: 0.56640625\n",
      "notMNIST score: 0.7342414529914529\n",
      "standard OCR score: 0.8597317015768416\n",
      "EMNIST score: 0.6240131578947369\n",
      "Aggregate score: 0.7262378167641326\n",
      "------\n",
      "n_components: 46\n",
      "KNN training took: 0.14638519287109375 sec.\n",
      "\n",
      "Model testing took: 0.7073137760162354 sec.\n",
      "\n",
      "handwritten-isolated score: 0.5625\n",
      "notMNIST score: 0.7334401709401709\n",
      "standard OCR score: 0.8616144975288303\n",
      "EMNIST score: 0.6289473684210526\n",
      "Aggregate score: 0.7272514619883041\n",
      "------\n",
      "n_components: 47\n",
      "KNN training took: 0.19748520851135254 sec.\n",
      "\n",
      "Model testing took: 0.6603457927703857 sec.\n",
      "\n",
      "handwritten-isolated score: 0.5675223214285714\n",
      "notMNIST score: 0.7382478632478633\n",
      "standard OCR score: 0.8627912449988232\n",
      "EMNIST score: 0.6351973684210527\n",
      "Aggregate score: 0.7312280701754386\n",
      "------\n",
      "n_components: 48\n",
      "KNN training took: 0.1455678939819336 sec.\n",
      "\n",
      "Model testing took: 0.6597850322723389 sec.\n",
      "\n",
      "handwritten-isolated score: 0.5703125\n",
      "notMNIST score: 0.7406517094017094\n",
      "standard OCR score: 0.8639679924688162\n",
      "EMNIST score: 0.6361842105263158\n",
      "Aggregate score: 0.732943469785575\n",
      "------\n",
      "n_components: 49\n",
      "KNN training took: 0.15112590789794922 sec.\n",
      "\n",
      "Model testing took: 0.6722869873046875 sec.\n",
      "\n",
      "handwritten-isolated score: 0.5714285714285714\n",
      "notMNIST score: 0.7377136752136753\n",
      "standard OCR score: 0.8658507884208049\n",
      "EMNIST score: 0.6375\n",
      "Aggregate score: 0.73317738791423\n",
      "------\n",
      "n_components: 50\n",
      "KNN training took: 0.16695189476013184 sec.\n",
      "\n",
      "Model testing took: 0.6654269695281982 sec.\n",
      "\n",
      "handwritten-isolated score: 0.57421875\n",
      "notMNIST score: 0.7366452991452992\n",
      "standard OCR score: 0.8672628853847965\n",
      "EMNIST score: 0.6358552631578948\n",
      "Aggregate score: 0.7333333333333333\n",
      "------\n",
      "n_components: 51\n",
      "KNN training took: 0.1667780876159668 sec.\n",
      "\n",
      "Model testing took: 0.6814761161804199 sec.\n",
      "\n",
      "handwritten-isolated score: 0.57421875\n",
      "notMNIST score: 0.7361111111111112\n",
      "standard OCR score: 0.8682042833607908\n",
      "EMNIST score: 0.6381578947368421\n",
      "Aggregate score: 0.7340350877192983\n",
      "------\n",
      "n_components: 52\n",
      "KNN training took: 0.16405296325683594 sec.\n",
      "\n",
      "Model testing took: 0.6842329502105713 sec.\n",
      "\n",
      "handwritten-isolated score: 0.5753348214285714\n",
      "notMNIST score: 0.7353098290598291\n",
      "standard OCR score: 0.8670275358907978\n",
      "EMNIST score: 0.6365131578947368\n",
      "Aggregate score: 0.73317738791423\n",
      "------\n",
      "n_components: 53\n",
      "KNN training took: 0.17123675346374512 sec.\n",
      "\n",
      "Model testing took: 0.7030320167541504 sec.\n",
      "\n",
      "handwritten-isolated score: 0.5809151785714286\n",
      "notMNIST score: 0.7395833333333334\n",
      "standard OCR score: 0.8700870793127795\n",
      "EMNIST score: 0.6407894736842106\n",
      "Aggregate score: 0.7372319688109161\n",
      "------\n",
      "n_components: 54\n",
      "KNN training took: 0.16147875785827637 sec.\n",
      "\n",
      "Model testing took: 0.7168431282043457 sec.\n",
      "\n",
      "handwritten-isolated score: 0.5786830357142857\n",
      "notMNIST score: 0.7387820512820513\n",
      "standard OCR score: 0.8710284772887739\n",
      "EMNIST score: 0.6453947368421052\n",
      "Aggregate score: 0.7380896686159844\n",
      "------\n",
      "n_components: 55\n",
      "KNN training took: 0.17444300651550293 sec.\n",
      "\n",
      "Model testing took: 0.7326548099517822 sec.\n",
      "\n",
      "handwritten-isolated score: 0.5708705357142857\n",
      "notMNIST score: 0.7395833333333334\n",
      "standard OCR score: 0.8698517298187809\n",
      "EMNIST score: 0.6536184210526316\n",
      "Aggregate score: 0.7387914230019493\n",
      "------\n",
      "n_components: 56\n",
      "KNN training took: 0.1710829734802246 sec.\n",
      "\n",
      "Model testing took: 0.7345328330993652 sec.\n",
      "\n",
      "handwritten-isolated score: 0.5758928571428571\n",
      "notMNIST score: 0.7419871794871795\n",
      "standard OCR score: 0.8707931277947752\n",
      "EMNIST score: 0.655921052631579\n",
      "Aggregate score: 0.7410526315789474\n",
      "------\n",
      "n_components: 57\n",
      "KNN training took: 0.16520905494689941 sec.\n",
      "\n",
      "Model testing took: 0.7268719673156738 sec.\n",
      "\n",
      "handwritten-isolated score: 0.57421875\n",
      "notMNIST score: 0.7451923076923077\n",
      "standard OCR score: 0.8729112732407626\n",
      "EMNIST score: 0.6519736842105263\n",
      "Aggregate score: 0.7415204678362574\n",
      "------\n",
      "n_components: 58\n",
      "KNN training took: 0.19671082496643066 sec.\n",
      "\n",
      "Model testing took: 0.7315688133239746 sec.\n",
      "\n",
      "handwritten-isolated score: 0.5703125\n",
      "notMNIST score: 0.7465277777777778\n",
      "standard OCR score: 0.8750294186867498\n",
      "EMNIST score: 0.6523026315789474\n",
      "Aggregate score: 0.7421442495126706\n",
      "------\n",
      "n_components: 59\n",
      "KNN training took: 0.20273280143737793 sec.\n",
      "\n",
      "Model testing took: 0.7782251834869385 sec.\n",
      "\n",
      "handwritten-isolated score: 0.5753348214285714\n",
      "notMNIST score: 0.7451923076923077\n",
      "standard OCR score: 0.8738526712167569\n",
      "EMNIST score: 0.6526315789473685\n",
      "Aggregate score: 0.7421442495126706\n",
      "------\n"
     ]
    }
   ],
   "source": [
    "knn_rgp_results = test_trf_models(create_knn, rgptrf_funcs, 2, 59)"
   ]
  },
  {
   "cell_type": "code",
   "execution_count": 306,
   "metadata": {},
   "outputs": [
    {
     "data": {
      "text/plain": [
       "0.7421442495126706"
      ]
     },
     "execution_count": 306,
     "metadata": {},
     "output_type": "execute_result"
    }
   ],
   "source": [
    "np.max(knn_rgp_results[\"aggscores\"])"
   ]
  },
  {
   "cell_type": "code",
   "execution_count": 307,
   "metadata": {},
   "outputs": [
    {
     "data": {
      "image/png": "[encoded data removed]",
      "text/plain": [
       "<Figure size 640x480 with 1 Axes>"
      ]
     },
     "metadata": {},
     "output_type": "display_data"
    }
   ],
   "source": [
    "plot_scores(knn_rgp_results, range(2, 60), title=\"RGP for KNN classification\")"
   ]
  },
  {
   "cell_type": "markdown",
   "metadata": {},
   "source": [
    "## MPCA\n",
    "\n",
    "Code taken from https://github.com/tensorly/Proceedings_IEEE_companion_notebooks/blob/master/MPCA.ipynb"
   ]
  },
  {
   "cell_type": "code",
   "execution_count": 308,
   "metadata": {},
   "outputs": [],
   "source": [
    "def compute_modek_total_scatter(X, mode, factors):\n",
    "    scatter = 0\n",
    "    \n",
    "    for m in range(len(X)):\n",
    "        proj_but_k = tl.unfold(tl.tenalg.multi_mode_dot(X[m], factors, transpose=True, skip=mode), mode)\n",
    "        scatter += tl.dot(proj_but_k, proj_but_k.T)\n",
    "        \n",
    "    return scatter\n",
    "\n",
    "def MPCA(X, rank, niters=1, size=28):\n",
    "    X = tl.tensor(X.reshape(-1, size, size).astype(float))\n",
    "    Xmean = tl.mean(X, axis=0)\n",
    "    X = X - Xmean\n",
    "    factors = [tl.ones((dim, rank)) for dim in X.shape[1:]]\n",
    "\n",
    "    num_modes = len(X.shape) - 1\n",
    "    niters = niters\n",
    "\n",
    "    for _ in range(niters):\n",
    "        for k in range(num_modes):\n",
    "            scatter = compute_modek_total_scatter(X, k, factors)\n",
    "            U, _, _ = tl.tenalg.svd_interface(scatter, n_eigenvecs=rank)\n",
    "            factors[k] = U\n",
    "\n",
    "    def _MCPA_func(X):\n",
    "        X = tl.tensor(X.reshape(-1, size, size).astype(float))\n",
    "        X = X - Xmean\n",
    "        res = tl.tenalg.multi_mode_dot(X, factors, modes=[1, 2], transpose=True)\n",
    "        return res\n",
    "    return _MCPA_func\n",
    "\n",
    "# need this wrapper because defining lambdas in for loops just doesn't\n",
    "# work like intended\n",
    "def _get_flatten_mpca_func(mpca, rank):\n",
    "    return lambda x: mpca(x).reshape(-1, rank ** 2)\n",
    "\n",
    "allranks = list(range(4, 26))\n",
    "allmpcas = [MPCA(cons_train_data, i, niters=1, size=28) for i in allranks]\n",
    "mpcatrf_funcs = [_get_flatten_mpca_func(mpca, allranks[i]) for i, mpca in enumerate(allmpcas)]"
   ]
  },
  {
   "cell_type": "markdown",
   "metadata": {},
   "source": [
    "### KNN"
   ]
  },
  {
   "cell_type": "code",
   "execution_count": 309,
   "metadata": {},
   "outputs": [
    {
     "name": "stdout",
     "output_type": "stream",
     "text": [
      "n_components: 4\n",
      "KNN training took: 0.49823904037475586 sec.\n",
      "\n",
      "Model testing took: 0.5043871402740479 sec.\n",
      "\n",
      "handwritten-isolated score: 0.47544642857142855\n",
      "notMNIST score: 0.8004807692307693\n",
      "standard OCR score: 0.8562014591668627\n",
      "EMNIST score: 0.6661184210526315\n",
      "Aggregate score: 0.7416764132553606\n",
      "------\n",
      "n_components: 5\n",
      "KNN training took: 0.47594523429870605 sec.\n",
      "\n",
      "Model testing took: 0.5813019275665283 sec.\n",
      "\n",
      "handwritten-isolated score: 0.5200892857142857\n",
      "notMNIST score: 0.8167735042735043\n",
      "standard OCR score: 0.8912685337726524\n",
      "EMNIST score: 0.6996710526315789\n",
      "Aggregate score: 0.7722417153996102\n",
      "------\n",
      "n_components: 6\n",
      "KNN training took: 0.47665882110595703 sec.\n",
      "\n",
      "Model testing took: 0.6457507610321045 sec.\n",
      "\n",
      "handwritten-isolated score: 0.5334821428571429\n",
      "notMNIST score: 0.8218482905982906\n",
      "standard OCR score: 0.9042127559425748\n",
      "EMNIST score: 0.7460526315789474\n",
      "Aggregate score: 0.7908771929824562\n",
      "------\n",
      "n_components: 7\n",
      "KNN training took: 0.47225069999694824 sec.\n",
      "\n",
      "Model testing took: 0.7404131889343262 sec.\n",
      "\n",
      "handwritten-isolated score: 0.5569196428571429\n",
      "notMNIST score: 0.8346688034188035\n",
      "standard OCR score: 0.9051541539185691\n",
      "EMNIST score: 0.7523026315789474\n",
      "Aggregate score: 0.7996881091617933\n",
      "------\n",
      "n_components: 8\n",
      "KNN training took: 0.5183689594268799 sec.\n",
      "\n",
      "Model testing took: 0.8426580429077148 sec.\n",
      "\n",
      "handwritten-isolated score: 0.5792410714285714\n",
      "notMNIST score: 0.8285256410256411\n",
      "standard OCR score: 0.9077429983525536\n",
      "EMNIST score: 0.749671052631579\n",
      "Aggregate score: 0.8012475633528265\n",
      "------\n",
      "n_components: 9\n",
      "KNN training took: 0.5505402088165283 sec.\n",
      "\n",
      "Model testing took: 0.9300460815429688 sec.\n",
      "\n",
      "handwritten-isolated score: 0.5881696428571429\n",
      "notMNIST score: 0.8274572649572649\n",
      "standard OCR score: 0.9086843963285479\n",
      "EMNIST score: 0.7549342105263158\n",
      "Aggregate score: 0.8037426900584795\n",
      "------\n",
      "n_components: 10\n",
      "KNN training took: 0.5562098026275635 sec.\n",
      "\n",
      "Model testing took: 1.059290885925293 sec.\n",
      "\n",
      "handwritten-isolated score: 0.5909598214285714\n",
      "notMNIST score: 0.8231837606837606\n",
      "standard OCR score: 0.9070369498705578\n",
      "EMNIST score: 0.7467105263157895\n",
      "Aggregate score: 0.8003898635477583\n",
      "------\n",
      "n_components: 11\n",
      "KNN training took: 0.5649921894073486 sec.\n",
      "\n",
      "Model testing took: 1.185474157333374 sec.\n",
      "\n",
      "handwritten-isolated score: 0.6049107142857143\n",
      "notMNIST score: 0.8207799145299145\n",
      "standard OCR score: 0.9072722993645563\n",
      "EMNIST score: 0.7453947368421052\n",
      "Aggregate score: 0.8014035087719298\n",
      "------\n",
      "n_components: 12\n",
      "KNN training took: 0.550307035446167 sec.\n",
      "\n",
      "Model testing took: 1.2606401443481445 sec.\n",
      "\n",
      "handwritten-isolated score: 0.6082589285714286\n",
      "notMNIST score: 0.8202457264957265\n",
      "standard OCR score: 0.9030360084725818\n",
      "EMNIST score: 0.7401315789473685\n",
      "Aggregate score: 0.7990643274853801\n",
      "------\n",
      "n_components: 13\n",
      "KNN training took: 0.5638480186462402 sec.\n",
      "\n",
      "Model testing took: 1.4123189449310303 sec.\n",
      "\n",
      "handwritten-isolated score: 0.6071428571428571\n",
      "notMNIST score: 0.8165064102564102\n",
      "standard OCR score: 0.9042127559425748\n",
      "EMNIST score: 0.7358552631578947\n",
      "Aggregate score: 0.7971929824561403\n",
      "------\n",
      "n_components: 14\n",
      "KNN training took: 0.5720109939575195 sec.\n",
      "\n",
      "Model testing took: 1.749276876449585 sec.\n",
      "\n",
      "handwritten-isolated score: 0.60546875\n",
      "notMNIST score: 0.8151709401709402\n",
      "standard OCR score: 0.9018592610025888\n",
      "EMNIST score: 0.7365131578947368\n",
      "Aggregate score: 0.7959454191033138\n",
      "------\n",
      "n_components: 15\n",
      "KNN training took: 0.6709918975830078 sec.\n",
      "\n",
      "Model testing took: 1.793064832687378 sec.\n",
      "\n",
      "handwritten-isolated score: 0.6116071428571429\n",
      "notMNIST score: 0.8175747863247863\n",
      "standard OCR score: 0.899505766062603\n",
      "EMNIST score: 0.7292763157894737\n",
      "Aggregate score: 0.7950097465886939\n",
      "------\n",
      "n_components: 16\n",
      "KNN training took: 0.691972017288208 sec.\n",
      "\n",
      "Model testing took: 1.9372539520263672 sec.\n",
      "\n",
      "handwritten-isolated score: 0.6127232142857143\n",
      "notMNIST score: 0.8135683760683761\n",
      "standard OCR score: 0.8992704165686044\n",
      "EMNIST score: 0.7286184210526315\n",
      "Aggregate score: 0.7937621832358674\n",
      "------\n",
      "n_components: 17\n",
      "KNN training took: 0.6775021553039551 sec.\n",
      "\n",
      "Model testing took: 2.2030467987060547 sec.\n",
      "\n",
      "handwritten-isolated score: 0.6127232142857143\n",
      "notMNIST score: 0.8106303418803419\n",
      "standard OCR score: 0.8976229701106143\n",
      "EMNIST score: 0.7263157894736842\n",
      "Aggregate score: 0.791812865497076\n",
      "------\n",
      "n_components: 18\n",
      "KNN training took: 0.6237740516662598 sec.\n",
      "\n",
      "Model testing took: 2.3765549659729004 sec.\n",
      "\n",
      "handwritten-isolated score: 0.61328125\n",
      "notMNIST score: 0.8066239316239316\n",
      "standard OCR score: 0.8978583196046128\n",
      "EMNIST score: 0.7269736842105263\n",
      "Aggregate score: 0.7909551656920077\n",
      "------\n",
      "n_components: 19\n",
      "KNN training took: 1.5593817234039307 sec.\n",
      "\n",
      "Model testing took: 3.125715970993042 sec.\n",
      "\n",
      "handwritten-isolated score: 0.6160714285714286\n",
      "notMNIST score: 0.8031517094017094\n",
      "standard OCR score: 0.8971522711226171\n",
      "EMNIST score: 0.7246710526315789\n",
      "Aggregate score: 0.789551656920078\n",
      "------\n",
      "n_components: 20\n",
      "KNN training took: 0.9772219657897949 sec.\n",
      "\n",
      "Model testing took: 3.114197015762329 sec.\n",
      "\n",
      "handwritten-isolated score: 0.6155133928571429\n",
      "notMNIST score: 0.8020833333333334\n",
      "standard OCR score: 0.8969169216286185\n",
      "EMNIST score: 0.7233552631578948\n",
      "Aggregate score: 0.7887719298245615\n",
      "------\n",
      "n_components: 21\n",
      "KNN training took: 1.2710251808166504 sec.\n",
      "\n",
      "Model testing took: 3.39729905128479 sec.\n",
      "\n",
      "handwritten-isolated score: 0.6149553571428571\n",
      "notMNIST score: 0.8004807692307693\n",
      "standard OCR score: 0.8959755236526241\n",
      "EMNIST score: 0.7217105263157895\n",
      "Aggregate score: 0.7875243664717348\n",
      "------\n",
      "n_components: 22\n",
      "KNN training took: 1.3811650276184082 sec.\n",
      "\n",
      "Model testing took: 3.357340097427368 sec.\n",
      "\n",
      "handwritten-isolated score: 0.6099330357142857\n",
      "notMNIST score: 0.7991452991452992\n",
      "standard OCR score: 0.8947987761826313\n",
      "EMNIST score: 0.7223684210526315\n",
      "Aggregate score: 0.7861988304093567\n",
      "------\n",
      "n_components: 23\n",
      "KNN training took: 1.152662992477417 sec.\n",
      "\n",
      "Model testing took: 4.115525960922241 sec.\n",
      "\n",
      "handwritten-isolated score: 0.6060267857142857\n",
      "notMNIST score: 0.7986111111111112\n",
      "standard OCR score: 0.8950341256766298\n",
      "EMNIST score: 0.7217105263157895\n",
      "Aggregate score: 0.7854191033138401\n",
      "------\n",
      "n_components: 24\n",
      "KNN training took: 1.5620160102844238 sec.\n",
      "\n",
      "Model testing took: 4.529969692230225 sec.\n",
      "\n",
      "handwritten-isolated score: 0.60546875\n",
      "notMNIST score: 0.7959401709401709\n",
      "standard OCR score: 0.895504824664627\n",
      "EMNIST score: 0.7217105263157895\n",
      "Aggregate score: 0.7847173489278753\n",
      "------\n",
      "n_components: 25\n",
      "KNN training took: 1.411898136138916 sec.\n",
      "\n",
      "Model testing took: 4.492369174957275 sec.\n",
      "\n",
      "handwritten-isolated score: 0.5998883928571429\n",
      "notMNIST score: 0.7943376068376068\n",
      "standard OCR score: 0.8964462226406213\n",
      "EMNIST score: 0.7194078947368421\n",
      "Aggregate score: 0.7832358674463937\n",
      "------\n"
     ]
    }
   ],
   "source": [
    "knn_mpca_results = test_trf_models(create_knn, mpcatrf_funcs, 4, 25)"
   ]
  },
  {
   "cell_type": "code",
   "execution_count": 310,
   "metadata": {},
   "outputs": [
    {
     "data": {
      "text/plain": [
       "0.8037426900584795"
      ]
     },
     "execution_count": 310,
     "metadata": {},
     "output_type": "execute_result"
    }
   ],
   "source": [
    "np.max(knn_mpca_results[\"aggscores\"])"
   ]
  },
  {
   "cell_type": "code",
   "execution_count": 311,
   "metadata": {},
   "outputs": [
    {
     "data": {
      "image/png": "[encoded data removed]",
      "text/plain": [
       "<Figure size 640x480 with 1 Axes>"
      ]
     },
     "metadata": {},
     "output_type": "display_data"
    }
   ],
   "source": [
    "plot_scores(knn_mpca_results, range(4, 26), title=\"MPCA for KNN classification\")"
   ]
  },
  {
   "cell_type": "markdown",
   "metadata": {},
   "source": [
    "testing stuff here"
   ]
  },
  {
   "cell_type": "code",
   "execution_count": 102,
   "metadata": {},
   "outputs": [],
   "source": [
    "X = tl.tensor(notmnist_test_data.reshape(-1, 28, 28).astype(float))\n",
    "Xmean = tl.mean(X, axis=0)\n",
    "Xcent = X - Xmean"
   ]
  },
  {
   "cell_type": "code",
   "execution_count": 230,
   "metadata": {},
   "outputs": [],
   "source": [
    "mcpa = MPCA(X, 10)"
   ]
  },
  {
   "cell_type": "code",
   "execution_count": 231,
   "metadata": {},
   "outputs": [
    {
     "name": "stdout",
     "output_type": "stream",
     "text": [
      "(3744, 10, 10)\n"
     ]
    }
   ],
   "source": [
    "asdf = mcpa(X)"
   ]
  },
  {
   "cell_type": "code",
   "execution_count": 232,
   "metadata": {},
   "outputs": [
    {
     "data": {
      "text/plain": [
       "<matplotlib.image.AxesImage at 0x29be32d40>"
      ]
     },
     "execution_count": 232,
     "metadata": {},
     "output_type": "execute_result"
    },
    {
     "data": {
      "image/png": "[encoded data removed]",
      "text/plain": [
       "<Figure size 640x480 with 1 Axes>"
      ]
     },
     "metadata": {},
     "output_type": "display_data"
    }
   ],
   "source": [
    "plt.imshow(X[0], cmap=\"gray\")"
   ]
  },
  {
   "cell_type": "code",
   "execution_count": 233,
   "metadata": {},
   "outputs": [
    {
     "data": {
      "text/plain": [
       "<matplotlib.image.AxesImage at 0x29bea4100>"
      ]
     },
     "execution_count": 233,
     "metadata": {},
     "output_type": "execute_result"
    },
    {
     "data": {
      "image/png": "[encoded data removed]",
      "text/plain": [
       "<Figure size 640x480 with 1 Axes>"
      ]
     },
     "metadata": {},
     "output_type": "display_data"
    }
   ],
   "source": [
    "plt.imshow(asdf[0], cmap=\"gray\")"
   ]
  },
  {
   "cell_type": "markdown",
   "metadata": {},
   "source": [
    "## CNN tests\n",
    "\n",
    "TODO these need to be done a datahub or someones laptop will explode"
   ]
  },
  {
   "cell_type": "code",
   "execution_count": 6,
   "metadata": {},
   "outputs": [],
   "source": [
    "# remake these datasets with a new transform to keep them as a tensor\n",
    "\n",
    "# this dataset is already random rotated\n",
    "handiso_ds_train = utils.CharDataset(\"data/handwritten-isolated-english/train\", transform=utils.T_tensor, label_transform=utils.class_to_idx)\n",
    "handiso_ds_test = utils.CharDataset(\"data/handwritten-isolated-english/test\", transform=utils.T_tensor, label_transform=utils.class_to_idx)\n",
    "\n",
    "notmnist_ds = utils.CharDataset(\"data/notMNIST_small\", transform=utils.T_randrottensor, label_transform=utils.class_to_idx)\n",
    "notmnist_ds_train, notmnist_ds_test = random_split(notmnist_ds, [0.8, 0.2])\n",
    "\n",
    "stdocr_ds_train_orig = (\n",
    "    utils.CharDataset(\"data/standard_ocr_dataset/data/training_data\", transform=utils.T_randrottensor, label_transform=utils.class_to_idx) +\n",
    "    utils.CharDataset(\"data/standard_ocr_dataset/data2/training_data\", transform=utils.T_randrottensor, label_transform=utils.class_to_idx)\n",
    ")\n",
    "stdocr_ds_test = (\n",
    "    utils.CharDataset(\"data/standard_ocr_dataset/data/testing_data\", transform=utils.T_randrottensor, label_transform=utils.class_to_idx) +\n",
    "    utils.CharDataset(\"data/standard_ocr_dataset/data2/testing_data\", transform=utils.T_randrottensor, label_transform=utils.class_to_idx)\n",
    ")\n",
    "\n",
    "mnist_ds_train_letters = EMNIST(Path(os.getcwd(), \"data\"), \"letters\", download=True, train=True, transform=utils.T_randrottensor, target_transform=utils.emnistletter_idx_to_allidx)\n",
    "mnist_ds_train_digits = EMNIST(Path(os.getcwd(), \"data\"), \"digits\", download=True, train=True, transform=utils.T_randrottensor)\n",
    "mnist_ds_train_orig = mnist_ds_train_letters + mnist_ds_train_digits\n",
    "mnist_ds_test_letters = EMNIST(Path(os.getcwd(), \"data\"), \"letters\", download=True, train=False, transform=utils.T_randrottensor, target_transform=utils.emnistletter_idx_to_allidx)\n",
    "mnist_ds_test_digits = EMNIST(Path(os.getcwd(), \"data\"), \"digits\", download=True, train=False, transform=utils.T_randrottensor)\n",
    "mnist_ds_test_orig = mnist_ds_test_letters + mnist_ds_test_digits\n",
    "\n",
    "stdocr_ds_train, _ = random_split(stdocr_ds_train_orig, [0.5, 0.5])\n",
    "mnist_ds_train, _ = random_split(mnist_ds_train_orig, [0.05, 0.95])\n",
    "mnist_ds_test, _ = random_split(mnist_ds_test_orig, [0.05, 0.95])\n",
    "\n",
    "consolidated_ds_train = handiso_ds_train + notmnist_ds_train + stdocr_ds_train + mnist_ds_train\n",
    "consolidated_ds_test = handiso_ds_test + notmnist_ds_test + stdocr_ds_test + mnist_ds_test"
   ]
  },
  {
   "cell_type": "code",
   "execution_count": null,
   "metadata": {},
   "outputs": [],
   "source": [
    "trainloader = torch.utils.data.DataLoader(consolidated_ds_train, num_workers=31, batch_size=32)\n",
    "testloader = torch.utils.data.DataLoader(consolidated_ds_test, num_workers=31, batch_size=32)"
   ]
  },
  {
   "cell_type": "code",
   "execution_count": null,
   "metadata": {},
   "outputs": [
    {
     "name": "stderr",
     "output_type": "stream",
     "text": [
      "GPU available: True (cuda), used: True\n",
      "TPU available: False, using: 0 TPU cores\n",
      "IPU available: False, using: 0 IPUs\n",
      "HPU available: False, using: 0 HPUs\n",
      "LOCAL_RANK: 0 - CUDA_VISIBLE_DEVICES: [0]\n",
      "\n",
      "  | Name  | Type      | Params\n",
      "------------------------------------\n",
      "0 | conv1 | Conv2d    | 156   \n",
      "1 | pool  | MaxPool2d | 0     \n",
      "2 | conv2 | Conv2d    | 2.4 K \n",
      "3 | fc1   | Linear    | 30.8 K\n",
      "4 | fc2   | Linear    | 10.2 K\n",
      "5 | fc3   | Linear    | 3.1 K \n",
      "------------------------------------\n",
      "46.6 K    Trainable params\n",
      "0         Non-trainable params\n",
      "46.6 K    Total params\n",
      "0.187     Total estimated model params size (MB)\n"
     ]
    },
    {
     "name": "stdout",
     "output_type": "stream",
     "text": [
      "Epoch 3:   0%|          | 0/2095 [00:00<?, ?it/s, v_num=1]           "
     ]
    },
    {
     "name": "stderr",
     "output_type": "stream",
     "text": [
      "Exception ignored in: <function _releaseLock at 0x7f5a1ff2cb80>\n",
      "Traceback (most recent call last):\n",
      "  File \"/opt/conda/lib/python3.9/logging/__init__.py\", line 227, in _releaseLock\n",
      "    def _releaseLock():\n",
      "KeyboardInterrupt: \n"
     ]
    }
   ],
   "source": [
    "genCNN = utils.GenericCharCNN()\n",
    "trainer = L.Trainer(max_epochs=30)\n",
    "trainer.fit(model=genCNN, train_dataloaders=trainloader)"
   ]
  },
  {
   "cell_type": "code",
   "execution_count": null,
   "metadata": {},
   "outputs": [
    {
     "name": "stderr",
     "output_type": "stream",
     "text": [
      "LOCAL_RANK: 0 - CUDA_VISIBLE_DEVICES: [0]\n"
     ]
    },
    {
     "name": "stdout",
     "output_type": "stream",
     "text": [
      "Testing DataLoader 0: 100%|██████████| 401/401 [00:21<00:00, 18.87it/s]\n",
      "────────────────────────────────────────────────────────────────────────────────────────────────────────────────────────\n",
      "       Test metric             DataLoader 0\n",
      "────────────────────────────────────────────────────────────────────────────────────────────────────────────────────────\n",
      "        test_acc            0.05871345102787018\n",
      "        test_loss            4.275759696960449\n",
      "────────────────────────────────────────────────────────────────────────────────────────────────────────────────────────\n"
     ]
    },
    {
     "data": {
      "text/plain": [
       "[{'test_loss': 4.275759696960449, 'test_acc': 0.05871345102787018}]"
      ]
     },
     "execution_count": 40,
     "metadata": {},
     "output_type": "execute_result"
    }
   ],
   "source": [
    "trainer.test(genCNN, dataloaders=testloader)"
   ]
  },
  {
   "cell_type": "code",
   "execution_count": null,
   "metadata": {},
   "outputs": [],
   "source": []
  }
 ],
 "metadata": {
  "kernelspec": {
   "display_name": "ece271bpr",
   "language": "python",
   "name": "python3"
  },
  "language_info": {
   "codemirror_mode": {
    "name": "ipython",
    "version": 3
   },
   "file_extension": ".py",
   "mimetype": "text/x-python",
   "name": "python",
   "nbconvert_exporter": "python",
   "pygments_lexer": "ipython3",
   "version": "3.9.5"
  }
 },
 "nbformat": 4,
 "nbformat_minor": 2
}
