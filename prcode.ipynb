{
 "cells": [
  {
   "cell_type": "markdown",
   "metadata": {},
   "source": [
    "# Project code\n",
    "\n",
    "gg"
   ]
  },
  {
   "cell_type": "code",
   "execution_count": 95,
   "metadata": {},
   "outputs": [],
   "source": [
    "import os\n",
    "from pathlib import Path\n",
    "import time\n",
    "\n",
    "import lightning as L\n",
    "import matplotlib.pyplot as plt\n",
    "import numpy as np\n",
    "from PIL import Image, UnidentifiedImageError\n",
    "from sklearn import metrics\n",
    "from sklearn.discriminant_analysis import LinearDiscriminantAnalysis\n",
    "from sklearn.random_projection import GaussianRandomProjection\n",
    "from sklearn.linear_model import LogisticRegression\n",
    "from sklearn.decomposition import PCA\n",
    "from sklearn.neighbors import KNeighborsClassifier\n",
    "import tensorly as tl\n",
    "import torch\n",
    "from torchvision.datasets import MNIST, EMNIST\n",
    "from torchvision.transforms import ToTensor\n",
    "from torch.utils.data import Dataset, random_split\n",
    "from torchvision import datasets\n",
    "from torchvision.transforms import v2\n",
    "\n",
    "def tic():\n",
    "    return time.time()\n",
    "def toc(tstart, name=\"Operation\", printtime=True):\n",
    "    dt = time.time() - tstart\n",
    "    if printtime:\n",
    "        print(\"%s took: %s sec.\\n\" % (name, dt))\n",
    "    return dt"
   ]
  },
  {
   "cell_type": "markdown",
   "metadata": {},
   "source": [
    "## Data loading utilities"
   ]
  },
  {
   "cell_type": "code",
   "execution_count": 2,
   "metadata": {},
   "outputs": [],
   "source": [
    "class CharDataset(Dataset):\n",
    "    \"\"\"\n",
    "    General dataset for single character data loading.\n",
    "\n",
    "    Assumes that in the directory given, the subdirectories are the classes.\n",
    "    These directory names should be the single character class.\n",
    "    \"\"\"\n",
    "    def __init__(self, img_dir, transform=None):\n",
    "        self.img_dir = Path(img_dir)\n",
    "        if not self.img_dir.exists():\n",
    "            raise FileNotFoundError(f\"{img_dir} does not exist\")\n",
    "        alldirs = [p for p in self.img_dir.glob(\"*\") if p.is_dir()]\n",
    "        self.imgpaths = []\n",
    "        self.imglabels = []\n",
    "        for d in alldirs:\n",
    "            chclass = d.stem.lower()\n",
    "            imgpaths_dirty = list(d.glob(\"*.jpg\")) + list(d.glob(\"*.png\"))\n",
    "            imgpaths = []\n",
    "            for i in range(len(imgpaths_dirty)):\n",
    "                try:\n",
    "                    Image.open(imgpaths_dirty[i])\n",
    "                except UnidentifiedImageError:\n",
    "                    print(f\"Image {imgpaths_dirty[i]} is not a valid image, skipping\")\n",
    "                    continue\n",
    "                imgpaths.append(imgpaths_dirty[i])\n",
    "            self.imgpaths.extend(imgpaths)\n",
    "            self.imglabels.extend([chclass] * len(imgpaths))\n",
    "        self.transform = transform\n",
    "\n",
    "    def __len__(self):\n",
    "        return len(self.imglabels)\n",
    "\n",
    "    def __getitem__(self, idx):\n",
    "        imgpath = self.imgpaths[idx]\n",
    "        img = Image.open(imgpath).convert(\"L\")\n",
    "        label = self.imglabels[idx]\n",
    "        if self.transform:\n",
    "            img = self.transform(img)\n",
    "        return img, label\n",
    "    \n",
    "def ds_to_vectors(ds, size=28):\n",
    "    imgs = np.array([np.array(x[0].resize((28, 28))).reshape(-1) for x in ds])\n",
    "    labs = np.array([x[1] for x in ds])\n",
    "    return imgs, labs"
   ]
  },
  {
   "cell_type": "code",
   "execution_count": 3,
   "metadata": {},
   "outputs": [],
   "source": [
    "randomrot_T = v2.Compose([\n",
    "    v2.PILToTensor(),\n",
    "    v2.RandomRotation(45),\n",
    "    v2.ToPILImage()\n",
    "])"
   ]
  },
  {
   "cell_type": "code",
   "execution_count": 26,
   "metadata": {},
   "outputs": [
    {
     "name": "stdout",
     "output_type": "stream",
     "text": [
      "Image data/notMNIST_small/A/RGVtb2NyYXRpY2FCb2xkT2xkc3R5bGUgQm9sZC50dGY=.png is not a valid image, skipping\n",
      "Image data/notMNIST_small/F/Q3Jvc3NvdmVyIEJvbGRPYmxpcXVlLnR0Zg==.png is not a valid image, skipping\n",
      "Image data/standard_ocr_dataset/data2/testing_data/G/44404.png is not a valid image, skipping\n"
     ]
    }
   ],
   "source": [
    "# this dataset is already random rotated\n",
    "handiso_ds_train = CharDataset(\"data/handwritten-isolated-english/train\")\n",
    "handiso_ds_test = CharDataset(\"data/handwritten-isolated-english/test\")\n",
    "handiso_test_data, handiso_test_labels = ds_to_vectors(handiso_ds_test)\n",
    "\n",
    "notmnist_ds = CharDataset(\"data/notMNIST_small\", transform=randomrot_T)\n",
    "notmnist_ds_train, notmnist_ds_test = random_split(notmnist_ds, [0.8, 0.2])\n",
    "notmnist_test_data, notmnist_test_labels = ds_to_vectors(notmnist_ds_test)\n",
    "\n",
    "stdocr_ds_train_orig = CharDataset(\"data/standard_ocr_dataset/data/training_data\", transform=randomrot_T) + CharDataset(\"data/standard_ocr_dataset/data2/training_data\", transform=randomrot_T)\n",
    "stdocr_ds_test = CharDataset(\"data/standard_ocr_dataset/data/testing_data\", transform=randomrot_T) + CharDataset(\"data/standard_ocr_dataset/data2/testing_data\", transform=randomrot_T)\n",
    "stdocr_test_data, stdocr_test_labels = ds_to_vectors(stdocr_ds_test)\n",
    "\n",
    "mnist_ds_train_orig = EMNIST(Path(os.getcwd(), \"data\"), \"byclass\", download=True, train=True, transform=randomrot_T, target_transform=str)\n",
    "mnist_ds_test_orig = EMNIST(Path(os.getcwd(), \"data\"), \"byclass\", download=True, train=False, transform=randomrot_T, target_transform=str)"
   ]
  },
  {
   "cell_type": "code",
   "execution_count": 27,
   "metadata": {},
   "outputs": [
    {
     "name": "stdout",
     "output_type": "stream",
     "text": [
      "handwritten-isolated-english sizes: [train:13168, test:1792]\n",
      "not MNIST sizes: [train:14980, test:3744]\n",
      "standard OCR ds sizes: [train:41256, test:4249]\n",
      "EMNIST sizes: [train:697932, test:116323]\n"
     ]
    }
   ],
   "source": [
    "print(f\"handwritten-isolated-english sizes: [train:{len(handiso_ds_train)}, test:{len(handiso_ds_test)}]\")\n",
    "print(f\"not MNIST sizes: [train:{len(notmnist_ds_train)}, test:{len(notmnist_ds_test)}]\")\n",
    "print(f\"standard OCR ds sizes: [train:{len(stdocr_ds_train_orig)}, test:{len(stdocr_ds_test)}]\")\n",
    "print(f\"EMNIST sizes: [train:{len(mnist_ds_train_orig)}, test:{len(mnist_ds_test_orig)}]\")"
   ]
  },
  {
   "cell_type": "code",
   "execution_count": 28,
   "metadata": {},
   "outputs": [],
   "source": [
    "# EMNIST dataset is way too large for our purposes, we only take a subset of it\n",
    "stdocr_ds_train, _ = random_split(stdocr_ds_train_orig, [0.5, 0.5])\n",
    "mnist_ds_train, _ = random_split(mnist_ds_train_orig, [0.03, 0.97])\n",
    "mnist_ds_test, _ = random_split(mnist_ds_test_orig, [0.05, 0.95])\n",
    "mnist_test_data, mnist_test_labels = ds_to_vectors(mnist_ds_test)"
   ]
  },
  {
   "cell_type": "code",
   "execution_count": 29,
   "metadata": {},
   "outputs": [
    {
     "name": "stdout",
     "output_type": "stream",
     "text": [
      "handwritten-isolated-english sizes: [train:13168, test:1792]\n",
      "not MNIST sizes: [train:14980, test:3744]\n",
      "standard OCR ds sizes: [train:20628, test:4249]\n",
      "EMNIST sizes: [train:20938, test:5817]\n"
     ]
    }
   ],
   "source": [
    "print(f\"handwritten-isolated-english sizes: [train:{len(handiso_ds_train)}, test:{len(handiso_ds_test)}]\")\n",
    "print(f\"not MNIST sizes: [train:{len(notmnist_ds_train)}, test:{len(notmnist_ds_test)}]\")\n",
    "print(f\"standard OCR ds sizes: [train:{len(stdocr_ds_train)}, test:{len(stdocr_ds_test)}]\")\n",
    "print(f\"EMNIST sizes: [train:{len(mnist_ds_train)}, test:{len(mnist_ds_test)}]\")"
   ]
  },
  {
   "cell_type": "code",
   "execution_count": 30,
   "metadata": {},
   "outputs": [],
   "source": [
    "consolidated_ds_train = handiso_ds_train + notmnist_ds_train + stdocr_ds_train + mnist_ds_train\n",
    "cons_train_data, cons_train_labels = ds_to_vectors(consolidated_ds_train)\n",
    "consolidated_ds_test = handiso_ds_test + notmnist_ds_test + stdocr_ds_test + mnist_ds_test\n",
    "cons_test_data, cons_test_labels = ds_to_vectors(consolidated_ds_test)"
   ]
  },
  {
   "cell_type": "markdown",
   "metadata": {},
   "source": [
    "## Utility functions for model setup and testing"
   ]
  },
  {
   "cell_type": "code",
   "execution_count": 31,
   "metadata": {},
   "outputs": [],
   "source": [
    "def run_all_tests_model(model, data_transform=None):\n",
    "    if data_transform is None:\n",
    "        data_transform = lambda x: x\n",
    "    ts = tic()\n",
    "    handwrscore = model.score(data_transform(handiso_test_data), handiso_test_labels)\n",
    "    notmnistscore = model.score(data_transform(notmnist_test_data), notmnist_test_labels)\n",
    "    stdocrscore = model.score(data_transform(stdocr_test_data), stdocr_test_labels)\n",
    "    mnistscore = model.score(data_transform(mnist_test_data), mnist_test_labels)\n",
    "    toc(ts, \"Model testing\")\n",
    "    tot_test = len(handiso_test_labels) + len(notmnist_test_labels) + len(stdocr_test_labels) + len(mnist_test_labels)\n",
    "    weighted_score = (handwrscore * len(handiso_test_labels) + notmnistscore * len(notmnist_test_labels) + stdocrscore * len(stdocr_test_labels) + mnistscore * len(mnist_test_labels)) / tot_test\n",
    "    print(f\"handwritten-isolated score: {handwrscore}\\n\"\n",
    "          f\"notMNIST score: {notmnistscore}\\n\"\n",
    "          f\"standard OCR score: {stdocrscore}\\n\"\n",
    "          f\"EMNIST score: {mnistscore}\\n\"\n",
    "          f\"Aggregate score: {weighted_score}\")\n",
    "    return handwrscore, notmnistscore, stdocrscore, mnistscore, weighted_score\n",
    "\n",
    "def test_trf_models(create_model_func, trf_funcs, mincomps, maxcomps):\n",
    "    \"\"\"\n",
    "    create_model_func: (X, y, data_transform=func) -> scipy classification model\n",
    "    \"\"\"\n",
    "    assert len(trf_funcs) == (maxcomps + 1) - mincomps\n",
    "    handwrscores, notmnistscores, stdocrscores, mnistscores, aggscores = [], [], [], [], []\n",
    "    traintimes, predicttimes = [], []\n",
    "    for ncomp in range(mincomps, maxcomps + 1):\n",
    "        print(f\"n_components: {ncomp}\")\n",
    "        trf = trf_funcs[ncomp - mincomps]\n",
    "        ts = tic()\n",
    "        consol_model = create_model_func(cons_train_data, cons_train_labels, data_transform=trf)\n",
    "        traintimes.append(toc(ts, printtime=False))\n",
    "        ts = tic()\n",
    "        handwrscore, notmnistscore, stdocrscore, mnistscore, aggscore = run_all_tests_model(consol_model, data_transform=trf)\n",
    "        predicttimes.append(toc(ts, printtime=False))\n",
    "        handwrscores.append(handwrscore)\n",
    "        notmnistscores.append(notmnistscore)\n",
    "        stdocrscores.append(stdocrscore)\n",
    "        mnistscores.append(mnistscore)\n",
    "        aggscores.append(aggscore)\n",
    "        print(\"------\")\n",
    "    return {\n",
    "        \"handwrscores\": handwrscores,\n",
    "        \"notmnistscores\": notmnistscores,\n",
    "        \"stdocrscores\": stdocrscores,\n",
    "        \"mnistscores\": mnistscores,\n",
    "        \"aggscores\": aggscores,\n",
    "        \"traintimes\": traintimes,\n",
    "        \"predicttimes\": predicttimes\n",
    "    }\n",
    "\n",
    "def plot_scores(results, ncomplist, title=\"Classification results for dimensionality reduction\"):\n",
    "    fig, ax = plt.subplots()\n",
    "    ax.plot(ncomplist, results[\"handwrscores\"], label=\"handwritten-isolated\")\n",
    "    ax.plot(ncomplist, results[\"notmnistscores\"], label=\"notMNIST\")\n",
    "    ax.plot(ncomplist, results[\"stdocrscores\"], label=\"standard OCR\")\n",
    "    ax.plot(ncomplist, results[\"mnistscores\"], label=\"EMNIST\")\n",
    "    ax.plot(ncomplist, results[\"aggscores\"], label=\"aggregated\")\n",
    "    ax.set_xlabel(\"number of components\")\n",
    "    ax.set_ylabel(\"test accuracy\")\n",
    "    ax.legend()\n",
    "    fig.suptitle(title)\n",
    "    fig.tight_layout()\n",
    "    plt.show()"
   ]
  },
  {
   "cell_type": "code",
   "execution_count": 32,
   "metadata": {},
   "outputs": [],
   "source": [
    "def create_logreg(X, y, data_transform=None):\n",
    "    if data_transform is None:\n",
    "        data_transform = lambda x: x\n",
    "    ts = tic()\n",
    "    logreg = LogisticRegression()\n",
    "    logreg.fit(data_transform(X), y)\n",
    "    toc(ts, \"Logistic Regression training\")\n",
    "    return logreg\n",
    "\n",
    "def create_knn(X, y, k=5, data_transform=None):\n",
    "    if data_transform is None:\n",
    "        data_transform = lambda x: x\n",
    "    ts = tic()\n",
    "    knn = KNeighborsClassifier(n_neighbors=k)\n",
    "    knn.fit(data_transform(X), y)\n",
    "    toc(ts, \"KNN training\")\n",
    "    return knn"
   ]
  },
  {
   "cell_type": "markdown",
   "metadata": {},
   "source": [
    "## Raw model tests"
   ]
  },
  {
   "cell_type": "code",
   "execution_count": 33,
   "metadata": {},
   "outputs": [
    {
     "name": "stdout",
     "output_type": "stream",
     "text": [
      "Logistic Regression training took: 48.82743978500366 sec.\n",
      "\n",
      "Model testing took: 0.11310791969299316 sec.\n",
      "\n",
      "handwritten-isolated score: 0.04575892857142857\n",
      "notMNIST score: 0.594551282051282\n",
      "standard OCR score: 0.4575194163332549\n",
      "EMNIST score: 0.4156781846312532\n",
      "Aggregate score: 0.4275092936802974\n"
     ]
    },
    {
     "name": "stderr",
     "output_type": "stream",
     "text": [
      "/Users/jerry/mambaforge/envs/ece271bpr/lib/python3.10/site-packages/sklearn/linear_model/_logistic.py:469: ConvergenceWarning: lbfgs failed to converge (status=1):\n",
      "STOP: TOTAL NO. of ITERATIONS REACHED LIMIT.\n",
      "\n",
      "Increase the number of iterations (max_iter) or scale the data as shown in:\n",
      "    https://scikit-learn.org/stable/modules/preprocessing.html\n",
      "Please also refer to the documentation for alternative solver options:\n",
      "    https://scikit-learn.org/stable/modules/linear_model.html#logistic-regression\n",
      "  n_iter_i = _check_optimize_result(\n"
     ]
    },
    {
     "data": {
      "text/plain": [
       "(0.04575892857142857,\n",
       " 0.594551282051282,\n",
       " 0.4575194163332549,\n",
       " 0.4156781846312532,\n",
       " 0.4275092936802974)"
      ]
     },
     "execution_count": 33,
     "metadata": {},
     "output_type": "execute_result"
    }
   ],
   "source": [
    "# logistic regression linear classifier\n",
    "consol_logreg = create_logreg(cons_train_data, cons_train_labels)\n",
    "run_all_tests_model(consol_logreg)"
   ]
  },
  {
   "cell_type": "code",
   "execution_count": 34,
   "metadata": {},
   "outputs": [
    {
     "name": "stdout",
     "output_type": "stream",
     "text": [
      "KNN training took: 0.012620210647583008 sec.\n",
      "\n"
     ]
    },
    {
     "name": "stdout",
     "output_type": "stream",
     "text": [
      "Model testing took: 20.23938822746277 sec.\n",
      "\n",
      "handwritten-isolated score: 0.6037946428571429\n",
      "notMNIST score: 0.7943376068376068\n",
      "standard OCR score: 0.8945634266886326\n",
      "EMNIST score: 0.6384734399174833\n",
      "Aggregate score: 0.741635687732342\n"
     ]
    },
    {
     "data": {
      "text/plain": [
       "(0.6037946428571429,\n",
       " 0.7943376068376068,\n",
       " 0.8945634266886326,\n",
       " 0.6384734399174833,\n",
       " 0.741635687732342)"
      ]
     },
     "execution_count": 34,
     "metadata": {},
     "output_type": "execute_result"
    }
   ],
   "source": [
    "# KNN classifier\n",
    "consol_knn = create_knn(cons_train_data, cons_train_labels, k=5)\n",
    "run_all_tests_model(consol_knn)"
   ]
  },
  {
   "cell_type": "markdown",
   "metadata": {},
   "source": [
    "## Tests with PCA"
   ]
  },
  {
   "cell_type": "code",
   "execution_count": 35,
   "metadata": {},
   "outputs": [
    {
     "name": "stdout",
     "output_type": "stream",
     "text": [
      "Creating PCA components took: 1.2295076847076416 sec.\n",
      "\n",
      "Creating PCA components took: 1.1204259395599365 sec.\n",
      "\n",
      "Creating PCA components took: 1.2547318935394287 sec.\n",
      "\n",
      "Creating PCA components took: 1.030271053314209 sec.\n",
      "\n",
      "Creating PCA components took: 1.0659122467041016 sec.\n",
      "\n",
      "Creating PCA components took: 1.4166457653045654 sec.\n",
      "\n",
      "Creating PCA components took: 1.0996711254119873 sec.\n",
      "\n",
      "Creating PCA components took: 1.261625051498413 sec.\n",
      "\n",
      "Creating PCA components took: 1.8473091125488281 sec.\n",
      "\n",
      "Creating PCA components took: 2.3437047004699707 sec.\n",
      "\n",
      "Creating PCA components took: 2.319098949432373 sec.\n",
      "\n",
      "Creating PCA components took: 2.361751079559326 sec.\n",
      "\n",
      "Creating PCA components took: 2.2332777976989746 sec.\n",
      "\n",
      "Creating PCA components took: 2.449728012084961 sec.\n",
      "\n",
      "Creating PCA components took: 2.847216844558716 sec.\n",
      "\n",
      "Creating PCA components took: 3.247681140899658 sec.\n",
      "\n",
      "Creating PCA components took: 4.26827597618103 sec.\n",
      "\n",
      "Creating PCA components took: 3.408273935317993 sec.\n",
      "\n",
      "Creating PCA components took: 4.411156892776489 sec.\n",
      "\n",
      "Creating PCA components took: 3.339184284210205 sec.\n",
      "\n",
      "Creating PCA components took: 3.359067916870117 sec.\n",
      "\n",
      "Creating PCA components took: 3.9053702354431152 sec.\n",
      "\n",
      "Creating PCA components took: 3.7617170810699463 sec.\n",
      "\n",
      "Creating PCA components took: 3.8288090229034424 sec.\n",
      "\n",
      "Creating PCA components took: 4.256062030792236 sec.\n",
      "\n",
      "Creating PCA components took: 3.6633248329162598 sec.\n",
      "\n",
      "Creating PCA components took: 3.5520389080047607 sec.\n",
      "\n",
      "Creating PCA components took: 3.038252115249634 sec.\n",
      "\n",
      "Creating PCA components took: 3.5843400955200195 sec.\n",
      "\n",
      "Creating PCA components took: 2.9390761852264404 sec.\n",
      "\n",
      "Creating PCA components took: 2.9368362426757812 sec.\n",
      "\n",
      "Creating PCA components took: 3.1575560569763184 sec.\n",
      "\n",
      "Creating PCA components took: 3.7467892169952393 sec.\n",
      "\n",
      "Creating PCA components took: 3.7406110763549805 sec.\n",
      "\n",
      "Creating PCA components took: 3.3595759868621826 sec.\n",
      "\n",
      "Creating PCA components took: 3.81646728515625 sec.\n",
      "\n",
      "Creating PCA components took: 4.151350975036621 sec.\n",
      "\n",
      "Creating PCA components took: 4.654228925704956 sec.\n",
      "\n",
      "Creating PCA components took: 5.749081134796143 sec.\n",
      "\n",
      "Creating PCA components took: 4.588373899459839 sec.\n",
      "\n",
      "Creating PCA components took: 5.2862467765808105 sec.\n",
      "\n",
      "Creating PCA components took: 5.355399131774902 sec.\n",
      "\n",
      "Creating PCA components took: 5.287832975387573 sec.\n",
      "\n",
      "Creating PCA components took: 4.872612953186035 sec.\n",
      "\n",
      "Creating PCA components took: 4.835480690002441 sec.\n",
      "\n",
      "Creating PCA components took: 5.246928930282593 sec.\n",
      "\n",
      "Creating PCA components took: 5.099610805511475 sec.\n",
      "\n",
      "Creating PCA components took: 4.797547101974487 sec.\n",
      "\n",
      "Creating PCA components took: 5.2680699825286865 sec.\n",
      "\n",
      "Creating PCA components took: 4.807839870452881 sec.\n",
      "\n",
      "Creating PCA components took: 5.019330978393555 sec.\n",
      "\n",
      "Creating PCA components took: 5.119093894958496 sec.\n",
      "\n",
      "Creating PCA components took: 4.819684267044067 sec.\n",
      "\n",
      "Creating PCA components took: 5.472472190856934 sec.\n",
      "\n",
      "Creating PCA components took: 4.862208127975464 sec.\n",
      "\n",
      "Creating PCA components took: 5.4471681118011475 sec.\n",
      "\n",
      "Creating PCA components took: 5.120121717453003 sec.\n",
      "\n",
      "Creating PCA components took: 5.512224912643433 sec.\n",
      "\n"
     ]
    }
   ],
   "source": [
    "def create_pca(X, n_components):\n",
    "    ts = tic()\n",
    "    pca = PCA(n_components=n_components)\n",
    "    pca.fit(X)\n",
    "    toc(ts, \"Creating PCA components\")\n",
    "    return pca\n",
    "\n",
    "# could probably just initialize PCA with max components first, then just subset the\n",
    "# eigenvectors, but I'm too lazy to do that\n",
    "allpcas = [create_pca(cons_train_data, i) for i in range(2, 60)]\n",
    "pcatrf_funcs = [pca.transform for pca in allpcas]"
   ]
  },
  {
   "cell_type": "code",
   "execution_count": 36,
   "metadata": {},
   "outputs": [],
   "source": [
    "pcatrf_funcs = [pca.transform for pca in allpcas]"
   ]
  },
  {
   "cell_type": "markdown",
   "metadata": {},
   "source": [
    "### Logistic regression linear classifier"
   ]
  },
  {
   "cell_type": "code",
   "execution_count": 37,
   "metadata": {},
   "outputs": [
    {
     "name": "stdout",
     "output_type": "stream",
     "text": [
      "n_components: 2\n"
     ]
    },
    {
     "name": "stderr",
     "output_type": "stream",
     "text": [
      "/Users/jerry/mambaforge/envs/ece271bpr/lib/python3.10/site-packages/sklearn/linear_model/_logistic.py:469: ConvergenceWarning: lbfgs failed to converge (status=1):\n",
      "STOP: TOTAL NO. of ITERATIONS REACHED LIMIT.\n",
      "\n",
      "Increase the number of iterations (max_iter) or scale the data as shown in:\n",
      "    https://scikit-learn.org/stable/modules/preprocessing.html\n",
      "Please also refer to the documentation for alternative solver options:\n",
      "    https://scikit-learn.org/stable/modules/linear_model.html#logistic-regression\n",
      "  n_iter_i = _check_optimize_result(\n"
     ]
    },
    {
     "name": "stdout",
     "output_type": "stream",
     "text": [
      "Logistic Regression training took: 7.1684887409210205 sec.\n",
      "\n",
      "Model testing took: 0.05433011054992676 sec.\n",
      "\n",
      "handwritten-isolated score: 0.046875\n",
      "notMNIST score: 0.16506410256410256\n",
      "standard OCR score: 0.024005648387855967\n",
      "EMNIST score: 0.09059652741963212\n",
      "Aggregate score: 0.08530957569542366\n",
      "------\n",
      "n_components: 3\n"
     ]
    },
    {
     "name": "stderr",
     "output_type": "stream",
     "text": [
      "/Users/jerry/mambaforge/envs/ece271bpr/lib/python3.10/site-packages/sklearn/linear_model/_logistic.py:469: ConvergenceWarning: lbfgs failed to converge (status=1):\n",
      "STOP: TOTAL NO. of ITERATIONS REACHED LIMIT.\n",
      "\n",
      "Increase the number of iterations (max_iter) or scale the data as shown in:\n",
      "    https://scikit-learn.org/stable/modules/preprocessing.html\n",
      "Please also refer to the documentation for alternative solver options:\n",
      "    https://scikit-learn.org/stable/modules/linear_model.html#logistic-regression\n",
      "  n_iter_i = _check_optimize_result(\n"
     ]
    },
    {
     "name": "stdout",
     "output_type": "stream",
     "text": [
      "Logistic Regression training took: 7.382493019104004 sec.\n",
      "\n",
      "Model testing took: 0.0487360954284668 sec.\n",
      "\n",
      "handwritten-isolated score: 0.036830357142857144\n",
      "notMNIST score: 0.17601495726495728\n",
      "standard OCR score: 0.029654036243822075\n",
      "EMNIST score: 0.11707065497679216\n",
      "Aggregate score: 0.09819253941802333\n",
      "------\n",
      "n_components: 4\n"
     ]
    },
    {
     "name": "stderr",
     "output_type": "stream",
     "text": [
      "/Users/jerry/mambaforge/envs/ece271bpr/lib/python3.10/site-packages/sklearn/linear_model/_logistic.py:469: ConvergenceWarning: lbfgs failed to converge (status=1):\n",
      "STOP: TOTAL NO. of ITERATIONS REACHED LIMIT.\n",
      "\n",
      "Increase the number of iterations (max_iter) or scale the data as shown in:\n",
      "    https://scikit-learn.org/stable/modules/preprocessing.html\n",
      "Please also refer to the documentation for alternative solver options:\n",
      "    https://scikit-learn.org/stable/modules/linear_model.html#logistic-regression\n",
      "  n_iter_i = _check_optimize_result(\n"
     ]
    },
    {
     "name": "stdout",
     "output_type": "stream",
     "text": [
      "Logistic Regression training took: 7.366891145706177 sec.\n",
      "\n",
      "Model testing took: 0.05463910102844238 sec.\n",
      "\n",
      "handwritten-isolated score: 0.041294642857142856\n",
      "notMNIST score: 0.19951923076923078\n",
      "standard OCR score: 0.028712638267827724\n",
      "EMNIST score: 0.13116726835138387\n",
      "Aggregate score: 0.10934495577490065\n",
      "------\n",
      "n_components: 5\n"
     ]
    },
    {
     "name": "stderr",
     "output_type": "stream",
     "text": [
      "/Users/jerry/mambaforge/envs/ece271bpr/lib/python3.10/site-packages/sklearn/linear_model/_logistic.py:469: ConvergenceWarning: lbfgs failed to converge (status=1):\n",
      "STOP: TOTAL NO. of ITERATIONS REACHED LIMIT.\n",
      "\n",
      "Increase the number of iterations (max_iter) or scale the data as shown in:\n",
      "    https://scikit-learn.org/stable/modules/preprocessing.html\n",
      "Please also refer to the documentation for alternative solver options:\n",
      "    https://scikit-learn.org/stable/modules/linear_model.html#logistic-regression\n",
      "  n_iter_i = _check_optimize_result(\n"
     ]
    },
    {
     "name": "stdout",
     "output_type": "stream",
     "text": [
      "Logistic Regression training took: 7.116225719451904 sec.\n",
      "\n",
      "Model testing took: 0.048915863037109375 sec.\n",
      "\n",
      "handwritten-isolated score: 0.04017857142857143\n",
      "notMNIST score: 0.28552350427350426\n",
      "standard OCR score: 0.02800658978583196\n",
      "EMNIST score: 0.15918858518136497\n",
      "Aggregate score: 0.14011024227663121\n",
      "------\n",
      "n_components: 6\n"
     ]
    },
    {
     "name": "stderr",
     "output_type": "stream",
     "text": [
      "/Users/jerry/mambaforge/envs/ece271bpr/lib/python3.10/site-packages/sklearn/linear_model/_logistic.py:469: ConvergenceWarning: lbfgs failed to converge (status=1):\n",
      "STOP: TOTAL NO. of ITERATIONS REACHED LIMIT.\n",
      "\n",
      "Increase the number of iterations (max_iter) or scale the data as shown in:\n",
      "    https://scikit-learn.org/stable/modules/preprocessing.html\n",
      "Please also refer to the documentation for alternative solver options:\n",
      "    https://scikit-learn.org/stable/modules/linear_model.html#logistic-regression\n",
      "  n_iter_i = _check_optimize_result(\n"
     ]
    },
    {
     "name": "stdout",
     "output_type": "stream",
     "text": [
      "Logistic Regression training took: 7.315631151199341 sec.\n",
      "\n",
      "Model testing took: 0.054594993591308594 sec.\n",
      "\n",
      "handwritten-isolated score: 0.04408482142857143\n",
      "notMNIST score: 0.3384081196581197\n",
      "standard OCR score: 0.05413038361967522\n",
      "EMNIST score: 0.18531889290012032\n",
      "Aggregate score: 0.17010639661581847\n",
      "------\n",
      "n_components: 7\n"
     ]
    },
    {
     "name": "stderr",
     "output_type": "stream",
     "text": [
      "/Users/jerry/mambaforge/envs/ece271bpr/lib/python3.10/site-packages/sklearn/linear_model/_logistic.py:469: ConvergenceWarning: lbfgs failed to converge (status=1):\n",
      "STOP: TOTAL NO. of ITERATIONS REACHED LIMIT.\n",
      "\n",
      "Increase the number of iterations (max_iter) or scale the data as shown in:\n",
      "    https://scikit-learn.org/stable/modules/preprocessing.html\n",
      "Please also refer to the documentation for alternative solver options:\n",
      "    https://scikit-learn.org/stable/modules/linear_model.html#logistic-regression\n",
      "  n_iter_i = _check_optimize_result(\n"
     ]
    },
    {
     "name": "stdout",
     "output_type": "stream",
     "text": [
      "Logistic Regression training took: 7.636704683303833 sec.\n",
      "\n",
      "Model testing took: 0.0557398796081543 sec.\n",
      "\n",
      "handwritten-isolated score: 0.032924107142857144\n",
      "notMNIST score: 0.3640491452991453\n",
      "standard OCR score: 0.08896210873146623\n",
      "EMNIST score: 0.19769640708268868\n",
      "Aggregate score: 0.18907832329188565\n",
      "------\n",
      "n_components: 8\n"
     ]
    },
    {
     "name": "stderr",
     "output_type": "stream",
     "text": [
      "/Users/jerry/mambaforge/envs/ece271bpr/lib/python3.10/site-packages/sklearn/linear_model/_logistic.py:469: ConvergenceWarning: lbfgs failed to converge (status=1):\n",
      "STOP: TOTAL NO. of ITERATIONS REACHED LIMIT.\n",
      "\n",
      "Increase the number of iterations (max_iter) or scale the data as shown in:\n",
      "    https://scikit-learn.org/stable/modules/preprocessing.html\n",
      "Please also refer to the documentation for alternative solver options:\n",
      "    https://scikit-learn.org/stable/modules/linear_model.html#logistic-regression\n",
      "  n_iter_i = _check_optimize_result(\n"
     ]
    },
    {
     "name": "stdout",
     "output_type": "stream",
     "text": [
      "Logistic Regression training took: 7.58576512336731 sec.\n",
      "\n",
      "Model testing took: 0.05186796188354492 sec.\n",
      "\n",
      "handwritten-isolated score: 0.029017857142857144\n",
      "notMNIST score: 0.4238782051282051\n",
      "standard OCR score: 0.1108496116733349\n",
      "EMNIST score: 0.22932783221591885\n",
      "Aggregate score: 0.22074093064991668\n",
      "------\n",
      "n_components: 9\n"
     ]
    },
    {
     "name": "stderr",
     "output_type": "stream",
     "text": [
      "/Users/jerry/mambaforge/envs/ece271bpr/lib/python3.10/site-packages/sklearn/linear_model/_logistic.py:469: ConvergenceWarning: lbfgs failed to converge (status=1):\n",
      "STOP: TOTAL NO. of ITERATIONS REACHED LIMIT.\n",
      "\n",
      "Increase the number of iterations (max_iter) or scale the data as shown in:\n",
      "    https://scikit-learn.org/stable/modules/preprocessing.html\n",
      "Please also refer to the documentation for alternative solver options:\n",
      "    https://scikit-learn.org/stable/modules/linear_model.html#logistic-regression\n",
      "  n_iter_i = _check_optimize_result(\n"
     ]
    },
    {
     "name": "stdout",
     "output_type": "stream",
     "text": [
      "Logistic Regression training took: 7.715240001678467 sec.\n",
      "\n",
      "Model testing took: 0.06856489181518555 sec.\n",
      "\n",
      "handwritten-isolated score: 0.037388392857142856\n",
      "notMNIST score: 0.4577991452991453\n",
      "standard OCR score: 0.14473993880913155\n",
      "EMNIST score: 0.2552862300154719\n",
      "Aggregate score: 0.24875016023586718\n",
      "------\n",
      "n_components: 10\n"
     ]
    },
    {
     "name": "stderr",
     "output_type": "stream",
     "text": [
      "/Users/jerry/mambaforge/envs/ece271bpr/lib/python3.10/site-packages/sklearn/linear_model/_logistic.py:469: ConvergenceWarning: lbfgs failed to converge (status=1):\n",
      "STOP: TOTAL NO. of ITERATIONS REACHED LIMIT.\n",
      "\n",
      "Increase the number of iterations (max_iter) or scale the data as shown in:\n",
      "    https://scikit-learn.org/stable/modules/preprocessing.html\n",
      "Please also refer to the documentation for alternative solver options:\n",
      "    https://scikit-learn.org/stable/modules/linear_model.html#logistic-regression\n",
      "  n_iter_i = _check_optimize_result(\n"
     ]
    },
    {
     "name": "stdout",
     "output_type": "stream",
     "text": [
      "Logistic Regression training took: 7.76885199546814 sec.\n",
      "\n",
      "Model testing took: 0.06622576713562012 sec.\n",
      "\n",
      "handwritten-isolated score: 0.037388392857142856\n",
      "notMNIST score: 0.4636752136752137\n",
      "standard OCR score: 0.13485526006119086\n",
      "EMNIST score: 0.27075812274368233\n",
      "Aggregate score: 0.2532367645173696\n",
      "------\n",
      "n_components: 11\n"
     ]
    },
    {
     "name": "stderr",
     "output_type": "stream",
     "text": [
      "/Users/jerry/mambaforge/envs/ece271bpr/lib/python3.10/site-packages/sklearn/linear_model/_logistic.py:469: ConvergenceWarning: lbfgs failed to converge (status=1):\n",
      "STOP: TOTAL NO. of ITERATIONS REACHED LIMIT.\n",
      "\n",
      "Increase the number of iterations (max_iter) or scale the data as shown in:\n",
      "    https://scikit-learn.org/stable/modules/preprocessing.html\n",
      "Please also refer to the documentation for alternative solver options:\n",
      "    https://scikit-learn.org/stable/modules/linear_model.html#logistic-regression\n",
      "  n_iter_i = _check_optimize_result(\n"
     ]
    },
    {
     "name": "stdout",
     "output_type": "stream",
     "text": [
      "Logistic Regression training took: 7.917842864990234 sec.\n",
      "\n",
      "Model testing took: 0.0726318359375 sec.\n",
      "\n",
      "handwritten-isolated score: 0.040736607142857144\n",
      "notMNIST score: 0.4794337606837607\n",
      "standard OCR score: 0.15580136502706518\n",
      "EMNIST score: 0.28623001547189275\n",
      "Aggregate score: 0.2688757851557493\n",
      "------\n",
      "n_components: 12\n"
     ]
    },
    {
     "name": "stderr",
     "output_type": "stream",
     "text": [
      "/Users/jerry/mambaforge/envs/ece271bpr/lib/python3.10/site-packages/sklearn/linear_model/_logistic.py:469: ConvergenceWarning: lbfgs failed to converge (status=1):\n",
      "STOP: TOTAL NO. of ITERATIONS REACHED LIMIT.\n",
      "\n",
      "Increase the number of iterations (max_iter) or scale the data as shown in:\n",
      "    https://scikit-learn.org/stable/modules/preprocessing.html\n",
      "Please also refer to the documentation for alternative solver options:\n",
      "    https://scikit-learn.org/stable/modules/linear_model.html#logistic-regression\n",
      "  n_iter_i = _check_optimize_result(\n"
     ]
    },
    {
     "name": "stdout",
     "output_type": "stream",
     "text": [
      "Logistic Regression training took: 7.868940114974976 sec.\n",
      "\n",
      "Model testing took: 0.06167101860046387 sec.\n",
      "\n",
      "handwritten-isolated score: 0.03515625\n",
      "notMNIST score: 0.4751602564102564\n",
      "standard OCR score: 0.17886561543892682\n",
      "EMNIST score: 0.2888086642599278\n",
      "Aggregate score: 0.2744519933341879\n",
      "------\n",
      "n_components: 13\n"
     ]
    },
    {
     "name": "stderr",
     "output_type": "stream",
     "text": [
      "/Users/jerry/mambaforge/envs/ece271bpr/lib/python3.10/site-packages/sklearn/linear_model/_logistic.py:469: ConvergenceWarning: lbfgs failed to converge (status=1):\n",
      "STOP: TOTAL NO. of ITERATIONS REACHED LIMIT.\n",
      "\n",
      "Increase the number of iterations (max_iter) or scale the data as shown in:\n",
      "    https://scikit-learn.org/stable/modules/preprocessing.html\n",
      "Please also refer to the documentation for alternative solver options:\n",
      "    https://scikit-learn.org/stable/modules/linear_model.html#logistic-regression\n",
      "  n_iter_i = _check_optimize_result(\n"
     ]
    },
    {
     "name": "stdout",
     "output_type": "stream",
     "text": [
      "Logistic Regression training took: 7.8660078048706055 sec.\n",
      "\n",
      "Model testing took: 0.054669857025146484 sec.\n",
      "\n",
      "handwritten-isolated score: 0.03180803571428571\n",
      "notMNIST score: 0.4778311965811966\n",
      "standard OCR score: 0.19322193457284068\n",
      "EMNIST score: 0.3004985387656868\n",
      "Aggregate score: 0.28297654146904244\n",
      "------\n",
      "n_components: 14\n"
     ]
    },
    {
     "name": "stderr",
     "output_type": "stream",
     "text": [
      "/Users/jerry/mambaforge/envs/ece271bpr/lib/python3.10/site-packages/sklearn/linear_model/_logistic.py:469: ConvergenceWarning: lbfgs failed to converge (status=1):\n",
      "STOP: TOTAL NO. of ITERATIONS REACHED LIMIT.\n",
      "\n",
      "Increase the number of iterations (max_iter) or scale the data as shown in:\n",
      "    https://scikit-learn.org/stable/modules/preprocessing.html\n",
      "Please also refer to the documentation for alternative solver options:\n",
      "    https://scikit-learn.org/stable/modules/linear_model.html#logistic-regression\n",
      "  n_iter_i = _check_optimize_result(\n"
     ]
    },
    {
     "name": "stdout",
     "output_type": "stream",
     "text": [
      "Logistic Regression training took: 8.22519302368164 sec.\n",
      "\n",
      "Model testing took: 0.07803583145141602 sec.\n",
      "\n",
      "handwritten-isolated score: 0.03404017857142857\n",
      "notMNIST score: 0.4751602564102564\n",
      "standard OCR score: 0.2024005648387856\n",
      "EMNIST score: 0.3017019082001031\n",
      "Aggregate score: 0.28554031534418667\n",
      "------\n",
      "n_components: 15\n"
     ]
    },
    {
     "name": "stderr",
     "output_type": "stream",
     "text": [
      "/Users/jerry/mambaforge/envs/ece271bpr/lib/python3.10/site-packages/sklearn/linear_model/_logistic.py:469: ConvergenceWarning: lbfgs failed to converge (status=1):\n",
      "STOP: TOTAL NO. of ITERATIONS REACHED LIMIT.\n",
      "\n",
      "Increase the number of iterations (max_iter) or scale the data as shown in:\n",
      "    https://scikit-learn.org/stable/modules/preprocessing.html\n",
      "Please also refer to the documentation for alternative solver options:\n",
      "    https://scikit-learn.org/stable/modules/linear_model.html#logistic-regression\n",
      "  n_iter_i = _check_optimize_result(\n"
     ]
    },
    {
     "name": "stdout",
     "output_type": "stream",
     "text": [
      "Logistic Regression training took: 7.9735331535339355 sec.\n",
      "\n",
      "Model testing took: 0.058837890625 sec.\n",
      "\n",
      "handwritten-isolated score: 0.03236607142857143\n",
      "notMNIST score: 0.484508547008547\n",
      "standard OCR score: 0.21252059308072488\n",
      "EMNIST score: 0.29534124118961663\n",
      "Aggregate score: 0.28797590052557365\n",
      "------\n",
      "n_components: 16\n"
     ]
    },
    {
     "name": "stderr",
     "output_type": "stream",
     "text": [
      "/Users/jerry/mambaforge/envs/ece271bpr/lib/python3.10/site-packages/sklearn/linear_model/_logistic.py:469: ConvergenceWarning: lbfgs failed to converge (status=1):\n",
      "STOP: TOTAL NO. of ITERATIONS REACHED LIMIT.\n",
      "\n",
      "Increase the number of iterations (max_iter) or scale the data as shown in:\n",
      "    https://scikit-learn.org/stable/modules/preprocessing.html\n",
      "Please also refer to the documentation for alternative solver options:\n",
      "    https://scikit-learn.org/stable/modules/linear_model.html#logistic-regression\n",
      "  n_iter_i = _check_optimize_result(\n"
     ]
    },
    {
     "name": "stdout",
     "output_type": "stream",
     "text": [
      "Logistic Regression training took: 7.98166298866272 sec.\n",
      "\n",
      "Model testing took: 0.06467485427856445 sec.\n",
      "\n",
      "handwritten-isolated score: 0.03850446428571429\n",
      "notMNIST score: 0.4906517094017094\n",
      "standard OCR score: 0.2541774535184749\n",
      "EMNIST score: 0.3059996561801616\n",
      "Aggregate score: 0.3054736572234329\n",
      "------\n",
      "n_components: 17\n"
     ]
    },
    {
     "name": "stderr",
     "output_type": "stream",
     "text": [
      "/Users/jerry/mambaforge/envs/ece271bpr/lib/python3.10/site-packages/sklearn/linear_model/_logistic.py:469: ConvergenceWarning: lbfgs failed to converge (status=1):\n",
      "STOP: TOTAL NO. of ITERATIONS REACHED LIMIT.\n",
      "\n",
      "Increase the number of iterations (max_iter) or scale the data as shown in:\n",
      "    https://scikit-learn.org/stable/modules/preprocessing.html\n",
      "Please also refer to the documentation for alternative solver options:\n",
      "    https://scikit-learn.org/stable/modules/linear_model.html#logistic-regression\n",
      "  n_iter_i = _check_optimize_result(\n"
     ]
    },
    {
     "name": "stdout",
     "output_type": "stream",
     "text": [
      "Logistic Regression training took: 9.841551065444946 sec.\n",
      "\n",
      "Model testing took: 0.07429718971252441 sec.\n",
      "\n",
      "handwritten-isolated score: 0.037388392857142856\n",
      "notMNIST score: 0.5117521367521367\n",
      "standard OCR score: 0.26429748176041423\n",
      "EMNIST score: 0.31476706205948085\n",
      "Aggregate score: 0.3164337905396744\n",
      "------\n",
      "n_components: 18\n"
     ]
    },
    {
     "name": "stderr",
     "output_type": "stream",
     "text": [
      "/Users/jerry/mambaforge/envs/ece271bpr/lib/python3.10/site-packages/sklearn/linear_model/_logistic.py:469: ConvergenceWarning: lbfgs failed to converge (status=1):\n",
      "STOP: TOTAL NO. of ITERATIONS REACHED LIMIT.\n",
      "\n",
      "Increase the number of iterations (max_iter) or scale the data as shown in:\n",
      "    https://scikit-learn.org/stable/modules/preprocessing.html\n",
      "Please also refer to the documentation for alternative solver options:\n",
      "    https://scikit-learn.org/stable/modules/linear_model.html#logistic-regression\n",
      "  n_iter_i = _check_optimize_result(\n"
     ]
    },
    {
     "name": "stdout",
     "output_type": "stream",
     "text": [
      "Logistic Regression training took: 8.064130067825317 sec.\n",
      "\n",
      "Model testing took: 0.059472084045410156 sec.\n",
      "\n",
      "handwritten-isolated score: 0.037388392857142856\n",
      "notMNIST score: 0.5109508547008547\n",
      "standard OCR score: 0.26359143327841844\n",
      "EMNIST score: 0.31717380092831354\n",
      "Aggregate score: 0.31694654531470323\n",
      "------\n",
      "n_components: 19\n"
     ]
    },
    {
     "name": "stderr",
     "output_type": "stream",
     "text": [
      "/Users/jerry/mambaforge/envs/ece271bpr/lib/python3.10/site-packages/sklearn/linear_model/_logistic.py:469: ConvergenceWarning: lbfgs failed to converge (status=1):\n",
      "STOP: TOTAL NO. of ITERATIONS REACHED LIMIT.\n",
      "\n",
      "Increase the number of iterations (max_iter) or scale the data as shown in:\n",
      "    https://scikit-learn.org/stable/modules/preprocessing.html\n",
      "Please also refer to the documentation for alternative solver options:\n",
      "    https://scikit-learn.org/stable/modules/linear_model.html#logistic-regression\n",
      "  n_iter_i = _check_optimize_result(\n"
     ]
    },
    {
     "name": "stdout",
     "output_type": "stream",
     "text": [
      "Logistic Regression training took: 8.26926302909851 sec.\n",
      "\n",
      "Model testing took: 0.058923959732055664 sec.\n",
      "\n",
      "handwritten-isolated score: 0.03850446428571429\n",
      "notMNIST score: 0.5197649572649573\n",
      "standard OCR score: 0.28689103318427867\n",
      "EMNIST score: 0.32250300842358604\n",
      "Aggregate score: 0.3275221125496731\n",
      "------\n",
      "n_components: 20\n"
     ]
    },
    {
     "name": "stderr",
     "output_type": "stream",
     "text": [
      "/Users/jerry/mambaforge/envs/ece271bpr/lib/python3.10/site-packages/sklearn/linear_model/_logistic.py:469: ConvergenceWarning: lbfgs failed to converge (status=1):\n",
      "STOP: TOTAL NO. of ITERATIONS REACHED LIMIT.\n",
      "\n",
      "Increase the number of iterations (max_iter) or scale the data as shown in:\n",
      "    https://scikit-learn.org/stable/modules/preprocessing.html\n",
      "Please also refer to the documentation for alternative solver options:\n",
      "    https://scikit-learn.org/stable/modules/linear_model.html#logistic-regression\n",
      "  n_iter_i = _check_optimize_result(\n"
     ]
    },
    {
     "name": "stdout",
     "output_type": "stream",
     "text": [
      "Logistic Regression training took: 11.197283267974854 sec.\n",
      "\n",
      "Model testing took: 0.06975007057189941 sec.\n",
      "\n",
      "handwritten-isolated score: 0.03515625\n",
      "notMNIST score: 0.5275106837606838\n",
      "standard OCR score: 0.29865850788420806\n",
      "EMNIST score: 0.33436479284854737\n",
      "Aggregate score: 0.3366235098064351\n",
      "------\n",
      "n_components: 21\n"
     ]
    },
    {
     "name": "stderr",
     "output_type": "stream",
     "text": [
      "/Users/jerry/mambaforge/envs/ece271bpr/lib/python3.10/site-packages/sklearn/linear_model/_logistic.py:469: ConvergenceWarning: lbfgs failed to converge (status=1):\n",
      "STOP: TOTAL NO. of ITERATIONS REACHED LIMIT.\n",
      "\n",
      "Increase the number of iterations (max_iter) or scale the data as shown in:\n",
      "    https://scikit-learn.org/stable/modules/preprocessing.html\n",
      "Please also refer to the documentation for alternative solver options:\n",
      "    https://scikit-learn.org/stable/modules/linear_model.html#logistic-regression\n",
      "  n_iter_i = _check_optimize_result(\n"
     ]
    },
    {
     "name": "stdout",
     "output_type": "stream",
     "text": [
      "Logistic Regression training took: 12.597921133041382 sec.\n",
      "\n",
      "Model testing took: 0.09164905548095703 sec.\n",
      "\n",
      "handwritten-isolated score: 0.037388392857142856\n",
      "notMNIST score: 0.5275106837606838\n",
      "standard OCR score: 0.31230877853612615\n",
      "EMNIST score: 0.34210073921265255\n",
      "Aggregate score: 0.34348160492244584\n",
      "------\n",
      "n_components: 22\n"
     ]
    },
    {
     "name": "stderr",
     "output_type": "stream",
     "text": [
      "/Users/jerry/mambaforge/envs/ece271bpr/lib/python3.10/site-packages/sklearn/linear_model/_logistic.py:469: ConvergenceWarning: lbfgs failed to converge (status=1):\n",
      "STOP: TOTAL NO. of ITERATIONS REACHED LIMIT.\n",
      "\n",
      "Increase the number of iterations (max_iter) or scale the data as shown in:\n",
      "    https://scikit-learn.org/stable/modules/preprocessing.html\n",
      "Please also refer to the documentation for alternative solver options:\n",
      "    https://scikit-learn.org/stable/modules/linear_model.html#logistic-regression\n",
      "  n_iter_i = _check_optimize_result(\n"
     ]
    },
    {
     "name": "stdout",
     "output_type": "stream",
     "text": [
      "Logistic Regression training took: 11.921937942504883 sec.\n",
      "\n",
      "Model testing took: 0.07873201370239258 sec.\n",
      "\n",
      "handwritten-isolated score: 0.037388392857142856\n",
      "notMNIST score: 0.5291132478632479\n",
      "standard OCR score: 0.3167804189220993\n",
      "EMNIST score: 0.34416365824308065\n",
      "Aggregate score: 0.3458530957569542\n",
      "------\n",
      "n_components: 23\n"
     ]
    },
    {
     "name": "stderr",
     "output_type": "stream",
     "text": [
      "/Users/jerry/mambaforge/envs/ece271bpr/lib/python3.10/site-packages/sklearn/linear_model/_logistic.py:469: ConvergenceWarning: lbfgs failed to converge (status=1):\n",
      "STOP: TOTAL NO. of ITERATIONS REACHED LIMIT.\n",
      "\n",
      "Increase the number of iterations (max_iter) or scale the data as shown in:\n",
      "    https://scikit-learn.org/stable/modules/preprocessing.html\n",
      "Please also refer to the documentation for alternative solver options:\n",
      "    https://scikit-learn.org/stable/modules/linear_model.html#logistic-regression\n",
      "  n_iter_i = _check_optimize_result(\n"
     ]
    },
    {
     "name": "stdout",
     "output_type": "stream",
     "text": [
      "Logistic Regression training took: 12.080279111862183 sec.\n",
      "\n",
      "Model testing took: 0.09605669975280762 sec.\n",
      "\n",
      "handwritten-isolated score: 0.03794642857142857\n",
      "notMNIST score: 0.5285790598290598\n",
      "standard OCR score: 0.31960461285008235\n",
      "EMNIST score: 0.34639848719271105\n",
      "Aggregate score: 0.34739136008204075\n",
      "------\n",
      "n_components: 24\n"
     ]
    },
    {
     "name": "stderr",
     "output_type": "stream",
     "text": [
      "/Users/jerry/mambaforge/envs/ece271bpr/lib/python3.10/site-packages/sklearn/linear_model/_logistic.py:469: ConvergenceWarning: lbfgs failed to converge (status=1):\n",
      "STOP: TOTAL NO. of ITERATIONS REACHED LIMIT.\n",
      "\n",
      "Increase the number of iterations (max_iter) or scale the data as shown in:\n",
      "    https://scikit-learn.org/stable/modules/preprocessing.html\n",
      "Please also refer to the documentation for alternative solver options:\n",
      "    https://scikit-learn.org/stable/modules/linear_model.html#logistic-regression\n",
      "  n_iter_i = _check_optimize_result(\n"
     ]
    },
    {
     "name": "stdout",
     "output_type": "stream",
     "text": [
      "Logistic Regression training took: 12.749770879745483 sec.\n",
      "\n",
      "Model testing took: 0.08775591850280762 sec.\n",
      "\n",
      "handwritten-isolated score: 0.03962053571428571\n",
      "notMNIST score: 0.5296474358974359\n",
      "standard OCR score: 0.3245469522240527\n",
      "EMNIST score: 0.3494928657383531\n",
      "Aggregate score: 0.3503397000384566\n",
      "------\n",
      "n_components: 25\n"
     ]
    },
    {
     "name": "stderr",
     "output_type": "stream",
     "text": [
      "/Users/jerry/mambaforge/envs/ece271bpr/lib/python3.10/site-packages/sklearn/linear_model/_logistic.py:469: ConvergenceWarning: lbfgs failed to converge (status=1):\n",
      "STOP: TOTAL NO. of ITERATIONS REACHED LIMIT.\n",
      "\n",
      "Increase the number of iterations (max_iter) or scale the data as shown in:\n",
      "    https://scikit-learn.org/stable/modules/preprocessing.html\n",
      "Please also refer to the documentation for alternative solver options:\n",
      "    https://scikit-learn.org/stable/modules/linear_model.html#logistic-regression\n",
      "  n_iter_i = _check_optimize_result(\n"
     ]
    },
    {
     "name": "stdout",
     "output_type": "stream",
     "text": [
      "Logistic Regression training took: 12.887789964675903 sec.\n",
      "\n",
      "Model testing took: 0.07763886451721191 sec.\n",
      "\n",
      "handwritten-isolated score: 0.04017857142857143\n",
      "notMNIST score: 0.5400641025641025\n",
      "standard OCR score: 0.3285478936220287\n",
      "EMNIST score: 0.34914904589994844\n",
      "Aggregate score: 0.3538648891167799\n",
      "------\n",
      "n_components: 26\n"
     ]
    },
    {
     "name": "stderr",
     "output_type": "stream",
     "text": [
      "/Users/jerry/mambaforge/envs/ece271bpr/lib/python3.10/site-packages/sklearn/linear_model/_logistic.py:469: ConvergenceWarning: lbfgs failed to converge (status=1):\n",
      "STOP: TOTAL NO. of ITERATIONS REACHED LIMIT.\n",
      "\n",
      "Increase the number of iterations (max_iter) or scale the data as shown in:\n",
      "    https://scikit-learn.org/stable/modules/preprocessing.html\n",
      "Please also refer to the documentation for alternative solver options:\n",
      "    https://scikit-learn.org/stable/modules/linear_model.html#logistic-regression\n",
      "  n_iter_i = _check_optimize_result(\n"
     ]
    },
    {
     "name": "stdout",
     "output_type": "stream",
     "text": [
      "Logistic Regression training took: 13.35968279838562 sec.\n",
      "\n",
      "Model testing took: 0.0964500904083252 sec.\n",
      "\n",
      "handwritten-isolated score: 0.041294642857142856\n",
      "notMNIST score: 0.5328525641025641\n",
      "standard OCR score: 0.33537302894798776\n",
      "EMNIST score: 0.3498366855767578\n",
      "Aggregate score: 0.35437764389180876\n",
      "------\n",
      "n_components: 27\n"
     ]
    },
    {
     "name": "stderr",
     "output_type": "stream",
     "text": [
      "/Users/jerry/mambaforge/envs/ece271bpr/lib/python3.10/site-packages/sklearn/linear_model/_logistic.py:469: ConvergenceWarning: lbfgs failed to converge (status=1):\n",
      "STOP: TOTAL NO. of ITERATIONS REACHED LIMIT.\n",
      "\n",
      "Increase the number of iterations (max_iter) or scale the data as shown in:\n",
      "    https://scikit-learn.org/stable/modules/preprocessing.html\n",
      "Please also refer to the documentation for alternative solver options:\n",
      "    https://scikit-learn.org/stable/modules/linear_model.html#logistic-regression\n",
      "  n_iter_i = _check_optimize_result(\n"
     ]
    },
    {
     "name": "stdout",
     "output_type": "stream",
     "text": [
      "Logistic Regression training took: 12.177039861679077 sec.\n",
      "\n",
      "Model testing took: 0.07998371124267578 sec.\n",
      "\n",
      "handwritten-isolated score: 0.04296875\n",
      "notMNIST score: 0.531517094017094\n",
      "standard OCR score: 0.3464344551659214\n",
      "EMNIST score: 0.35808836169847\n",
      "Aggregate score: 0.360338418151519\n",
      "------\n",
      "n_components: 28\n"
     ]
    },
    {
     "name": "stderr",
     "output_type": "stream",
     "text": [
      "/Users/jerry/mambaforge/envs/ece271bpr/lib/python3.10/site-packages/sklearn/linear_model/_logistic.py:469: ConvergenceWarning: lbfgs failed to converge (status=1):\n",
      "STOP: TOTAL NO. of ITERATIONS REACHED LIMIT.\n",
      "\n",
      "Increase the number of iterations (max_iter) or scale the data as shown in:\n",
      "    https://scikit-learn.org/stable/modules/preprocessing.html\n",
      "Please also refer to the documentation for alternative solver options:\n",
      "    https://scikit-learn.org/stable/modules/linear_model.html#logistic-regression\n",
      "  n_iter_i = _check_optimize_result(\n"
     ]
    },
    {
     "name": "stdout",
     "output_type": "stream",
     "text": [
      "Logistic Regression training took: 12.558691024780273 sec.\n",
      "\n",
      "Model testing took: 0.07595181465148926 sec.\n",
      "\n",
      "handwritten-isolated score: 0.04241071428571429\n",
      "notMNIST score: 0.5405982905982906\n",
      "standard OCR score: 0.35090609555189456\n",
      "EMNIST score: 0.3567130823448513\n",
      "Aggregate score: 0.3631585694141777\n",
      "------\n",
      "n_components: 29\n"
     ]
    },
    {
     "name": "stderr",
     "output_type": "stream",
     "text": [
      "/Users/jerry/mambaforge/envs/ece271bpr/lib/python3.10/site-packages/sklearn/linear_model/_logistic.py:469: ConvergenceWarning: lbfgs failed to converge (status=1):\n",
      "STOP: TOTAL NO. of ITERATIONS REACHED LIMIT.\n",
      "\n",
      "Increase the number of iterations (max_iter) or scale the data as shown in:\n",
      "    https://scikit-learn.org/stable/modules/preprocessing.html\n",
      "Please also refer to the documentation for alternative solver options:\n",
      "    https://scikit-learn.org/stable/modules/linear_model.html#logistic-regression\n",
      "  n_iter_i = _check_optimize_result(\n"
     ]
    },
    {
     "name": "stdout",
     "output_type": "stream",
     "text": [
      "Logistic Regression training took: 11.897305965423584 sec.\n",
      "\n",
      "Model testing took: 0.11412596702575684 sec.\n",
      "\n",
      "handwritten-isolated score: 0.03962053571428571\n",
      "notMNIST score: 0.5405982905982906\n",
      "standard OCR score: 0.36079077429983525\n",
      "EMNIST score: 0.3644490287089565\n",
      "Aggregate score: 0.3684143058582233\n",
      "------\n",
      "n_components: 30\n"
     ]
    },
    {
     "name": "stderr",
     "output_type": "stream",
     "text": [
      "/Users/jerry/mambaforge/envs/ece271bpr/lib/python3.10/site-packages/sklearn/linear_model/_logistic.py:469: ConvergenceWarning: lbfgs failed to converge (status=1):\n",
      "STOP: TOTAL NO. of ITERATIONS REACHED LIMIT.\n",
      "\n",
      "Increase the number of iterations (max_iter) or scale the data as shown in:\n",
      "    https://scikit-learn.org/stable/modules/preprocessing.html\n",
      "Please also refer to the documentation for alternative solver options:\n",
      "    https://scikit-learn.org/stable/modules/linear_model.html#logistic-regression\n",
      "  n_iter_i = _check_optimize_result(\n"
     ]
    },
    {
     "name": "stdout",
     "output_type": "stream",
     "text": [
      "Logistic Regression training took: 12.956143140792847 sec.\n",
      "\n",
      "Model testing took: 0.09709286689758301 sec.\n",
      "\n",
      "handwritten-isolated score: 0.04352678571428571\n",
      "notMNIST score: 0.5446047008547008\n",
      "standard OCR score: 0.3673805601317957\n",
      "EMNIST score: 0.36702767749699156\n",
      "Aggregate score: 0.37258043840533267\n",
      "------\n",
      "n_components: 31\n"
     ]
    },
    {
     "name": "stderr",
     "output_type": "stream",
     "text": [
      "/Users/jerry/mambaforge/envs/ece271bpr/lib/python3.10/site-packages/sklearn/linear_model/_logistic.py:469: ConvergenceWarning: lbfgs failed to converge (status=1):\n",
      "STOP: TOTAL NO. of ITERATIONS REACHED LIMIT.\n",
      "\n",
      "Increase the number of iterations (max_iter) or scale the data as shown in:\n",
      "    https://scikit-learn.org/stable/modules/preprocessing.html\n",
      "Please also refer to the documentation for alternative solver options:\n",
      "    https://scikit-learn.org/stable/modules/linear_model.html#logistic-regression\n",
      "  n_iter_i = _check_optimize_result(\n"
     ]
    },
    {
     "name": "stdout",
     "output_type": "stream",
     "text": [
      "Logistic Regression training took: 12.101919174194336 sec.\n",
      "\n",
      "Model testing took: 0.07714200019836426 sec.\n",
      "\n",
      "handwritten-isolated score: 0.04185267857142857\n",
      "notMNIST score: 0.5486111111111112\n",
      "standard OCR score: 0.3749117439397505\n",
      "EMNIST score: 0.3735602544266804\n",
      "Aggregate score: 0.37783617484937826\n",
      "------\n",
      "n_components: 32\n"
     ]
    },
    {
     "name": "stderr",
     "output_type": "stream",
     "text": [
      "/Users/jerry/mambaforge/envs/ece271bpr/lib/python3.10/site-packages/sklearn/linear_model/_logistic.py:469: ConvergenceWarning: lbfgs failed to converge (status=1):\n",
      "STOP: TOTAL NO. of ITERATIONS REACHED LIMIT.\n",
      "\n",
      "Increase the number of iterations (max_iter) or scale the data as shown in:\n",
      "    https://scikit-learn.org/stable/modules/preprocessing.html\n",
      "Please also refer to the documentation for alternative solver options:\n",
      "    https://scikit-learn.org/stable/modules/linear_model.html#logistic-regression\n",
      "  n_iter_i = _check_optimize_result(\n"
     ]
    },
    {
     "name": "stdout",
     "output_type": "stream",
     "text": [
      "Logistic Regression training took: 13.113505125045776 sec.\n",
      "\n",
      "Model testing took: 0.06960415840148926 sec.\n",
      "\n",
      "handwritten-isolated score: 0.04352678571428571\n",
      "notMNIST score: 0.5392628205128205\n",
      "standard OCR score: 0.38008943280771945\n",
      "EMNIST score: 0.37493553378029915\n",
      "Aggregate score: 0.37770798615562107\n",
      "------\n",
      "n_components: 33\n"
     ]
    },
    {
     "name": "stderr",
     "output_type": "stream",
     "text": [
      "/Users/jerry/mambaforge/envs/ece271bpr/lib/python3.10/site-packages/sklearn/linear_model/_logistic.py:469: ConvergenceWarning: lbfgs failed to converge (status=1):\n",
      "STOP: TOTAL NO. of ITERATIONS REACHED LIMIT.\n",
      "\n",
      "Increase the number of iterations (max_iter) or scale the data as shown in:\n",
      "    https://scikit-learn.org/stable/modules/preprocessing.html\n",
      "Please also refer to the documentation for alternative solver options:\n",
      "    https://scikit-learn.org/stable/modules/linear_model.html#logistic-regression\n",
      "  n_iter_i = _check_optimize_result(\n"
     ]
    },
    {
     "name": "stdout",
     "output_type": "stream",
     "text": [
      "Logistic Regression training took: 13.211704015731812 sec.\n",
      "\n",
      "Model testing took: 0.10043096542358398 sec.\n",
      "\n",
      "handwritten-isolated score: 0.04241071428571429\n",
      "notMNIST score: 0.5443376068376068\n",
      "standard OCR score: 0.3847964226876912\n",
      "EMNIST score: 0.37545126353790614\n",
      "Aggregate score: 0.3802717600307653\n",
      "------\n",
      "n_components: 34\n"
     ]
    },
    {
     "name": "stderr",
     "output_type": "stream",
     "text": [
      "/Users/jerry/mambaforge/envs/ece271bpr/lib/python3.10/site-packages/sklearn/linear_model/_logistic.py:469: ConvergenceWarning: lbfgs failed to converge (status=1):\n",
      "STOP: TOTAL NO. of ITERATIONS REACHED LIMIT.\n",
      "\n",
      "Increase the number of iterations (max_iter) or scale the data as shown in:\n",
      "    https://scikit-learn.org/stable/modules/preprocessing.html\n",
      "Please also refer to the documentation for alternative solver options:\n",
      "    https://scikit-learn.org/stable/modules/linear_model.html#logistic-regression\n",
      "  n_iter_i = _check_optimize_result(\n"
     ]
    },
    {
     "name": "stdout",
     "output_type": "stream",
     "text": [
      "Logistic Regression training took: 11.539191007614136 sec.\n",
      "\n",
      "Model testing took: 0.08613705635070801 sec.\n",
      "\n",
      "handwritten-isolated score: 0.045200892857142856\n",
      "notMNIST score: 0.5472756410256411\n",
      "standard OCR score: 0.3897387620616616\n",
      "EMNIST score: 0.3769984528107272\n",
      "Aggregate score: 0.38322009998718115\n",
      "------\n",
      "n_components: 35\n"
     ]
    },
    {
     "name": "stderr",
     "output_type": "stream",
     "text": [
      "/Users/jerry/mambaforge/envs/ece271bpr/lib/python3.10/site-packages/sklearn/linear_model/_logistic.py:469: ConvergenceWarning: lbfgs failed to converge (status=1):\n",
      "STOP: TOTAL NO. of ITERATIONS REACHED LIMIT.\n",
      "\n",
      "Increase the number of iterations (max_iter) or scale the data as shown in:\n",
      "    https://scikit-learn.org/stable/modules/preprocessing.html\n",
      "Please also refer to the documentation for alternative solver options:\n",
      "    https://scikit-learn.org/stable/modules/linear_model.html#logistic-regression\n",
      "  n_iter_i = _check_optimize_result(\n"
     ]
    },
    {
     "name": "stdout",
     "output_type": "stream",
     "text": [
      "Logistic Regression training took: 12.80766487121582 sec.\n",
      "\n",
      "Model testing took: 0.07767295837402344 sec.\n",
      "\n",
      "handwritten-isolated score: 0.04408482142857143\n",
      "notMNIST score: 0.5558226495726496\n",
      "standard OCR score: 0.38997411155566014\n",
      "EMNIST score: 0.3761389032147155\n",
      "Aggregate score: 0.38488655300602487\n",
      "------\n",
      "n_components: 36\n"
     ]
    },
    {
     "name": "stderr",
     "output_type": "stream",
     "text": [
      "/Users/jerry/mambaforge/envs/ece271bpr/lib/python3.10/site-packages/sklearn/linear_model/_logistic.py:469: ConvergenceWarning: lbfgs failed to converge (status=1):\n",
      "STOP: TOTAL NO. of ITERATIONS REACHED LIMIT.\n",
      "\n",
      "Increase the number of iterations (max_iter) or scale the data as shown in:\n",
      "    https://scikit-learn.org/stable/modules/preprocessing.html\n",
      "Please also refer to the documentation for alternative solver options:\n",
      "    https://scikit-learn.org/stable/modules/linear_model.html#logistic-regression\n",
      "  n_iter_i = _check_optimize_result(\n"
     ]
    },
    {
     "name": "stdout",
     "output_type": "stream",
     "text": [
      "Logistic Regression training took: 11.05190896987915 sec.\n",
      "\n",
      "Model testing took: 0.07663393020629883 sec.\n",
      "\n",
      "handwritten-isolated score: 0.03962053571428571\n",
      "notMNIST score: 0.5625\n",
      "standard OCR score: 0.3927983054836432\n",
      "EMNIST score: 0.38043665119477393\n",
      "Aggregate score: 0.38834764773746955\n",
      "------\n",
      "n_components: 37\n"
     ]
    },
    {
     "name": "stderr",
     "output_type": "stream",
     "text": [
      "/Users/jerry/mambaforge/envs/ece271bpr/lib/python3.10/site-packages/sklearn/linear_model/_logistic.py:469: ConvergenceWarning: lbfgs failed to converge (status=1):\n",
      "STOP: TOTAL NO. of ITERATIONS REACHED LIMIT.\n",
      "\n",
      "Increase the number of iterations (max_iter) or scale the data as shown in:\n",
      "    https://scikit-learn.org/stable/modules/preprocessing.html\n",
      "Please also refer to the documentation for alternative solver options:\n",
      "    https://scikit-learn.org/stable/modules/linear_model.html#logistic-regression\n",
      "  n_iter_i = _check_optimize_result(\n"
     ]
    },
    {
     "name": "stdout",
     "output_type": "stream",
     "text": [
      "Logistic Regression training took: 10.980220317840576 sec.\n",
      "\n",
      "Model testing took: 0.06749105453491211 sec.\n",
      "\n",
      "handwritten-isolated score: 0.036830357142857144\n",
      "notMNIST score: 0.5598290598290598\n",
      "standard OCR score: 0.392327606495646\n",
      "EMNIST score: 0.38129620079078563\n",
      "Aggregate score: 0.3875785155749263\n",
      "------\n",
      "n_components: 38\n"
     ]
    },
    {
     "name": "stderr",
     "output_type": "stream",
     "text": [
      "/Users/jerry/mambaforge/envs/ece271bpr/lib/python3.10/site-packages/sklearn/linear_model/_logistic.py:469: ConvergenceWarning: lbfgs failed to converge (status=1):\n",
      "STOP: TOTAL NO. of ITERATIONS REACHED LIMIT.\n",
      "\n",
      "Increase the number of iterations (max_iter) or scale the data as shown in:\n",
      "    https://scikit-learn.org/stable/modules/preprocessing.html\n",
      "Please also refer to the documentation for alternative solver options:\n",
      "    https://scikit-learn.org/stable/modules/linear_model.html#logistic-regression\n",
      "  n_iter_i = _check_optimize_result(\n"
     ]
    },
    {
     "name": "stdout",
     "output_type": "stream",
     "text": [
      "Logistic Regression training took: 10.10992980003357 sec.\n",
      "\n",
      "Model testing took: 0.10036611557006836 sec.\n",
      "\n",
      "handwritten-isolated score: 0.037388392857142856\n",
      "notMNIST score: 0.5646367521367521\n",
      "standard OCR score: 0.3930336549776418\n",
      "EMNIST score: 0.3837029396596184\n",
      "Aggregate score: 0.3898859120625561\n",
      "------\n",
      "n_components: 39\n"
     ]
    },
    {
     "name": "stderr",
     "output_type": "stream",
     "text": [
      "/Users/jerry/mambaforge/envs/ece271bpr/lib/python3.10/site-packages/sklearn/linear_model/_logistic.py:469: ConvergenceWarning: lbfgs failed to converge (status=1):\n",
      "STOP: TOTAL NO. of ITERATIONS REACHED LIMIT.\n",
      "\n",
      "Increase the number of iterations (max_iter) or scale the data as shown in:\n",
      "    https://scikit-learn.org/stable/modules/preprocessing.html\n",
      "Please also refer to the documentation for alternative solver options:\n",
      "    https://scikit-learn.org/stable/modules/linear_model.html#logistic-regression\n",
      "  n_iter_i = _check_optimize_result(\n"
     ]
    },
    {
     "name": "stdout",
     "output_type": "stream",
     "text": [
      "Logistic Regression training took: 11.328772783279419 sec.\n",
      "\n",
      "Model testing took: 0.10483002662658691 sec.\n",
      "\n",
      "handwritten-isolated score: 0.03459821428571429\n",
      "notMNIST score: 0.5662393162393162\n",
      "standard OCR score: 0.39821134384561074\n",
      "EMNIST score: 0.3871411380436651\n",
      "Aggregate score: 0.3926419689783361\n",
      "------\n",
      "n_components: 40\n"
     ]
    },
    {
     "name": "stderr",
     "output_type": "stream",
     "text": [
      "/Users/jerry/mambaforge/envs/ece271bpr/lib/python3.10/site-packages/sklearn/linear_model/_logistic.py:469: ConvergenceWarning: lbfgs failed to converge (status=1):\n",
      "STOP: TOTAL NO. of ITERATIONS REACHED LIMIT.\n",
      "\n",
      "Increase the number of iterations (max_iter) or scale the data as shown in:\n",
      "    https://scikit-learn.org/stable/modules/preprocessing.html\n",
      "Please also refer to the documentation for alternative solver options:\n",
      "    https://scikit-learn.org/stable/modules/linear_model.html#logistic-regression\n",
      "  n_iter_i = _check_optimize_result(\n"
     ]
    },
    {
     "name": "stdout",
     "output_type": "stream",
     "text": [
      "Logistic Regression training took: 11.46917986869812 sec.\n",
      "\n",
      "Model testing took: 0.07683205604553223 sec.\n",
      "\n",
      "handwritten-isolated score: 0.03459821428571429\n",
      "notMNIST score: 0.5659722222222222\n",
      "standard OCR score: 0.4005648387855966\n",
      "EMNIST score: 0.38954787691249787\n",
      "Aggregate score: 0.394116138956544\n",
      "------\n",
      "n_components: 41\n"
     ]
    },
    {
     "name": "stderr",
     "output_type": "stream",
     "text": [
      "/Users/jerry/mambaforge/envs/ece271bpr/lib/python3.10/site-packages/sklearn/linear_model/_logistic.py:469: ConvergenceWarning: lbfgs failed to converge (status=1):\n",
      "STOP: TOTAL NO. of ITERATIONS REACHED LIMIT.\n",
      "\n",
      "Increase the number of iterations (max_iter) or scale the data as shown in:\n",
      "    https://scikit-learn.org/stable/modules/preprocessing.html\n",
      "Please also refer to the documentation for alternative solver options:\n",
      "    https://scikit-learn.org/stable/modules/linear_model.html#logistic-regression\n",
      "  n_iter_i = _check_optimize_result(\n"
     ]
    },
    {
     "name": "stdout",
     "output_type": "stream",
     "text": [
      "Logistic Regression training took: 11.162781953811646 sec.\n",
      "\n",
      "Model testing took: 0.1037750244140625 sec.\n",
      "\n",
      "handwritten-isolated score: 0.03627232142857143\n",
      "notMNIST score: 0.5651709401709402\n",
      "standard OCR score: 0.3986820428336079\n",
      "EMNIST score: 0.3893759669932955\n",
      "Aggregate score: 0.3935392898346366\n",
      "------\n",
      "n_components: 42\n"
     ]
    },
    {
     "name": "stderr",
     "output_type": "stream",
     "text": [
      "/Users/jerry/mambaforge/envs/ece271bpr/lib/python3.10/site-packages/sklearn/linear_model/_logistic.py:469: ConvergenceWarning: lbfgs failed to converge (status=1):\n",
      "STOP: TOTAL NO. of ITERATIONS REACHED LIMIT.\n",
      "\n",
      "Increase the number of iterations (max_iter) or scale the data as shown in:\n",
      "    https://scikit-learn.org/stable/modules/preprocessing.html\n",
      "Please also refer to the documentation for alternative solver options:\n",
      "    https://scikit-learn.org/stable/modules/linear_model.html#logistic-regression\n",
      "  n_iter_i = _check_optimize_result(\n"
     ]
    },
    {
     "name": "stdout",
     "output_type": "stream",
     "text": [
      "Logistic Regression training took: 11.48275089263916 sec.\n",
      "\n",
      "Model testing took: 0.07062888145446777 sec.\n",
      "\n",
      "handwritten-isolated score: 0.03794642857142857\n",
      "notMNIST score: 0.563034188034188\n",
      "standard OCR score: 0.400329489291598\n",
      "EMNIST score: 0.3888602372356885\n",
      "Aggregate score: 0.393475195487758\n",
      "------\n",
      "n_components: 43\n"
     ]
    },
    {
     "name": "stderr",
     "output_type": "stream",
     "text": [
      "/Users/jerry/mambaforge/envs/ece271bpr/lib/python3.10/site-packages/sklearn/linear_model/_logistic.py:469: ConvergenceWarning: lbfgs failed to converge (status=1):\n",
      "STOP: TOTAL NO. of ITERATIONS REACHED LIMIT.\n",
      "\n",
      "Increase the number of iterations (max_iter) or scale the data as shown in:\n",
      "    https://scikit-learn.org/stable/modules/preprocessing.html\n",
      "Please also refer to the documentation for alternative solver options:\n",
      "    https://scikit-learn.org/stable/modules/linear_model.html#logistic-regression\n",
      "  n_iter_i = _check_optimize_result(\n"
     ]
    },
    {
     "name": "stdout",
     "output_type": "stream",
     "text": [
      "Logistic Regression training took: 11.351143836975098 sec.\n",
      "\n",
      "Model testing took: 0.07731485366821289 sec.\n",
      "\n",
      "handwritten-isolated score: 0.040736607142857144\n",
      "notMNIST score: 0.5638354700854701\n",
      "standard OCR score: 0.40621322664156273\n",
      "EMNIST score: 0.3885164173972838\n",
      "Aggregate score: 0.39546212024099475\n",
      "------\n",
      "n_components: 44\n"
     ]
    },
    {
     "name": "stderr",
     "output_type": "stream",
     "text": [
      "/Users/jerry/mambaforge/envs/ece271bpr/lib/python3.10/site-packages/sklearn/linear_model/_logistic.py:469: ConvergenceWarning: lbfgs failed to converge (status=1):\n",
      "STOP: TOTAL NO. of ITERATIONS REACHED LIMIT.\n",
      "\n",
      "Increase the number of iterations (max_iter) or scale the data as shown in:\n",
      "    https://scikit-learn.org/stable/modules/preprocessing.html\n",
      "Please also refer to the documentation for alternative solver options:\n",
      "    https://scikit-learn.org/stable/modules/linear_model.html#logistic-regression\n",
      "  n_iter_i = _check_optimize_result(\n"
     ]
    },
    {
     "name": "stdout",
     "output_type": "stream",
     "text": [
      "Logistic Regression training took: 11.934656143188477 sec.\n",
      "\n",
      "Model testing took: 0.0762939453125 sec.\n",
      "\n",
      "handwritten-isolated score: 0.03794642857142857\n",
      "notMNIST score: 0.5646367521367521\n",
      "standard OCR score: 0.40809602259355143\n",
      "EMNIST score: 0.3898916967509025\n",
      "Aggregate score: 0.3963594410972952\n",
      "------\n",
      "n_components: 45\n"
     ]
    },
    {
     "name": "stderr",
     "output_type": "stream",
     "text": [
      "/Users/jerry/mambaforge/envs/ece271bpr/lib/python3.10/site-packages/sklearn/linear_model/_logistic.py:469: ConvergenceWarning: lbfgs failed to converge (status=1):\n",
      "STOP: TOTAL NO. of ITERATIONS REACHED LIMIT.\n",
      "\n",
      "Increase the number of iterations (max_iter) or scale the data as shown in:\n",
      "    https://scikit-learn.org/stable/modules/preprocessing.html\n",
      "Please also refer to the documentation for alternative solver options:\n",
      "    https://scikit-learn.org/stable/modules/linear_model.html#logistic-regression\n",
      "  n_iter_i = _check_optimize_result(\n"
     ]
    },
    {
     "name": "stdout",
     "output_type": "stream",
     "text": [
      "Logistic Regression training took: 12.810801029205322 sec.\n",
      "\n",
      "Model testing took: 0.09439206123352051 sec.\n",
      "\n",
      "handwritten-isolated score: 0.04408482142857143\n",
      "notMNIST score: 0.5675747863247863\n",
      "standard OCR score: 0.4059778771475641\n",
      "EMNIST score: 0.3910950661853189\n",
      "Aggregate score: 0.39764132803486735\n",
      "------\n",
      "n_components: 46\n"
     ]
    },
    {
     "name": "stderr",
     "output_type": "stream",
     "text": [
      "/Users/jerry/mambaforge/envs/ece271bpr/lib/python3.10/site-packages/sklearn/linear_model/_logistic.py:469: ConvergenceWarning: lbfgs failed to converge (status=1):\n",
      "STOP: TOTAL NO. of ITERATIONS REACHED LIMIT.\n",
      "\n",
      "Increase the number of iterations (max_iter) or scale the data as shown in:\n",
      "    https://scikit-learn.org/stable/modules/preprocessing.html\n",
      "Please also refer to the documentation for alternative solver options:\n",
      "    https://scikit-learn.org/stable/modules/linear_model.html#logistic-regression\n",
      "  n_iter_i = _check_optimize_result(\n"
     ]
    },
    {
     "name": "stdout",
     "output_type": "stream",
     "text": [
      "Logistic Regression training took: 11.232494115829468 sec.\n",
      "\n",
      "Model testing took: 0.07184481620788574 sec.\n",
      "\n",
      "handwritten-isolated score: 0.04185267857142857\n",
      "notMNIST score: 0.5657051282051282\n",
      "standard OCR score: 0.40762532360555426\n",
      "EMNIST score: 0.3907512463469142\n",
      "Aggregate score: 0.3972567619535957\n",
      "------\n",
      "n_components: 47\n"
     ]
    },
    {
     "name": "stderr",
     "output_type": "stream",
     "text": [
      "/Users/jerry/mambaforge/envs/ece271bpr/lib/python3.10/site-packages/sklearn/linear_model/_logistic.py:469: ConvergenceWarning: lbfgs failed to converge (status=1):\n",
      "STOP: TOTAL NO. of ITERATIONS REACHED LIMIT.\n",
      "\n",
      "Increase the number of iterations (max_iter) or scale the data as shown in:\n",
      "    https://scikit-learn.org/stable/modules/preprocessing.html\n",
      "Please also refer to the documentation for alternative solver options:\n",
      "    https://scikit-learn.org/stable/modules/linear_model.html#logistic-regression\n",
      "  n_iter_i = _check_optimize_result(\n"
     ]
    },
    {
     "name": "stdout",
     "output_type": "stream",
     "text": [
      "Logistic Regression training took: 13.100908041000366 sec.\n",
      "\n",
      "Model testing took: 0.07365202903747559 sec.\n",
      "\n",
      "handwritten-isolated score: 0.03962053571428571\n",
      "notMNIST score: 0.5686431623931624\n",
      "standard OCR score: 0.40997881854554014\n",
      "EMNIST score: 0.39229843561973526\n",
      "Aggregate score: 0.39892321497243943\n",
      "------\n",
      "n_components: 48\n"
     ]
    },
    {
     "name": "stderr",
     "output_type": "stream",
     "text": [
      "/Users/jerry/mambaforge/envs/ece271bpr/lib/python3.10/site-packages/sklearn/linear_model/_logistic.py:469: ConvergenceWarning: lbfgs failed to converge (status=1):\n",
      "STOP: TOTAL NO. of ITERATIONS REACHED LIMIT.\n",
      "\n",
      "Increase the number of iterations (max_iter) or scale the data as shown in:\n",
      "    https://scikit-learn.org/stable/modules/preprocessing.html\n",
      "Please also refer to the documentation for alternative solver options:\n",
      "    https://scikit-learn.org/stable/modules/linear_model.html#logistic-regression\n",
      "  n_iter_i = _check_optimize_result(\n"
     ]
    },
    {
     "name": "stdout",
     "output_type": "stream",
     "text": [
      "Logistic Regression training took: 13.678828954696655 sec.\n",
      "\n",
      "Model testing took: 0.24696898460388184 sec.\n",
      "\n",
      "handwritten-isolated score: 0.03794642857142857\n",
      "notMNIST score: 0.5737179487179487\n",
      "standard OCR score: 0.41751000235349495\n",
      "EMNIST score: 0.39315798521574696\n",
      "Aggregate score: 0.4023202153570055\n",
      "------\n",
      "n_components: 49\n"
     ]
    },
    {
     "name": "stderr",
     "output_type": "stream",
     "text": [
      "/Users/jerry/mambaforge/envs/ece271bpr/lib/python3.10/site-packages/sklearn/linear_model/_logistic.py:469: ConvergenceWarning: lbfgs failed to converge (status=1):\n",
      "STOP: TOTAL NO. of ITERATIONS REACHED LIMIT.\n",
      "\n",
      "Increase the number of iterations (max_iter) or scale the data as shown in:\n",
      "    https://scikit-learn.org/stable/modules/preprocessing.html\n",
      "Please also refer to the documentation for alternative solver options:\n",
      "    https://scikit-learn.org/stable/modules/linear_model.html#logistic-regression\n",
      "  n_iter_i = _check_optimize_result(\n"
     ]
    },
    {
     "name": "stdout",
     "output_type": "stream",
     "text": [
      "Logistic Regression training took: 13.892402172088623 sec.\n",
      "\n",
      "Model testing took: 0.08067727088928223 sec.\n",
      "\n",
      "handwritten-isolated score: 0.037388392857142856\n",
      "notMNIST score: 0.5702457264957265\n",
      "standard OCR score: 0.4219816427394681\n",
      "EMNIST score: 0.3935018050541516\n",
      "Aggregate score: 0.40276887578515574\n",
      "------\n",
      "n_components: 50\n"
     ]
    },
    {
     "name": "stderr",
     "output_type": "stream",
     "text": [
      "/Users/jerry/mambaforge/envs/ece271bpr/lib/python3.10/site-packages/sklearn/linear_model/_logistic.py:469: ConvergenceWarning: lbfgs failed to converge (status=1):\n",
      "STOP: TOTAL NO. of ITERATIONS REACHED LIMIT.\n",
      "\n",
      "Increase the number of iterations (max_iter) or scale the data as shown in:\n",
      "    https://scikit-learn.org/stable/modules/preprocessing.html\n",
      "Please also refer to the documentation for alternative solver options:\n",
      "    https://scikit-learn.org/stable/modules/linear_model.html#logistic-regression\n",
      "  n_iter_i = _check_optimize_result(\n"
     ]
    },
    {
     "name": "stdout",
     "output_type": "stream",
     "text": [
      "Logistic Regression training took: 13.078956127166748 sec.\n",
      "\n",
      "Model testing took: 0.0948328971862793 sec.\n",
      "\n",
      "handwritten-isolated score: 0.036830357142857144\n",
      "notMNIST score: 0.5737179487179487\n",
      "standard OCR score: 0.42551188514944693\n",
      "EMNIST score: 0.3916107959429259\n",
      "Aggregate score: 0.40379438533521345\n",
      "------\n",
      "n_components: 51\n"
     ]
    },
    {
     "name": "stderr",
     "output_type": "stream",
     "text": [
      "/Users/jerry/mambaforge/envs/ece271bpr/lib/python3.10/site-packages/sklearn/linear_model/_logistic.py:469: ConvergenceWarning: lbfgs failed to converge (status=1):\n",
      "STOP: TOTAL NO. of ITERATIONS REACHED LIMIT.\n",
      "\n",
      "Increase the number of iterations (max_iter) or scale the data as shown in:\n",
      "    https://scikit-learn.org/stable/modules/preprocessing.html\n",
      "Please also refer to the documentation for alternative solver options:\n",
      "    https://scikit-learn.org/stable/modules/linear_model.html#logistic-regression\n",
      "  n_iter_i = _check_optimize_result(\n"
     ]
    },
    {
     "name": "stdout",
     "output_type": "stream",
     "text": [
      "Logistic Regression training took: 12.906556367874146 sec.\n",
      "\n",
      "Model testing took: 0.08563780784606934 sec.\n",
      "\n",
      "handwritten-isolated score: 0.03404017857142857\n",
      "notMNIST score: 0.5723824786324786\n",
      "standard OCR score: 0.42739468110143564\n",
      "EMNIST score: 0.3904074265085095\n",
      "Aggregate score: 0.40321753621330597\n",
      "------\n",
      "n_components: 52\n"
     ]
    },
    {
     "name": "stderr",
     "output_type": "stream",
     "text": [
      "/Users/jerry/mambaforge/envs/ece271bpr/lib/python3.10/site-packages/sklearn/linear_model/_logistic.py:469: ConvergenceWarning: lbfgs failed to converge (status=1):\n",
      "STOP: TOTAL NO. of ITERATIONS REACHED LIMIT.\n",
      "\n",
      "Increase the number of iterations (max_iter) or scale the data as shown in:\n",
      "    https://scikit-learn.org/stable/modules/preprocessing.html\n",
      "Please also refer to the documentation for alternative solver options:\n",
      "    https://scikit-learn.org/stable/modules/linear_model.html#logistic-regression\n",
      "  n_iter_i = _check_optimize_result(\n"
     ]
    },
    {
     "name": "stdout",
     "output_type": "stream",
     "text": [
      "Logistic Regression training took: 14.25035285949707 sec.\n",
      "\n",
      "Model testing took: 0.09404420852661133 sec.\n",
      "\n",
      "handwritten-isolated score: 0.03515625\n",
      "notMNIST score: 0.5747863247863247\n",
      "standard OCR score: 0.427159331607437\n",
      "EMNIST score: 0.3907512463469142\n",
      "Aggregate score: 0.40398666837584923\n",
      "------\n",
      "n_components: 53\n"
     ]
    },
    {
     "name": "stderr",
     "output_type": "stream",
     "text": [
      "/Users/jerry/mambaforge/envs/ece271bpr/lib/python3.10/site-packages/sklearn/linear_model/_logistic.py:469: ConvergenceWarning: lbfgs failed to converge (status=1):\n",
      "STOP: TOTAL NO. of ITERATIONS REACHED LIMIT.\n",
      "\n",
      "Increase the number of iterations (max_iter) or scale the data as shown in:\n",
      "    https://scikit-learn.org/stable/modules/preprocessing.html\n",
      "Please also refer to the documentation for alternative solver options:\n",
      "    https://scikit-learn.org/stable/modules/linear_model.html#logistic-regression\n",
      "  n_iter_i = _check_optimize_result(\n"
     ]
    },
    {
     "name": "stdout",
     "output_type": "stream",
     "text": [
      "Logistic Regression training took: 13.541949033737183 sec.\n",
      "\n",
      "Model testing took: 0.09619498252868652 sec.\n",
      "\n",
      "handwritten-isolated score: 0.037388392857142856\n",
      "notMNIST score: 0.5707799145299145\n",
      "standard OCR score: 0.42504118616144976\n",
      "EMNIST score: 0.3907512463469142\n",
      "Aggregate score: 0.40270478143827715\n",
      "------\n",
      "n_components: 54\n"
     ]
    },
    {
     "name": "stderr",
     "output_type": "stream",
     "text": [
      "/Users/jerry/mambaforge/envs/ece271bpr/lib/python3.10/site-packages/sklearn/linear_model/_logistic.py:469: ConvergenceWarning: lbfgs failed to converge (status=1):\n",
      "STOP: TOTAL NO. of ITERATIONS REACHED LIMIT.\n",
      "\n",
      "Increase the number of iterations (max_iter) or scale the data as shown in:\n",
      "    https://scikit-learn.org/stable/modules/preprocessing.html\n",
      "Please also refer to the documentation for alternative solver options:\n",
      "    https://scikit-learn.org/stable/modules/linear_model.html#logistic-regression\n",
      "  n_iter_i = _check_optimize_result(\n"
     ]
    },
    {
     "name": "stdout",
     "output_type": "stream",
     "text": [
      "Logistic Regression training took: 12.636362075805664 sec.\n",
      "\n",
      "Model testing took: 0.08332109451293945 sec.\n",
      "\n",
      "handwritten-isolated score: 0.037388392857142856\n",
      "notMNIST score: 0.5694444444444444\n",
      "standard OCR score: 0.42880677806542716\n",
      "EMNIST score: 0.39453326456936566\n",
      "Aggregate score: 0.4048198948852711\n",
      "------\n",
      "n_components: 55\n"
     ]
    },
    {
     "name": "stderr",
     "output_type": "stream",
     "text": [
      "/Users/jerry/mambaforge/envs/ece271bpr/lib/python3.10/site-packages/sklearn/linear_model/_logistic.py:469: ConvergenceWarning: lbfgs failed to converge (status=1):\n",
      "STOP: TOTAL NO. of ITERATIONS REACHED LIMIT.\n",
      "\n",
      "Increase the number of iterations (max_iter) or scale the data as shown in:\n",
      "    https://scikit-learn.org/stable/modules/preprocessing.html\n",
      "Please also refer to the documentation for alternative solver options:\n",
      "    https://scikit-learn.org/stable/modules/linear_model.html#logistic-regression\n",
      "  n_iter_i = _check_optimize_result(\n"
     ]
    },
    {
     "name": "stdout",
     "output_type": "stream",
     "text": [
      "Logistic Regression training took: 12.970067977905273 sec.\n",
      "\n",
      "Model testing took: 0.09407281875610352 sec.\n",
      "\n",
      "handwritten-isolated score: 0.03627232142857143\n",
      "notMNIST score: 0.5715811965811965\n",
      "standard OCR score: 0.43045422452341725\n",
      "EMNIST score: 0.3969400034381984\n",
      "Aggregate score: 0.40655044225099346\n",
      "------\n",
      "n_components: 56\n"
     ]
    },
    {
     "name": "stderr",
     "output_type": "stream",
     "text": [
      "/Users/jerry/mambaforge/envs/ece271bpr/lib/python3.10/site-packages/sklearn/linear_model/_logistic.py:469: ConvergenceWarning: lbfgs failed to converge (status=1):\n",
      "STOP: TOTAL NO. of ITERATIONS REACHED LIMIT.\n",
      "\n",
      "Increase the number of iterations (max_iter) or scale the data as shown in:\n",
      "    https://scikit-learn.org/stable/modules/preprocessing.html\n",
      "Please also refer to the documentation for alternative solver options:\n",
      "    https://scikit-learn.org/stable/modules/linear_model.html#logistic-regression\n",
      "  n_iter_i = _check_optimize_result(\n"
     ]
    },
    {
     "name": "stdout",
     "output_type": "stream",
     "text": [
      "Logistic Regression training took: 12.429630279541016 sec.\n",
      "\n",
      "Model testing took: 0.08966302871704102 sec.\n",
      "\n",
      "handwritten-isolated score: 0.036830357142857144\n",
      "notMNIST score: 0.5742521367521367\n",
      "standard OCR score: 0.43257236996940457\n",
      "EMNIST score: 0.3993467423070311\n",
      "Aggregate score: 0.40872965004486606\n",
      "------\n",
      "n_components: 57\n"
     ]
    },
    {
     "name": "stderr",
     "output_type": "stream",
     "text": [
      "/Users/jerry/mambaforge/envs/ece271bpr/lib/python3.10/site-packages/sklearn/linear_model/_logistic.py:469: ConvergenceWarning: lbfgs failed to converge (status=1):\n",
      "STOP: TOTAL NO. of ITERATIONS REACHED LIMIT.\n",
      "\n",
      "Increase the number of iterations (max_iter) or scale the data as shown in:\n",
      "    https://scikit-learn.org/stable/modules/preprocessing.html\n",
      "Please also refer to the documentation for alternative solver options:\n",
      "    https://scikit-learn.org/stable/modules/linear_model.html#logistic-regression\n",
      "  n_iter_i = _check_optimize_result(\n"
     ]
    },
    {
     "name": "stdout",
     "output_type": "stream",
     "text": [
      "Logistic Regression training took: 13.310253143310547 sec.\n",
      "\n",
      "Model testing took: 0.15268826484680176 sec.\n",
      "\n",
      "handwritten-isolated score: 0.03459821428571429\n",
      "notMNIST score: 0.5755876068376068\n",
      "standard OCR score: 0.4356319133913862\n",
      "EMNIST score: 0.4007220216606498\n",
      "Aggregate score: 0.41013972567619533\n",
      "------\n",
      "n_components: 58\n"
     ]
    },
    {
     "name": "stderr",
     "output_type": "stream",
     "text": [
      "/Users/jerry/mambaforge/envs/ece271bpr/lib/python3.10/site-packages/sklearn/linear_model/_logistic.py:469: ConvergenceWarning: lbfgs failed to converge (status=1):\n",
      "STOP: TOTAL NO. of ITERATIONS REACHED LIMIT.\n",
      "\n",
      "Increase the number of iterations (max_iter) or scale the data as shown in:\n",
      "    https://scikit-learn.org/stable/modules/preprocessing.html\n",
      "Please also refer to the documentation for alternative solver options:\n",
      "    https://scikit-learn.org/stable/modules/linear_model.html#logistic-regression\n",
      "  n_iter_i = _check_optimize_result(\n"
     ]
    },
    {
     "name": "stdout",
     "output_type": "stream",
     "text": [
      "Logistic Regression training took: 13.054306030273438 sec.\n",
      "\n",
      "Model testing took: 0.09270238876342773 sec.\n",
      "\n",
      "handwritten-isolated score: 0.036830357142857144\n",
      "notMNIST score: 0.5739850427350427\n",
      "standard OCR score: 0.436337961873382\n",
      "EMNIST score: 0.3988310125494241\n",
      "Aggregate score: 0.4094987822074093\n",
      "------\n",
      "n_components: 59\n",
      "Logistic Regression training took: 12.861816167831421 sec.\n",
      "\n",
      "Model testing took: 0.09284305572509766 sec.\n",
      "\n",
      "handwritten-isolated score: 0.036830357142857144\n",
      "notMNIST score: 0.5793269230769231\n",
      "standard OCR score: 0.44033890327135794\n",
      "EMNIST score: 0.4024411208526732\n",
      "Aggregate score: 0.41321625432636844\n",
      "------\n"
     ]
    },
    {
     "name": "stderr",
     "output_type": "stream",
     "text": [
      "/Users/jerry/mambaforge/envs/ece271bpr/lib/python3.10/site-packages/sklearn/linear_model/_logistic.py:469: ConvergenceWarning: lbfgs failed to converge (status=1):\n",
      "STOP: TOTAL NO. of ITERATIONS REACHED LIMIT.\n",
      "\n",
      "Increase the number of iterations (max_iter) or scale the data as shown in:\n",
      "    https://scikit-learn.org/stable/modules/preprocessing.html\n",
      "Please also refer to the documentation for alternative solver options:\n",
      "    https://scikit-learn.org/stable/modules/linear_model.html#logistic-regression\n",
      "  n_iter_i = _check_optimize_result(\n"
     ]
    }
   ],
   "source": [
    "logreg_pca_results = test_trf_models(create_logreg, pcatrf_funcs, 2, 59)"
   ]
  },
  {
   "cell_type": "code",
   "execution_count": 38,
   "metadata": {},
   "outputs": [
    {
     "data": {
      "image/png": "[encoded data removed]",
      "text/plain": [
       "<Figure size 640x480 with 1 Axes>"
      ]
     },
     "metadata": {},
     "output_type": "display_data"
    }
   ],
   "source": [
    "plot_scores(logreg_pca_results, range(2, 60), title=\"PCA for logistic regression classification\")"
   ]
  },
  {
   "cell_type": "code",
   "execution_count": 39,
   "metadata": {},
   "outputs": [
    {
     "data": {
      "image/png": "[encoded data removed]",
      "text/plain": [
       "<Figure size 640x480 with 1 Axes>"
      ]
     },
     "metadata": {},
     "output_type": "display_data"
    }
   ],
   "source": [
    "plt.plot(range(2, 60), logreg_pca_results[\"traintimes\"], label=\"predict time\")\n",
    "plt.xlabel(\"number of PCA components\")\n",
    "plt.ylabel(\"time taken for training (s)\")\n",
    "plt.title(\"time taken to train logistic regression classifier\")\n",
    "plt.show()"
   ]
  },
  {
   "cell_type": "markdown",
   "metadata": {},
   "source": [
    "### KNN classifier"
   ]
  },
  {
   "cell_type": "code",
   "execution_count": 40,
   "metadata": {},
   "outputs": [
    {
     "name": "stdout",
     "output_type": "stream",
     "text": [
      "n_components: 2\n",
      "KNN training took: 0.30981898307800293 sec.\n",
      "\n",
      "Model testing took: 0.2625882625579834 sec.\n",
      "\n",
      "handwritten-isolated score: 0.28683035714285715\n",
      "notMNIST score: 0.18830128205128205\n",
      "standard OCR score: 0.053424335137679455\n",
      "EMNIST score: 0.10538078047103318\n",
      "Aggregate score: 0.13197026022304834\n",
      "------\n",
      "n_components: 3\n",
      "KNN training took: 0.20292282104492188 sec.\n",
      "\n",
      "Model testing took: 0.26331496238708496 sec.\n",
      "\n",
      "handwritten-isolated score: 0.3236607142857143\n",
      "notMNIST score: 0.2932692307692308\n",
      "standard OCR score: 0.09037420569545776\n",
      "EMNIST score: 0.15042117930204574\n",
      "Aggregate score: 0.1882450967824638\n",
      "------\n",
      "n_components: 4\n",
      "KNN training took: 0.18558287620544434 sec.\n",
      "\n",
      "Model testing took: 0.29886794090270996 sec.\n",
      "\n",
      "handwritten-isolated score: 0.33816964285714285\n",
      "notMNIST score: 0.39449786324786323\n",
      "standard OCR score: 0.1772181689809367\n",
      "EMNIST score: 0.19580539797146296\n",
      "Aggregate score: 0.2547750288424561\n",
      "------\n",
      "n_components: 5\n",
      "KNN training took: 0.1974189281463623 sec.\n",
      "\n",
      "Model testing took: 0.34392499923706055 sec.\n",
      "\n",
      "handwritten-isolated score: 0.37220982142857145\n",
      "notMNIST score: 0.5544871794871795\n",
      "standard OCR score: 0.3344316309719934\n",
      "EMNIST score: 0.2521918514698298\n",
      "Aggregate score: 0.3609152672734265\n",
      "------\n",
      "n_components: 6\n",
      "KNN training took: 0.19378304481506348 sec.\n",
      "\n",
      "Model testing took: 0.4296119213104248 sec.\n",
      "\n",
      "handwritten-isolated score: 0.3744419642857143\n",
      "notMNIST score: 0.6669337606837606\n",
      "standard OCR score: 0.497999529301012\n",
      "EMNIST score: 0.3345367027677497\n",
      "Aggregate score: 0.4634021279323164\n",
      "------\n",
      "n_components: 7\n",
      "KNN training took: 0.22373008728027344 sec.\n",
      "\n",
      "Model testing took: 0.5472948551177979 sec.\n",
      "\n",
      "handwritten-isolated score: 0.39174107142857145\n",
      "notMNIST score: 0.7011217948717948\n",
      "standard OCR score: 0.5937867733584373\n",
      "EMNIST score: 0.3837029396596184\n",
      "Aggregate score: 0.5180105114728881\n",
      "------\n",
      "n_components: 8\n",
      "KNN training took: 0.23278403282165527 sec.\n",
      "\n",
      "Model testing took: 0.6273190975189209 sec.\n",
      "\n",
      "handwritten-isolated score: 0.40401785714285715\n",
      "notMNIST score: 0.7302350427350427\n",
      "standard OCR score: 0.6707460578959755\n",
      "EMNIST score: 0.43888602372356883\n",
      "Aggregate score: 0.5679400076913216\n",
      "------\n",
      "n_components: 9\n",
      "KNN training took: 0.22606682777404785 sec.\n",
      "\n",
      "Model testing took: 0.7700858116149902 sec.\n",
      "\n",
      "handwritten-isolated score: 0.42689732142857145\n",
      "notMNIST score: 0.7553418803418803\n",
      "standard OCR score: 0.7229936455636621\n",
      "EMNIST score: 0.4736118274024411\n",
      "Aggregate score: 0.603768747596462\n",
      "------\n",
      "n_components: 10\n",
      "KNN training took: 0.22941088676452637 sec.\n",
      "\n",
      "Model testing took: 0.9216609001159668 sec.\n",
      "\n",
      "handwritten-isolated score: 0.45033482142857145\n",
      "notMNIST score: 0.7673611111111112\n",
      "standard OCR score: 0.763003059543422\n",
      "EMNIST score: 0.5133230187381812\n",
      "Aggregate score: 0.6350467888732214\n",
      "------\n",
      "n_components: 11\n",
      "KNN training took: 0.20635223388671875 sec.\n",
      "\n",
      "Model testing took: 1.1281301975250244 sec.\n",
      "\n",
      "handwritten-isolated score: 0.4603794642857143\n",
      "notMNIST score: 0.782051282051282\n",
      "standard OCR score: 0.781831019063309\n",
      "EMNIST score: 0.5415162454873647\n",
      "Aggregate score: 0.6553646968337392\n",
      "------\n",
      "n_components: 12\n",
      "KNN training took: 0.2360692024230957 sec.\n",
      "\n",
      "Model testing took: 1.3260011672973633 sec.\n",
      "\n",
      "handwritten-isolated score: 0.4654017857142857\n",
      "notMNIST score: 0.7972756410256411\n",
      "standard OCR score: 0.7950105907272299\n",
      "EMNIST score: 0.5683341928829293\n",
      "Aggregate score: 0.6731829252659915\n",
      "------\n",
      "n_components: 13\n",
      "KNN training took: 0.26060914993286133 sec.\n",
      "\n",
      "Model testing took: 1.6405069828033447 sec.\n",
      "\n",
      "handwritten-isolated score: 0.4720982142857143\n",
      "notMNIST score: 0.8010149572649573\n",
      "standard OCR score: 0.8183101906330902\n",
      "EMNIST score: 0.5800240673886883\n",
      "Aggregate score: 0.6855531342135623\n",
      "------\n",
      "n_components: 14\n",
      "KNN training took: 0.2638230323791504 sec.\n",
      "\n",
      "Model testing took: 1.7499940395355225 sec.\n",
      "\n",
      "handwritten-isolated score: 0.4799107142857143\n",
      "notMNIST score: 0.8034188034188035\n",
      "standard OCR score: 0.8300776653330195\n",
      "EMNIST score: 0.591542031975245\n",
      "Aggregate score: 0.6945263427765671\n",
      "------\n",
      "n_components: 15\n",
      "KNN training took: 0.2228548526763916 sec.\n",
      "\n",
      "Model testing took: 2.131563663482666 sec.\n",
      "\n",
      "handwritten-isolated score: 0.4888392857142857\n",
      "notMNIST score: 0.8082264957264957\n",
      "standard OCR score: 0.8392562955989644\n",
      "EMNIST score: 0.6064981949458483\n",
      "Aggregate score: 0.7047814382771439\n",
      "------\n",
      "n_components: 16\n",
      "KNN training took: 0.22806215286254883 sec.\n",
      "\n",
      "Model testing took: 0.7549047470092773 sec.\n",
      "\n",
      "handwritten-isolated score: 0.49720982142857145\n",
      "notMNIST score: 0.813034188034188\n",
      "standard OCR score: 0.8552600611908684\n",
      "EMNIST score: 0.6267835654117243\n",
      "Aggregate score: 0.7188181002435585\n",
      "------\n",
      "n_components: 17\n",
      "KNN training took: 0.22385525703430176 sec.\n",
      "\n",
      "Model testing took: 0.6736528873443604 sec.\n",
      "\n",
      "handwritten-isolated score: 0.5011160714285714\n",
      "notMNIST score: 0.8213141025641025\n",
      "standard OCR score: 0.867498234878795\n",
      "EMNIST score: 0.6352071514526388\n",
      "Aggregate score: 0.7277272144596847\n",
      "------\n",
      "n_components: 18\n",
      "KNN training took: 0.19277215003967285 sec.\n",
      "\n",
      "Model testing took: 0.6345207691192627 sec.\n",
      "\n",
      "handwritten-isolated score: 0.49330357142857145\n",
      "notMNIST score: 0.8231837606837606\n",
      "standard OCR score: 0.8691456813367852\n",
      "EMNIST score: 0.6400206291903043\n",
      "Aggregate score: 0.7295218561722856\n",
      "------\n",
      "n_components: 19\n",
      "KNN training took: 0.20417261123657227 sec.\n",
      "\n",
      "Model testing took: 0.6789612770080566 sec.\n",
      "\n",
      "handwritten-isolated score: 0.4916294642857143\n",
      "notMNIST score: 0.8263888888888888\n",
      "standard OCR score: 0.8736173217227583\n",
      "EMNIST score: 0.6463812962007908\n",
      "Aggregate score: 0.733687988719395\n",
      "------\n",
      "n_components: 20\n",
      "KNN training took: 0.21569013595581055 sec.\n",
      "\n",
      "Model testing took: 0.6948959827423096 sec.\n",
      "\n",
      "handwritten-isolated score: 0.4955357142857143\n",
      "notMNIST score: 0.8279914529914529\n",
      "standard OCR score: 0.8752647681807484\n",
      "EMNIST score: 0.6572116211105381\n",
      "Aggregate score: 0.7390078195103192\n",
      "------\n",
      "n_components: 21\n",
      "KNN training took: 0.2354738712310791 sec.\n",
      "\n",
      "Model testing took: 0.7888610363006592 sec.\n",
      "\n",
      "handwritten-isolated score: 0.5016741071428571\n",
      "notMNIST score: 0.8303952991452992\n",
      "standard OCR score: 0.8806778065427159\n",
      "EMNIST score: 0.6589307203025615\n",
      "Aggregate score: 0.7424048198948853\n",
      "------\n",
      "n_components: 22\n",
      "KNN training took: 0.24434185028076172 sec.\n",
      "\n",
      "Model testing took: 0.6952939033508301 sec.\n",
      "\n",
      "handwritten-isolated score: 0.5044642857142857\n",
      "notMNIST score: 0.8327991452991453\n",
      "standard OCR score: 0.8799717580607201\n",
      "EMNIST score: 0.6621970087674058\n",
      "Aggregate score: 0.7443276503012435\n",
      "------\n",
      "n_components: 23\n",
      "KNN training took: 0.24479007720947266 sec.\n",
      "\n",
      "Model testing took: 0.7037951946258545 sec.\n",
      "\n",
      "handwritten-isolated score: 0.50390625\n",
      "notMNIST score: 0.8344017094017094\n",
      "standard OCR score: 0.8830313014827018\n",
      "EMNIST score: 0.6659790269898573\n",
      "Aggregate score: 0.7468914241763877\n",
      "------\n",
      "n_components: 24\n",
      "KNN training took: 0.22686409950256348 sec.\n",
      "\n",
      "Model testing took: 0.7188739776611328 sec.\n",
      "\n",
      "handwritten-isolated score: 0.5150669642857143\n",
      "notMNIST score: 0.8349358974358975\n",
      "standard OCR score: 0.8820899035067075\n",
      "EMNIST score: 0.6685576757778924\n",
      "Aggregate score: 0.7490065376233817\n",
      "------\n",
      "n_components: 25\n",
      "KNN training took: 0.2428278923034668 sec.\n",
      "\n",
      "Model testing took: 0.6925778388977051 sec.\n",
      "\n",
      "handwritten-isolated score: 0.5223214285714286\n",
      "notMNIST score: 0.8376068376068376\n",
      "standard OCR score: 0.8851494469286891\n",
      "EMNIST score: 0.6692453154547018\n",
      "Aggregate score: 0.7515703114985258\n",
      "------\n",
      "n_components: 26\n",
      "KNN training took: 0.22266507148742676 sec.\n",
      "\n",
      "Model testing took: 0.7040588855743408 sec.\n",
      "\n",
      "handwritten-isolated score: 0.5245535714285714\n",
      "notMNIST score: 0.8400106837606838\n",
      "standard OCR score: 0.8884443398446693\n",
      "EMNIST score: 0.6711363245659274\n",
      "Aggregate score: 0.7540058966799128\n",
      "------\n",
      "n_components: 27\n",
      "KNN training took: 0.22904014587402344 sec.\n",
      "\n",
      "Model testing took: 0.7111930847167969 sec.\n",
      "\n",
      "handwritten-isolated score: 0.5262276785714286\n",
      "notMNIST score: 0.8402777777777778\n",
      "standard OCR score: 0.8879736408566722\n",
      "EMNIST score: 0.6711363245659274\n",
      "Aggregate score: 0.75413408537367\n",
      "------\n",
      "n_components: 28\n",
      "KNN training took: 0.2387990951538086 sec.\n",
      "\n",
      "Model testing took: 0.726815938949585 sec.\n",
      "\n",
      "handwritten-isolated score: 0.5345982142857143\n",
      "notMNIST score: 0.8381410256410257\n",
      "standard OCR score: 0.8929159802306426\n",
      "EMNIST score: 0.6752621626267835\n",
      "Aggregate score: 0.7574669914113575\n",
      "------\n",
      "n_components: 29\n",
      "KNN training took: 0.24483823776245117 sec.\n",
      "\n",
      "Model testing took: 0.7474796772003174 sec.\n",
      "\n",
      "handwritten-isolated score: 0.5368303571428571\n",
      "notMNIST score: 0.8397435897435898\n",
      "standard OCR score: 0.895504824664627\n",
      "EMNIST score: 0.6754340725459859\n",
      "Aggregate score: 0.7588770670426869\n",
      "------\n",
      "n_components: 30\n",
      "KNN training took: 0.29519009590148926 sec.\n",
      "\n",
      "Model testing took: 0.7476258277893066 sec.\n",
      "\n",
      "handwritten-isolated score: 0.5396205357142857\n",
      "notMNIST score: 0.8389423076923077\n",
      "standard OCR score: 0.8973876206166157\n",
      "EMNIST score: 0.6759498023035929\n",
      "Aggregate score: 0.7597102935521087\n",
      "------\n",
      "n_components: 31\n",
      "KNN training took: 0.24576997756958008 sec.\n",
      "\n",
      "Model testing took: 0.7406520843505859 sec.\n",
      "\n",
      "handwritten-isolated score: 0.5446428571428571\n",
      "notMNIST score: 0.8386752136752137\n",
      "standard OCR score: 0.89668157213462\n",
      "EMNIST score: 0.6771531717380093\n",
      "Aggregate score: 0.760479425714652\n",
      "------\n",
      "n_components: 32\n",
      "KNN training took: 0.23291993141174316 sec.\n",
      "\n",
      "Model testing took: 0.786109209060669 sec.\n",
      "\n",
      "handwritten-isolated score: 0.5457589285714286\n",
      "notMNIST score: 0.8394764957264957\n",
      "standard OCR score: 0.8980936690986114\n",
      "EMNIST score: 0.6783565411724256\n",
      "Aggregate score: 0.7616331239584668\n",
      "------\n",
      "n_components: 33\n",
      "KNN training took: 0.2505509853363037 sec.\n",
      "\n",
      "Model testing took: 0.7687828540802002 sec.\n",
      "\n",
      "handwritten-isolated score: 0.5491071428571429\n",
      "notMNIST score: 0.8421474358974359\n",
      "standard OCR score: 0.8980936690986114\n",
      "EMNIST score: 0.6799037304452467\n",
      "Aggregate score: 0.763235482630432\n",
      "------\n",
      "n_components: 34\n",
      "KNN training took: 0.22547698020935059 sec.\n",
      "\n",
      "Model testing took: 0.7691121101379395 sec.\n",
      "\n",
      "handwritten-isolated score: 0.5435267857142857\n",
      "notMNIST score: 0.8421474358974359\n",
      "standard OCR score: 0.8978583196046128\n",
      "EMNIST score: 0.678012721334021\n",
      "Aggregate score: 0.7618254069991027\n",
      "------\n",
      "n_components: 35\n",
      "KNN training took: 0.22180795669555664 sec.\n",
      "\n",
      "Model testing took: 0.7799360752105713 sec.\n",
      "\n",
      "handwritten-isolated score: 0.5479910714285714\n",
      "notMNIST score: 0.8418803418803419\n",
      "standard OCR score: 0.9002118145445988\n",
      "EMNIST score: 0.6764655320612\n",
      "Aggregate score: 0.7623381617741315\n",
      "------\n",
      "n_components: 36\n",
      "KNN training took: 0.23113393783569336 sec.\n",
      "\n",
      "Model testing took: 0.7936379909515381 sec.\n",
      "\n",
      "handwritten-isolated score: 0.5485491071428571\n",
      "notMNIST score: 0.8416132478632479\n",
      "standard OCR score: 0.8992704165686044\n",
      "EMNIST score: 0.6768093518996046\n",
      "Aggregate score: 0.7622099730803743\n",
      "------\n",
      "n_components: 37\n",
      "KNN training took: 0.24206304550170898 sec.\n",
      "\n",
      "Model testing took: 0.8030619621276855 sec.\n",
      "\n",
      "handwritten-isolated score: 0.5513392857142857\n",
      "notMNIST score: 0.8410790598290598\n",
      "standard OCR score: 0.89832901859261\n",
      "EMNIST score: 0.677496991576414\n",
      "Aggregate score: 0.7624022561210101\n",
      "------\n",
      "n_components: 38\n",
      "KNN training took: 0.219620943069458 sec.\n",
      "\n",
      "Model testing took: 0.8351631164550781 sec.\n",
      "\n",
      "handwritten-isolated score: 0.5574776785714286\n",
      "notMNIST score: 0.8410790598290598\n",
      "standard OCR score: 0.9009178630265945\n",
      "EMNIST score: 0.6778408114148187\n",
      "Aggregate score: 0.7639405204460966\n",
      "------\n",
      "n_components: 39\n",
      "KNN training took: 0.20861124992370605 sec.\n",
      "\n",
      "Model testing took: 0.8187010288238525 sec.\n",
      "\n",
      "handwritten-isolated score: 0.55859375\n",
      "notMNIST score: 0.8424145299145299\n",
      "standard OCR score: 0.9016239115085902\n",
      "EMNIST score: 0.679044180849235\n",
      "Aggregate score: 0.765030124343033\n",
      "------\n",
      "n_components: 40\n",
      "KNN training took: 0.21382784843444824 sec.\n",
      "\n",
      "Model testing took: 0.8129222393035889 sec.\n",
      "\n",
      "handwritten-isolated score: 0.5602678571428571\n",
      "notMNIST score: 0.8413461538461539\n",
      "standard OCR score: 0.9016239115085902\n",
      "EMNIST score: 0.6792160907684374\n",
      "Aggregate score: 0.765030124343033\n",
      "------\n",
      "n_components: 41\n",
      "KNN training took: 0.2215430736541748 sec.\n",
      "\n",
      "Model testing took: 0.8327522277832031 sec.\n",
      "\n",
      "handwritten-isolated score: 0.5675223214285714\n",
      "notMNIST score: 0.8408119658119658\n",
      "standard OCR score: 0.8990350670746058\n",
      "EMNIST score: 0.679044180849235\n",
      "Aggregate score: 0.7649660299961544\n",
      "------\n",
      "n_components: 42\n",
      "KNN training took: 0.21059799194335938 sec.\n",
      "\n",
      "Model testing took: 0.8420250415802002 sec.\n",
      "\n",
      "handwritten-isolated score: 0.5697544642857143\n",
      "notMNIST score: 0.8405448717948718\n",
      "standard OCR score: 0.9009178630265945\n",
      "EMNIST score: 0.6793880006876397\n",
      "Aggregate score: 0.7657992565055762\n",
      "------\n",
      "n_components: 43\n",
      "KNN training took: 0.2189490795135498 sec.\n",
      "\n",
      "Model testing took: 0.8463950157165527 sec.\n",
      "\n",
      "handwritten-isolated score: 0.5658482142857143\n",
      "notMNIST score: 0.84375\n",
      "standard OCR score: 0.9004471640385974\n",
      "EMNIST score: 0.6793880006876397\n",
      "Aggregate score: 0.765991539546212\n",
      "------\n",
      "n_components: 44\n",
      "KNN training took: 0.23915505409240723 sec.\n",
      "\n",
      "Model testing took: 0.8634171485900879 sec.\n",
      "\n",
      "handwritten-isolated score: 0.5680803571428571\n",
      "notMNIST score: 0.8421474358974359\n",
      "standard OCR score: 0.9006825135325959\n",
      "EMNIST score: 0.6821385593948771\n",
      "Aggregate score: 0.7669529547493911\n",
      "------\n",
      "n_components: 45\n",
      "KNN training took: 0.23456907272338867 sec.\n",
      "\n",
      "Model testing took: 0.8575708866119385 sec.\n",
      "\n",
      "handwritten-isolated score: 0.5708705357142857\n",
      "notMNIST score: 0.843482905982906\n",
      "standard OCR score: 0.9004471640385974\n",
      "EMNIST score: 0.6799037304452467\n",
      "Aggregate score: 0.7666965773618767\n",
      "------\n",
      "n_components: 46\n",
      "KNN training took: 0.28490686416625977 sec.\n",
      "\n",
      "Model testing took: 0.8763399124145508 sec.\n",
      "\n",
      "handwritten-isolated score: 0.5708705357142857\n",
      "notMNIST score: 0.842948717948718\n",
      "standard OCR score: 0.9009178630265945\n",
      "EMNIST score: 0.6797318205260443\n",
      "Aggregate score: 0.7666324830149981\n",
      "------\n",
      "n_components: 47\n",
      "KNN training took: 0.2525310516357422 sec.\n",
      "\n",
      "Model testing took: 0.8910648822784424 sec.\n",
      "\n",
      "handwritten-isolated score: 0.5725446428571429\n",
      "notMNIST score: 0.843215811965812\n",
      "standard OCR score: 0.9002118145445988\n",
      "EMNIST score: 0.6812790097988654\n",
      "Aggregate score: 0.7672734264837842\n",
      "------\n",
      "n_components: 48\n",
      "KNN training took: 0.2407078742980957 sec.\n",
      "\n",
      "Model testing took: 0.9052159786224365 sec.\n",
      "\n",
      "handwritten-isolated score: 0.578125\n",
      "notMNIST score: 0.8405448717948718\n",
      "standard OCR score: 0.9011532125205931\n",
      "EMNIST score: 0.6816228296372701\n",
      "Aggregate score: 0.7676579925650557\n",
      "------\n",
      "n_components: 49\n",
      "KNN training took: 0.2404170036315918 sec.\n",
      "\n",
      "Model testing took: 0.9018998146057129 sec.\n",
      "\n",
      "handwritten-isolated score: 0.5864955357142857\n",
      "notMNIST score: 0.8400106837606838\n",
      "standard OCR score: 0.9023299599905861\n",
      "EMNIST score: 0.6814509197180677\n",
      "Aggregate score: 0.7687475964619921\n",
      "------\n",
      "n_components: 50\n",
      "KNN training took: 0.23442292213439941 sec.\n",
      "\n",
      "Model testing took: 0.9168219566345215 sec.\n",
      "\n",
      "handwritten-isolated score: 0.5775669642857143\n",
      "notMNIST score: 0.8410790598290598\n",
      "standard OCR score: 0.9023299599905861\n",
      "EMNIST score: 0.6799037304452467\n",
      "Aggregate score: 0.7674016151775414\n",
      "------\n",
      "n_components: 51\n",
      "KNN training took: 0.23504304885864258 sec.\n",
      "\n",
      "Model testing took: 1.0002400875091553 sec.\n",
      "\n",
      "handwritten-isolated score: 0.5814732142857143\n",
      "notMNIST score: 0.8405448717948718\n",
      "standard OCR score: 0.9028006589785832\n",
      "EMNIST score: 0.6781846312532233\n",
      "Aggregate score: 0.7672093321369056\n",
      "------\n",
      "n_components: 52\n",
      "KNN training took: 0.3391859531402588 sec.\n",
      "\n",
      "Model testing took: 0.997718095779419 sec.\n",
      "\n",
      "handwritten-isolated score: 0.5842633928571429\n",
      "notMNIST score: 0.8426816239316239\n",
      "standard OCR score: 0.9039774064485762\n",
      "EMNIST score: 0.6795599106068421\n",
      "Aggregate score: 0.7688757851557493\n",
      "------\n",
      "n_components: 53\n",
      "KNN training took: 0.26926493644714355 sec.\n",
      "\n",
      "Model testing took: 0.9718329906463623 sec.\n",
      "\n",
      "handwritten-isolated score: 0.5870535714285714\n",
      "notMNIST score: 0.8408119658119658\n",
      "standard OCR score: 0.9039774064485762\n",
      "EMNIST score: 0.6802475502836514\n",
      "Aggregate score: 0.7690039738495065\n",
      "------\n",
      "n_components: 54\n",
      "KNN training took: 0.2755568027496338 sec.\n",
      "\n",
      "Model testing took: 1.009922981262207 sec.\n",
      "\n",
      "handwritten-isolated score: 0.59375\n",
      "notMNIST score: 0.8408119658119658\n",
      "standard OCR score: 0.9035067074605789\n",
      "EMNIST score: 0.6764655320612\n",
      "Aggregate score: 0.7682348416869632\n",
      "------\n",
      "n_components: 55\n",
      "KNN training took: 0.24980926513671875 sec.\n",
      "\n",
      "Model testing took: 0.9554009437561035 sec.\n",
      "\n",
      "handwritten-isolated score: 0.59375\n",
      "notMNIST score: 0.8397435897435898\n",
      "standard OCR score: 0.9042127559425748\n",
      "EMNIST score: 0.6756059824651882\n",
      "Aggregate score: 0.7678502756056915\n",
      "------\n",
      "n_components: 56\n",
      "KNN training took: 0.2351851463317871 sec.\n",
      "\n",
      "Model testing took: 0.9740359783172607 sec.\n",
      "\n",
      "handwritten-isolated score: 0.5904017857142857\n",
      "notMNIST score: 0.8426816239316239\n",
      "standard OCR score: 0.9035067074605789\n",
      "EMNIST score: 0.6771531717380093\n",
      "Aggregate score: 0.7685553134213562\n",
      "------\n",
      "n_components: 57\n",
      "KNN training took: 0.27560877799987793 sec.\n",
      "\n",
      "Model testing took: 1.0227320194244385 sec.\n",
      "\n",
      "handwritten-isolated score: 0.5876116071428571\n",
      "notMNIST score: 0.8418803418803419\n",
      "standard OCR score: 0.9032713579665804\n",
      "EMNIST score: 0.6793880006876397\n",
      "Aggregate score: 0.7688116908088707\n",
      "------\n",
      "n_components: 58\n",
      "KNN training took: 0.2550511360168457 sec.\n",
      "\n",
      "Model testing took: 1.0501420497894287 sec.\n",
      "\n",
      "handwritten-isolated score: 0.5864955357142857\n",
      "notMNIST score: 0.8418803418803419\n",
      "standard OCR score: 0.9032713579665804\n",
      "EMNIST score: 0.677496991576414\n",
      "Aggregate score: 0.7679784642994488\n",
      "------\n",
      "n_components: 59\n",
      "KNN training took: 0.2602682113647461 sec.\n",
      "\n",
      "Model testing took: 1.0240981578826904 sec.\n",
      "\n",
      "handwritten-isolated score: 0.5853794642857143\n",
      "notMNIST score: 0.8408119658119658\n",
      "standard OCR score: 0.9032713579665804\n",
      "EMNIST score: 0.678012721334021\n",
      "Aggregate score: 0.7677861812588129\n",
      "------\n"
     ]
    }
   ],
   "source": [
    "knn_pca_results = test_trf_models(create_knn, pcatrf_funcs, 2, 59)"
   ]
  },
  {
   "cell_type": "code",
   "execution_count": 41,
   "metadata": {},
   "outputs": [
    {
     "data": {
      "image/png": "[encoded data removed]",
      "text/plain": [
       "<Figure size 640x480 with 1 Axes>"
      ]
     },
     "metadata": {},
     "output_type": "display_data"
    }
   ],
   "source": [
    "plot_scores(knn_pca_results, range(2, 60), title=\"PCA for KNN classification\")"
   ]
  },
  {
   "cell_type": "code",
   "execution_count": 42,
   "metadata": {},
   "outputs": [
    {
     "data": {
      "image/png": "[encoded data removed]",
      "text/plain": [
       "<Figure size 640x480 with 1 Axes>"
      ]
     },
     "metadata": {},
     "output_type": "display_data"
    }
   ],
   "source": [
    "plt.plot(range(2, 60), knn_pca_results[\"predicttimes\"], label=\"predict time\")\n",
    "plt.xlabel(\"number of PCA components\")\n",
    "plt.ylabel(\"time taken for predictions (s)\")\n",
    "plt.show()"
   ]
  },
  {
   "cell_type": "markdown",
   "metadata": {},
   "source": [
    "## Tests with LDA"
   ]
  },
  {
   "cell_type": "code",
   "execution_count": 43,
   "metadata": {},
   "outputs": [
    {
     "name": "stdout",
     "output_type": "stream",
     "text": [
      "Creating LDA components took: 8.295714855194092 sec.\n",
      "\n",
      "Creating LDA components took: 7.097922086715698 sec.\n",
      "\n",
      "Creating LDA components took: 7.479964971542358 sec.\n",
      "\n",
      "Creating LDA components took: 7.376833200454712 sec.\n",
      "\n",
      "Creating LDA components took: 6.996621131896973 sec.\n",
      "\n",
      "Creating LDA components took: 6.989284038543701 sec.\n",
      "\n",
      "Creating LDA components took: 7.127906084060669 sec.\n",
      "\n",
      "Creating LDA components took: 7.101445913314819 sec.\n",
      "\n",
      "Creating LDA components took: 6.693737983703613 sec.\n",
      "\n",
      "Creating LDA components took: 7.15224289894104 sec.\n",
      "\n",
      "Creating LDA components took: 6.953445672988892 sec.\n",
      "\n",
      "Creating LDA components took: 7.293007135391235 sec.\n",
      "\n",
      "Creating LDA components took: 7.508800029754639 sec.\n",
      "\n",
      "Creating LDA components took: 6.853917837142944 sec.\n",
      "\n",
      "Creating LDA components took: 6.849837064743042 sec.\n",
      "\n",
      "Creating LDA components took: 7.383708238601685 sec.\n",
      "\n",
      "Creating LDA components took: 7.266784906387329 sec.\n",
      "\n",
      "Creating LDA components took: 7.048354148864746 sec.\n",
      "\n",
      "Creating LDA components took: 7.28975510597229 sec.\n",
      "\n",
      "Creating LDA components took: 10.17152714729309 sec.\n",
      "\n",
      "Creating LDA components took: 7.902369976043701 sec.\n",
      "\n",
      "Creating LDA components took: 7.266404151916504 sec.\n",
      "\n",
      "Creating LDA components took: 8.126220941543579 sec.\n",
      "\n",
      "Creating LDA components took: 7.937999963760376 sec.\n",
      "\n",
      "Creating LDA components took: 7.6551408767700195 sec.\n",
      "\n",
      "Creating LDA components took: 7.098063945770264 sec.\n",
      "\n",
      "Creating LDA components took: 8.229792833328247 sec.\n",
      "\n",
      "Creating LDA components took: 8.692776203155518 sec.\n",
      "\n",
      "Creating LDA components took: 8.863770961761475 sec.\n",
      "\n",
      "Creating LDA components took: 8.121910810470581 sec.\n",
      "\n",
      "Creating LDA components took: 8.276602745056152 sec.\n",
      "\n",
      "Creating LDA components took: 8.896935224533081 sec.\n",
      "\n",
      "Creating LDA components took: 8.484517097473145 sec.\n",
      "\n",
      "Creating LDA components took: 8.18007206916809 sec.\n",
      "\n"
     ]
    }
   ],
   "source": [
    "def create_lda(X, y, n_components):\n",
    "    ts = tic()\n",
    "    lda = LinearDiscriminantAnalysis(n_components=n_components)\n",
    "    lda.fit(X, y)\n",
    "    toc(ts, \"Creating LDA components\")\n",
    "    return lda\n",
    "allldas = [create_lda(cons_train_data, cons_train_labels, i) for i in range(1, 35)]\n",
    "ldatrf_funcs = [lda.transform for lda in allldas]"
   ]
  },
  {
   "cell_type": "code",
   "execution_count": 44,
   "metadata": {},
   "outputs": [],
   "source": [
    "ldatrf_funcs = [lda.transform for lda in allldas]"
   ]
  },
  {
   "cell_type": "markdown",
   "metadata": {},
   "source": [
    "### Logistic regression linear classifier"
   ]
  },
  {
   "cell_type": "code",
   "execution_count": 45,
   "metadata": {},
   "outputs": [
    {
     "name": "stdout",
     "output_type": "stream",
     "text": [
      "n_components: 1\n",
      "Logistic Regression training took: 5.2648231983184814 sec.\n",
      "\n",
      "Model testing took: 0.11049103736877441 sec.\n",
      "\n",
      "handwritten-isolated score: 0.03850446428571429\n",
      "notMNIST score: 0.15117521367521367\n",
      "standard OCR score: 0.023064250411861616\n",
      "EMNIST score: 0.06016847172081829\n",
      "Aggregate score: 0.06941417766952955\n",
      "------\n",
      "n_components: 2\n",
      "Logistic Regression training took: 6.985913038253784 sec.\n",
      "\n",
      "Model testing took: 0.08062386512756348 sec.\n",
      "\n",
      "handwritten-isolated score: 0.03571428571428571\n",
      "notMNIST score: 0.17761752136752137\n",
      "standard OCR score: 0.02165215344787009\n",
      "EMNIST score: 0.13838748495788206\n",
      "Aggregate score: 0.10421740802461223\n",
      "------\n",
      "n_components: 3\n"
     ]
    },
    {
     "name": "stderr",
     "output_type": "stream",
     "text": [
      "/Users/jerry/mambaforge/envs/ece271bpr/lib/python3.10/site-packages/sklearn/linear_model/_logistic.py:469: ConvergenceWarning: lbfgs failed to converge (status=1):\n",
      "STOP: TOTAL NO. of ITERATIONS REACHED LIMIT.\n",
      "\n",
      "Increase the number of iterations (max_iter) or scale the data as shown in:\n",
      "    https://scikit-learn.org/stable/modules/preprocessing.html\n",
      "Please also refer to the documentation for alternative solver options:\n",
      "    https://scikit-learn.org/stable/modules/linear_model.html#logistic-regression\n",
      "  n_iter_i = _check_optimize_result(\n"
     ]
    },
    {
     "name": "stdout",
     "output_type": "stream",
     "text": [
      "Logistic Regression training took: 7.081530809402466 sec.\n",
      "\n",
      "Model testing took: 0.09317302703857422 sec.\n",
      "\n",
      "handwritten-isolated score: 0.03236607142857143\n",
      "notMNIST score: 0.20566239316239315\n",
      "standard OCR score: 0.05530713108966816\n",
      "EMNIST score: 0.2031975244971635\n",
      "Aggregate score: 0.1438918087424689\n",
      "------\n",
      "n_components: 4\n"
     ]
    },
    {
     "name": "stderr",
     "output_type": "stream",
     "text": [
      "/Users/jerry/mambaforge/envs/ece271bpr/lib/python3.10/site-packages/sklearn/linear_model/_logistic.py:469: ConvergenceWarning: lbfgs failed to converge (status=1):\n",
      "STOP: TOTAL NO. of ITERATIONS REACHED LIMIT.\n",
      "\n",
      "Increase the number of iterations (max_iter) or scale the data as shown in:\n",
      "    https://scikit-learn.org/stable/modules/preprocessing.html\n",
      "Please also refer to the documentation for alternative solver options:\n",
      "    https://scikit-learn.org/stable/modules/linear_model.html#logistic-regression\n",
      "  n_iter_i = _check_optimize_result(\n"
     ]
    },
    {
     "name": "stdout",
     "output_type": "stream",
     "text": [
      "Logistic Regression training took: 7.465492010116577 sec.\n",
      "\n",
      "Model testing took: 0.14303278923034668 sec.\n",
      "\n",
      "handwritten-isolated score: 0.03515625\n",
      "notMNIST score: 0.29967948717948717\n",
      "standard OCR score: 0.089668157213462\n",
      "EMNIST score: 0.2241705346398487\n",
      "Aggregate score: 0.18395077554159722\n",
      "------\n",
      "n_components: 5\n"
     ]
    },
    {
     "name": "stderr",
     "output_type": "stream",
     "text": [
      "/Users/jerry/mambaforge/envs/ece271bpr/lib/python3.10/site-packages/sklearn/linear_model/_logistic.py:469: ConvergenceWarning: lbfgs failed to converge (status=1):\n",
      "STOP: TOTAL NO. of ITERATIONS REACHED LIMIT.\n",
      "\n",
      "Increase the number of iterations (max_iter) or scale the data as shown in:\n",
      "    https://scikit-learn.org/stable/modules/preprocessing.html\n",
      "Please also refer to the documentation for alternative solver options:\n",
      "    https://scikit-learn.org/stable/modules/linear_model.html#logistic-regression\n",
      "  n_iter_i = _check_optimize_result(\n"
     ]
    },
    {
     "name": "stdout",
     "output_type": "stream",
     "text": [
      "Logistic Regression training took: 7.517109155654907 sec.\n",
      "\n",
      "Model testing took: 0.09659600257873535 sec.\n",
      "\n",
      "handwritten-isolated score: 0.045200892857142856\n",
      "notMNIST score: 0.38247863247863245\n",
      "standard OCR score: 0.08872675923746765\n",
      "EMNIST score: 0.2692109334708613\n",
      "Aggregate score: 0.22151006281245994\n",
      "------\n",
      "n_components: 6\n"
     ]
    },
    {
     "name": "stderr",
     "output_type": "stream",
     "text": [
      "/Users/jerry/mambaforge/envs/ece271bpr/lib/python3.10/site-packages/sklearn/linear_model/_logistic.py:469: ConvergenceWarning: lbfgs failed to converge (status=1):\n",
      "STOP: TOTAL NO. of ITERATIONS REACHED LIMIT.\n",
      "\n",
      "Increase the number of iterations (max_iter) or scale the data as shown in:\n",
      "    https://scikit-learn.org/stable/modules/preprocessing.html\n",
      "Please also refer to the documentation for alternative solver options:\n",
      "    https://scikit-learn.org/stable/modules/linear_model.html#logistic-regression\n",
      "  n_iter_i = _check_optimize_result(\n"
     ]
    },
    {
     "name": "stdout",
     "output_type": "stream",
     "text": [
      "Logistic Regression training took: 8.16355299949646 sec.\n",
      "\n",
      "Model testing took: 0.09105992317199707 sec.\n",
      "\n",
      "handwritten-isolated score: 0.05022321428571429\n",
      "notMNIST score: 0.4265491452991453\n",
      "standard OCR score: 0.13767945398917392\n",
      "EMNIST score: 0.28279181708784595\n",
      "Aggregate score: 0.251057556723497\n",
      "------\n",
      "n_components: 7\n"
     ]
    },
    {
     "name": "stderr",
     "output_type": "stream",
     "text": [
      "/Users/jerry/mambaforge/envs/ece271bpr/lib/python3.10/site-packages/sklearn/linear_model/_logistic.py:469: ConvergenceWarning: lbfgs failed to converge (status=1):\n",
      "STOP: TOTAL NO. of ITERATIONS REACHED LIMIT.\n",
      "\n",
      "Increase the number of iterations (max_iter) or scale the data as shown in:\n",
      "    https://scikit-learn.org/stable/modules/preprocessing.html\n",
      "Please also refer to the documentation for alternative solver options:\n",
      "    https://scikit-learn.org/stable/modules/linear_model.html#logistic-regression\n",
      "  n_iter_i = _check_optimize_result(\n"
     ]
    },
    {
     "name": "stdout",
     "output_type": "stream",
     "text": [
      "Logistic Regression training took: 7.530684947967529 sec.\n",
      "\n",
      "Model testing took: 0.10907816886901855 sec.\n",
      "\n",
      "handwritten-isolated score: 0.05133928571428571\n",
      "notMNIST score: 0.4754273504273504\n",
      "standard OCR score: 0.20122381736879266\n",
      "EMNIST score: 0.30806257521058966\n",
      "Aggregate score: 0.28964235354441736\n",
      "------\n",
      "n_components: 8\n"
     ]
    },
    {
     "name": "stderr",
     "output_type": "stream",
     "text": [
      "/Users/jerry/mambaforge/envs/ece271bpr/lib/python3.10/site-packages/sklearn/linear_model/_logistic.py:469: ConvergenceWarning: lbfgs failed to converge (status=1):\n",
      "STOP: TOTAL NO. of ITERATIONS REACHED LIMIT.\n",
      "\n",
      "Increase the number of iterations (max_iter) or scale the data as shown in:\n",
      "    https://scikit-learn.org/stable/modules/preprocessing.html\n",
      "Please also refer to the documentation for alternative solver options:\n",
      "    https://scikit-learn.org/stable/modules/linear_model.html#logistic-regression\n",
      "  n_iter_i = _check_optimize_result(\n"
     ]
    },
    {
     "name": "stdout",
     "output_type": "stream",
     "text": [
      "Logistic Regression training took: 7.514027118682861 sec.\n",
      "\n",
      "Model testing took: 0.10378503799438477 sec.\n",
      "\n",
      "handwritten-isolated score: 0.05412946428571429\n",
      "notMNIST score: 0.5251068376068376\n",
      "standard OCR score: 0.22805365968463168\n",
      "EMNIST score: 0.3235344679388001\n",
      "Aggregate score: 0.3149596205614665\n",
      "------\n",
      "n_components: 9\n"
     ]
    },
    {
     "name": "stderr",
     "output_type": "stream",
     "text": [
      "/Users/jerry/mambaforge/envs/ece271bpr/lib/python3.10/site-packages/sklearn/linear_model/_logistic.py:469: ConvergenceWarning: lbfgs failed to converge (status=1):\n",
      "STOP: TOTAL NO. of ITERATIONS REACHED LIMIT.\n",
      "\n",
      "Increase the number of iterations (max_iter) or scale the data as shown in:\n",
      "    https://scikit-learn.org/stable/modules/preprocessing.html\n",
      "Please also refer to the documentation for alternative solver options:\n",
      "    https://scikit-learn.org/stable/modules/linear_model.html#logistic-regression\n",
      "  n_iter_i = _check_optimize_result(\n"
     ]
    },
    {
     "name": "stdout",
     "output_type": "stream",
     "text": [
      "Logistic Regression training took: 7.534826993942261 sec.\n",
      "\n",
      "Model testing took: 0.07450985908508301 sec.\n",
      "\n",
      "handwritten-isolated score: 0.048549107142857144\n",
      "notMNIST score: 0.5384615384615384\n",
      "standard OCR score: 0.26429748176041423\n",
      "EMNIST score: 0.33178614406051227\n",
      "Aggregate score: 0.330470452506089\n",
      "------\n",
      "n_components: 10\n"
     ]
    },
    {
     "name": "stderr",
     "output_type": "stream",
     "text": [
      "/Users/jerry/mambaforge/envs/ece271bpr/lib/python3.10/site-packages/sklearn/linear_model/_logistic.py:469: ConvergenceWarning: lbfgs failed to converge (status=1):\n",
      "STOP: TOTAL NO. of ITERATIONS REACHED LIMIT.\n",
      "\n",
      "Increase the number of iterations (max_iter) or scale the data as shown in:\n",
      "    https://scikit-learn.org/stable/modules/preprocessing.html\n",
      "Please also refer to the documentation for alternative solver options:\n",
      "    https://scikit-learn.org/stable/modules/linear_model.html#logistic-regression\n",
      "  n_iter_i = _check_optimize_result(\n"
     ]
    },
    {
     "name": "stdout",
     "output_type": "stream",
     "text": [
      "Logistic Regression training took: 8.259854793548584 sec.\n",
      "\n",
      "Model testing took: 0.09548091888427734 sec.\n",
      "\n",
      "handwritten-isolated score: 0.05022321428571429\n",
      "notMNIST score: 0.5486111111111112\n",
      "standard OCR score: 0.28853847964226875\n",
      "EMNIST score: 0.3439917483238783\n",
      "Aggregate score: 0.3442507370849891\n",
      "------\n",
      "n_components: 11\n"
     ]
    },
    {
     "name": "stderr",
     "output_type": "stream",
     "text": [
      "/Users/jerry/mambaforge/envs/ece271bpr/lib/python3.10/site-packages/sklearn/linear_model/_logistic.py:469: ConvergenceWarning: lbfgs failed to converge (status=1):\n",
      "STOP: TOTAL NO. of ITERATIONS REACHED LIMIT.\n",
      "\n",
      "Increase the number of iterations (max_iter) or scale the data as shown in:\n",
      "    https://scikit-learn.org/stable/modules/preprocessing.html\n",
      "Please also refer to the documentation for alternative solver options:\n",
      "    https://scikit-learn.org/stable/modules/linear_model.html#logistic-regression\n",
      "  n_iter_i = _check_optimize_result(\n"
     ]
    },
    {
     "name": "stdout",
     "output_type": "stream",
     "text": [
      "Logistic Regression training took: 7.680356740951538 sec.\n",
      "\n",
      "Model testing took: 0.174713134765625 sec.\n",
      "\n",
      "handwritten-isolated score: 0.052455357142857144\n",
      "notMNIST score: 0.5584935897435898\n",
      "standard OCR score: 0.3036008472581784\n",
      "EMNIST score: 0.3506962351727695\n",
      "Aggregate score: 0.35348032303550825\n",
      "------\n",
      "n_components: 12\n"
     ]
    },
    {
     "name": "stderr",
     "output_type": "stream",
     "text": [
      "/Users/jerry/mambaforge/envs/ece271bpr/lib/python3.10/site-packages/sklearn/linear_model/_logistic.py:469: ConvergenceWarning: lbfgs failed to converge (status=1):\n",
      "STOP: TOTAL NO. of ITERATIONS REACHED LIMIT.\n",
      "\n",
      "Increase the number of iterations (max_iter) or scale the data as shown in:\n",
      "    https://scikit-learn.org/stable/modules/preprocessing.html\n",
      "Please also refer to the documentation for alternative solver options:\n",
      "    https://scikit-learn.org/stable/modules/linear_model.html#logistic-regression\n",
      "  n_iter_i = _check_optimize_result(\n"
     ]
    },
    {
     "name": "stdout",
     "output_type": "stream",
     "text": [
      "Logistic Regression training took: 7.9157891273498535 sec.\n",
      "\n",
      "Model testing took: 0.11433291435241699 sec.\n",
      "\n",
      "handwritten-isolated score: 0.05412946428571429\n",
      "notMNIST score: 0.5758547008547008\n",
      "standard OCR score: 0.3330195340080019\n",
      "EMNIST score: 0.3548220732336256\n",
      "Aggregate score: 0.3673887963081656\n",
      "------\n",
      "n_components: 13\n"
     ]
    },
    {
     "name": "stderr",
     "output_type": "stream",
     "text": [
      "/Users/jerry/mambaforge/envs/ece271bpr/lib/python3.10/site-packages/sklearn/linear_model/_logistic.py:469: ConvergenceWarning: lbfgs failed to converge (status=1):\n",
      "STOP: TOTAL NO. of ITERATIONS REACHED LIMIT.\n",
      "\n",
      "Increase the number of iterations (max_iter) or scale the data as shown in:\n",
      "    https://scikit-learn.org/stable/modules/preprocessing.html\n",
      "Please also refer to the documentation for alternative solver options:\n",
      "    https://scikit-learn.org/stable/modules/linear_model.html#logistic-regression\n",
      "  n_iter_i = _check_optimize_result(\n"
     ]
    },
    {
     "name": "stdout",
     "output_type": "stream",
     "text": [
      "Logistic Regression training took: 7.3780739307403564 sec.\n",
      "\n",
      "Model testing took: 0.08412599563598633 sec.\n",
      "\n",
      "handwritten-isolated score: 0.053013392857142856\n",
      "notMNIST score: 0.5830662393162394\n",
      "standard OCR score: 0.3469051541539186\n",
      "EMNIST score: 0.3613546501633144\n",
      "Aggregate score: 0.3752083066273555\n",
      "------\n",
      "n_components: 14\n"
     ]
    },
    {
     "name": "stderr",
     "output_type": "stream",
     "text": [
      "/Users/jerry/mambaforge/envs/ece271bpr/lib/python3.10/site-packages/sklearn/linear_model/_logistic.py:469: ConvergenceWarning: lbfgs failed to converge (status=1):\n",
      "STOP: TOTAL NO. of ITERATIONS REACHED LIMIT.\n",
      "\n",
      "Increase the number of iterations (max_iter) or scale the data as shown in:\n",
      "    https://scikit-learn.org/stable/modules/preprocessing.html\n",
      "Please also refer to the documentation for alternative solver options:\n",
      "    https://scikit-learn.org/stable/modules/linear_model.html#logistic-regression\n",
      "  n_iter_i = _check_optimize_result(\n"
     ]
    },
    {
     "name": "stdout",
     "output_type": "stream",
     "text": [
      "Logistic Regression training took: 7.870447874069214 sec.\n",
      "\n",
      "Model testing took: 0.09506416320800781 sec.\n",
      "\n",
      "handwritten-isolated score: 0.056361607142857144\n",
      "notMNIST score: 0.5860042735042735\n",
      "standard OCR score: 0.3678512591197929\n",
      "EMNIST score: 0.36462093862815886\n",
      "Aggregate score: 0.38322009998718115\n",
      "------\n",
      "n_components: 15\n"
     ]
    },
    {
     "name": "stderr",
     "output_type": "stream",
     "text": [
      "/Users/jerry/mambaforge/envs/ece271bpr/lib/python3.10/site-packages/sklearn/linear_model/_logistic.py:469: ConvergenceWarning: lbfgs failed to converge (status=1):\n",
      "STOP: TOTAL NO. of ITERATIONS REACHED LIMIT.\n",
      "\n",
      "Increase the number of iterations (max_iter) or scale the data as shown in:\n",
      "    https://scikit-learn.org/stable/modules/preprocessing.html\n",
      "Please also refer to the documentation for alternative solver options:\n",
      "    https://scikit-learn.org/stable/modules/linear_model.html#logistic-regression\n",
      "  n_iter_i = _check_optimize_result(\n"
     ]
    },
    {
     "name": "stdout",
     "output_type": "stream",
     "text": [
      "Logistic Regression training took: 7.633127927780151 sec.\n",
      "\n",
      "Model testing took: 0.0867009162902832 sec.\n",
      "\n",
      "handwritten-isolated score: 0.05803571428571429\n",
      "notMNIST score: 0.5924145299145299\n",
      "standard OCR score: 0.38220757825370677\n",
      "EMNIST score: 0.36479284854736116\n",
      "Aggregate score: 0.388924496859377\n",
      "------\n",
      "n_components: 16\n"
     ]
    },
    {
     "name": "stderr",
     "output_type": "stream",
     "text": [
      "/Users/jerry/mambaforge/envs/ece271bpr/lib/python3.10/site-packages/sklearn/linear_model/_logistic.py:469: ConvergenceWarning: lbfgs failed to converge (status=1):\n",
      "STOP: TOTAL NO. of ITERATIONS REACHED LIMIT.\n",
      "\n",
      "Increase the number of iterations (max_iter) or scale the data as shown in:\n",
      "    https://scikit-learn.org/stable/modules/preprocessing.html\n",
      "Please also refer to the documentation for alternative solver options:\n",
      "    https://scikit-learn.org/stable/modules/linear_model.html#logistic-regression\n",
      "  n_iter_i = _check_optimize_result(\n"
     ]
    },
    {
     "name": "stdout",
     "output_type": "stream",
     "text": [
      "Logistic Regression training took: 7.726863861083984 sec.\n",
      "\n",
      "Model testing took: 0.06970596313476562 sec.\n",
      "\n",
      "handwritten-isolated score: 0.05970982142857143\n",
      "notMNIST score: 0.5958867521367521\n",
      "standard OCR score: 0.3967992468816192\n",
      "EMNIST score: 0.3677153171738009\n",
      "Aggregate score: 0.3950134598128445\n",
      "------\n",
      "n_components: 17\n"
     ]
    },
    {
     "name": "stderr",
     "output_type": "stream",
     "text": [
      "/Users/jerry/mambaforge/envs/ece271bpr/lib/python3.10/site-packages/sklearn/linear_model/_logistic.py:469: ConvergenceWarning: lbfgs failed to converge (status=1):\n",
      "STOP: TOTAL NO. of ITERATIONS REACHED LIMIT.\n",
      "\n",
      "Increase the number of iterations (max_iter) or scale the data as shown in:\n",
      "    https://scikit-learn.org/stable/modules/preprocessing.html\n",
      "Please also refer to the documentation for alternative solver options:\n",
      "    https://scikit-learn.org/stable/modules/linear_model.html#logistic-regression\n",
      "  n_iter_i = _check_optimize_result(\n"
     ]
    },
    {
     "name": "stdout",
     "output_type": "stream",
     "text": [
      "Logistic Regression training took: 7.8010218143463135 sec.\n",
      "\n",
      "Model testing took: 0.07627081871032715 sec.\n",
      "\n",
      "handwritten-isolated score: 0.060825892857142856\n",
      "notMNIST score: 0.6004273504273504\n",
      "standard OCR score: 0.40315368321958106\n",
      "EMNIST score: 0.3653085783049682\n",
      "Aggregate score: 0.3970644789129599\n",
      "------\n",
      "n_components: 18\n"
     ]
    },
    {
     "name": "stderr",
     "output_type": "stream",
     "text": [
      "/Users/jerry/mambaforge/envs/ece271bpr/lib/python3.10/site-packages/sklearn/linear_model/_logistic.py:469: ConvergenceWarning: lbfgs failed to converge (status=1):\n",
      "STOP: TOTAL NO. of ITERATIONS REACHED LIMIT.\n",
      "\n",
      "Increase the number of iterations (max_iter) or scale the data as shown in:\n",
      "    https://scikit-learn.org/stable/modules/preprocessing.html\n",
      "Please also refer to the documentation for alternative solver options:\n",
      "    https://scikit-learn.org/stable/modules/linear_model.html#logistic-regression\n",
      "  n_iter_i = _check_optimize_result(\n"
     ]
    },
    {
     "name": "stdout",
     "output_type": "stream",
     "text": [
      "Logistic Regression training took: 7.846052169799805 sec.\n",
      "\n",
      "Model testing took: 0.07159614562988281 sec.\n",
      "\n",
      "handwritten-isolated score: 0.05915178571428571\n",
      "notMNIST score: 0.6025641025641025\n",
      "standard OCR score: 0.40950811955754296\n",
      "EMNIST score: 0.36823104693140796\n",
      "Aggregate score: 0.4002051019100115\n",
      "------\n",
      "n_components: 19\n",
      "Logistic Regression training took: 7.8089799880981445 sec.\n",
      "\n",
      "Model testing took: 0.10762691497802734 sec.\n",
      "\n",
      "handwritten-isolated score: 0.05747767857142857\n",
      "notMNIST score: 0.5993589743589743\n",
      "standard OCR score: 0.4165686043775006\n",
      "EMNIST score: 0.3757950833763108\n",
      "Aggregate score: 0.40398666837584923\n",
      "------\n",
      "n_components: 20\n",
      "Logistic Regression training took: 7.679417133331299 sec.\n",
      "\n",
      "Model testing took: 0.09687924385070801 sec.\n",
      "\n",
      "handwritten-isolated score: 0.05970982142857143\n",
      "notMNIST score: 0.6055021367521367\n",
      "standard OCR score: 0.4295128265474229\n",
      "EMNIST score: 0.37596699329551314\n",
      "Aggregate score: 0.4093064991667735\n",
      "------\n",
      "n_components: 21\n"
     ]
    },
    {
     "name": "stderr",
     "output_type": "stream",
     "text": [
      "/Users/jerry/mambaforge/envs/ece271bpr/lib/python3.10/site-packages/sklearn/linear_model/_logistic.py:469: ConvergenceWarning: lbfgs failed to converge (status=1):\n",
      "STOP: TOTAL NO. of ITERATIONS REACHED LIMIT.\n",
      "\n",
      "Increase the number of iterations (max_iter) or scale the data as shown in:\n",
      "    https://scikit-learn.org/stable/modules/preprocessing.html\n",
      "Please also refer to the documentation for alternative solver options:\n",
      "    https://scikit-learn.org/stable/modules/linear_model.html#logistic-regression\n",
      "  n_iter_i = _check_optimize_result(\n"
     ]
    },
    {
     "name": "stdout",
     "output_type": "stream",
     "text": [
      "Logistic Regression training took: 11.041586875915527 sec.\n",
      "\n",
      "Model testing took: 0.08385205268859863 sec.\n",
      "\n",
      "handwritten-isolated score: 0.0625\n",
      "notMNIST score: 0.6006944444444444\n",
      "standard OCR score: 0.4389268063073664\n",
      "EMNIST score: 0.3816400206291903\n",
      "Aggregate score: 0.4131521599794898\n",
      "------\n",
      "n_components: 22\n"
     ]
    },
    {
     "name": "stderr",
     "output_type": "stream",
     "text": [
      "/Users/jerry/mambaforge/envs/ece271bpr/lib/python3.10/site-packages/sklearn/linear_model/_logistic.py:469: ConvergenceWarning: lbfgs failed to converge (status=1):\n",
      "STOP: TOTAL NO. of ITERATIONS REACHED LIMIT.\n",
      "\n",
      "Increase the number of iterations (max_iter) or scale the data as shown in:\n",
      "    https://scikit-learn.org/stable/modules/preprocessing.html\n",
      "Please also refer to the documentation for alternative solver options:\n",
      "    https://scikit-learn.org/stable/modules/linear_model.html#logistic-regression\n",
      "  n_iter_i = _check_optimize_result(\n"
     ]
    },
    {
     "name": "stdout",
     "output_type": "stream",
     "text": [
      "Logistic Regression training took: 10.500354766845703 sec.\n",
      "\n",
      "Model testing took: 0.09325122833251953 sec.\n",
      "\n",
      "handwritten-isolated score: 0.06473214285714286\n",
      "notMNIST score: 0.5985576923076923\n",
      "standard OCR score: 0.44551659213932693\n",
      "EMNIST score: 0.3849063090940347\n",
      "Aggregate score: 0.41590821689526986\n",
      "------\n",
      "n_components: 23\n"
     ]
    },
    {
     "name": "stderr",
     "output_type": "stream",
     "text": [
      "/Users/jerry/mambaforge/envs/ece271bpr/lib/python3.10/site-packages/sklearn/linear_model/_logistic.py:469: ConvergenceWarning: lbfgs failed to converge (status=1):\n",
      "STOP: TOTAL NO. of ITERATIONS REACHED LIMIT.\n",
      "\n",
      "Increase the number of iterations (max_iter) or scale the data as shown in:\n",
      "    https://scikit-learn.org/stable/modules/preprocessing.html\n",
      "Please also refer to the documentation for alternative solver options:\n",
      "    https://scikit-learn.org/stable/modules/linear_model.html#logistic-regression\n",
      "  n_iter_i = _check_optimize_result(\n"
     ]
    },
    {
     "name": "stdout",
     "output_type": "stream",
     "text": [
      "Logistic Regression training took: 11.604033946990967 sec.\n",
      "\n",
      "Model testing took: 0.07222294807434082 sec.\n",
      "\n",
      "handwritten-isolated score: 0.0625\n",
      "notMNIST score: 0.5900106837606838\n",
      "standard OCR score: 0.45045893151329724\n",
      "EMNIST score: 0.3880006876396768\n",
      "Aggregate score: 0.41610049993590564\n",
      "------\n",
      "n_components: 24\n"
     ]
    },
    {
     "name": "stderr",
     "output_type": "stream",
     "text": [
      "/Users/jerry/mambaforge/envs/ece271bpr/lib/python3.10/site-packages/sklearn/linear_model/_logistic.py:469: ConvergenceWarning: lbfgs failed to converge (status=1):\n",
      "STOP: TOTAL NO. of ITERATIONS REACHED LIMIT.\n",
      "\n",
      "Increase the number of iterations (max_iter) or scale the data as shown in:\n",
      "    https://scikit-learn.org/stable/modules/preprocessing.html\n",
      "Please also refer to the documentation for alternative solver options:\n",
      "    https://scikit-learn.org/stable/modules/linear_model.html#logistic-regression\n",
      "  n_iter_i = _check_optimize_result(\n"
     ]
    },
    {
     "name": "stdout",
     "output_type": "stream",
     "text": [
      "Logistic Regression training took: 10.379012107849121 sec.\n",
      "\n",
      "Model testing took: 0.07585692405700684 sec.\n",
      "\n",
      "handwritten-isolated score: 0.06529017857142858\n",
      "notMNIST score: 0.594284188034188\n",
      "standard OCR score: 0.45493057189927044\n",
      "EMNIST score: 0.38971978683170017\n",
      "Aggregate score: 0.41930521727983594\n",
      "------\n",
      "n_components: 25\n"
     ]
    },
    {
     "name": "stderr",
     "output_type": "stream",
     "text": [
      "/Users/jerry/mambaforge/envs/ece271bpr/lib/python3.10/site-packages/sklearn/linear_model/_logistic.py:469: ConvergenceWarning: lbfgs failed to converge (status=1):\n",
      "STOP: TOTAL NO. of ITERATIONS REACHED LIMIT.\n",
      "\n",
      "Increase the number of iterations (max_iter) or scale the data as shown in:\n",
      "    https://scikit-learn.org/stable/modules/preprocessing.html\n",
      "Please also refer to the documentation for alternative solver options:\n",
      "    https://scikit-learn.org/stable/modules/linear_model.html#logistic-regression\n",
      "  n_iter_i = _check_optimize_result(\n"
     ]
    },
    {
     "name": "stdout",
     "output_type": "stream",
     "text": [
      "Logistic Regression training took: 11.482293844223022 sec.\n",
      "\n",
      "Model testing took: 0.09763097763061523 sec.\n",
      "\n",
      "handwritten-isolated score: 0.060267857142857144\n",
      "notMNIST score: 0.5910790598290598\n",
      "standard OCR score: 0.4575194163332549\n",
      "EMNIST score: 0.3890321471548908\n",
      "Aggregate score: 0.41840789642353543\n",
      "------\n",
      "n_components: 26\n"
     ]
    },
    {
     "name": "stderr",
     "output_type": "stream",
     "text": [
      "/Users/jerry/mambaforge/envs/ece271bpr/lib/python3.10/site-packages/sklearn/linear_model/_logistic.py:469: ConvergenceWarning: lbfgs failed to converge (status=1):\n",
      "STOP: TOTAL NO. of ITERATIONS REACHED LIMIT.\n",
      "\n",
      "Increase the number of iterations (max_iter) or scale the data as shown in:\n",
      "    https://scikit-learn.org/stable/modules/preprocessing.html\n",
      "Please also refer to the documentation for alternative solver options:\n",
      "    https://scikit-learn.org/stable/modules/linear_model.html#logistic-regression\n",
      "  n_iter_i = _check_optimize_result(\n"
     ]
    },
    {
     "name": "stdout",
     "output_type": "stream",
     "text": [
      "Logistic Regression training took: 10.901209115982056 sec.\n",
      "\n",
      "Model testing took: 0.07338213920593262 sec.\n",
      "\n",
      "handwritten-isolated score: 0.06696428571428571\n",
      "notMNIST score: 0.5854700854700855\n",
      "standard OCR score: 0.463167804189221\n",
      "EMNIST score: 0.3904074265085095\n",
      "Aggregate score: 0.41988206640174336\n",
      "------\n",
      "n_components: 27\n",
      "Logistic Regression training took: 13.511219024658203 sec.\n",
      "\n",
      "Model testing took: 0.09560871124267578 sec.\n",
      "\n",
      "handwritten-isolated score: 0.06808035714285714\n",
      "notMNIST score: 0.5838675213675214\n",
      "standard OCR score: 0.4634031536832196\n",
      "EMNIST score: 0.3890321471548908\n",
      "Aggregate score: 0.4191770285860787\n",
      "------\n",
      "n_components: 28\n"
     ]
    },
    {
     "name": "stderr",
     "output_type": "stream",
     "text": [
      "/Users/jerry/mambaforge/envs/ece271bpr/lib/python3.10/site-packages/sklearn/linear_model/_logistic.py:469: ConvergenceWarning: lbfgs failed to converge (status=1):\n",
      "STOP: TOTAL NO. of ITERATIONS REACHED LIMIT.\n",
      "\n",
      "Increase the number of iterations (max_iter) or scale the data as shown in:\n",
      "    https://scikit-learn.org/stable/modules/preprocessing.html\n",
      "Please also refer to the documentation for alternative solver options:\n",
      "    https://scikit-learn.org/stable/modules/linear_model.html#logistic-regression\n",
      "  n_iter_i = _check_optimize_result(\n"
     ]
    },
    {
     "name": "stdout",
     "output_type": "stream",
     "text": [
      "Logistic Regression training took: 13.430806875228882 sec.\n",
      "\n",
      "Model testing took: 0.06527185440063477 sec.\n",
      "\n",
      "handwritten-isolated score: 0.06919642857142858\n",
      "notMNIST score: 0.5836004273504274\n",
      "standard OCR score: 0.4664626971052012\n",
      "EMNIST score: 0.3888602372356885\n",
      "Aggregate score: 0.42001025509550055\n",
      "------\n",
      "n_components: 29\n"
     ]
    },
    {
     "name": "stderr",
     "output_type": "stream",
     "text": [
      "/Users/jerry/mambaforge/envs/ece271bpr/lib/python3.10/site-packages/sklearn/linear_model/_logistic.py:469: ConvergenceWarning: lbfgs failed to converge (status=1):\n",
      "STOP: TOTAL NO. of ITERATIONS REACHED LIMIT.\n",
      "\n",
      "Increase the number of iterations (max_iter) or scale the data as shown in:\n",
      "    https://scikit-learn.org/stable/modules/preprocessing.html\n",
      "Please also refer to the documentation for alternative solver options:\n",
      "    https://scikit-learn.org/stable/modules/linear_model.html#logistic-regression\n",
      "  n_iter_i = _check_optimize_result(\n"
     ]
    },
    {
     "name": "stdout",
     "output_type": "stream",
     "text": [
      "Logistic Regression training took: 12.037751197814941 sec.\n",
      "\n",
      "Model testing took: 0.07311367988586426 sec.\n",
      "\n",
      "handwritten-isolated score: 0.06919642857142858\n",
      "notMNIST score: 0.5822649572649573\n",
      "standard OCR score: 0.463167804189221\n",
      "EMNIST score: 0.38782877772047447\n",
      "Aggregate score: 0.41840789642353543\n",
      "------\n",
      "n_components: 30\n"
     ]
    },
    {
     "name": "stderr",
     "output_type": "stream",
     "text": [
      "/Users/jerry/mambaforge/envs/ece271bpr/lib/python3.10/site-packages/sklearn/linear_model/_logistic.py:469: ConvergenceWarning: lbfgs failed to converge (status=1):\n",
      "STOP: TOTAL NO. of ITERATIONS REACHED LIMIT.\n",
      "\n",
      "Increase the number of iterations (max_iter) or scale the data as shown in:\n",
      "    https://scikit-learn.org/stable/modules/preprocessing.html\n",
      "Please also refer to the documentation for alternative solver options:\n",
      "    https://scikit-learn.org/stable/modules/linear_model.html#logistic-regression\n",
      "  n_iter_i = _check_optimize_result(\n"
     ]
    },
    {
     "name": "stdout",
     "output_type": "stream",
     "text": [
      "Logistic Regression training took: 11.89873719215393 sec.\n",
      "\n",
      "Model testing took: 0.07908511161804199 sec.\n",
      "\n",
      "handwritten-isolated score: 0.06696428571428571\n",
      "notMNIST score: 0.5814636752136753\n",
      "standard OCR score: 0.46481525064721113\n",
      "EMNIST score: 0.3871411380436651\n",
      "Aggregate score: 0.41815151903602105\n",
      "------\n",
      "n_components: 31\n",
      "Logistic Regression training took: 10.252357006072998 sec.\n",
      "\n",
      "Model testing took: 0.07051396369934082 sec.\n",
      "\n",
      "handwritten-isolated score: 0.06305803571428571\n",
      "notMNIST score: 0.5779914529914529\n",
      "standard OCR score: 0.46669804659919983\n",
      "EMNIST score: 0.3866254082860581\n",
      "Aggregate score: 0.41719010383284194\n",
      "------\n",
      "n_components: 32\n"
     ]
    },
    {
     "name": "stderr",
     "output_type": "stream",
     "text": [
      "/Users/jerry/mambaforge/envs/ece271bpr/lib/python3.10/site-packages/sklearn/linear_model/_logistic.py:469: ConvergenceWarning: lbfgs failed to converge (status=1):\n",
      "STOP: TOTAL NO. of ITERATIONS REACHED LIMIT.\n",
      "\n",
      "Increase the number of iterations (max_iter) or scale the data as shown in:\n",
      "    https://scikit-learn.org/stable/modules/preprocessing.html\n",
      "Please also refer to the documentation for alternative solver options:\n",
      "    https://scikit-learn.org/stable/modules/linear_model.html#logistic-regression\n",
      "  n_iter_i = _check_optimize_result(\n"
     ]
    },
    {
     "name": "stdout",
     "output_type": "stream",
     "text": [
      "Logistic Regression training took: 10.780403137207031 sec.\n",
      "\n",
      "Model testing took: 0.07480597496032715 sec.\n",
      "\n",
      "handwritten-isolated score: 0.060267857142857144\n",
      "notMNIST score: 0.5793269230769231\n",
      "standard OCR score: 0.4688161920451871\n",
      "EMNIST score: 0.3831872099020113\n",
      "Aggregate score: 0.4164850660171773\n",
      "------\n",
      "n_components: 33\n"
     ]
    },
    {
     "name": "stderr",
     "output_type": "stream",
     "text": [
      "/Users/jerry/mambaforge/envs/ece271bpr/lib/python3.10/site-packages/sklearn/linear_model/_logistic.py:469: ConvergenceWarning: lbfgs failed to converge (status=1):\n",
      "STOP: TOTAL NO. of ITERATIONS REACHED LIMIT.\n",
      "\n",
      "Increase the number of iterations (max_iter) or scale the data as shown in:\n",
      "    https://scikit-learn.org/stable/modules/preprocessing.html\n",
      "Please also refer to the documentation for alternative solver options:\n",
      "    https://scikit-learn.org/stable/modules/linear_model.html#logistic-regression\n",
      "  n_iter_i = _check_optimize_result(\n"
     ]
    },
    {
     "name": "stdout",
     "output_type": "stream",
     "text": [
      "Logistic Regression training took: 11.85071086883545 sec.\n",
      "\n",
      "Model testing took: 0.06238675117492676 sec.\n",
      "\n",
      "handwritten-isolated score: 0.0625\n",
      "notMNIST score: 0.5774572649572649\n",
      "standard OCR score: 0.4695222405271829\n",
      "EMNIST score: 0.3847343991748324\n",
      "Aggregate score: 0.41706191513908475\n",
      "------\n",
      "n_components: 34\n",
      "Logistic Regression training took: 12.010543823242188 sec.\n",
      "\n",
      "Model testing took: 0.10824704170227051 sec.\n",
      "\n",
      "handwritten-isolated score: 0.06584821428571429\n",
      "notMNIST score: 0.5758547008547008\n",
      "standard OCR score: 0.4688161920451871\n",
      "EMNIST score: 0.3828433900636067\n",
      "Aggregate score: 0.41616459428278424\n",
      "------\n"
     ]
    },
    {
     "name": "stderr",
     "output_type": "stream",
     "text": [
      "/Users/jerry/mambaforge/envs/ece271bpr/lib/python3.10/site-packages/sklearn/linear_model/_logistic.py:469: ConvergenceWarning: lbfgs failed to converge (status=1):\n",
      "STOP: TOTAL NO. of ITERATIONS REACHED LIMIT.\n",
      "\n",
      "Increase the number of iterations (max_iter) or scale the data as shown in:\n",
      "    https://scikit-learn.org/stable/modules/preprocessing.html\n",
      "Please also refer to the documentation for alternative solver options:\n",
      "    https://scikit-learn.org/stable/modules/linear_model.html#logistic-regression\n",
      "  n_iter_i = _check_optimize_result(\n"
     ]
    }
   ],
   "source": [
    "logreg_lda_results = test_trf_models(create_logreg, ldatrf_funcs, 1, 34)"
   ]
  },
  {
   "cell_type": "code",
   "execution_count": 46,
   "metadata": {},
   "outputs": [
    {
     "data": {
      "image/png": "[encoded data removed]",
      "text/plain": [
       "<Figure size 640x480 with 1 Axes>"
      ]
     },
     "metadata": {},
     "output_type": "display_data"
    }
   ],
   "source": [
    "plot_scores(logreg_lda_results, range(1, 35), title=\"LDA for logistic regression classification\")"
   ]
  },
  {
   "cell_type": "markdown",
   "metadata": {},
   "source": [
    "### KNN classifier"
   ]
  },
  {
   "cell_type": "code",
   "execution_count": 47,
   "metadata": {},
   "outputs": [
    {
     "name": "stdout",
     "output_type": "stream",
     "text": [
      "n_components: 1\n",
      "KNN training took: 0.4339418411254883 sec.\n",
      "\n",
      "Model testing took: 0.3401520252227783 sec.\n",
      "\n",
      "handwritten-isolated score: 0.19419642857142858\n",
      "notMNIST score: 0.08627136752136752\n",
      "standard OCR score: 0.036243822075782535\n",
      "EMNIST score: 0.057589822932783225\n",
      "Aggregate score: 0.07434944237918216\n",
      "------\n",
      "n_components: 2\n",
      "KNN training took: 0.23886990547180176 sec.\n",
      "\n",
      "Model testing took: 0.3389618396759033 sec.\n",
      "\n",
      "handwritten-isolated score: 0.23716517857142858\n",
      "notMNIST score: 0.14289529914529914\n",
      "standard OCR score: 0.05201223817368793\n",
      "EMNIST score: 0.13099535843218155\n",
      "Aggregate score: 0.12453531598513011\n",
      "------\n",
      "n_components: 3\n",
      "KNN training took: 0.33748722076416016 sec.\n",
      "\n",
      "Model testing took: 0.31865382194519043 sec.\n",
      "\n",
      "handwritten-isolated score: 0.30691964285714285\n",
      "notMNIST score: 0.25587606837606836\n",
      "standard OCR score: 0.11508590256530948\n",
      "EMNIST score: 0.17552002750558707\n",
      "Aggregate score: 0.1934367388796308\n",
      "------\n",
      "n_components: 4\n",
      "KNN training took: 0.2105271816253662 sec.\n",
      "\n",
      "Model testing took: 0.35626912117004395 sec.\n",
      "\n",
      "handwritten-isolated score: 0.36997767857142855\n",
      "notMNIST score: 0.34802350427350426\n",
      "standard OCR score: 0.17674746999293953\n",
      "EMNIST score: 0.20061887570912842\n",
      "Aggregate score: 0.248942443276503\n",
      "------\n",
      "n_components: 5\n",
      "KNN training took: 0.20917391777038574 sec.\n",
      "\n",
      "Model testing took: 0.40004587173461914 sec.\n",
      "\n",
      "handwritten-isolated score: 0.4029017857142857\n",
      "notMNIST score: 0.43002136752136755\n",
      "standard OCR score: 0.29724641092021653\n",
      "EMNIST score: 0.27918170878459686\n",
      "Aggregate score: 0.3345083963594411\n",
      "------\n",
      "n_components: 6\n",
      "KNN training took: 0.22377514839172363 sec.\n",
      "\n",
      "Model testing took: 0.4950411319732666 sec.\n",
      "\n",
      "handwritten-isolated score: 0.42354910714285715\n",
      "notMNIST score: 0.5088141025641025\n",
      "standard OCR score: 0.3859731701576842\n",
      "EMNIST score: 0.30101426852329377\n",
      "Aggregate score: 0.3880912703499551\n",
      "------\n",
      "n_components: 7\n",
      "KNN training took: 0.21707797050476074 sec.\n",
      "\n",
      "Model testing took: 0.7100160121917725 sec.\n",
      "\n",
      "handwritten-isolated score: 0.44029017857142855\n",
      "notMNIST score: 0.5729166666666666\n",
      "standard OCR score: 0.5151800423629089\n",
      "EMNIST score: 0.3278322159188585\n",
      "Aggregate score: 0.4505832585565953\n",
      "------\n",
      "n_components: 8\n",
      "KNN training took: 0.2459709644317627 sec.\n",
      "\n",
      "Model testing took: 0.8624601364135742 sec.\n",
      "\n",
      "handwritten-isolated score: 0.46372767857142855\n",
      "notMNIST score: 0.6282051282051282\n",
      "standard OCR score: 0.588844433984467\n",
      "EMNIST score: 0.35241533436479283\n",
      "Aggregate score: 0.49576977310601206\n",
      "------\n",
      "n_components: 9\n",
      "KNN training took: 0.21320295333862305 sec.\n",
      "\n",
      "Model testing took: 1.1802668571472168 sec.\n",
      "\n",
      "handwritten-isolated score: 0.47935267857142855\n",
      "notMNIST score: 0.6375534188034188\n",
      "standard OCR score: 0.6563897387620616\n",
      "EMNIST score: 0.3806085611139763\n",
      "Aggregate score: 0.5287142674016152\n",
      "------\n",
      "n_components: 10\n",
      "KNN training took: 0.2347869873046875 sec.\n",
      "\n",
      "Model testing took: 1.6795868873596191 sec.\n",
      "\n",
      "handwritten-isolated score: 0.48214285714285715\n",
      "notMNIST score: 0.6631944444444444\n",
      "standard OCR score: 0.7055777830077665\n",
      "EMNIST score: 0.39642427368059135\n",
      "Aggregate score: 0.5544801948468145\n",
      "------\n",
      "n_components: 11\n",
      "KNN training took: 0.24585700035095215 sec.\n",
      "\n",
      "Model testing took: 2.3255321979522705 sec.\n",
      "\n",
      "handwritten-isolated score: 0.5122767857142857\n",
      "notMNIST score: 0.6717414529914529\n",
      "standard OCR score: 0.7432337020475406\n",
      "EMNIST score: 0.4072545985903387\n",
      "Aggregate score: 0.5742853480323036\n",
      "------\n",
      "n_components: 12\n",
      "KNN training took: 0.23351287841796875 sec.\n",
      "\n",
      "Model testing took: 3.081425905227661 sec.\n",
      "\n",
      "handwritten-isolated score: 0.5055803571428571\n",
      "notMNIST score: 0.6885683760683761\n",
      "standard OCR score: 0.787008707931278\n",
      "EMNIST score: 0.4149905449544439\n",
      "Aggregate score: 0.5923599538520703\n",
      "------\n",
      "n_components: 13\n",
      "KNN training took: 0.21493816375732422 sec.\n",
      "\n",
      "Model testing took: 4.312772989273071 sec.\n",
      "\n",
      "handwritten-isolated score: 0.5078125\n",
      "notMNIST score: 0.6909722222222222\n",
      "standard OCR score: 0.801835726053189\n",
      "EMNIST score: 0.431321987278666\n",
      "Aggregate score: 0.6033200871683118\n",
      "------\n",
      "n_components: 14\n",
      "KNN training took: 0.27492189407348633 sec.\n",
      "\n",
      "Model testing took: 5.480304002761841 sec.\n",
      "\n",
      "handwritten-isolated score: 0.5167410714285714\n",
      "notMNIST score: 0.6936431623931624\n",
      "standard OCR score: 0.8168980936690986\n",
      "EMNIST score: 0.4404332129963899\n",
      "Aggregate score: 0.6124855787719523\n",
      "------\n",
      "n_components: 15\n",
      "KNN training took: 0.2306201457977295 sec.\n",
      "\n",
      "Model testing took: 6.793957233428955 sec.\n",
      "\n",
      "handwritten-isolated score: 0.5251116071428571\n",
      "notMNIST score: 0.6995192307692307\n",
      "standard OCR score: 0.8317251117910096\n",
      "EMNIST score: 0.457280385078219\n",
      "Aggregate score: 0.6251762594539162\n",
      "------\n",
      "n_components: 16\n",
      "KNN training took: 0.2199079990386963 sec.\n",
      "\n",
      "Model testing took: 0.853219747543335 sec.\n",
      "\n",
      "handwritten-isolated score: 0.515625\n",
      "notMNIST score: 0.7021901709401709\n",
      "standard OCR score: 0.8444339844669334\n",
      "EMNIST score: 0.4629534124118962\n",
      "Aggregate score: 0.6303038072042045\n",
      "------\n",
      "n_components: 17\n",
      "KNN training took: 0.2207930088043213 sec.\n",
      "\n",
      "Model testing took: 0.8743472099304199 sec.\n",
      "\n",
      "handwritten-isolated score: 0.5223214285714286\n",
      "notMNIST score: 0.7061965811965812\n",
      "standard OCR score: 0.8496116733349023\n",
      "EMNIST score: 0.4608904933814681\n",
      "Aggregate score: 0.632675298038713\n",
      "------\n",
      "n_components: 18\n",
      "KNN training took: 0.19214224815368652 sec.\n",
      "\n",
      "Model testing took: 0.8638808727264404 sec.\n",
      "\n",
      "handwritten-isolated score: 0.5368303571428571\n",
      "notMNIST score: 0.7067307692307693\n",
      "standard OCR score: 0.8547893622028713\n",
      "EMNIST score: 0.46828261990716863\n",
      "Aggregate score: 0.6386360722984232\n",
      "------\n",
      "n_components: 19\n",
      "KNN training took: 0.19432282447814941 sec.\n",
      "\n",
      "Model testing took: 0.917262077331543 sec.\n",
      "\n",
      "handwritten-isolated score: 0.5452008928571429\n",
      "notMNIST score: 0.7035256410256411\n",
      "standard OCR score: 0.8592610025888444\n",
      "EMNIST score: 0.4732680075640364\n",
      "Aggregate score: 0.6419048839892322\n",
      "------\n",
      "n_components: 20\n",
      "KNN training took: 0.22201275825500488 sec.\n",
      "\n",
      "Model testing took: 0.879246711730957 sec.\n",
      "\n",
      "handwritten-isolated score: 0.5357142857142857\n",
      "notMNIST score: 0.7043269230769231\n",
      "standard OCR score: 0.8679689338667922\n",
      "EMNIST score: 0.4799724944129276\n",
      "Aggregate score: 0.6458787334957057\n",
      "------\n",
      "n_components: 21\n",
      "KNN training took: 0.21465182304382324 sec.\n",
      "\n",
      "Model testing took: 0.8990190029144287 sec.\n",
      "\n",
      "handwritten-isolated score: 0.5574776785714286\n",
      "notMNIST score: 0.7035256410256411\n",
      "standard OCR score: 0.8722052247587667\n",
      "EMNIST score: 0.48048822417053466\n",
      "Aggregate score: 0.6495321112677862\n",
      "------\n",
      "n_components: 22\n",
      "KNN training took: 0.20637989044189453 sec.\n",
      "\n",
      "Model testing took: 0.8772740364074707 sec.\n",
      "\n",
      "handwritten-isolated score: 0.5708705357142857\n",
      "notMNIST score: 0.7051282051282052\n",
      "standard OCR score: 0.8804424570487174\n",
      "EMNIST score: 0.4749871067560598\n",
      "Aggregate score: 0.6516472247147802\n",
      "------\n",
      "n_components: 23\n",
      "KNN training took: 0.20689105987548828 sec.\n",
      "\n",
      "Model testing took: 0.9336960315704346 sec.\n",
      "\n",
      "handwritten-isolated score: 0.5647321428571429\n",
      "notMNIST score: 0.7005876068376068\n",
      "standard OCR score: 0.879501059072723\n",
      "EMNIST score: 0.4785972150593089\n",
      "Aggregate score: 0.6509421868991155\n",
      "------\n",
      "n_components: 24\n",
      "KNN training took: 0.22534704208374023 sec.\n",
      "\n",
      "Model testing took: 0.9155621528625488 sec.\n",
      "\n",
      "handwritten-isolated score: 0.5652901785714286\n",
      "notMNIST score: 0.6907051282051282\n",
      "standard OCR score: 0.8783243116027301\n",
      "EMNIST score: 0.48014440433212996\n",
      "Aggregate score: 0.6488911677990001\n",
      "------\n",
      "n_components: 25\n",
      "KNN training took: 0.20277619361877441 sec.\n",
      "\n",
      "Model testing took: 0.8964989185333252 sec.\n",
      "\n",
      "handwritten-isolated score: 0.5613839285714286\n",
      "notMNIST score: 0.6907051282051282\n",
      "standard OCR score: 0.8802071075547188\n",
      "EMNIST score: 0.48237923328176036\n",
      "Aggregate score: 0.6497884886553006\n",
      "------\n",
      "n_components: 26\n",
      "KNN training took: 0.18564295768737793 sec.\n",
      "\n",
      "Model testing took: 0.9035229682922363 sec.\n",
      "\n",
      "handwritten-isolated score: 0.56640625\n",
      "notMNIST score: 0.6848290598290598\n",
      "standard OCR score: 0.8858554954106849\n",
      "EMNIST score: 0.4794567646553206\n",
      "Aggregate score: 0.649403922574029\n",
      "------\n",
      "n_components: 27\n",
      "KNN training took: 0.22192883491516113 sec.\n",
      "\n",
      "Model testing took: 0.9643189907073975 sec.\n",
      "\n",
      "handwritten-isolated score: 0.5731026785714286\n",
      "notMNIST score: 0.6784188034188035\n",
      "standard OCR score: 0.8842080489526948\n",
      "EMNIST score: 0.48186350352415336\n",
      "Aggregate score: 0.6490834508396359\n",
      "------\n",
      "n_components: 28\n",
      "KNN training took: 0.1768338680267334 sec.\n",
      "\n",
      "Model testing took: 0.9531769752502441 sec.\n",
      "\n",
      "handwritten-isolated score: 0.5714285714285714\n",
      "notMNIST score: 0.6720085470085471\n",
      "standard OCR score: 0.8856201459166863\n",
      "EMNIST score: 0.4785972150593089\n",
      "Aggregate score: 0.6465196769644918\n",
      "------\n",
      "n_components: 29\n",
      "KNN training took: 0.1904442310333252 sec.\n",
      "\n",
      "Model testing took: 0.9631860256195068 sec.\n",
      "\n",
      "handwritten-isolated score: 0.5725446428571429\n",
      "notMNIST score: 0.6672008547008547\n",
      "standard OCR score: 0.8846787479406919\n",
      "EMNIST score: 0.4643286917655149\n",
      "Aggregate score: 0.6399179592359954\n",
      "------\n",
      "n_components: 30\n",
      "KNN training took: 0.18735694885253906 sec.\n",
      "\n",
      "Model testing took: 0.9496729373931885 sec.\n",
      "\n",
      "handwritten-isolated score: 0.5770089285714286\n",
      "notMNIST score: 0.6602564102564102\n",
      "standard OCR score: 0.8872675923746763\n",
      "EMNIST score: 0.46690734055354993\n",
      "Aggregate score: 0.6404307140110242\n",
      "------\n",
      "n_components: 31\n",
      "KNN training took: 0.1866898536682129 sec.\n",
      "\n",
      "Model testing took: 0.9793710708618164 sec.\n",
      "\n",
      "handwritten-isolated score: 0.58203125\n",
      "notMNIST score: 0.656784188034188\n",
      "standard OCR score: 0.8849140974346905\n",
      "EMNIST score: 0.46742307031115693\n",
      "Aggregate score: 0.6397256761953596\n",
      "------\n",
      "n_components: 32\n",
      "KNN training took: 0.260545015335083 sec.\n",
      "\n",
      "Model testing took: 0.997244119644165 sec.\n",
      "\n",
      "handwritten-isolated score: 0.578125\n",
      "notMNIST score: 0.6549145299145299\n",
      "standard OCR score: 0.8837373499646975\n",
      "EMNIST score: 0.4581399346742307\n",
      "Aggregate score: 0.6350467888732214\n",
      "------\n",
      "n_components: 33\n",
      "KNN training took: 0.20743012428283691 sec.\n",
      "\n",
      "Model testing took: 0.9838199615478516 sec.\n",
      "\n",
      "handwritten-isolated score: 0.5764508928571429\n",
      "notMNIST score: 0.6498397435897436\n",
      "standard OCR score: 0.8811485055307131\n",
      "EMNIST score: 0.4531545470173629\n",
      "Aggregate score: 0.6310729393667478\n",
      "------\n",
      "n_components: 34\n",
      "KNN training took: 0.2015230655670166 sec.\n",
      "\n",
      "Model testing took: 0.9586598873138428 sec.\n",
      "\n",
      "handwritten-isolated score: 0.578125\n",
      "notMNIST score: 0.6474358974358975\n",
      "standard OCR score: 0.8830313014827018\n",
      "EMNIST score: 0.4483410692796974\n",
      "Aggregate score: 0.6294064863479041\n",
      "------\n"
     ]
    }
   ],
   "source": [
    "knn_lda_results = test_trf_models(create_knn, ldatrf_funcs, 1, 34)"
   ]
  },
  {
   "cell_type": "code",
   "execution_count": 48,
   "metadata": {},
   "outputs": [
    {
     "data": {
      "image/png": "[encoded data removed]",
      "text/plain": [
       "<Figure size 640x480 with 1 Axes>"
      ]
     },
     "metadata": {},
     "output_type": "display_data"
    }
   ],
   "source": [
    "plot_scores(knn_lda_results, range(1, 35), title=\"LDA for KNN classification\")"
   ]
  },
  {
   "cell_type": "markdown",
   "metadata": {},
   "source": [
    "## Tests with random Gaussian projection"
   ]
  },
  {
   "cell_type": "code",
   "execution_count": 49,
   "metadata": {},
   "outputs": [],
   "source": [
    "allgrps = [GaussianRandomProjection(n_components=i, random_state=1).fit(cons_train_data) for i in range(2, 60)]\n",
    "rgptrf_funcs = [grp.transform for grp in allgrps]"
   ]
  },
  {
   "cell_type": "markdown",
   "metadata": {},
   "source": [
    "### Logistic regression"
   ]
  },
  {
   "cell_type": "code",
   "execution_count": 50,
   "metadata": {},
   "outputs": [
    {
     "name": "stdout",
     "output_type": "stream",
     "text": [
      "n_components: 2\n"
     ]
    },
    {
     "name": "stderr",
     "output_type": "stream",
     "text": [
      "/Users/jerry/mambaforge/envs/ece271bpr/lib/python3.10/site-packages/sklearn/linear_model/_logistic.py:469: ConvergenceWarning: lbfgs failed to converge (status=1):\n",
      "STOP: TOTAL NO. of ITERATIONS REACHED LIMIT.\n",
      "\n",
      "Increase the number of iterations (max_iter) or scale the data as shown in:\n",
      "    https://scikit-learn.org/stable/modules/preprocessing.html\n",
      "Please also refer to the documentation for alternative solver options:\n",
      "    https://scikit-learn.org/stable/modules/linear_model.html#logistic-regression\n",
      "  n_iter_i = _check_optimize_result(\n"
     ]
    },
    {
     "name": "stdout",
     "output_type": "stream",
     "text": [
      "Logistic Regression training took: 7.477319955825806 sec.\n",
      "\n",
      "Model testing took: 0.06003379821777344 sec.\n",
      "\n",
      "handwritten-isolated score: 0.045200892857142856\n",
      "notMNIST score: 0.13007478632478633\n",
      "standard OCR score: 0.02494704636385032\n",
      "EMNIST score: 0.008251676121712223\n",
      "Aggregate score: 0.04627611844635303\n",
      "------\n",
      "n_components: 3\n"
     ]
    },
    {
     "name": "stderr",
     "output_type": "stream",
     "text": [
      "/Users/jerry/mambaforge/envs/ece271bpr/lib/python3.10/site-packages/sklearn/linear_model/_logistic.py:469: ConvergenceWarning: lbfgs failed to converge (status=1):\n",
      "STOP: TOTAL NO. of ITERATIONS REACHED LIMIT.\n",
      "\n",
      "Increase the number of iterations (max_iter) or scale the data as shown in:\n",
      "    https://scikit-learn.org/stable/modules/preprocessing.html\n",
      "Please also refer to the documentation for alternative solver options:\n",
      "    https://scikit-learn.org/stable/modules/linear_model.html#logistic-regression\n",
      "  n_iter_i = _check_optimize_result(\n"
     ]
    },
    {
     "name": "stdout",
     "output_type": "stream",
     "text": [
      "Logistic Regression training took: 6.75170111656189 sec.\n",
      "\n",
      "Model testing took: 0.04214000701904297 sec.\n",
      "\n",
      "handwritten-isolated score: 0.04296875\n",
      "notMNIST score: 0.13862179487179488\n",
      "standard OCR score: 0.023299599905860204\n",
      "EMNIST score: 0.036101083032490974\n",
      "Aggregate score: 0.0580053839251378\n",
      "------\n",
      "n_components: 4\n"
     ]
    },
    {
     "name": "stderr",
     "output_type": "stream",
     "text": [
      "/Users/jerry/mambaforge/envs/ece271bpr/lib/python3.10/site-packages/sklearn/linear_model/_logistic.py:469: ConvergenceWarning: lbfgs failed to converge (status=1):\n",
      "STOP: TOTAL NO. of ITERATIONS REACHED LIMIT.\n",
      "\n",
      "Increase the number of iterations (max_iter) or scale the data as shown in:\n",
      "    https://scikit-learn.org/stable/modules/preprocessing.html\n",
      "Please also refer to the documentation for alternative solver options:\n",
      "    https://scikit-learn.org/stable/modules/linear_model.html#logistic-regression\n",
      "  n_iter_i = _check_optimize_result(\n"
     ]
    },
    {
     "name": "stdout",
     "output_type": "stream",
     "text": [
      "Logistic Regression training took: 7.022233963012695 sec.\n",
      "\n",
      "Model testing took: 0.052789926528930664 sec.\n",
      "\n",
      "handwritten-isolated score: 0.045200892857142856\n",
      "notMNIST score: 0.18242521367521367\n",
      "standard OCR score: 0.029889385737820663\n",
      "EMNIST score: 0.07770328347945676\n",
      "Aggregate score: 0.08607870785796692\n",
      "------\n",
      "n_components: 5\n"
     ]
    },
    {
     "name": "stderr",
     "output_type": "stream",
     "text": [
      "/Users/jerry/mambaforge/envs/ece271bpr/lib/python3.10/site-packages/sklearn/linear_model/_logistic.py:469: ConvergenceWarning: lbfgs failed to converge (status=1):\n",
      "STOP: TOTAL NO. of ITERATIONS REACHED LIMIT.\n",
      "\n",
      "Increase the number of iterations (max_iter) or scale the data as shown in:\n",
      "    https://scikit-learn.org/stable/modules/preprocessing.html\n",
      "Please also refer to the documentation for alternative solver options:\n",
      "    https://scikit-learn.org/stable/modules/linear_model.html#logistic-regression\n",
      "  n_iter_i = _check_optimize_result(\n"
     ]
    },
    {
     "name": "stdout",
     "output_type": "stream",
     "text": [
      "Logistic Regression training took: 7.093755006790161 sec.\n",
      "\n",
      "Model testing took: 0.04597187042236328 sec.\n",
      "\n",
      "handwritten-isolated score: 0.04799107142857143\n",
      "notMNIST score: 0.20032051282051283\n",
      "standard OCR score: 0.03153683219581078\n",
      "EMNIST score: 0.098676293622142\n",
      "Aggregate score: 0.0989616715805666\n",
      "------\n",
      "n_components: 6\n"
     ]
    },
    {
     "name": "stderr",
     "output_type": "stream",
     "text": [
      "/Users/jerry/mambaforge/envs/ece271bpr/lib/python3.10/site-packages/sklearn/linear_model/_logistic.py:469: ConvergenceWarning: lbfgs failed to converge (status=1):\n",
      "STOP: TOTAL NO. of ITERATIONS REACHED LIMIT.\n",
      "\n",
      "Increase the number of iterations (max_iter) or scale the data as shown in:\n",
      "    https://scikit-learn.org/stable/modules/preprocessing.html\n",
      "Please also refer to the documentation for alternative solver options:\n",
      "    https://scikit-learn.org/stable/modules/linear_model.html#logistic-regression\n",
      "  n_iter_i = _check_optimize_result(\n"
     ]
    },
    {
     "name": "stdout",
     "output_type": "stream",
     "text": [
      "Logistic Regression training took: 7.219892263412476 sec.\n",
      "\n",
      "Model testing took: 0.05103492736816406 sec.\n",
      "\n",
      "handwritten-isolated score: 0.04631696428571429\n",
      "notMNIST score: 0.21287393162393162\n",
      "standard OCR score: 0.04024476347375853\n",
      "EMNIST score: 0.10606842014784253\n",
      "Aggregate score: 0.10690937059351366\n",
      "------\n",
      "n_components: 7\n"
     ]
    },
    {
     "name": "stderr",
     "output_type": "stream",
     "text": [
      "/Users/jerry/mambaforge/envs/ece271bpr/lib/python3.10/site-packages/sklearn/linear_model/_logistic.py:469: ConvergenceWarning: lbfgs failed to converge (status=1):\n",
      "STOP: TOTAL NO. of ITERATIONS REACHED LIMIT.\n",
      "\n",
      "Increase the number of iterations (max_iter) or scale the data as shown in:\n",
      "    https://scikit-learn.org/stable/modules/preprocessing.html\n",
      "Please also refer to the documentation for alternative solver options:\n",
      "    https://scikit-learn.org/stable/modules/linear_model.html#logistic-regression\n",
      "  n_iter_i = _check_optimize_result(\n"
     ]
    },
    {
     "name": "stdout",
     "output_type": "stream",
     "text": [
      "Logistic Regression training took: 7.293278932571411 sec.\n",
      "\n",
      "Model testing took: 0.03974604606628418 sec.\n",
      "\n",
      "handwritten-isolated score: 0.04185267857142857\n",
      "notMNIST score: 0.22889957264957264\n",
      "standard OCR score: 0.038361967521769826\n",
      "EMNIST score: 0.12154031287605295\n",
      "Aggregate score: 0.11549801307524676\n",
      "------\n",
      "n_components: 8\n"
     ]
    },
    {
     "name": "stderr",
     "output_type": "stream",
     "text": [
      "/Users/jerry/mambaforge/envs/ece271bpr/lib/python3.10/site-packages/sklearn/linear_model/_logistic.py:469: ConvergenceWarning: lbfgs failed to converge (status=1):\n",
      "STOP: TOTAL NO. of ITERATIONS REACHED LIMIT.\n",
      "\n",
      "Increase the number of iterations (max_iter) or scale the data as shown in:\n",
      "    https://scikit-learn.org/stable/modules/preprocessing.html\n",
      "Please also refer to the documentation for alternative solver options:\n",
      "    https://scikit-learn.org/stable/modules/linear_model.html#logistic-regression\n",
      "  n_iter_i = _check_optimize_result(\n"
     ]
    },
    {
     "name": "stdout",
     "output_type": "stream",
     "text": [
      "Logistic Regression training took: 7.135499000549316 sec.\n",
      "\n",
      "Model testing took: 0.02912592887878418 sec.\n",
      "\n",
      "handwritten-isolated score: 0.04352678571428571\n",
      "notMNIST score: 0.23210470085470086\n",
      "standard OCR score: 0.04495175335373029\n",
      "EMNIST score: 0.12308750214887398\n",
      "Aggregate score: 0.11883091911293424\n",
      "------\n",
      "n_components: 9\n"
     ]
    },
    {
     "name": "stderr",
     "output_type": "stream",
     "text": [
      "/Users/jerry/mambaforge/envs/ece271bpr/lib/python3.10/site-packages/sklearn/linear_model/_logistic.py:469: ConvergenceWarning: lbfgs failed to converge (status=1):\n",
      "STOP: TOTAL NO. of ITERATIONS REACHED LIMIT.\n",
      "\n",
      "Increase the number of iterations (max_iter) or scale the data as shown in:\n",
      "    https://scikit-learn.org/stable/modules/preprocessing.html\n",
      "Please also refer to the documentation for alternative solver options:\n",
      "    https://scikit-learn.org/stable/modules/linear_model.html#logistic-regression\n",
      "  n_iter_i = _check_optimize_result(\n"
     ]
    },
    {
     "name": "stdout",
     "output_type": "stream",
     "text": [
      "Logistic Regression training took: 7.147303819656372 sec.\n",
      "\n",
      "Model testing took: 0.03455018997192383 sec.\n",
      "\n",
      "handwritten-isolated score: 0.045200892857142856\n",
      "notMNIST score: 0.26335470085470086\n",
      "standard OCR score: 0.04401035537773594\n",
      "EMNIST score: 0.12962007907856282\n",
      "Aggregate score: 0.12870144853223944\n",
      "------\n",
      "n_components: 10\n"
     ]
    },
    {
     "name": "stderr",
     "output_type": "stream",
     "text": [
      "/Users/jerry/mambaforge/envs/ece271bpr/lib/python3.10/site-packages/sklearn/linear_model/_logistic.py:469: ConvergenceWarning: lbfgs failed to converge (status=1):\n",
      "STOP: TOTAL NO. of ITERATIONS REACHED LIMIT.\n",
      "\n",
      "Increase the number of iterations (max_iter) or scale the data as shown in:\n",
      "    https://scikit-learn.org/stable/modules/preprocessing.html\n",
      "Please also refer to the documentation for alternative solver options:\n",
      "    https://scikit-learn.org/stable/modules/linear_model.html#logistic-regression\n",
      "  n_iter_i = _check_optimize_result(\n"
     ]
    },
    {
     "name": "stdout",
     "output_type": "stream",
     "text": [
      "Logistic Regression training took: 7.370280981063843 sec.\n",
      "\n",
      "Model testing took: 0.044284820556640625 sec.\n",
      "\n",
      "handwritten-isolated score: 0.05133928571428571\n",
      "notMNIST score: 0.29941239316239315\n",
      "standard OCR score: 0.04377500588373735\n",
      "EMNIST score: 0.1457796114835826\n",
      "Aggregate score: 0.14401999743622612\n",
      "------\n",
      "n_components: 11\n"
     ]
    },
    {
     "name": "stderr",
     "output_type": "stream",
     "text": [
      "/Users/jerry/mambaforge/envs/ece271bpr/lib/python3.10/site-packages/sklearn/linear_model/_logistic.py:469: ConvergenceWarning: lbfgs failed to converge (status=1):\n",
      "STOP: TOTAL NO. of ITERATIONS REACHED LIMIT.\n",
      "\n",
      "Increase the number of iterations (max_iter) or scale the data as shown in:\n",
      "    https://scikit-learn.org/stable/modules/preprocessing.html\n",
      "Please also refer to the documentation for alternative solver options:\n",
      "    https://scikit-learn.org/stable/modules/linear_model.html#logistic-regression\n",
      "  n_iter_i = _check_optimize_result(\n"
     ]
    },
    {
     "name": "stdout",
     "output_type": "stream",
     "text": [
      "Logistic Regression training took: 7.846315860748291 sec.\n",
      "\n",
      "Model testing took: 0.04686903953552246 sec.\n",
      "\n",
      "handwritten-isolated score: 0.06194196428571429\n",
      "notMNIST score: 0.30074786324786323\n",
      "standard OCR score: 0.05530713108966816\n",
      "EMNIST score: 0.15626611655492523\n",
      "Aggregate score: 0.15260863991795923\n",
      "------\n",
      "n_components: 12\n"
     ]
    },
    {
     "name": "stderr",
     "output_type": "stream",
     "text": [
      "/Users/jerry/mambaforge/envs/ece271bpr/lib/python3.10/site-packages/sklearn/linear_model/_logistic.py:469: ConvergenceWarning: lbfgs failed to converge (status=1):\n",
      "STOP: TOTAL NO. of ITERATIONS REACHED LIMIT.\n",
      "\n",
      "Increase the number of iterations (max_iter) or scale the data as shown in:\n",
      "    https://scikit-learn.org/stable/modules/preprocessing.html\n",
      "Please also refer to the documentation for alternative solver options:\n",
      "    https://scikit-learn.org/stable/modules/linear_model.html#logistic-regression\n",
      "  n_iter_i = _check_optimize_result(\n"
     ]
    },
    {
     "name": "stdout",
     "output_type": "stream",
     "text": [
      "Logistic Regression training took: 7.625219106674194 sec.\n",
      "\n",
      "Model testing took: 0.03953194618225098 sec.\n",
      "\n",
      "handwritten-isolated score: 0.06138392857142857\n",
      "notMNIST score: 0.31810897435897434\n",
      "standard OCR score: 0.06142621793363144\n",
      "EMNIST score: 0.15832903558535327\n",
      "Aggregate score: 0.15914626329957698\n",
      "------\n",
      "n_components: 13\n"
     ]
    },
    {
     "name": "stderr",
     "output_type": "stream",
     "text": [
      "/Users/jerry/mambaforge/envs/ece271bpr/lib/python3.10/site-packages/sklearn/linear_model/_logistic.py:469: ConvergenceWarning: lbfgs failed to converge (status=1):\n",
      "STOP: TOTAL NO. of ITERATIONS REACHED LIMIT.\n",
      "\n",
      "Increase the number of iterations (max_iter) or scale the data as shown in:\n",
      "    https://scikit-learn.org/stable/modules/preprocessing.html\n",
      "Please also refer to the documentation for alternative solver options:\n",
      "    https://scikit-learn.org/stable/modules/linear_model.html#logistic-regression\n",
      "  n_iter_i = _check_optimize_result(\n"
     ]
    },
    {
     "name": "stdout",
     "output_type": "stream",
     "text": [
      "Logistic Regression training took: 7.642249822616577 sec.\n",
      "\n",
      "Model testing took: 0.044595956802368164 sec.\n",
      "\n",
      "handwritten-isolated score: 0.060267857142857144\n",
      "notMNIST score: 0.32905982905982906\n",
      "standard OCR score: 0.06283831489762297\n",
      "EMNIST score: 0.16623689186866084\n",
      "Aggregate score: 0.16497884886553005\n",
      "------\n",
      "n_components: 14\n"
     ]
    },
    {
     "name": "stderr",
     "output_type": "stream",
     "text": [
      "/Users/jerry/mambaforge/envs/ece271bpr/lib/python3.10/site-packages/sklearn/linear_model/_logistic.py:469: ConvergenceWarning: lbfgs failed to converge (status=1):\n",
      "STOP: TOTAL NO. of ITERATIONS REACHED LIMIT.\n",
      "\n",
      "Increase the number of iterations (max_iter) or scale the data as shown in:\n",
      "    https://scikit-learn.org/stable/modules/preprocessing.html\n",
      "Please also refer to the documentation for alternative solver options:\n",
      "    https://scikit-learn.org/stable/modules/linear_model.html#logistic-regression\n",
      "  n_iter_i = _check_optimize_result(\n"
     ]
    },
    {
     "name": "stdout",
     "output_type": "stream",
     "text": [
      "Logistic Regression training took: 7.543946027755737 sec.\n",
      "\n",
      "Model testing took: 0.047300100326538086 sec.\n",
      "\n",
      "handwritten-isolated score: 0.05803571428571429\n",
      "notMNIST score: 0.34962606837606836\n",
      "standard OCR score: 0.0738997411155566\n",
      "EMNIST score: 0.16898745057589823\n",
      "Aggregate score: 0.17369568004102037\n",
      "------\n",
      "n_components: 15\n"
     ]
    },
    {
     "name": "stderr",
     "output_type": "stream",
     "text": [
      "/Users/jerry/mambaforge/envs/ece271bpr/lib/python3.10/site-packages/sklearn/linear_model/_logistic.py:469: ConvergenceWarning: lbfgs failed to converge (status=1):\n",
      "STOP: TOTAL NO. of ITERATIONS REACHED LIMIT.\n",
      "\n",
      "Increase the number of iterations (max_iter) or scale the data as shown in:\n",
      "    https://scikit-learn.org/stable/modules/preprocessing.html\n",
      "Please also refer to the documentation for alternative solver options:\n",
      "    https://scikit-learn.org/stable/modules/linear_model.html#logistic-regression\n",
      "  n_iter_i = _check_optimize_result(\n"
     ]
    },
    {
     "name": "stdout",
     "output_type": "stream",
     "text": [
      "Logistic Regression training took: 7.655833959579468 sec.\n",
      "\n",
      "Model testing took: 0.046600341796875 sec.\n",
      "\n",
      "handwritten-isolated score: 0.05580357142857143\n",
      "notMNIST score: 0.34935897435897434\n",
      "standard OCR score: 0.07837138150152977\n",
      "EMNIST score: 0.18119305483926423\n",
      "Aggregate score: 0.17914369952570183\n",
      "------\n",
      "n_components: 16\n"
     ]
    },
    {
     "name": "stderr",
     "output_type": "stream",
     "text": [
      "/Users/jerry/mambaforge/envs/ece271bpr/lib/python3.10/site-packages/sklearn/linear_model/_logistic.py:469: ConvergenceWarning: lbfgs failed to converge (status=1):\n",
      "STOP: TOTAL NO. of ITERATIONS REACHED LIMIT.\n",
      "\n",
      "Increase the number of iterations (max_iter) or scale the data as shown in:\n",
      "    https://scikit-learn.org/stable/modules/preprocessing.html\n",
      "Please also refer to the documentation for alternative solver options:\n",
      "    https://scikit-learn.org/stable/modules/linear_model.html#logistic-regression\n",
      "  n_iter_i = _check_optimize_result(\n"
     ]
    },
    {
     "name": "stdout",
     "output_type": "stream",
     "text": [
      "Logistic Regression training took: 8.508573055267334 sec.\n",
      "\n",
      "Model testing took: 0.06225991249084473 sec.\n",
      "\n",
      "handwritten-isolated score: 0.05189732142857143\n",
      "notMNIST score: 0.36698717948717946\n",
      "standard OCR score: 0.08143092492351141\n",
      "EMNIST score: 0.18583462265772735\n",
      "Aggregate score: 0.18548903986668375\n",
      "------\n",
      "n_components: 17\n"
     ]
    },
    {
     "name": "stderr",
     "output_type": "stream",
     "text": [
      "/Users/jerry/mambaforge/envs/ece271bpr/lib/python3.10/site-packages/sklearn/linear_model/_logistic.py:469: ConvergenceWarning: lbfgs failed to converge (status=1):\n",
      "STOP: TOTAL NO. of ITERATIONS REACHED LIMIT.\n",
      "\n",
      "Increase the number of iterations (max_iter) or scale the data as shown in:\n",
      "    https://scikit-learn.org/stable/modules/preprocessing.html\n",
      "Please also refer to the documentation for alternative solver options:\n",
      "    https://scikit-learn.org/stable/modules/linear_model.html#logistic-regression\n",
      "  n_iter_i = _check_optimize_result(\n"
     ]
    },
    {
     "name": "stdout",
     "output_type": "stream",
     "text": [
      "Logistic Regression training took: 7.990445852279663 sec.\n",
      "\n",
      "Model testing took: 0.049449920654296875 sec.\n",
      "\n",
      "handwritten-isolated score: 0.05859375\n",
      "notMNIST score: 0.3640491452991453\n",
      "standard OCR score: 0.09578724405742528\n",
      "EMNIST score: 0.19374247894103488\n",
      "Aggregate score: 0.19241122932957314\n",
      "------\n",
      "n_components: 18\n"
     ]
    },
    {
     "name": "stderr",
     "output_type": "stream",
     "text": [
      "/Users/jerry/mambaforge/envs/ece271bpr/lib/python3.10/site-packages/sklearn/linear_model/_logistic.py:469: ConvergenceWarning: lbfgs failed to converge (status=1):\n",
      "STOP: TOTAL NO. of ITERATIONS REACHED LIMIT.\n",
      "\n",
      "Increase the number of iterations (max_iter) or scale the data as shown in:\n",
      "    https://scikit-learn.org/stable/modules/preprocessing.html\n",
      "Please also refer to the documentation for alternative solver options:\n",
      "    https://scikit-learn.org/stable/modules/linear_model.html#logistic-regression\n",
      "  n_iter_i = _check_optimize_result(\n"
     ]
    },
    {
     "name": "stdout",
     "output_type": "stream",
     "text": [
      "Logistic Regression training took: 8.441936016082764 sec.\n",
      "\n",
      "Model testing took: 0.07461094856262207 sec.\n",
      "\n",
      "handwritten-isolated score: 0.05970982142857143\n",
      "notMNIST score: 0.4017094017094017\n",
      "standard OCR score: 0.09366909861143799\n",
      "EMNIST score: 0.20216606498194944\n",
      "Aggregate score: 0.20414049480835791\n",
      "------\n",
      "n_components: 19\n"
     ]
    },
    {
     "name": "stderr",
     "output_type": "stream",
     "text": [
      "/Users/jerry/mambaforge/envs/ece271bpr/lib/python3.10/site-packages/sklearn/linear_model/_logistic.py:469: ConvergenceWarning: lbfgs failed to converge (status=1):\n",
      "STOP: TOTAL NO. of ITERATIONS REACHED LIMIT.\n",
      "\n",
      "Increase the number of iterations (max_iter) or scale the data as shown in:\n",
      "    https://scikit-learn.org/stable/modules/preprocessing.html\n",
      "Please also refer to the documentation for alternative solver options:\n",
      "    https://scikit-learn.org/stable/modules/linear_model.html#logistic-regression\n",
      "  n_iter_i = _check_optimize_result(\n"
     ]
    },
    {
     "name": "stdout",
     "output_type": "stream",
     "text": [
      "Logistic Regression training took: 9.381692171096802 sec.\n",
      "\n",
      "Model testing took: 0.07815909385681152 sec.\n",
      "\n",
      "handwritten-isolated score: 0.04799107142857143\n",
      "notMNIST score: 0.4153311965811966\n",
      "standard OCR score: 0.10567192280536597\n",
      "EMNIST score: 0.21110538078047103\n",
      "Aggregate score: 0.2126650429432124\n",
      "------\n",
      "n_components: 20\n"
     ]
    },
    {
     "name": "stderr",
     "output_type": "stream",
     "text": [
      "/Users/jerry/mambaforge/envs/ece271bpr/lib/python3.10/site-packages/sklearn/linear_model/_logistic.py:469: ConvergenceWarning: lbfgs failed to converge (status=1):\n",
      "STOP: TOTAL NO. of ITERATIONS REACHED LIMIT.\n",
      "\n",
      "Increase the number of iterations (max_iter) or scale the data as shown in:\n",
      "    https://scikit-learn.org/stable/modules/preprocessing.html\n",
      "Please also refer to the documentation for alternative solver options:\n",
      "    https://scikit-learn.org/stable/modules/linear_model.html#logistic-regression\n",
      "  n_iter_i = _check_optimize_result(\n"
     ]
    },
    {
     "name": "stdout",
     "output_type": "stream",
     "text": [
      "Logistic Regression training took: 9.348419666290283 sec.\n",
      "\n",
      "Model testing took: 0.10507798194885254 sec.\n",
      "\n",
      "handwritten-isolated score: 0.04799107142857143\n",
      "notMNIST score: 0.4169337606837607\n",
      "standard OCR score: 0.11743939750529536\n",
      "EMNIST score: 0.22193570569021834\n",
      "Aggregate score: 0.22029227022176645\n",
      "------\n",
      "n_components: 21\n"
     ]
    },
    {
     "name": "stderr",
     "output_type": "stream",
     "text": [
      "/Users/jerry/mambaforge/envs/ece271bpr/lib/python3.10/site-packages/sklearn/linear_model/_logistic.py:469: ConvergenceWarning: lbfgs failed to converge (status=1):\n",
      "STOP: TOTAL NO. of ITERATIONS REACHED LIMIT.\n",
      "\n",
      "Increase the number of iterations (max_iter) or scale the data as shown in:\n",
      "    https://scikit-learn.org/stable/modules/preprocessing.html\n",
      "Please also refer to the documentation for alternative solver options:\n",
      "    https://scikit-learn.org/stable/modules/linear_model.html#logistic-regression\n",
      "  n_iter_i = _check_optimize_result(\n"
     ]
    },
    {
     "name": "stdout",
     "output_type": "stream",
     "text": [
      "Logistic Regression training took: 9.420599937438965 sec.\n",
      "\n",
      "Model testing took: 0.07628417015075684 sec.\n",
      "\n",
      "handwritten-isolated score: 0.046875\n",
      "notMNIST score: 0.43162393162393164\n",
      "standard OCR score: 0.12167568839726994\n",
      "EMNIST score: 0.22021660649819494\n",
      "Aggregate score: 0.22420202538136136\n",
      "------\n",
      "n_components: 22\n"
     ]
    },
    {
     "name": "stderr",
     "output_type": "stream",
     "text": [
      "/Users/jerry/mambaforge/envs/ece271bpr/lib/python3.10/site-packages/sklearn/linear_model/_logistic.py:469: ConvergenceWarning: lbfgs failed to converge (status=1):\n",
      "STOP: TOTAL NO. of ITERATIONS REACHED LIMIT.\n",
      "\n",
      "Increase the number of iterations (max_iter) or scale the data as shown in:\n",
      "    https://scikit-learn.org/stable/modules/preprocessing.html\n",
      "Please also refer to the documentation for alternative solver options:\n",
      "    https://scikit-learn.org/stable/modules/linear_model.html#logistic-regression\n",
      "  n_iter_i = _check_optimize_result(\n"
     ]
    },
    {
     "name": "stdout",
     "output_type": "stream",
     "text": [
      "Logistic Regression training took: 10.31947112083435 sec.\n",
      "\n",
      "Model testing took: 0.060353994369506836 sec.\n",
      "\n",
      "handwritten-isolated score: 0.05133928571428571\n",
      "notMNIST score: 0.4407051282051282\n",
      "standard OCR score: 0.13344316309719934\n",
      "EMNIST score: 0.22537390407426508\n",
      "Aggregate score: 0.2320215357005512\n",
      "------\n",
      "n_components: 23\n"
     ]
    },
    {
     "name": "stderr",
     "output_type": "stream",
     "text": [
      "/Users/jerry/mambaforge/envs/ece271bpr/lib/python3.10/site-packages/sklearn/linear_model/_logistic.py:469: ConvergenceWarning: lbfgs failed to converge (status=1):\n",
      "STOP: TOTAL NO. of ITERATIONS REACHED LIMIT.\n",
      "\n",
      "Increase the number of iterations (max_iter) or scale the data as shown in:\n",
      "    https://scikit-learn.org/stable/modules/preprocessing.html\n",
      "Please also refer to the documentation for alternative solver options:\n",
      "    https://scikit-learn.org/stable/modules/linear_model.html#logistic-regression\n",
      "  n_iter_i = _check_optimize_result(\n"
     ]
    },
    {
     "name": "stdout",
     "output_type": "stream",
     "text": [
      "Logistic Regression training took: 10.81812572479248 sec.\n",
      "\n",
      "Model testing took: 0.05161309242248535 sec.\n",
      "\n",
      "handwritten-isolated score: 0.04799107142857143\n",
      "notMNIST score: 0.43669871794871795\n",
      "standard OCR score: 0.14615203577312308\n",
      "EMNIST score: 0.22915592229671652\n",
      "Aggregate score: 0.2355467247788745\n",
      "------\n",
      "n_components: 24\n"
     ]
    },
    {
     "name": "stderr",
     "output_type": "stream",
     "text": [
      "/Users/jerry/mambaforge/envs/ece271bpr/lib/python3.10/site-packages/sklearn/linear_model/_logistic.py:469: ConvergenceWarning: lbfgs failed to converge (status=1):\n",
      "STOP: TOTAL NO. of ITERATIONS REACHED LIMIT.\n",
      "\n",
      "Increase the number of iterations (max_iter) or scale the data as shown in:\n",
      "    https://scikit-learn.org/stable/modules/preprocessing.html\n",
      "Please also refer to the documentation for alternative solver options:\n",
      "    https://scikit-learn.org/stable/modules/linear_model.html#logistic-regression\n",
      "  n_iter_i = _check_optimize_result(\n"
     ]
    },
    {
     "name": "stdout",
     "output_type": "stream",
     "text": [
      "Logistic Regression training took: 11.07243800163269 sec.\n",
      "\n",
      "Model testing took: 0.054779052734375 sec.\n",
      "\n",
      "handwritten-isolated score: 0.04743303571428571\n",
      "notMNIST score: 0.43482905982905984\n",
      "standard OCR score: 0.15839020946104965\n",
      "EMNIST score: 0.23242221076156094\n",
      "Aggregate score: 0.23958466863222663\n",
      "------\n",
      "n_components: 25\n"
     ]
    },
    {
     "name": "stderr",
     "output_type": "stream",
     "text": [
      "/Users/jerry/mambaforge/envs/ece271bpr/lib/python3.10/site-packages/sklearn/linear_model/_logistic.py:469: ConvergenceWarning: lbfgs failed to converge (status=1):\n",
      "STOP: TOTAL NO. of ITERATIONS REACHED LIMIT.\n",
      "\n",
      "Increase the number of iterations (max_iter) or scale the data as shown in:\n",
      "    https://scikit-learn.org/stable/modules/preprocessing.html\n",
      "Please also refer to the documentation for alternative solver options:\n",
      "    https://scikit-learn.org/stable/modules/linear_model.html#logistic-regression\n",
      "  n_iter_i = _check_optimize_result(\n"
     ]
    },
    {
     "name": "stdout",
     "output_type": "stream",
     "text": [
      "Logistic Regression training took: 10.918214082717896 sec.\n",
      "\n",
      "Model testing took: 0.09815597534179688 sec.\n",
      "\n",
      "handwritten-isolated score: 0.05915178571428571\n",
      "notMNIST score: 0.43990384615384615\n",
      "standard OCR score: 0.15980230642504117\n",
      "EMNIST score: 0.233969400034382\n",
      "Aggregate score: 0.24310985771054994\n",
      "------\n",
      "n_components: 26\n"
     ]
    },
    {
     "name": "stderr",
     "output_type": "stream",
     "text": [
      "/Users/jerry/mambaforge/envs/ece271bpr/lib/python3.10/site-packages/sklearn/linear_model/_logistic.py:469: ConvergenceWarning: lbfgs failed to converge (status=1):\n",
      "STOP: TOTAL NO. of ITERATIONS REACHED LIMIT.\n",
      "\n",
      "Increase the number of iterations (max_iter) or scale the data as shown in:\n",
      "    https://scikit-learn.org/stable/modules/preprocessing.html\n",
      "Please also refer to the documentation for alternative solver options:\n",
      "    https://scikit-learn.org/stable/modules/linear_model.html#logistic-regression\n",
      "  n_iter_i = _check_optimize_result(\n"
     ]
    },
    {
     "name": "stdout",
     "output_type": "stream",
     "text": [
      "Logistic Regression training took: 11.021055936813354 sec.\n",
      "\n",
      "Model testing took: 0.08961892127990723 sec.\n",
      "\n",
      "handwritten-isolated score: 0.060267857142857144\n",
      "notMNIST score: 0.437767094017094\n",
      "standard OCR score: 0.16898093669098613\n",
      "EMNIST score: 0.24050197696407083\n",
      "Aggregate score: 0.24766055633893092\n",
      "------\n",
      "n_components: 27\n"
     ]
    },
    {
     "name": "stderr",
     "output_type": "stream",
     "text": [
      "/Users/jerry/mambaforge/envs/ece271bpr/lib/python3.10/site-packages/sklearn/linear_model/_logistic.py:469: ConvergenceWarning: lbfgs failed to converge (status=1):\n",
      "STOP: TOTAL NO. of ITERATIONS REACHED LIMIT.\n",
      "\n",
      "Increase the number of iterations (max_iter) or scale the data as shown in:\n",
      "    https://scikit-learn.org/stable/modules/preprocessing.html\n",
      "Please also refer to the documentation for alternative solver options:\n",
      "    https://scikit-learn.org/stable/modules/linear_model.html#logistic-regression\n",
      "  n_iter_i = _check_optimize_result(\n"
     ]
    },
    {
     "name": "stdout",
     "output_type": "stream",
     "text": [
      "Logistic Regression training took: 11.08126187324524 sec.\n",
      "\n",
      "Model testing took: 0.05646991729736328 sec.\n",
      "\n",
      "handwritten-isolated score: 0.05412946428571429\n",
      "notMNIST score: 0.4441773504273504\n",
      "standard OCR score: 0.1675688397269946\n",
      "EMNIST score: 0.24875365308578304\n",
      "Aggregate score: 0.2511857454172542\n",
      "------\n",
      "n_components: 28\n"
     ]
    },
    {
     "name": "stderr",
     "output_type": "stream",
     "text": [
      "/Users/jerry/mambaforge/envs/ece271bpr/lib/python3.10/site-packages/sklearn/linear_model/_logistic.py:469: ConvergenceWarning: lbfgs failed to converge (status=1):\n",
      "STOP: TOTAL NO. of ITERATIONS REACHED LIMIT.\n",
      "\n",
      "Increase the number of iterations (max_iter) or scale the data as shown in:\n",
      "    https://scikit-learn.org/stable/modules/preprocessing.html\n",
      "Please also refer to the documentation for alternative solver options:\n",
      "    https://scikit-learn.org/stable/modules/linear_model.html#logistic-regression\n",
      "  n_iter_i = _check_optimize_result(\n"
     ]
    },
    {
     "name": "stdout",
     "output_type": "stream",
     "text": [
      "Logistic Regression training took: 10.952026844024658 sec.\n",
      "\n",
      "Model testing took: 0.06286001205444336 sec.\n",
      "\n",
      "handwritten-isolated score: 0.05022321428571429\n",
      "notMNIST score: 0.44551282051282054\n",
      "standard OCR score: 0.17580607201694518\n",
      "EMNIST score: 0.2504727522778064\n",
      "Aggregate score: 0.2539418023330342\n",
      "------\n",
      "n_components: 29\n"
     ]
    },
    {
     "name": "stderr",
     "output_type": "stream",
     "text": [
      "/Users/jerry/mambaforge/envs/ece271bpr/lib/python3.10/site-packages/sklearn/linear_model/_logistic.py:469: ConvergenceWarning: lbfgs failed to converge (status=1):\n",
      "STOP: TOTAL NO. of ITERATIONS REACHED LIMIT.\n",
      "\n",
      "Increase the number of iterations (max_iter) or scale the data as shown in:\n",
      "    https://scikit-learn.org/stable/modules/preprocessing.html\n",
      "Please also refer to the documentation for alternative solver options:\n",
      "    https://scikit-learn.org/stable/modules/linear_model.html#logistic-regression\n",
      "  n_iter_i = _check_optimize_result(\n"
     ]
    },
    {
     "name": "stdout",
     "output_type": "stream",
     "text": [
      "Logistic Regression training took: 12.270999908447266 sec.\n",
      "\n",
      "Model testing took: 0.05590510368347168 sec.\n",
      "\n",
      "handwritten-isolated score: 0.04966517857142857\n",
      "notMNIST score: 0.45886752136752135\n",
      "standard OCR score: 0.17698281948693811\n",
      "EMNIST score: 0.25236376138903216\n",
      "Aggregate score: 0.25810793488014355\n",
      "------\n",
      "n_components: 30\n"
     ]
    },
    {
     "name": "stderr",
     "output_type": "stream",
     "text": [
      "/Users/jerry/mambaforge/envs/ece271bpr/lib/python3.10/site-packages/sklearn/linear_model/_logistic.py:469: ConvergenceWarning: lbfgs failed to converge (status=1):\n",
      "STOP: TOTAL NO. of ITERATIONS REACHED LIMIT.\n",
      "\n",
      "Increase the number of iterations (max_iter) or scale the data as shown in:\n",
      "    https://scikit-learn.org/stable/modules/preprocessing.html\n",
      "Please also refer to the documentation for alternative solver options:\n",
      "    https://scikit-learn.org/stable/modules/linear_model.html#logistic-regression\n",
      "  n_iter_i = _check_optimize_result(\n"
     ]
    },
    {
     "name": "stdout",
     "output_type": "stream",
     "text": [
      "Logistic Regression training took: 11.099159717559814 sec.\n",
      "\n",
      "Model testing took: 0.07254910469055176 sec.\n",
      "\n",
      "handwritten-isolated score: 0.05357142857142857\n",
      "notMNIST score: 0.4497863247863248\n",
      "standard OCR score: 0.18216050835490705\n",
      "EMNIST score: 0.25545813993467426\n",
      "Aggregate score: 0.25894116138956547\n",
      "------\n",
      "n_components: 31\n"
     ]
    },
    {
     "name": "stderr",
     "output_type": "stream",
     "text": [
      "/Users/jerry/mambaforge/envs/ece271bpr/lib/python3.10/site-packages/sklearn/linear_model/_logistic.py:469: ConvergenceWarning: lbfgs failed to converge (status=1):\n",
      "STOP: TOTAL NO. of ITERATIONS REACHED LIMIT.\n",
      "\n",
      "Increase the number of iterations (max_iter) or scale the data as shown in:\n",
      "    https://scikit-learn.org/stable/modules/preprocessing.html\n",
      "Please also refer to the documentation for alternative solver options:\n",
      "    https://scikit-learn.org/stable/modules/linear_model.html#logistic-regression\n",
      "  n_iter_i = _check_optimize_result(\n"
     ]
    },
    {
     "name": "stdout",
     "output_type": "stream",
     "text": [
      "Logistic Regression training took: 11.1632821559906 sec.\n",
      "\n",
      "Model testing took: 0.06832718849182129 sec.\n",
      "\n",
      "handwritten-isolated score: 0.045200892857142856\n",
      "notMNIST score: 0.4594017094017094\n",
      "standard OCR score: 0.18616144975288304\n",
      "EMNIST score: 0.25648959944988825\n",
      "Aggregate score: 0.2617613126522241\n",
      "------\n",
      "n_components: 32\n"
     ]
    },
    {
     "name": "stderr",
     "output_type": "stream",
     "text": [
      "/Users/jerry/mambaforge/envs/ece271bpr/lib/python3.10/site-packages/sklearn/linear_model/_logistic.py:469: ConvergenceWarning: lbfgs failed to converge (status=1):\n",
      "STOP: TOTAL NO. of ITERATIONS REACHED LIMIT.\n",
      "\n",
      "Increase the number of iterations (max_iter) or scale the data as shown in:\n",
      "    https://scikit-learn.org/stable/modules/preprocessing.html\n",
      "Please also refer to the documentation for alternative solver options:\n",
      "    https://scikit-learn.org/stable/modules/linear_model.html#logistic-regression\n",
      "  n_iter_i = _check_optimize_result(\n"
     ]
    },
    {
     "name": "stdout",
     "output_type": "stream",
     "text": [
      "Logistic Regression training took: 10.787233829498291 sec.\n",
      "\n",
      "Model testing took: 0.0744631290435791 sec.\n",
      "\n",
      "handwritten-isolated score: 0.05189732142857143\n",
      "notMNIST score: 0.4620726495726496\n",
      "standard OCR score: 0.19369263356083785\n",
      "EMNIST score: 0.26044352759154205\n",
      "Aggregate score: 0.2666965773618767\n",
      "------\n",
      "n_components: 33\n"
     ]
    },
    {
     "name": "stderr",
     "output_type": "stream",
     "text": [
      "/Users/jerry/mambaforge/envs/ece271bpr/lib/python3.10/site-packages/sklearn/linear_model/_logistic.py:469: ConvergenceWarning: lbfgs failed to converge (status=1):\n",
      "STOP: TOTAL NO. of ITERATIONS REACHED LIMIT.\n",
      "\n",
      "Increase the number of iterations (max_iter) or scale the data as shown in:\n",
      "    https://scikit-learn.org/stable/modules/preprocessing.html\n",
      "Please also refer to the documentation for alternative solver options:\n",
      "    https://scikit-learn.org/stable/modules/linear_model.html#logistic-regression\n",
      "  n_iter_i = _check_optimize_result(\n"
     ]
    },
    {
     "name": "stdout",
     "output_type": "stream",
     "text": [
      "Logistic Regression training took: 10.682045936584473 sec.\n",
      "\n",
      "Model testing took: 0.05135798454284668 sec.\n",
      "\n",
      "handwritten-isolated score: 0.05022321428571429\n",
      "notMNIST score: 0.46634615384615385\n",
      "standard OCR score: 0.2024005648387856\n",
      "EMNIST score: 0.2630221763795771\n",
      "Aggregate score: 0.27086270990898603\n",
      "------\n",
      "n_components: 34\n"
     ]
    },
    {
     "name": "stderr",
     "output_type": "stream",
     "text": [
      "/Users/jerry/mambaforge/envs/ece271bpr/lib/python3.10/site-packages/sklearn/linear_model/_logistic.py:469: ConvergenceWarning: lbfgs failed to converge (status=1):\n",
      "STOP: TOTAL NO. of ITERATIONS REACHED LIMIT.\n",
      "\n",
      "Increase the number of iterations (max_iter) or scale the data as shown in:\n",
      "    https://scikit-learn.org/stable/modules/preprocessing.html\n",
      "Please also refer to the documentation for alternative solver options:\n",
      "    https://scikit-learn.org/stable/modules/linear_model.html#logistic-regression\n",
      "  n_iter_i = _check_optimize_result(\n"
     ]
    },
    {
     "name": "stdout",
     "output_type": "stream",
     "text": [
      "Logistic Regression training took: 11.606274127960205 sec.\n",
      "\n",
      "Model testing took: 0.11459803581237793 sec.\n",
      "\n",
      "handwritten-isolated score: 0.04575892857142857\n",
      "notMNIST score: 0.4655448717948718\n",
      "standard OCR score: 0.20663685573076018\n",
      "EMNIST score: 0.2656008251676122\n",
      "Aggregate score: 0.27227278554031537\n",
      "------\n",
      "n_components: 35\n"
     ]
    },
    {
     "name": "stderr",
     "output_type": "stream",
     "text": [
      "/Users/jerry/mambaforge/envs/ece271bpr/lib/python3.10/site-packages/sklearn/linear_model/_logistic.py:469: ConvergenceWarning: lbfgs failed to converge (status=1):\n",
      "STOP: TOTAL NO. of ITERATIONS REACHED LIMIT.\n",
      "\n",
      "Increase the number of iterations (max_iter) or scale the data as shown in:\n",
      "    https://scikit-learn.org/stable/modules/preprocessing.html\n",
      "Please also refer to the documentation for alternative solver options:\n",
      "    https://scikit-learn.org/stable/modules/linear_model.html#logistic-regression\n",
      "  n_iter_i = _check_optimize_result(\n"
     ]
    },
    {
     "name": "stdout",
     "output_type": "stream",
     "text": [
      "Logistic Regression training took: 11.157460927963257 sec.\n",
      "\n",
      "Model testing took: 0.053270578384399414 sec.\n",
      "\n",
      "handwritten-isolated score: 0.04799107142857143\n",
      "notMNIST score: 0.46821581196581197\n",
      "standard OCR score: 0.20710755471875736\n",
      "EMNIST score: 0.2657727350868145\n",
      "Aggregate score: 0.2733623894372516\n",
      "------\n",
      "n_components: 36\n"
     ]
    },
    {
     "name": "stderr",
     "output_type": "stream",
     "text": [
      "/Users/jerry/mambaforge/envs/ece271bpr/lib/python3.10/site-packages/sklearn/linear_model/_logistic.py:469: ConvergenceWarning: lbfgs failed to converge (status=1):\n",
      "STOP: TOTAL NO. of ITERATIONS REACHED LIMIT.\n",
      "\n",
      "Increase the number of iterations (max_iter) or scale the data as shown in:\n",
      "    https://scikit-learn.org/stable/modules/preprocessing.html\n",
      "Please also refer to the documentation for alternative solver options:\n",
      "    https://scikit-learn.org/stable/modules/linear_model.html#logistic-regression\n",
      "  n_iter_i = _check_optimize_result(\n"
     ]
    },
    {
     "name": "stdout",
     "output_type": "stream",
     "text": [
      "Logistic Regression training took: 10.633501052856445 sec.\n",
      "\n",
      "Model testing took: 0.06318902969360352 sec.\n",
      "\n",
      "handwritten-isolated score: 0.04966517857142857\n",
      "notMNIST score: 0.46073717948717946\n",
      "standard OCR score: 0.22052247587667687\n",
      "EMNIST score: 0.2688671136324566\n",
      "Aggregate score: 0.2765671067811819\n",
      "------\n",
      "n_components: 37\n"
     ]
    },
    {
     "name": "stderr",
     "output_type": "stream",
     "text": [
      "/Users/jerry/mambaforge/envs/ece271bpr/lib/python3.10/site-packages/sklearn/linear_model/_logistic.py:469: ConvergenceWarning: lbfgs failed to converge (status=1):\n",
      "STOP: TOTAL NO. of ITERATIONS REACHED LIMIT.\n",
      "\n",
      "Increase the number of iterations (max_iter) or scale the data as shown in:\n",
      "    https://scikit-learn.org/stable/modules/preprocessing.html\n",
      "Please also refer to the documentation for alternative solver options:\n",
      "    https://scikit-learn.org/stable/modules/linear_model.html#logistic-regression\n",
      "  n_iter_i = _check_optimize_result(\n"
     ]
    },
    {
     "name": "stdout",
     "output_type": "stream",
     "text": [
      "Logistic Regression training took: 10.575781106948853 sec.\n",
      "\n",
      "Model testing took: 0.05617880821228027 sec.\n",
      "\n",
      "handwritten-isolated score: 0.045200892857142856\n",
      "notMNIST score: 0.4658119658119658\n",
      "standard OCR score: 0.21510943751470935\n",
      "EMNIST score: 0.27075812274368233\n",
      "Aggregate score: 0.2765030124343033\n",
      "------\n",
      "n_components: 38\n"
     ]
    },
    {
     "name": "stderr",
     "output_type": "stream",
     "text": [
      "/Users/jerry/mambaforge/envs/ece271bpr/lib/python3.10/site-packages/sklearn/linear_model/_logistic.py:469: ConvergenceWarning: lbfgs failed to converge (status=1):\n",
      "STOP: TOTAL NO. of ITERATIONS REACHED LIMIT.\n",
      "\n",
      "Increase the number of iterations (max_iter) or scale the data as shown in:\n",
      "    https://scikit-learn.org/stable/modules/preprocessing.html\n",
      "Please also refer to the documentation for alternative solver options:\n",
      "    https://scikit-learn.org/stable/modules/linear_model.html#logistic-regression\n",
      "  n_iter_i = _check_optimize_result(\n"
     ]
    },
    {
     "name": "stdout",
     "output_type": "stream",
     "text": [
      "Logistic Regression training took: 11.632541179656982 sec.\n",
      "\n",
      "Model testing took: 0.06175875663757324 sec.\n",
      "\n",
      "handwritten-isolated score: 0.04743303571428571\n",
      "notMNIST score: 0.4634081196581197\n",
      "standard OCR score: 0.21746293245469522\n",
      "EMNIST score: 0.2697266632284683\n",
      "Aggregate score: 0.2764389180874247\n",
      "------\n",
      "n_components: 39\n"
     ]
    },
    {
     "name": "stderr",
     "output_type": "stream",
     "text": [
      "/Users/jerry/mambaforge/envs/ece271bpr/lib/python3.10/site-packages/sklearn/linear_model/_logistic.py:469: ConvergenceWarning: lbfgs failed to converge (status=1):\n",
      "STOP: TOTAL NO. of ITERATIONS REACHED LIMIT.\n",
      "\n",
      "Increase the number of iterations (max_iter) or scale the data as shown in:\n",
      "    https://scikit-learn.org/stable/modules/preprocessing.html\n",
      "Please also refer to the documentation for alternative solver options:\n",
      "    https://scikit-learn.org/stable/modules/linear_model.html#logistic-regression\n",
      "  n_iter_i = _check_optimize_result(\n"
     ]
    },
    {
     "name": "stdout",
     "output_type": "stream",
     "text": [
      "Logistic Regression training took: 11.229336023330688 sec.\n",
      "\n",
      "Model testing took: 0.05269217491149902 sec.\n",
      "\n",
      "handwritten-isolated score: 0.046875\n",
      "notMNIST score: 0.46287393162393164\n",
      "standard OCR score: 0.22617086373264297\n",
      "EMNIST score: 0.27780642943097816\n",
      "Aggregate score: 0.2816305601845917\n",
      "------\n",
      "n_components: 40\n"
     ]
    },
    {
     "name": "stderr",
     "output_type": "stream",
     "text": [
      "/Users/jerry/mambaforge/envs/ece271bpr/lib/python3.10/site-packages/sklearn/linear_model/_logistic.py:469: ConvergenceWarning: lbfgs failed to converge (status=1):\n",
      "STOP: TOTAL NO. of ITERATIONS REACHED LIMIT.\n",
      "\n",
      "Increase the number of iterations (max_iter) or scale the data as shown in:\n",
      "    https://scikit-learn.org/stable/modules/preprocessing.html\n",
      "Please also refer to the documentation for alternative solver options:\n",
      "    https://scikit-learn.org/stable/modules/linear_model.html#logistic-regression\n",
      "  n_iter_i = _check_optimize_result(\n"
     ]
    },
    {
     "name": "stdout",
     "output_type": "stream",
     "text": [
      "Logistic Regression training took: 11.282476902008057 sec.\n",
      "\n",
      "Model testing took: 0.07298517227172852 sec.\n",
      "\n",
      "handwritten-isolated score: 0.04631696428571429\n",
      "notMNIST score: 0.4700854700854701\n",
      "standard OCR score: 0.22899505766062603\n",
      "EMNIST score: 0.2802131682998109\n",
      "Aggregate score: 0.2849634662222792\n",
      "------\n",
      "n_components: 41\n"
     ]
    },
    {
     "name": "stderr",
     "output_type": "stream",
     "text": [
      "/Users/jerry/mambaforge/envs/ece271bpr/lib/python3.10/site-packages/sklearn/linear_model/_logistic.py:469: ConvergenceWarning: lbfgs failed to converge (status=1):\n",
      "STOP: TOTAL NO. of ITERATIONS REACHED LIMIT.\n",
      "\n",
      "Increase the number of iterations (max_iter) or scale the data as shown in:\n",
      "    https://scikit-learn.org/stable/modules/preprocessing.html\n",
      "Please also refer to the documentation for alternative solver options:\n",
      "    https://scikit-learn.org/stable/modules/linear_model.html#logistic-regression\n",
      "  n_iter_i = _check_optimize_result(\n"
     ]
    },
    {
     "name": "stdout",
     "output_type": "stream",
     "text": [
      "Logistic Regression training took: 10.483868837356567 sec.\n",
      "\n",
      "Model testing took: 0.09111213684082031 sec.\n",
      "\n",
      "handwritten-isolated score: 0.049107142857142856\n",
      "notMNIST score: 0.4751602564102564\n",
      "standard OCR score: 0.23370204754059778\n",
      "EMNIST score: 0.2774626095925735\n",
      "Aggregate score: 0.28675810793488016\n",
      "------\n",
      "n_components: 42\n"
     ]
    },
    {
     "name": "stderr",
     "output_type": "stream",
     "text": [
      "/Users/jerry/mambaforge/envs/ece271bpr/lib/python3.10/site-packages/sklearn/linear_model/_logistic.py:469: ConvergenceWarning: lbfgs failed to converge (status=1):\n",
      "STOP: TOTAL NO. of ITERATIONS REACHED LIMIT.\n",
      "\n",
      "Increase the number of iterations (max_iter) or scale the data as shown in:\n",
      "    https://scikit-learn.org/stable/modules/preprocessing.html\n",
      "Please also refer to the documentation for alternative solver options:\n",
      "    https://scikit-learn.org/stable/modules/linear_model.html#logistic-regression\n",
      "  n_iter_i = _check_optimize_result(\n"
     ]
    },
    {
     "name": "stdout",
     "output_type": "stream",
     "text": [
      "Logistic Regression training took: 11.179212093353271 sec.\n",
      "\n",
      "Model testing took: 0.051905155181884766 sec.\n",
      "\n",
      "handwritten-isolated score: 0.052455357142857144\n",
      "notMNIST score: 0.47489316239316237\n",
      "standard OCR score: 0.240997881854554\n",
      "EMNIST score: 0.283307546845453\n",
      "Aggregate score: 0.29124471221638254\n",
      "------\n",
      "n_components: 43\n"
     ]
    },
    {
     "name": "stderr",
     "output_type": "stream",
     "text": [
      "/Users/jerry/mambaforge/envs/ece271bpr/lib/python3.10/site-packages/sklearn/linear_model/_logistic.py:469: ConvergenceWarning: lbfgs failed to converge (status=1):\n",
      "STOP: TOTAL NO. of ITERATIONS REACHED LIMIT.\n",
      "\n",
      "Increase the number of iterations (max_iter) or scale the data as shown in:\n",
      "    https://scikit-learn.org/stable/modules/preprocessing.html\n",
      "Please also refer to the documentation for alternative solver options:\n",
      "    https://scikit-learn.org/stable/modules/linear_model.html#logistic-regression\n",
      "  n_iter_i = _check_optimize_result(\n"
     ]
    },
    {
     "name": "stdout",
     "output_type": "stream",
     "text": [
      "Logistic Regression training took: 10.569936037063599 sec.\n",
      "\n",
      "Model testing took: 0.06986308097839355 sec.\n",
      "\n",
      "handwritten-isolated score: 0.05022321428571429\n",
      "notMNIST score: 0.47836538461538464\n",
      "standard OCR score: 0.24076253236055542\n",
      "EMNIST score: 0.284854736118274\n",
      "Aggregate score: 0.2923343161133188\n",
      "------\n",
      "n_components: 44\n"
     ]
    },
    {
     "name": "stderr",
     "output_type": "stream",
     "text": [
      "/Users/jerry/mambaforge/envs/ece271bpr/lib/python3.10/site-packages/sklearn/linear_model/_logistic.py:469: ConvergenceWarning: lbfgs failed to converge (status=1):\n",
      "STOP: TOTAL NO. of ITERATIONS REACHED LIMIT.\n",
      "\n",
      "Increase the number of iterations (max_iter) or scale the data as shown in:\n",
      "    https://scikit-learn.org/stable/modules/preprocessing.html\n",
      "Please also refer to the documentation for alternative solver options:\n",
      "    https://scikit-learn.org/stable/modules/linear_model.html#logistic-regression\n",
      "  n_iter_i = _check_optimize_result(\n"
     ]
    },
    {
     "name": "stdout",
     "output_type": "stream",
     "text": [
      "Logistic Regression training took: 11.525080919265747 sec.\n",
      "\n",
      "Model testing took: 0.054810285568237305 sec.\n",
      "\n",
      "handwritten-isolated score: 0.04966517857142857\n",
      "notMNIST score: 0.48157051282051283\n",
      "standard OCR score: 0.2452341727465286\n",
      "EMNIST score: 0.2905277634519512\n",
      "Aggregate score: 0.29637225996667094\n",
      "------\n",
      "n_components: 45\n"
     ]
    },
    {
     "name": "stderr",
     "output_type": "stream",
     "text": [
      "/Users/jerry/mambaforge/envs/ece271bpr/lib/python3.10/site-packages/sklearn/linear_model/_logistic.py:469: ConvergenceWarning: lbfgs failed to converge (status=1):\n",
      "STOP: TOTAL NO. of ITERATIONS REACHED LIMIT.\n",
      "\n",
      "Increase the number of iterations (max_iter) or scale the data as shown in:\n",
      "    https://scikit-learn.org/stable/modules/preprocessing.html\n",
      "Please also refer to the documentation for alternative solver options:\n",
      "    https://scikit-learn.org/stable/modules/linear_model.html#logistic-regression\n",
      "  n_iter_i = _check_optimize_result(\n"
     ]
    },
    {
     "name": "stdout",
     "output_type": "stream",
     "text": [
      "Logistic Regression training took: 11.482002973556519 sec.\n",
      "\n",
      "Model testing took: 0.10921788215637207 sec.\n",
      "\n",
      "handwritten-isolated score: 0.049107142857142856\n",
      "notMNIST score: 0.4810363247863248\n",
      "standard OCR score: 0.25817839491645095\n",
      "EMNIST score: 0.2893243940175348\n",
      "Aggregate score: 0.2992565055762082\n",
      "------\n",
      "n_components: 46\n"
     ]
    },
    {
     "name": "stderr",
     "output_type": "stream",
     "text": [
      "/Users/jerry/mambaforge/envs/ece271bpr/lib/python3.10/site-packages/sklearn/linear_model/_logistic.py:469: ConvergenceWarning: lbfgs failed to converge (status=1):\n",
      "STOP: TOTAL NO. of ITERATIONS REACHED LIMIT.\n",
      "\n",
      "Increase the number of iterations (max_iter) or scale the data as shown in:\n",
      "    https://scikit-learn.org/stable/modules/preprocessing.html\n",
      "Please also refer to the documentation for alternative solver options:\n",
      "    https://scikit-learn.org/stable/modules/linear_model.html#logistic-regression\n",
      "  n_iter_i = _check_optimize_result(\n"
     ]
    },
    {
     "name": "stdout",
     "output_type": "stream",
     "text": [
      "Logistic Regression training took: 12.706728219985962 sec.\n",
      "\n",
      "Model testing took: 0.0725698471069336 sec.\n",
      "\n",
      "handwritten-isolated score: 0.046875\n",
      "notMNIST score: 0.4909188034188034\n",
      "standard OCR score: 0.2577076959284538\n",
      "EMNIST score: 0.29121540312876054\n",
      "Aggregate score: 0.3019484681451096\n",
      "------\n",
      "n_components: 47\n"
     ]
    },
    {
     "name": "stderr",
     "output_type": "stream",
     "text": [
      "/Users/jerry/mambaforge/envs/ece271bpr/lib/python3.10/site-packages/sklearn/linear_model/_logistic.py:469: ConvergenceWarning: lbfgs failed to converge (status=1):\n",
      "STOP: TOTAL NO. of ITERATIONS REACHED LIMIT.\n",
      "\n",
      "Increase the number of iterations (max_iter) or scale the data as shown in:\n",
      "    https://scikit-learn.org/stable/modules/preprocessing.html\n",
      "Please also refer to the documentation for alternative solver options:\n",
      "    https://scikit-learn.org/stable/modules/linear_model.html#logistic-regression\n",
      "  n_iter_i = _check_optimize_result(\n"
     ]
    },
    {
     "name": "stdout",
     "output_type": "stream",
     "text": [
      "Logistic Regression training took: 11.962779760360718 sec.\n",
      "\n",
      "Model testing took: 0.1029057502746582 sec.\n",
      "\n",
      "handwritten-isolated score: 0.044642857142857144\n",
      "notMNIST score: 0.4893162393162393\n",
      "standard OCR score: 0.25817839491645095\n",
      "EMNIST score: 0.29568506102802133\n",
      "Aggregate score: 0.3031021663889245\n",
      "------\n",
      "n_components: 48\n"
     ]
    },
    {
     "name": "stderr",
     "output_type": "stream",
     "text": [
      "/Users/jerry/mambaforge/envs/ece271bpr/lib/python3.10/site-packages/sklearn/linear_model/_logistic.py:469: ConvergenceWarning: lbfgs failed to converge (status=1):\n",
      "STOP: TOTAL NO. of ITERATIONS REACHED LIMIT.\n",
      "\n",
      "Increase the number of iterations (max_iter) or scale the data as shown in:\n",
      "    https://scikit-learn.org/stable/modules/preprocessing.html\n",
      "Please also refer to the documentation for alternative solver options:\n",
      "    https://scikit-learn.org/stable/modules/linear_model.html#logistic-regression\n",
      "  n_iter_i = _check_optimize_result(\n"
     ]
    },
    {
     "name": "stdout",
     "output_type": "stream",
     "text": [
      "Logistic Regression training took: 11.092559814453125 sec.\n",
      "\n",
      "Model testing took: 0.07158708572387695 sec.\n",
      "\n",
      "handwritten-isolated score: 0.049107142857142856\n",
      "notMNIST score: 0.4954594017094017\n",
      "standard OCR score: 0.26241468580842553\n",
      "EMNIST score: 0.2994670792504728\n",
      "Aggregate score: 0.3076528650173055\n",
      "------\n",
      "n_components: 49\n"
     ]
    },
    {
     "name": "stderr",
     "output_type": "stream",
     "text": [
      "/Users/jerry/mambaforge/envs/ece271bpr/lib/python3.10/site-packages/sklearn/linear_model/_logistic.py:469: ConvergenceWarning: lbfgs failed to converge (status=1):\n",
      "STOP: TOTAL NO. of ITERATIONS REACHED LIMIT.\n",
      "\n",
      "Increase the number of iterations (max_iter) or scale the data as shown in:\n",
      "    https://scikit-learn.org/stable/modules/preprocessing.html\n",
      "Please also refer to the documentation for alternative solver options:\n",
      "    https://scikit-learn.org/stable/modules/linear_model.html#logistic-regression\n",
      "  n_iter_i = _check_optimize_result(\n"
     ]
    },
    {
     "name": "stdout",
     "output_type": "stream",
     "text": [
      "Logistic Regression training took: 12.132642984390259 sec.\n",
      "\n",
      "Model testing took: 0.05672883987426758 sec.\n",
      "\n",
      "handwritten-isolated score: 0.048549107142857144\n",
      "notMNIST score: 0.49412393162393164\n",
      "standard OCR score: 0.26735702518239585\n",
      "EMNIST score: 0.3011861784424961\n",
      "Aggregate score: 0.3092552236892706\n",
      "------\n",
      "n_components: 50\n"
     ]
    },
    {
     "name": "stderr",
     "output_type": "stream",
     "text": [
      "/Users/jerry/mambaforge/envs/ece271bpr/lib/python3.10/site-packages/sklearn/linear_model/_logistic.py:469: ConvergenceWarning: lbfgs failed to converge (status=1):\n",
      "STOP: TOTAL NO. of ITERATIONS REACHED LIMIT.\n",
      "\n",
      "Increase the number of iterations (max_iter) or scale the data as shown in:\n",
      "    https://scikit-learn.org/stable/modules/preprocessing.html\n",
      "Please also refer to the documentation for alternative solver options:\n",
      "    https://scikit-learn.org/stable/modules/linear_model.html#logistic-regression\n",
      "  n_iter_i = _check_optimize_result(\n"
     ]
    },
    {
     "name": "stdout",
     "output_type": "stream",
     "text": [
      "Logistic Regression training took: 11.190838098526001 sec.\n",
      "\n",
      "Model testing took: 0.08099818229675293 sec.\n",
      "\n",
      "handwritten-isolated score: 0.04799107142857143\n",
      "notMNIST score: 0.49038461538461536\n",
      "standard OCR score: 0.2744175100023535\n",
      "EMNIST score: 0.2996389891696751\n",
      "Aggregate score: 0.30963978977054224\n",
      "------\n",
      "n_components: 51\n"
     ]
    },
    {
     "name": "stderr",
     "output_type": "stream",
     "text": [
      "/Users/jerry/mambaforge/envs/ece271bpr/lib/python3.10/site-packages/sklearn/linear_model/_logistic.py:469: ConvergenceWarning: lbfgs failed to converge (status=1):\n",
      "STOP: TOTAL NO. of ITERATIONS REACHED LIMIT.\n",
      "\n",
      "Increase the number of iterations (max_iter) or scale the data as shown in:\n",
      "    https://scikit-learn.org/stable/modules/preprocessing.html\n",
      "Please also refer to the documentation for alternative solver options:\n",
      "    https://scikit-learn.org/stable/modules/linear_model.html#logistic-regression\n",
      "  n_iter_i = _check_optimize_result(\n"
     ]
    },
    {
     "name": "stdout",
     "output_type": "stream",
     "text": [
      "Logistic Regression training took: 12.298147916793823 sec.\n",
      "\n",
      "Model testing took: 0.05516815185546875 sec.\n",
      "\n",
      "handwritten-isolated score: 0.04743303571428571\n",
      "notMNIST score: 0.48691239316239315\n",
      "standard OCR score: 0.283831489762297\n",
      "EMNIST score: 0.3006704486848891\n",
      "Aggregate score: 0.3116908088706576\n",
      "------\n",
      "n_components: 52\n"
     ]
    },
    {
     "name": "stderr",
     "output_type": "stream",
     "text": [
      "/Users/jerry/mambaforge/envs/ece271bpr/lib/python3.10/site-packages/sklearn/linear_model/_logistic.py:469: ConvergenceWarning: lbfgs failed to converge (status=1):\n",
      "STOP: TOTAL NO. of ITERATIONS REACHED LIMIT.\n",
      "\n",
      "Increase the number of iterations (max_iter) or scale the data as shown in:\n",
      "    https://scikit-learn.org/stable/modules/preprocessing.html\n",
      "Please also refer to the documentation for alternative solver options:\n",
      "    https://scikit-learn.org/stable/modules/linear_model.html#logistic-regression\n",
      "  n_iter_i = _check_optimize_result(\n"
     ]
    },
    {
     "name": "stdout",
     "output_type": "stream",
     "text": [
      "Logistic Regression training took: 12.951811075210571 sec.\n",
      "\n",
      "Model testing took: 0.0705420970916748 sec.\n",
      "\n",
      "handwritten-isolated score: 0.04408482142857143\n",
      "notMNIST score: 0.4874465811965812\n",
      "standard OCR score: 0.28689103318427867\n",
      "EMNIST score: 0.3023895478769125\n",
      "Aggregate score: 0.31290860146135113\n",
      "------\n",
      "n_components: 53\n"
     ]
    },
    {
     "name": "stderr",
     "output_type": "stream",
     "text": [
      "/Users/jerry/mambaforge/envs/ece271bpr/lib/python3.10/site-packages/sklearn/linear_model/_logistic.py:469: ConvergenceWarning: lbfgs failed to converge (status=1):\n",
      "STOP: TOTAL NO. of ITERATIONS REACHED LIMIT.\n",
      "\n",
      "Increase the number of iterations (max_iter) or scale the data as shown in:\n",
      "    https://scikit-learn.org/stable/modules/preprocessing.html\n",
      "Please also refer to the documentation for alternative solver options:\n",
      "    https://scikit-learn.org/stable/modules/linear_model.html#logistic-regression\n",
      "  n_iter_i = _check_optimize_result(\n"
     ]
    },
    {
     "name": "stdout",
     "output_type": "stream",
     "text": [
      "Logistic Regression training took: 12.454960107803345 sec.\n",
      "\n",
      "Model testing took: 0.07004427909851074 sec.\n",
      "\n",
      "handwritten-isolated score: 0.04408482142857143\n",
      "notMNIST score: 0.48183760683760685\n",
      "standard OCR score: 0.2901859261002589\n",
      "EMNIST score: 0.3015299982809008\n",
      "Aggregate score: 0.31213946929880787\n",
      "------\n",
      "n_components: 54\n"
     ]
    },
    {
     "name": "stderr",
     "output_type": "stream",
     "text": [
      "/Users/jerry/mambaforge/envs/ece271bpr/lib/python3.10/site-packages/sklearn/linear_model/_logistic.py:469: ConvergenceWarning: lbfgs failed to converge (status=1):\n",
      "STOP: TOTAL NO. of ITERATIONS REACHED LIMIT.\n",
      "\n",
      "Increase the number of iterations (max_iter) or scale the data as shown in:\n",
      "    https://scikit-learn.org/stable/modules/preprocessing.html\n",
      "Please also refer to the documentation for alternative solver options:\n",
      "    https://scikit-learn.org/stable/modules/linear_model.html#logistic-regression\n",
      "  n_iter_i = _check_optimize_result(\n"
     ]
    },
    {
     "name": "stdout",
     "output_type": "stream",
     "text": [
      "Logistic Regression training took: 14.032917976379395 sec.\n",
      "\n",
      "Model testing took: 0.07676911354064941 sec.\n",
      "\n",
      "handwritten-isolated score: 0.04743303571428571\n",
      "notMNIST score: 0.49278846153846156\n",
      "standard OCR score: 0.2894798776182631\n",
      "EMNIST score: 0.30582774626095927\n",
      "Aggregate score: 0.3165619792334316\n",
      "------\n",
      "n_components: 55\n"
     ]
    },
    {
     "name": "stderr",
     "output_type": "stream",
     "text": [
      "/Users/jerry/mambaforge/envs/ece271bpr/lib/python3.10/site-packages/sklearn/linear_model/_logistic.py:469: ConvergenceWarning: lbfgs failed to converge (status=1):\n",
      "STOP: TOTAL NO. of ITERATIONS REACHED LIMIT.\n",
      "\n",
      "Increase the number of iterations (max_iter) or scale the data as shown in:\n",
      "    https://scikit-learn.org/stable/modules/preprocessing.html\n",
      "Please also refer to the documentation for alternative solver options:\n",
      "    https://scikit-learn.org/stable/modules/linear_model.html#logistic-regression\n",
      "  n_iter_i = _check_optimize_result(\n"
     ]
    },
    {
     "name": "stdout",
     "output_type": "stream",
     "text": [
      "Logistic Regression training took: 12.927345752716064 sec.\n",
      "\n",
      "Model testing took: 0.05742502212524414 sec.\n",
      "\n",
      "handwritten-isolated score: 0.04799107142857143\n",
      "notMNIST score: 0.4933226495726496\n",
      "standard OCR score: 0.2963050129442222\n",
      "EMNIST score: 0.31390751246346915\n",
      "Aggregate score: 0.32162543263684146\n",
      "------\n",
      "n_components: 56\n"
     ]
    },
    {
     "name": "stderr",
     "output_type": "stream",
     "text": [
      "/Users/jerry/mambaforge/envs/ece271bpr/lib/python3.10/site-packages/sklearn/linear_model/_logistic.py:469: ConvergenceWarning: lbfgs failed to converge (status=1):\n",
      "STOP: TOTAL NO. of ITERATIONS REACHED LIMIT.\n",
      "\n",
      "Increase the number of iterations (max_iter) or scale the data as shown in:\n",
      "    https://scikit-learn.org/stable/modules/preprocessing.html\n",
      "Please also refer to the documentation for alternative solver options:\n",
      "    https://scikit-learn.org/stable/modules/linear_model.html#logistic-regression\n",
      "  n_iter_i = _check_optimize_result(\n"
     ]
    },
    {
     "name": "stdout",
     "output_type": "stream",
     "text": [
      "Logistic Regression training took: 12.291918754577637 sec.\n",
      "\n",
      "Model testing took: 0.1064751148223877 sec.\n",
      "\n",
      "handwritten-isolated score: 0.04743303571428571\n",
      "notMNIST score: 0.4946581196581197\n",
      "standard OCR score: 0.2913626735702518\n",
      "EMNIST score: 0.3164861612515042\n",
      "Aggregate score: 0.3214972439430842\n",
      "------\n",
      "n_components: 57\n"
     ]
    },
    {
     "name": "stderr",
     "output_type": "stream",
     "text": [
      "/Users/jerry/mambaforge/envs/ece271bpr/lib/python3.10/site-packages/sklearn/linear_model/_logistic.py:469: ConvergenceWarning: lbfgs failed to converge (status=1):\n",
      "STOP: TOTAL NO. of ITERATIONS REACHED LIMIT.\n",
      "\n",
      "Increase the number of iterations (max_iter) or scale the data as shown in:\n",
      "    https://scikit-learn.org/stable/modules/preprocessing.html\n",
      "Please also refer to the documentation for alternative solver options:\n",
      "    https://scikit-learn.org/stable/modules/linear_model.html#logistic-regression\n",
      "  n_iter_i = _check_optimize_result(\n"
     ]
    },
    {
     "name": "stdout",
     "output_type": "stream",
     "text": [
      "Logistic Regression training took: 12.059830665588379 sec.\n",
      "\n",
      "Model testing took: 0.05170607566833496 sec.\n",
      "\n",
      "handwritten-isolated score: 0.045200892857142856\n",
      "notMNIST score: 0.4970619658119658\n",
      "standard OCR score: 0.29089197458225463\n",
      "EMNIST score: 0.3195805397971463\n",
      "Aggregate score: 0.32284322522753495\n",
      "------\n",
      "n_components: 58\n"
     ]
    },
    {
     "name": "stderr",
     "output_type": "stream",
     "text": [
      "/Users/jerry/mambaforge/envs/ece271bpr/lib/python3.10/site-packages/sklearn/linear_model/_logistic.py:469: ConvergenceWarning: lbfgs failed to converge (status=1):\n",
      "STOP: TOTAL NO. of ITERATIONS REACHED LIMIT.\n",
      "\n",
      "Increase the number of iterations (max_iter) or scale the data as shown in:\n",
      "    https://scikit-learn.org/stable/modules/preprocessing.html\n",
      "Please also refer to the documentation for alternative solver options:\n",
      "    https://scikit-learn.org/stable/modules/linear_model.html#logistic-regression\n",
      "  n_iter_i = _check_optimize_result(\n"
     ]
    },
    {
     "name": "stdout",
     "output_type": "stream",
     "text": [
      "Logistic Regression training took: 13.44815707206726 sec.\n",
      "\n",
      "Model testing took: 0.06767511367797852 sec.\n",
      "\n",
      "handwritten-isolated score: 0.04352678571428571\n",
      "notMNIST score: 0.49439102564102566\n",
      "standard OCR score: 0.2955989644622264\n",
      "EMNIST score: 0.31700189100911125\n",
      "Aggregate score: 0.32233047045250607\n",
      "------\n",
      "n_components: 59\n",
      "Logistic Regression training took: 12.305787086486816 sec.\n",
      "\n",
      "Model testing took: 0.09174704551696777 sec.\n",
      "\n",
      "handwritten-isolated score: 0.04631696428571429\n",
      "notMNIST score: 0.500534188034188\n",
      "standard OCR score: 0.2977171099082137\n",
      "EMNIST score: 0.320955819150765\n",
      "Aggregate score: 0.3261761312652224\n",
      "------\n"
     ]
    },
    {
     "name": "stderr",
     "output_type": "stream",
     "text": [
      "/Users/jerry/mambaforge/envs/ece271bpr/lib/python3.10/site-packages/sklearn/linear_model/_logistic.py:469: ConvergenceWarning: lbfgs failed to converge (status=1):\n",
      "STOP: TOTAL NO. of ITERATIONS REACHED LIMIT.\n",
      "\n",
      "Increase the number of iterations (max_iter) or scale the data as shown in:\n",
      "    https://scikit-learn.org/stable/modules/preprocessing.html\n",
      "Please also refer to the documentation for alternative solver options:\n",
      "    https://scikit-learn.org/stable/modules/linear_model.html#logistic-regression\n",
      "  n_iter_i = _check_optimize_result(\n"
     ]
    }
   ],
   "source": [
    "logreg_rgp_results = test_trf_models(create_logreg, rgptrf_funcs, 2, 59)"
   ]
  },
  {
   "cell_type": "code",
   "execution_count": 51,
   "metadata": {},
   "outputs": [
    {
     "data": {
      "image/png": "[encoded data removed]",
      "text/plain": [
       "<Figure size 640x480 with 1 Axes>"
      ]
     },
     "metadata": {},
     "output_type": "display_data"
    }
   ],
   "source": [
    "plot_scores(logreg_rgp_results, range(2, 60), title=\"RGP for logistic regression classification\")"
   ]
  },
  {
   "cell_type": "markdown",
   "metadata": {},
   "source": [
    "### KNN"
   ]
  },
  {
   "cell_type": "code",
   "execution_count": 52,
   "metadata": {},
   "outputs": [
    {
     "name": "stdout",
     "output_type": "stream",
     "text": [
      "n_components: 2\n",
      "KNN training took: 0.22046804428100586 sec.\n",
      "\n",
      "Model testing took: 0.26218533515930176 sec.\n",
      "\n",
      "handwritten-isolated score: 0.23883928571428573\n",
      "notMNIST score: 0.06543803418803419\n",
      "standard OCR score: 0.02800658978583196\n",
      "EMNIST score: 0.05260443527591542\n",
      "Aggregate score: 0.07037559287270863\n",
      "------\n",
      "n_components: 3\n",
      "KNN training took: 0.1386117935180664 sec.\n",
      "\n",
      "Model testing took: 0.264693021774292 sec.\n",
      "\n",
      "handwritten-isolated score: 0.2779017857142857\n",
      "notMNIST score: 0.10069444444444445\n",
      "standard OCR score: 0.04636385031772182\n",
      "EMNIST score: 0.06377858002406739\n",
      "Aggregate score: 0.09248814254582746\n",
      "------\n",
      "n_components: 4\n",
      "KNN training took: 0.1363070011138916 sec.\n",
      "\n",
      "Model testing took: 0.2878153324127197 sec.\n",
      "\n",
      "handwritten-isolated score: 0.35044642857142855\n",
      "notMNIST score: 0.1794871794871795\n",
      "standard OCR score: 0.10849611673334902\n",
      "EMNIST score: 0.09334708612686952\n",
      "Aggregate score: 0.14767337520830662\n",
      "------\n",
      "n_components: 5\n",
      "KNN training took: 0.11848998069763184 sec.\n",
      "\n",
      "Model testing took: 0.3678557872772217 sec.\n",
      "\n",
      "handwritten-isolated score: 0.40401785714285715\n",
      "notMNIST score: 0.2358440170940171\n",
      "standard OCR score: 0.16474464579901152\n",
      "EMNIST score: 0.10967852845109163\n",
      "Aggregate score: 0.18875785155749264\n",
      "------\n",
      "n_components: 6\n",
      "KNN training took: 0.12496185302734375 sec.\n",
      "\n",
      "Model testing took: 0.4554867744445801 sec.\n",
      "\n",
      "handwritten-isolated score: 0.41964285714285715\n",
      "notMNIST score: 0.265491452991453\n",
      "standard OCR score: 0.2532360555424806\n",
      "EMNIST score: 0.13649647584665636\n",
      "Aggregate score: 0.2317651583130368\n",
      "------\n",
      "n_components: 7\n",
      "KNN training took: 0.13476181030273438 sec.\n",
      "\n",
      "Model testing took: 0.626702070236206 sec.\n",
      "\n",
      "handwritten-isolated score: 0.4575892857142857\n",
      "notMNIST score: 0.2980769230769231\n",
      "standard OCR score: 0.33654977641798073\n",
      "EMNIST score: 0.15626611655492523\n",
      "Aggregate score: 0.2740033329060377\n",
      "------\n",
      "n_components: 8\n",
      "KNN training took: 0.12246322631835938 sec.\n",
      "\n",
      "Model testing took: 0.756964921951294 sec.\n",
      "\n",
      "handwritten-isolated score: 0.46875\n",
      "notMNIST score: 0.35496794871794873\n",
      "standard OCR score: 0.4415156507413509\n",
      "EMNIST score: 0.17139418944473095\n",
      "Aggregate score: 0.323163696961928\n",
      "------\n",
      "n_components: 9\n",
      "KNN training took: 0.12468600273132324 sec.\n",
      "\n",
      "Model testing took: 1.0467250347137451 sec.\n",
      "\n",
      "handwritten-isolated score: 0.47767857142857145\n",
      "notMNIST score: 0.41025641025641024\n",
      "standard OCR score: 0.5116497999529301\n",
      "EMNIST score: 0.19477393845624894\n",
      "Aggregate score: 0.3652736828611716\n",
      "------\n",
      "n_components: 10\n",
      "KNN training took: 0.14389824867248535 sec.\n",
      "\n",
      "Model testing took: 1.4443249702453613 sec.\n",
      "\n",
      "handwritten-isolated score: 0.4849330357142857\n",
      "notMNIST score: 0.4423076923076923\n",
      "standard OCR score: 0.5620145916686279\n",
      "EMNIST score: 0.2159188585181365\n",
      "Aggregate score: 0.39539802589411616\n",
      "------\n",
      "n_components: 11\n",
      "KNN training took: 0.14084720611572266 sec.\n",
      "\n",
      "Model testing took: 1.939558982849121 sec.\n",
      "\n",
      "handwritten-isolated score: 0.49386160714285715\n",
      "notMNIST score: 0.47622863247863245\n",
      "standard OCR score: 0.6100258884443398\n",
      "EMNIST score: 0.2377514182568334\n",
      "Aggregate score: 0.4257787463145751\n",
      "------\n",
      "n_components: 12\n",
      "KNN training took: 0.18186688423156738 sec.\n",
      "\n",
      "Model testing took: 2.3732521533966064 sec.\n",
      "\n",
      "handwritten-isolated score: 0.49720982142857145\n",
      "notMNIST score: 0.5024038461538461\n",
      "standard OCR score: 0.6460343610261238\n",
      "EMNIST score: 0.2475502836513667\n",
      "Aggregate score: 0.44590437123445714\n",
      "------\n",
      "n_components: 13\n",
      "KNN training took: 0.16647911071777344 sec.\n",
      "\n",
      "Model testing took: 2.854595184326172 sec.\n",
      "\n",
      "handwritten-isolated score: 0.49720982142857145\n",
      "notMNIST score: 0.5259081196581197\n",
      "standard OCR score: 0.6893386679218639\n",
      "EMNIST score: 0.26938284339006363\n",
      "Aggregate score: 0.47147801563902064\n",
      "------\n",
      "n_components: 14\n",
      "KNN training took: 0.17066502571105957 sec.\n",
      "\n",
      "Model testing took: 3.389385223388672 sec.\n",
      "\n",
      "handwritten-isolated score: 0.5022321428571429\n",
      "notMNIST score: 0.5480769230769231\n",
      "standard OCR score: 0.7131089668157213\n",
      "EMNIST score: 0.28090080797662026\n",
      "Aggregate score: 0.48814254582745803\n",
      "------\n",
      "n_components: 15\n",
      "KNN training took: 0.16432571411132812 sec.\n",
      "\n",
      "Model testing took: 4.183577060699463 sec.\n",
      "\n",
      "handwritten-isolated score: 0.5150669642857143\n",
      "notMNIST score: 0.5502136752136753\n",
      "standard OCR score: 0.7364085667215815\n",
      "EMNIST score: 0.31270414302905275\n",
      "Aggregate score: 0.5083322650942187\n",
      "------\n",
      "n_components: 16\n",
      "KNN training took: 0.13666987419128418 sec.\n",
      "\n",
      "Model testing took: 0.5879120826721191 sec.\n",
      "\n",
      "handwritten-isolated score: 0.5172991071428571\n",
      "notMNIST score: 0.5678418803418803\n",
      "standard OCR score: 0.7592374676394446\n",
      "EMNIST score: 0.3262850266460375\n",
      "Aggregate score: 0.5240994744263556\n",
      "------\n",
      "n_components: 17\n",
      "KNN training took: 0.13889002799987793 sec.\n",
      "\n",
      "Model testing took: 0.5880041122436523 sec.\n",
      "\n",
      "handwritten-isolated score: 0.5150669642857143\n",
      "notMNIST score: 0.5913461538461539\n",
      "standard OCR score: 0.7552365262414685\n",
      "EMNIST score: 0.3391782705862128\n",
      "Aggregate score: 0.5332008716831176\n",
      "------\n",
      "n_components: 18\n",
      "KNN training took: 0.11137700080871582 sec.\n",
      "\n",
      "Model testing took: 0.6075782775878906 sec.\n",
      "\n",
      "handwritten-isolated score: 0.5239955357142857\n",
      "notMNIST score: 0.6127136752136753\n",
      "standard OCR score: 0.7648858554954107\n",
      "EMNIST score: 0.37046587588103835\n",
      "Aggregate score: 0.5536469683373927\n",
      "------\n",
      "n_components: 19\n",
      "KNN training took: 0.11017203330993652 sec.\n",
      "\n",
      "Model testing took: 0.6086418628692627 sec.\n",
      "\n",
      "handwritten-isolated score: 0.5262276785714286\n",
      "notMNIST score: 0.6375534188034188\n",
      "standard OCR score: 0.7740644857613556\n",
      "EMNIST score: 0.3783737321643459\n",
      "Aggregate score: 0.5653121394692988\n",
      "------\n",
      "n_components: 20\n",
      "KNN training took: 0.13457584381103516 sec.\n",
      "\n",
      "Model testing took: 0.639246940612793 sec.\n",
      "\n",
      "handwritten-isolated score: 0.54296875\n",
      "notMNIST score: 0.6431623931623932\n",
      "standard OCR score: 0.7853612614732879\n",
      "EMNIST score: 0.38868832731648617\n",
      "Aggregate score: 0.575503140622997\n",
      "------\n",
      "n_components: 21\n",
      "KNN training took: 0.15616106986999512 sec.\n",
      "\n",
      "Model testing took: 0.6329426765441895 sec.\n",
      "\n",
      "handwritten-isolated score: 0.5412946428571429\n",
      "notMNIST score: 0.6501068376068376\n",
      "standard OCR score: 0.7891268533772653\n",
      "EMNIST score: 0.40312876052948254\n",
      "Aggregate score: 0.5833867452890655\n",
      "------\n",
      "n_components: 22\n",
      "KNN training took: 0.1488020420074463 sec.\n",
      "\n",
      "Model testing took: 0.6500840187072754 sec.\n",
      "\n",
      "handwritten-isolated score: 0.5318080357142857\n",
      "notMNIST score: 0.6605235042735043\n",
      "standard OCR score: 0.7985408331372088\n",
      "EMNIST score: 0.4110366168127901\n",
      "Aggregate score: 0.5903089347519549\n",
      "------\n",
      "n_components: 23\n",
      "KNN training took: 0.15217876434326172 sec.\n",
      "\n",
      "Model testing took: 0.6657719612121582 sec.\n",
      "\n",
      "handwritten-isolated score: 0.5379464285714286\n",
      "notMNIST score: 0.6621260683760684\n",
      "standard OCR score: 0.8081901623911508\n",
      "EMNIST score: 0.41860065325769297\n",
      "Aggregate score: 0.5968465581335726\n",
      "------\n",
      "n_components: 24\n",
      "KNN training took: 0.14754819869995117 sec.\n",
      "\n",
      "Model testing took: 0.6814079284667969 sec.\n",
      "\n",
      "handwritten-isolated score: 0.5340401785714286\n",
      "notMNIST score: 0.6741452991452992\n",
      "standard OCR score: 0.8166627441751\n",
      "EMNIST score: 0.4282276087330239\n",
      "Aggregate score: 0.6051788232277913\n",
      "------\n",
      "n_components: 25\n",
      "KNN training took: 0.13979506492614746 sec.\n",
      "\n",
      "Model testing took: 0.6816611289978027 sec.\n",
      "\n",
      "handwritten-isolated score: 0.5401785714285714\n",
      "notMNIST score: 0.6861645299145299\n",
      "standard OCR score: 0.8213697340550717\n",
      "EMNIST score: 0.4278837888946192\n",
      "Aggregate score: 0.6099218048968081\n",
      "------\n",
      "n_components: 26\n",
      "KNN training took: 0.18512988090515137 sec.\n",
      "\n",
      "Model testing took: 0.6790461540222168 sec.\n",
      "\n",
      "handwritten-isolated score: 0.546875\n",
      "notMNIST score: 0.6856303418803419\n",
      "standard OCR score: 0.8239585784890563\n",
      "EMNIST score: 0.4419804022692109\n",
      "Aggregate score: 0.6165235226253044\n",
      "------\n",
      "n_components: 27\n",
      "KNN training took: 0.18157196044921875 sec.\n",
      "\n",
      "Model testing took: 0.6984808444976807 sec.\n",
      "\n",
      "handwritten-isolated score: 0.546875\n",
      "notMNIST score: 0.6944444444444444\n",
      "standard OCR score: 0.8237232289950577\n",
      "EMNIST score: 0.44971634863331617\n",
      "Aggregate score: 0.6214587873349571\n",
      "------\n",
      "n_components: 28\n",
      "KNN training took: 0.16848087310791016 sec.\n",
      "\n",
      "Model testing took: 0.695857048034668 sec.\n",
      "\n",
      "handwritten-isolated score: 0.5541294642857143\n",
      "notMNIST score: 0.7027243589743589\n",
      "standard OCR score: 0.8281948693810308\n",
      "EMNIST score: 0.4564208354822073\n",
      "Aggregate score: 0.6279964107165747\n",
      "------\n",
      "n_components: 29\n",
      "KNN training took: 0.18593120574951172 sec.\n",
      "\n",
      "Model testing took: 0.7156751155853271 sec.\n",
      "\n",
      "handwritten-isolated score: 0.5552455357142857\n",
      "notMNIST score: 0.7024572649572649\n",
      "standard OCR score: 0.8324311602730055\n",
      "EMNIST score: 0.4648444215231219\n",
      "Aggregate score: 0.6323548263043199\n",
      "------\n",
      "n_components: 30\n",
      "KNN training took: 0.15974879264831543 sec.\n",
      "\n",
      "Model testing took: 0.7134208679199219 sec.\n",
      "\n",
      "handwritten-isolated score: 0.5485491071428571\n",
      "notMNIST score: 0.7110042735042735\n",
      "standard OCR score: 0.8361967521769829\n",
      "EMNIST score: 0.4703455389375967\n",
      "Aggregate score: 0.6367132418920651\n",
      "------\n",
      "n_components: 31\n",
      "KNN training took: 0.15770697593688965 sec.\n",
      "\n",
      "Model testing took: 0.7941319942474365 sec.\n",
      "\n",
      "handwritten-isolated score: 0.55078125\n",
      "notMNIST score: 0.7118055555555556\n",
      "standard OCR score: 0.8357260531889856\n",
      "EMNIST score: 0.47619047619047616\n",
      "Aggregate score: 0.6392129214203307\n",
      "------\n",
      "n_components: 32\n",
      "KNN training took: 0.1882619857788086 sec.\n",
      "\n",
      "Model testing took: 0.760066032409668 sec.\n",
      "\n",
      "handwritten-isolated score: 0.55078125\n",
      "notMNIST score: 0.7147435897435898\n",
      "standard OCR score: 0.8385502471169687\n",
      "EMNIST score: 0.47962867457452296\n",
      "Aggregate score: 0.6419689783361108\n",
      "------\n",
      "n_components: 33\n",
      "KNN training took: 0.13961291313171387 sec.\n",
      "\n",
      "Model testing took: 0.7371330261230469 sec.\n",
      "\n",
      "handwritten-isolated score: 0.55078125\n",
      "notMNIST score: 0.7246260683760684\n",
      "standard OCR score: 0.8399623440809603\n",
      "EMNIST score: 0.4866769812618188\n",
      "Aggregate score: 0.6473529034739136\n",
      "------\n",
      "n_components: 34\n",
      "KNN training took: 0.14794206619262695 sec.\n",
      "\n",
      "Model testing took: 0.7662649154663086 sec.\n",
      "\n",
      "handwritten-isolated score: 0.5424107142857143\n",
      "notMNIST score: 0.7214209401709402\n",
      "standard OCR score: 0.8373734996469757\n",
      "EMNIST score: 0.4858174316658071\n",
      "Aggregate score: 0.6445968465581335\n",
      "------\n",
      "n_components: 35\n",
      "KNN training took: 0.16119599342346191 sec.\n",
      "\n",
      "Model testing took: 0.8061120510101318 sec.\n",
      "\n",
      "handwritten-isolated score: 0.5513392857142857\n",
      "notMNIST score: 0.7243589743589743\n",
      "standard OCR score: 0.8409037420569546\n",
      "EMNIST score: 0.4870208011002235\n",
      "Aggregate score: 0.6477374695551852\n",
      "------\n",
      "n_components: 36\n",
      "KNN training took: 0.15596580505371094 sec.\n",
      "\n",
      "Model testing took: 0.7917032241821289 sec.\n",
      "\n",
      "handwritten-isolated score: 0.5625\n",
      "notMNIST score: 0.7256944444444444\n",
      "standard OCR score: 0.8453753824429278\n",
      "EMNIST score: 0.49544438714113803\n",
      "Aggregate score: 0.6536982438148955\n",
      "------\n",
      "n_components: 37\n",
      "KNN training took: 0.14902496337890625 sec.\n",
      "\n",
      "Model testing took: 0.7856459617614746 sec.\n",
      "\n",
      "handwritten-isolated score: 0.5613839285714286\n",
      "notMNIST score: 0.7278311965811965\n",
      "standard OCR score: 0.8465521299129207\n",
      "EMNIST score: 0.4964758466563521\n",
      "Aggregate score: 0.6547878477118318\n",
      "------\n",
      "n_components: 38\n",
      "KNN training took: 0.14142107963562012 sec.\n",
      "\n",
      "Model testing took: 0.7905280590057373 sec.\n",
      "\n",
      "handwritten-isolated score: 0.5591517857142857\n",
      "notMNIST score: 0.7291666666666666\n",
      "standard OCR score: 0.8489056248529065\n",
      "EMNIST score: 0.5026646037476362\n",
      "Aggregate score: 0.6578002820151263\n",
      "------\n",
      "n_components: 39\n",
      "KNN training took: 0.1483011245727539 sec.\n",
      "\n",
      "Model testing took: 0.8106839656829834 sec.\n",
      "\n",
      "handwritten-isolated score: 0.5597098214285714\n",
      "notMNIST score: 0.7299679487179487\n",
      "standard OCR score: 0.8503177218168981\n",
      "EMNIST score: 0.5148702080110023\n",
      "Aggregate score: 0.6629919241122932\n",
      "------\n",
      "n_components: 40\n",
      "KNN training took: 0.15976190567016602 sec.\n",
      "\n",
      "Model testing took: 0.8123252391815186 sec.\n",
      "\n",
      "handwritten-isolated score: 0.5669642857142857\n",
      "notMNIST score: 0.7297008547008547\n",
      "standard OCR score: 0.8533772652388797\n",
      "EMNIST score: 0.5140106584149905\n",
      "Aggregate score: 0.6642738110498654\n",
      "------\n",
      "n_components: 41\n",
      "KNN training took: 0.1684269905090332 sec.\n",
      "\n",
      "Model testing took: 0.807297945022583 sec.\n",
      "\n",
      "handwritten-isolated score: 0.5736607142857143\n",
      "notMNIST score: 0.7329059829059829\n",
      "standard OCR score: 0.8500823723228995\n",
      "EMNIST score: 0.5189960460718583\n",
      "Aggregate score: 0.666773490578131\n",
      "------\n",
      "n_components: 42\n",
      "KNN training took: 0.15861797332763672 sec.\n",
      "\n",
      "Model testing took: 0.8551039695739746 sec.\n",
      "\n",
      "handwritten-isolated score: 0.56640625\n",
      "notMNIST score: 0.7390491452991453\n",
      "standard OCR score: 0.8538479642268769\n",
      "EMNIST score: 0.5231218841327144\n",
      "Aggregate score: 0.6699782079220613\n",
      "------\n",
      "n_components: 43\n",
      "KNN training took: 0.22060179710388184 sec.\n",
      "\n",
      "Model testing took: 0.8831741809844971 sec.\n",
      "\n",
      "handwritten-isolated score: 0.56640625\n",
      "notMNIST score: 0.7411858974358975\n",
      "standard OCR score: 0.8585549541068487\n",
      "EMNIST score: 0.5258724428399518\n",
      "Aggregate score: 0.6727983591847199\n",
      "------\n",
      "n_components: 44\n",
      "KNN training took: 0.1934797763824463 sec.\n",
      "\n",
      "Model testing took: 0.8304750919342041 sec.\n",
      "\n",
      "handwritten-isolated score: 0.5764508928571429\n",
      "notMNIST score: 0.7379807692307693\n",
      "standard OCR score: 0.8571428571428571\n",
      "EMNIST score: 0.531029740416022\n",
      "Aggregate score: 0.6747211895910781\n",
      "------\n",
      "n_components: 45\n",
      "KNN training took: 0.15120196342468262 sec.\n",
      "\n",
      "Model testing took: 0.845710039138794 sec.\n",
      "\n",
      "handwritten-isolated score: 0.56640625\n",
      "notMNIST score: 0.7414529914529915\n",
      "standard OCR score: 0.8573782066368557\n",
      "EMNIST score: 0.5322331098504384\n",
      "Aggregate score: 0.6749134726317139\n",
      "------\n",
      "n_components: 46\n",
      "KNN training took: 0.22745895385742188 sec.\n",
      "\n",
      "Model testing took: 0.8549718856811523 sec.\n",
      "\n",
      "handwritten-isolated score: 0.5625\n",
      "notMNIST score: 0.7417200854700855\n",
      "standard OCR score: 0.859496352082843\n",
      "EMNIST score: 0.5353274883960805\n",
      "Aggregate score: 0.6762594539161646\n",
      "------\n",
      "n_components: 47\n",
      "KNN training took: 0.20964598655700684 sec.\n",
      "\n",
      "Model testing took: 0.883631706237793 sec.\n",
      "\n",
      "handwritten-isolated score: 0.5675223214285714\n",
      "notMNIST score: 0.7473290598290598\n",
      "standard OCR score: 0.8632619439868204\n",
      "EMNIST score: 0.54117242564896\n",
      "Aggregate score: 0.681387001666453\n",
      "------\n",
      "n_components: 48\n",
      "KNN training took: 0.17327189445495605 sec.\n",
      "\n",
      "Model testing took: 0.875744104385376 sec.\n",
      "\n",
      "handwritten-isolated score: 0.5703125\n",
      "notMNIST score: 0.7417200854700855\n",
      "standard OCR score: 0.8627912449988232\n",
      "EMNIST score: 0.544782533952209\n",
      "Aggregate score: 0.6815792847070888\n",
      "------\n",
      "n_components: 49\n",
      "KNN training took: 0.17195796966552734 sec.\n",
      "\n",
      "Model testing took: 0.9248170852661133 sec.\n",
      "\n",
      "handwritten-isolated score: 0.5714285714285714\n",
      "notMNIST score: 0.7433226495726496\n",
      "standard OCR score: 0.8651447399388091\n",
      "EMNIST score: 0.5434072545985903\n",
      "Aggregate score: 0.6822202281758749\n",
      "------\n",
      "n_components: 50\n",
      "KNN training took: 0.17642498016357422 sec.\n",
      "\n",
      "Model testing took: 0.9235999584197998 sec.\n",
      "\n",
      "handwritten-isolated score: 0.57421875\n",
      "notMNIST score: 0.7433226495726496\n",
      "standard OCR score: 0.863497293480819\n",
      "EMNIST score: 0.5439229843561973\n",
      "Aggregate score: 0.6822843225227535\n",
      "------\n",
      "n_components: 51\n",
      "KNN training took: 0.24490904808044434 sec.\n",
      "\n",
      "Model testing took: 0.9068357944488525 sec.\n",
      "\n",
      "handwritten-isolated score: 0.57421875\n",
      "notMNIST score: 0.7446581196581197\n",
      "standard OCR score: 0.8642033419628148\n",
      "EMNIST score: 0.5435791645177926\n",
      "Aggregate score: 0.6826688886040251\n",
      "------\n",
      "n_components: 52\n",
      "KNN training took: 0.1956179141998291 sec.\n",
      "\n",
      "Model testing took: 0.9483160972595215 sec.\n",
      "\n",
      "handwritten-isolated score: 0.5753348214285714\n",
      "notMNIST score: 0.7473290598290598\n",
      "standard OCR score: 0.863497293480819\n",
      "EMNIST score: 0.5434072545985903\n",
      "Aggregate score: 0.683181643379054\n",
      "------\n",
      "n_components: 53\n",
      "KNN training took: 0.1938188076019287 sec.\n",
      "\n",
      "Model testing took: 1.0042431354522705 sec.\n",
      "\n",
      "handwritten-isolated score: 0.5809151785714286\n",
      "notMNIST score: 0.7462606837606838\n",
      "standard OCR score: 0.8625558955048247\n",
      "EMNIST score: 0.5477050025786487\n",
      "Aggregate score: 0.6849121907447763\n",
      "------\n",
      "n_components: 54\n",
      "KNN training took: 0.20400595664978027 sec.\n",
      "\n",
      "Model testing took: 0.9526638984680176 sec.\n",
      "\n",
      "handwritten-isolated score: 0.5786830357142857\n",
      "notMNIST score: 0.7451923076923077\n",
      "standard OCR score: 0.8644386914568134\n",
      "EMNIST score: 0.5520027505587073\n",
      "Aggregate score: 0.6865145494167414\n",
      "------\n",
      "n_components: 55\n",
      "KNN training took: 0.19062399864196777 sec.\n",
      "\n",
      "Model testing took: 0.9518420696258545 sec.\n",
      "\n",
      "handwritten-isolated score: 0.5708705357142857\n",
      "notMNIST score: 0.7459935897435898\n",
      "standard OCR score: 0.8637326429748176\n",
      "EMNIST score: 0.5506274712050885\n",
      "Aggregate score: 0.6851044737854122\n",
      "------\n",
      "n_components: 56\n",
      "KNN training took: 0.1873941421508789 sec.\n",
      "\n",
      "Model testing took: 0.9466969966888428 sec.\n",
      "\n",
      "handwritten-isolated score: 0.5764508928571429\n",
      "notMNIST score: 0.7467948717948718\n",
      "standard OCR score: 0.8627912449988232\n",
      "EMNIST score: 0.55440948942754\n",
      "Aggregate score: 0.6870913985386489\n",
      "------\n",
      "n_components: 57\n",
      "KNN training took: 0.26875996589660645 sec.\n",
      "\n",
      "Model testing took: 1.0074739456176758 sec.\n",
      "\n",
      "handwritten-isolated score: 0.57421875\n",
      "notMNIST score: 0.7451923076923077\n",
      "standard OCR score: 0.8642033419628148\n",
      "EMNIST score: 0.5566443183771703\n",
      "Aggregate score: 0.6876682476605563\n",
      "------\n",
      "n_components: 58\n",
      "KNN training took: 0.1705799102783203 sec.\n",
      "\n",
      "Model testing took: 0.9822640419006348 sec.\n",
      "\n",
      "handwritten-isolated score: 0.5703125\n",
      "notMNIST score: 0.7475961538461539\n",
      "standard OCR score: 0.8632619439868204\n",
      "EMNIST score: 0.5550971291043493\n",
      "Aggregate score: 0.6869632098448917\n",
      "------\n",
      "n_components: 59\n",
      "KNN training took: 0.2001481056213379 sec.\n",
      "\n",
      "Model testing took: 1.0085968971252441 sec.\n",
      "\n",
      "handwritten-isolated score: 0.5753348214285714\n",
      "notMNIST score: 0.7510683760683761\n",
      "standard OCR score: 0.8644386914568134\n",
      "EMNIST score: 0.5616297060340382\n",
      "Aggregate score: 0.6911293423920011\n",
      "------\n"
     ]
    }
   ],
   "source": [
    "knn_rgp_results = test_trf_models(create_knn, rgptrf_funcs, 2, 59)"
   ]
  },
  {
   "cell_type": "code",
   "execution_count": 53,
   "metadata": {},
   "outputs": [
    {
     "data": {
      "image/png": "[encoded data removed]",
      "text/plain": [
       "<Figure size 640x480 with 1 Axes>"
      ]
     },
     "metadata": {},
     "output_type": "display_data"
    }
   ],
   "source": [
    "plot_scores(knn_rgp_results, range(2, 60), title=\"RGP for KNN classification\")"
   ]
  },
  {
   "cell_type": "markdown",
   "metadata": {},
   "source": [
    "## MPCA\n",
    "\n",
    "Code taken from https://github.com/tensorly/Proceedings_IEEE_companion_notebooks/blob/master/MPCA.ipynb"
   ]
  },
  {
   "cell_type": "code",
   "execution_count": 227,
   "metadata": {},
   "outputs": [],
   "source": [
    "def compute_modek_total_scatter(X, mode, factors):\n",
    "    scatter = 0\n",
    "    \n",
    "    for m in range(len(X)):\n",
    "        proj_but_k = tl.unfold(tl.tenalg.multi_mode_dot(X[m], factors, transpose=True, skip=mode), mode)\n",
    "        scatter += tl.dot(proj_but_k, proj_but_k.T)\n",
    "        \n",
    "    return scatter\n",
    "\n",
    "def MPCA(X, rank, niters=1, size=28):\n",
    "    X = tl.tensor(X.reshape(-1, size, size).astype(float))\n",
    "    Xmean = tl.mean(X, axis=0)\n",
    "    X = X - Xmean\n",
    "    factors = [tl.ones((dim, rank)) for dim in X.shape[1:]]\n",
    "\n",
    "    num_modes = len(X.shape) - 1\n",
    "    niters = niters\n",
    "\n",
    "    for _ in range(niters):\n",
    "        for k in range(num_modes):\n",
    "            scatter = compute_modek_total_scatter(X, k, factors)\n",
    "            U, _, _ = tl.tenalg.svd_interface(scatter, n_eigenvecs=rank)\n",
    "            factors[k] = U\n",
    "\n",
    "    def _MCPA_func(X):\n",
    "        X = tl.tensor(X.reshape(-1, size, size).astype(float))\n",
    "        X = X - Xmean\n",
    "        res = tl.tenalg.multi_mode_dot(X, factors, modes=[1, 2], transpose=True)\n",
    "        print(res.shape)\n",
    "        return res\n",
    "    return _MCPA_func\n",
    "\n",
    "# need this wrapper because defining lambdas in for loops just doesn't\n",
    "# work like intended\n",
    "def _get_flatten_mpca_func(mpca, rank):\n",
    "    return lambda x: mpca(x).reshape(-1, rank ** 2)\n",
    "\n",
    "allranks = list(range(4, 26))\n",
    "allmpcas = [MPCA(cons_train_data, i, niters=1, size=28) for i in allranks]\n",
    "mpcatrf_funcs = [_get_flatten_mpca_func(mpca, allranks[i]) for i, mpca in enumerate(allmpcas)]"
   ]
  },
  {
   "cell_type": "markdown",
   "metadata": {},
   "source": [
    "### KNN"
   ]
  },
  {
   "cell_type": "code",
   "execution_count": 228,
   "metadata": {},
   "outputs": [
    {
     "name": "stdout",
     "output_type": "stream",
     "text": [
      "n_components: 4\n",
      "(69714, 4, 4)\n",
      "KNN training took: 0.6621320247650146 sec.\n",
      "\n",
      "(1792, 4, 4)\n",
      "(3744, 4, 4)\n",
      "(4249, 4, 4)\n",
      "(5817, 4, 4)\n",
      "Model testing took: 0.5949299335479736 sec.\n",
      "\n",
      "handwritten-isolated score: 0.47767857142857145\n",
      "notMNIST score: 0.7996794871794872\n",
      "standard OCR score: 0.8519651682748882\n",
      "EMNIST score: 0.5643802647412756\n",
      "Aggregate score: 0.6892065119856429\n",
      "------\n",
      "n_components: 5\n",
      "(69714, 5, 5)\n",
      "KNN training took: 0.48925304412841797 sec.\n",
      "\n",
      "(1792, 5, 5)\n",
      "(3744, 5, 5)\n",
      "(4249, 5, 5)\n",
      "(5817, 5, 5)\n",
      "Model testing took: 0.7188849449157715 sec.\n",
      "\n",
      "handwritten-isolated score: 0.5128348214285714\n",
      "notMNIST score: 0.8234508547008547\n",
      "standard OCR score: 0.8846787479406919\n",
      "EMNIST score: 0.6278150249269383\n",
      "Aggregate score: 0.7315087809255224\n",
      "------\n",
      "n_components: 6\n",
      "(69714, 6, 6)\n",
      "KNN training took: 0.44685888290405273 sec.\n",
      "\n",
      "(1792, 6, 6)\n",
      "(3744, 6, 6)\n",
      "(4249, 6, 6)\n",
      "(5817, 6, 6)\n",
      "Model testing took: 0.8749561309814453 sec.\n",
      "\n",
      "handwritten-isolated score: 0.5334821428571429\n",
      "notMNIST score: 0.8322649572649573\n",
      "standard OCR score: 0.8985643680866087\n",
      "EMNIST score: 0.6687295856970947\n",
      "Aggregate score: 0.7550314062299706\n",
      "------\n",
      "n_components: 7\n",
      "(69714, 7, 7)\n",
      "KNN training took: 0.4892117977142334 sec.\n",
      "\n",
      "(1792, 7, 7)\n",
      "(3744, 7, 7)\n",
      "(4249, 7, 7)\n",
      "(5817, 7, 7)\n",
      "Model testing took: 1.019507884979248 sec.\n",
      "\n",
      "handwritten-isolated score: 0.5602678571428571\n",
      "notMNIST score: 0.8408119658119658\n",
      "standard OCR score: 0.9089197458225465\n",
      "EMNIST score: 0.679044180849235\n",
      "Aggregate score: 0.7668247660556339\n",
      "------\n",
      "n_components: 8\n",
      "(69714, 8, 8)\n",
      "KNN training took: 0.5109808444976807 sec.\n",
      "\n",
      "(1792, 8, 8)\n",
      "(3744, 8, 8)\n",
      "(4249, 8, 8)\n",
      "(5817, 8, 8)\n",
      "Model testing took: 1.1306350231170654 sec.\n",
      "\n",
      "handwritten-isolated score: 0.5786830357142857\n",
      "notMNIST score: 0.8386752136752137\n",
      "standard OCR score: 0.9086843963285479\n",
      "EMNIST score: 0.6799037304452467\n",
      "Aggregate score: 0.7686835021151135\n",
      "------\n",
      "n_components: 9\n",
      "(69714, 9, 9)\n",
      "KNN training took: 0.530670166015625 sec.\n",
      "\n",
      "(1792, 9, 9)\n",
      "(3744, 9, 9)\n",
      "(4249, 9, 9)\n",
      "(5817, 9, 9)\n",
      "Model testing took: 1.2956469058990479 sec.\n",
      "\n",
      "handwritten-isolated score: 0.58984375\n",
      "notMNIST score: 0.8384081196581197\n",
      "standard OCR score: 0.906330901388562\n",
      "EMNIST score: 0.6756059824651882\n",
      "Aggregate score: 0.7676579925650557\n",
      "------\n",
      "n_components: 10\n",
      "(69714, 10, 10)\n",
      "KNN training took: 0.5079450607299805 sec.\n",
      "\n",
      "(1792, 10, 10)\n",
      "(3744, 10, 10)\n",
      "(4249, 10, 10)\n",
      "(5817, 10, 10)\n",
      "Model testing took: 1.4277660846710205 sec.\n",
      "\n",
      "handwritten-isolated score: 0.5915178571428571\n",
      "notMNIST score: 0.8325320512820513\n",
      "standard OCR score: 0.9049188044245705\n",
      "EMNIST score: 0.6690734055354994\n",
      "Aggregate score: 0.7636200487117036\n",
      "------\n",
      "n_components: 11\n",
      "(69714, 11, 11)\n",
      "KNN training took: 0.5492980480194092 sec.\n",
      "\n",
      "(1792, 11, 11)\n",
      "(3744, 11, 11)\n",
      "(4249, 11, 11)\n",
      "(5817, 11, 11)\n",
      "Model testing took: 1.5956439971923828 sec.\n",
      "\n",
      "handwritten-isolated score: 0.60546875\n",
      "notMNIST score: 0.8322649572649573\n",
      "standard OCR score: 0.9039774064485762\n",
      "EMNIST score: 0.6644318377170363\n",
      "Aggregate score: 0.7631713882835534\n",
      "------\n",
      "n_components: 12\n",
      "(69714, 12, 12)\n",
      "KNN training took: 0.56947922706604 sec.\n",
      "\n",
      "(1792, 12, 12)\n",
      "(3744, 12, 12)\n",
      "(4249, 12, 12)\n",
      "(5817, 12, 12)\n",
      "Model testing took: 1.6662683486938477 sec.\n",
      "\n",
      "handwritten-isolated score: 0.6082589285714286\n",
      "notMNIST score: 0.8285256410256411\n",
      "standard OCR score: 0.9025653094845846\n",
      "EMNIST score: 0.6589307203025615\n",
      "Aggregate score: 0.7601589539802589\n",
      "------\n",
      "n_components: 13\n",
      "(69714, 13, 13)\n",
      "KNN training took: 0.6096649169921875 sec.\n",
      "\n",
      "(1792, 13, 13)\n",
      "(3744, 13, 13)\n",
      "(4249, 13, 13)\n",
      "(5817, 13, 13)\n",
      "Model testing took: 1.8460450172424316 sec.\n",
      "\n",
      "handwritten-isolated score: 0.6088169642857143\n",
      "notMNIST score: 0.8271901709401709\n",
      "standard OCR score: 0.8999764650506001\n",
      "EMNIST score: 0.6560082516761218\n",
      "Aggregate score: 0.7581079348801436\n",
      "------\n",
      "n_components: 14\n",
      "(69714, 14, 14)\n",
      "KNN training took: 0.6443991661071777 sec.\n",
      "\n",
      "(1792, 14, 14)\n",
      "(3744, 14, 14)\n",
      "(4249, 14, 14)\n",
      "(5817, 14, 14)\n",
      "Model testing took: 2.1154072284698486 sec.\n",
      "\n",
      "handwritten-isolated score: 0.6065848214285714\n",
      "notMNIST score: 0.8261217948717948\n",
      "standard OCR score: 0.9002118145445988\n",
      "EMNIST score: 0.6532576929688843\n",
      "Aggregate score: 0.7566337649019357\n",
      "------\n",
      "n_components: 15\n",
      "(69714, 15, 15)\n",
      "KNN training took: 0.6480677127838135 sec.\n",
      "\n",
      "(1792, 15, 15)\n",
      "(3744, 15, 15)\n",
      "(4249, 15, 15)\n",
      "(5817, 15, 15)\n",
      "Model testing took: 2.286916971206665 sec.\n",
      "\n",
      "handwritten-isolated score: 0.6149553571428571\n",
      "notMNIST score: 0.8223824786324786\n",
      "standard OCR score: 0.8990350670746058\n",
      "EMNIST score: 0.6474127557160048\n",
      "Aggregate score: 0.7541981797205487\n",
      "------\n",
      "n_components: 16\n",
      "(69714, 16, 16)\n",
      "KNN training took: 0.6514849662780762 sec.\n",
      "\n",
      "(1792, 16, 16)\n",
      "(3744, 16, 16)\n",
      "(4249, 16, 16)\n",
      "(5817, 16, 16)\n",
      "Model testing took: 2.573002576828003 sec.\n",
      "\n",
      "handwritten-isolated score: 0.6116071428571429\n",
      "notMNIST score: 0.8175747863247863\n",
      "standard OCR score: 0.89832901859261\n",
      "EMNIST score: 0.6467251160391955\n",
      "Aggregate score: 0.7522112549673119\n",
      "------\n",
      "n_components: 17\n",
      "(69714, 17, 17)\n",
      "KNN training took: 0.7197108268737793 sec.\n",
      "\n",
      "(1792, 17, 17)\n",
      "(3744, 17, 17)\n",
      "(4249, 17, 17)\n",
      "(5817, 17, 17)\n",
      "Model testing took: 2.6872141361236572 sec.\n",
      "\n",
      "handwritten-isolated score: 0.6116071428571429\n",
      "notMNIST score: 0.8146367521367521\n",
      "standard OCR score: 0.8971522711226171\n",
      "EMNIST score: 0.6455217466047791\n",
      "Aggregate score: 0.750737084989104\n",
      "------\n",
      "n_components: 18\n",
      "(69714, 18, 18)\n",
      "KNN training took: 0.7325103282928467 sec.\n",
      "\n",
      "(1792, 18, 18)\n",
      "(3744, 18, 18)\n",
      "(4249, 18, 18)\n",
      "(5817, 18, 18)\n",
      "Model testing took: 2.9305169582366943 sec.\n",
      "\n",
      "handwritten-isolated score: 0.61328125\n",
      "notMNIST score: 0.812767094017094\n",
      "standard OCR score: 0.8964462226406213\n",
      "EMNIST score: 0.6415678184631253\n",
      "Aggregate score: 0.7488142545827458\n",
      "------\n",
      "n_components: 19\n",
      "(69714, 19, 19)\n",
      "KNN training took: 0.9223840236663818 sec.\n",
      "\n",
      "(1792, 19, 19)\n",
      "(3744, 19, 19)\n",
      "(4249, 19, 19)\n",
      "(5817, 19, 19)\n",
      "Model testing took: 3.2115230560302734 sec.\n",
      "\n",
      "handwritten-isolated score: 0.6143973214285714\n",
      "notMNIST score: 0.8111645299145299\n",
      "standard OCR score: 0.8964462226406213\n",
      "EMNIST score: 0.641395908543923\n",
      "Aggregate score: 0.7484937828483528\n",
      "------\n",
      "n_components: 20\n",
      "(69714, 20, 20)\n",
      "KNN training took: 0.927717924118042 sec.\n",
      "\n",
      "(1792, 20, 20)\n",
      "(3744, 20, 20)\n",
      "(4249, 20, 20)\n",
      "(5817, 20, 20)\n",
      "Model testing took: 3.493868112564087 sec.\n",
      "\n",
      "handwritten-isolated score: 0.6171875\n",
      "notMNIST score: 0.8090277777777778\n",
      "standard OCR score: 0.895504824664627\n",
      "EMNIST score: 0.6417397283823276\n",
      "Aggregate score: 0.7481733111139598\n",
      "------\n",
      "n_components: 21\n",
      "(69714, 21, 21)\n",
      "KNN training took: 0.8788130283355713 sec.\n",
      "\n",
      "(1792, 21, 21)\n",
      "(3744, 21, 21)\n",
      "(4249, 21, 21)\n",
      "(5817, 21, 21)\n",
      "Model testing took: 3.763824939727783 sec.\n",
      "\n",
      "handwritten-isolated score: 0.6155133928571429\n",
      "notMNIST score: 0.8055555555555556\n",
      "standard OCR score: 0.8957401741586256\n",
      "EMNIST score: 0.6410520887055183\n",
      "Aggregate score: 0.7469555185232662\n",
      "------\n",
      "n_components: 22\n",
      "(69714, 22, 22)\n",
      "KNN training took: 0.8152909278869629 sec.\n",
      "\n",
      "(1792, 22, 22)\n",
      "(3744, 22, 22)\n",
      "(4249, 22, 22)\n",
      "(5817, 22, 22)\n",
      "Model testing took: 4.164126873016357 sec.\n",
      "\n",
      "handwritten-isolated score: 0.609375\n",
      "notMNIST score: 0.8066239316239316\n",
      "standard OCR score: 0.8950341256766298\n",
      "EMNIST score: 0.6407082688671136\n",
      "Aggregate score: 0.746186386360723\n",
      "------\n",
      "n_components: 23\n",
      "(69714, 23, 23)\n",
      "KNN training took: 0.9352631568908691 sec.\n",
      "\n",
      "(1792, 23, 23)\n",
      "(3744, 23, 23)\n",
      "(4249, 23, 23)\n",
      "(5817, 23, 23)\n",
      "Model testing took: 4.555997848510742 sec.\n",
      "\n",
      "handwritten-isolated score: 0.609375\n",
      "notMNIST score: 0.8047542735042735\n",
      "standard OCR score: 0.8950341256766298\n",
      "EMNIST score: 0.6395048994326973\n",
      "Aggregate score: 0.7452890655044225\n",
      "------\n",
      "n_components: 24\n",
      "(69714, 24, 24)\n",
      "KNN training took: 1.0786147117614746 sec.\n",
      "\n",
      "(1792, 24, 24)\n",
      "(3744, 24, 24)\n",
      "(4249, 24, 24)\n",
      "(5817, 24, 24)\n",
      "Model testing took: 4.998171091079712 sec.\n",
      "\n",
      "handwritten-isolated score: 0.6043526785714286\n",
      "notMNIST score: 0.8026175213675214\n",
      "standard OCR score: 0.8945634266886326\n",
      "EMNIST score: 0.6415678184631253\n",
      "Aggregate score: 0.7448404050762722\n",
      "------\n",
      "n_components: 25\n",
      "(69714, 25, 25)\n",
      "KNN training took: 1.2313930988311768 sec.\n",
      "\n",
      "(1792, 25, 25)\n",
      "(3744, 25, 25)\n",
      "(4249, 25, 25)\n",
      "(5817, 25, 25)\n",
      "Model testing took: 5.348958969116211 sec.\n",
      "\n",
      "handwritten-isolated score: 0.5993303571428571\n",
      "notMNIST score: 0.7996794871794872\n",
      "standard OCR score: 0.895504824664627\n",
      "EMNIST score: 0.640880178786316\n",
      "Aggregate score: 0.7435585181387002\n",
      "------\n"
     ]
    }
   ],
   "source": [
    "knn_mpca_results = test_trf_models(create_knn, mpcatrf_funcs, 4, 25)"
   ]
  },
  {
   "cell_type": "code",
   "execution_count": 229,
   "metadata": {},
   "outputs": [
    {
     "data": {
      "image/png": "[encoded data removed]",
      "text/plain": [
       "<Figure size 640x480 with 1 Axes>"
      ]
     },
     "metadata": {},
     "output_type": "display_data"
    }
   ],
   "source": [
    "plot_scores(knn_mpca_results, range(4, 26), title=\"MPCA for KNN classification\")"
   ]
  },
  {
   "cell_type": "markdown",
   "metadata": {},
   "source": [
    "testing stuff here"
   ]
  },
  {
   "cell_type": "code",
   "execution_count": 102,
   "metadata": {},
   "outputs": [],
   "source": [
    "X = tl.tensor(notmnist_test_data.reshape(-1, 28, 28).astype(float))\n",
    "Xmean = tl.mean(X, axis=0)\n",
    "Xcent = X - Xmean"
   ]
  },
  {
   "cell_type": "code",
   "execution_count": 230,
   "metadata": {},
   "outputs": [],
   "source": [
    "mcpa = MPCA(X, 10)"
   ]
  },
  {
   "cell_type": "code",
   "execution_count": 231,
   "metadata": {},
   "outputs": [
    {
     "name": "stdout",
     "output_type": "stream",
     "text": [
      "(3744, 10, 10)\n"
     ]
    }
   ],
   "source": [
    "asdf = mcpa(X)"
   ]
  },
  {
   "cell_type": "code",
   "execution_count": 232,
   "metadata": {},
   "outputs": [
    {
     "data": {
      "text/plain": [
       "<matplotlib.image.AxesImage at 0x29be32d40>"
      ]
     },
     "execution_count": 232,
     "metadata": {},
     "output_type": "execute_result"
    },
    {
     "data": {
      "image/png": "[encoded data removed]",
      "text/plain": [
       "<Figure size 640x480 with 1 Axes>"
      ]
     },
     "metadata": {},
     "output_type": "display_data"
    }
   ],
   "source": [
    "plt.imshow(X[0], cmap=\"gray\")"
   ]
  },
  {
   "cell_type": "code",
   "execution_count": 233,
   "metadata": {},
   "outputs": [
    {
     "data": {
      "text/plain": [
       "<matplotlib.image.AxesImage at 0x29bea4100>"
      ]
     },
     "execution_count": 233,
     "metadata": {},
     "output_type": "execute_result"
    },
    {
     "data": {
      "image/png": "[encoded data removed]",
      "text/plain": [
       "<Figure size 640x480 with 1 Axes>"
      ]
     },
     "metadata": {},
     "output_type": "display_data"
    }
   ],
   "source": [
    "plt.imshow(asdf[0], cmap=\"gray\")"
   ]
  },
  {
   "cell_type": "markdown",
   "metadata": {},
   "source": [
    "## CNN tests\n",
    "\n",
    "TODO these need to be done a datahub or someones laptop will explode"
   ]
  },
  {
   "cell_type": "code",
   "execution_count": null,
   "metadata": {},
   "outputs": [],
   "source": []
  },
  {
   "cell_type": "code",
   "execution_count": null,
   "metadata": {},
   "outputs": [],
   "source": []
  },
  {
   "cell_type": "code",
   "execution_count": null,
   "metadata": {},
   "outputs": [],
   "source": []
  }
 ],
 "metadata": {
  "kernelspec": {
   "display_name": "ece271bpr",
   "language": "python",
   "name": "python3"
  },
  "language_info": {
   "codemirror_mode": {
    "name": "ipython",
    "version": 3
   },
   "file_extension": ".py",
   "mimetype": "text/x-python",
   "name": "python",
   "nbconvert_exporter": "python",
   "pygments_lexer": "ipython3",
   "version": "3.10.13"
  }
 },
 "nbformat": 4,
 "nbformat_minor": 2
}
