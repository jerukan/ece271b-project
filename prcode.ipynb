{
 "cells": [
  {
   "cell_type": "code",
   "execution_count": 100,
   "metadata": {},
   "outputs": [],
   "source": [
    "import os\n",
    "from pathlib import Path\n",
    "import time\n",
    "\n",
    "import lightning as L\n",
    "import matplotlib.pyplot as plt\n",
    "import numpy as np\n",
    "from PIL import Image, UnidentifiedImageError\n",
    "from sklearn import metrics\n",
    "from sklearn.linear_model import LogisticRegression\n",
    "from sklearn.decomposition import PCA\n",
    "from sklearn.neighbors import KNeighborsClassifier\n",
    "import torch\n",
    "from torchvision.datasets import MNIST\n",
    "from torchvision.transforms import ToTensor\n",
    "from torch.utils.data import Dataset, random_split\n",
    "from torchvision import datasets\n",
    "from torchvision.transforms import v2\n",
    "\n",
    "def tic():\n",
    "    return time.time()\n",
    "def toc(tstart, name=\"Operation\", printtime=True):\n",
    "    dt = time.time() - tstart\n",
    "    if printtime:\n",
    "        print(\"%s took: %s sec.\\n\" % (name, dt))\n",
    "    return dt"
   ]
  },
  {
   "cell_type": "code",
   "execution_count": 3,
   "metadata": {},
   "outputs": [],
   "source": [
    "class CharDataset(Dataset):\n",
    "    \"\"\"\n",
    "    General dataset for single character data loading.\n",
    "\n",
    "    Assumes that in the directory given, the subdirectories are the classes.\n",
    "    These directory names should be the single character class.\n",
    "    \"\"\"\n",
    "    def __init__(self, img_dir, transform=None):\n",
    "        self.img_dir = Path(img_dir)\n",
    "        if not self.img_dir.exists():\n",
    "            raise FileNotFoundError(f\"{img_dir} does not exist\")\n",
    "        alldirs = [p for p in self.img_dir.glob(\"*\") if p.is_dir()]\n",
    "        self.imgpaths = []\n",
    "        self.imglabels = []\n",
    "        for d in alldirs:\n",
    "            chclass = d.stem.lower()\n",
    "            imgpaths_dirty = list(d.glob(\"*.jpg\")) + list(d.glob(\"*.png\"))\n",
    "            imgpaths = []\n",
    "            for i in range(len(imgpaths_dirty)):\n",
    "                try:\n",
    "                    Image.open(imgpaths_dirty[i])\n",
    "                except UnidentifiedImageError:\n",
    "                    print(f\"Image {imgpaths_dirty[i]} is not a valid image, skipping\")\n",
    "                    continue\n",
    "                imgpaths.append(imgpaths_dirty[i])\n",
    "            self.imgpaths.extend(imgpaths)\n",
    "            self.imglabels.extend([chclass] * len(imgpaths))\n",
    "        self.transform = transform\n",
    "\n",
    "    def __len__(self):\n",
    "        return len(self.imglabels)\n",
    "\n",
    "    def __getitem__(self, idx):\n",
    "        imgpath = self.imgpaths[idx]\n",
    "        img = Image.open(imgpath).convert(\"L\")\n",
    "        label = self.imglabels[idx]\n",
    "        if self.transform:\n",
    "            img = self.transform(img)\n",
    "        return img, label\n",
    "    \n",
    "def ds_to_vectors(ds, size=28):\n",
    "    imgs = np.array([np.array(x[0].resize((28, 28))).reshape(-1) for x in ds])\n",
    "    labs = np.array([x[1] for x in ds])\n",
    "    return imgs, labs"
   ]
  },
  {
   "cell_type": "code",
   "execution_count": 4,
   "metadata": {},
   "outputs": [],
   "source": [
    "randomrot_T = v2.Compose([\n",
    "    v2.PILToTensor(),\n",
    "    v2.RandomRotation(45),\n",
    "    v2.ToPILImage()\n",
    "])"
   ]
  },
  {
   "cell_type": "code",
   "execution_count": 62,
   "metadata": {},
   "outputs": [
    {
     "name": "stdout",
     "output_type": "stream",
     "text": [
      "Image data/notMNIST_small/A/RGVtb2NyYXRpY2FCb2xkT2xkc3R5bGUgQm9sZC50dGY=.png is not a valid image, skipping\n",
      "Image data/notMNIST_small/F/Q3Jvc3NvdmVyIEJvbGRPYmxpcXVlLnR0Zg==.png is not a valid image, skipping\n",
      "Image data/standard_ocr_dataset/data2/testing_data/G/44404.png is not a valid image, skipping\n"
     ]
    }
   ],
   "source": [
    "# this dataset is already random rotated\n",
    "handiso_ds_train = CharDataset(\"data/handwritten-isolated-english/train\")\n",
    "handiso_ds_test = CharDataset(\"data/handwritten-isolated-english/test\")\n",
    "handiso_test_data, handiso_test_labels = ds_to_vectors(handiso_ds_test)\n",
    "\n",
    "notmnist_ds = CharDataset(\"data/notMNIST_small\", transform=randomrot_T)\n",
    "notmnist_ds_train, notmnist_ds_test = random_split(notmnist_ds, [0.8, 0.2])\n",
    "notmnist_test_data, notmnist_test_labels = ds_to_vectors(notmnist_ds_test)\n",
    "\n",
    "stdocr_ds_train = CharDataset(\"data/standard_ocr_dataset/data/training_data\", transform=randomrot_T) + CharDataset(\"data/standard_ocr_dataset/data2/training_data\", transform=randomrot_T)\n",
    "stdocr_ds_test = CharDataset(\"data/standard_ocr_dataset/data/testing_data\", transform=randomrot_T) + CharDataset(\"data/standard_ocr_dataset/data2/testing_data\", transform=randomrot_T)\n",
    "stdocr_test_data, stdocr_test_labels = ds_to_vectors(stdocr_ds_test)\n",
    "\n",
    "mnist_ds_train = MNIST(Path(os.getcwd(), \"data\"), train=True, transform=randomrot_T, target_transform=str)\n",
    "mnist_ds_test = MNIST(Path(os.getcwd(), \"data\"), train=False, transform=randomrot_T, target_transform=str)\n",
    "mnist_test_data, mnist_test_labels = ds_to_vectors(mnist_ds_test)"
   ]
  },
  {
   "cell_type": "code",
   "execution_count": 63,
   "metadata": {},
   "outputs": [
    {
     "name": "stdout",
     "output_type": "stream",
     "text": [
      "handwritten-isolated-english sizes: [train:13168, test:1792]\n",
      "not MNIST sizes: [train:14980, test:3744]\n",
      "standard OCR ds sizes: [train:41256, test:4249]\n",
      "MNIST sizes: [train:60000, test:10000]\n"
     ]
    }
   ],
   "source": [
    "print(f\"handwritten-isolated-english sizes: [train:{len(handiso_ds_train)}, test:{len(handiso_ds_test)}]\")\n",
    "print(f\"not MNIST sizes: [train:{len(notmnist_ds_train)}, test:{len(notmnist_ds_test)}]\")\n",
    "print(f\"standard OCR ds sizes: [train:{len(stdocr_ds_train)}, test:{len(stdocr_ds_test)}]\")\n",
    "print(f\"MNIST sizes: [train:{len(mnist_ds_train)}, test:{len(mnist_ds_test)}]\")"
   ]
  },
  {
   "cell_type": "code",
   "execution_count": 64,
   "metadata": {},
   "outputs": [],
   "source": [
    "consolidated_ds_train = handiso_ds_train + notmnist_ds_train + stdocr_ds_train + mnist_ds_train\n",
    "cons_train_data, cons_train_labels = ds_to_vectors(consolidated_ds_train)"
   ]
  },
  {
   "cell_type": "code",
   "execution_count": 104,
   "metadata": {},
   "outputs": [],
   "source": [
    "def run_all_tests_model(model, data_transform=None):\n",
    "    if data_transform is None:\n",
    "        data_transform = lambda x: x\n",
    "    ts = tic()\n",
    "    handwrscore = model.score(data_transform(handiso_test_data), handiso_test_labels)\n",
    "    notmnistscore = model.score(data_transform(notmnist_test_data), notmnist_test_labels)\n",
    "    stdocrscore = model.score(data_transform(stdocr_test_data), stdocr_test_labels)\n",
    "    mnistscore = model.score(data_transform(mnist_test_data), mnist_test_labels)\n",
    "    toc(ts, \"Model testing\")\n",
    "    print(f\"handwritten-isolated score: {handwrscore}\\n\"\n",
    "          f\"notMNIST score: {notmnistscore}\\n\"\n",
    "          f\"standard OCR score: {stdocrscore}\\n\"\n",
    "          f\"MNIST score: {mnistscore}\")\n",
    "    return handwrscore, notmnistscore, stdocrscore, mnistscore\n",
    "\n",
    "def create_pca(X, n_components):\n",
    "    ts = tic()\n",
    "    pca = PCA(n_components=n_components)\n",
    "    pca.fit(X)\n",
    "    toc(ts, \"Creating PCA components\")\n",
    "    return pca"
   ]
  },
  {
   "cell_type": "code",
   "execution_count": 105,
   "metadata": {},
   "outputs": [],
   "source": [
    "def create_logreg(X, y, data_transform=None):\n",
    "    if data_transform is None:\n",
    "        data_transform = lambda x: x\n",
    "    ts = tic()\n",
    "    logreg = LogisticRegression()\n",
    "    logreg.fit(data_transform(X), y)\n",
    "    toc(ts, \"Logistic Regression training\")\n",
    "    return logreg"
   ]
  },
  {
   "cell_type": "code",
   "execution_count": 98,
   "metadata": {},
   "outputs": [
    {
     "name": "stdout",
     "output_type": "stream",
     "text": [
      "Creating PCA components took: 1.9968338012695312 sec.\n",
      "\n",
      "Creating PCA components took: 1.890021800994873 sec.\n",
      "\n",
      "Creating PCA components took: 1.8968229293823242 sec.\n",
      "\n",
      "Creating PCA components took: 1.9786338806152344 sec.\n",
      "\n",
      "Creating PCA components took: 2.664804220199585 sec.\n",
      "\n",
      "Creating PCA components took: 2.125735282897949 sec.\n",
      "\n",
      "Creating PCA components took: 3.256588935852051 sec.\n",
      "\n",
      "Creating PCA components took: 2.7942771911621094 sec.\n",
      "\n",
      "Creating PCA components took: 4.283822059631348 sec.\n",
      "\n",
      "Creating PCA components took: 6.167045831680298 sec.\n",
      "\n",
      "Creating PCA components took: 5.372321605682373 sec.\n",
      "\n",
      "Creating PCA components took: 5.275005102157593 sec.\n",
      "\n",
      "Creating PCA components took: 4.796183109283447 sec.\n",
      "\n",
      "Creating PCA components took: 3.71964693069458 sec.\n",
      "\n",
      "Creating PCA components took: 4.492445230484009 sec.\n",
      "\n",
      "Creating PCA components took: 5.078211069107056 sec.\n",
      "\n",
      "Creating PCA components took: 4.635692834854126 sec.\n",
      "\n",
      "Creating PCA components took: 4.589389085769653 sec.\n",
      "\n",
      "Creating PCA components took: 4.442442893981934 sec.\n",
      "\n",
      "Creating PCA components took: 4.371370077133179 sec.\n",
      "\n",
      "Creating PCA components took: 5.796648025512695 sec.\n",
      "\n",
      "Creating PCA components took: 4.890385150909424 sec.\n",
      "\n",
      "Creating PCA components took: 7.604529857635498 sec.\n",
      "\n",
      "Creating PCA components took: 6.93877100944519 sec.\n",
      "\n",
      "Creating PCA components took: 5.546066045761108 sec.\n",
      "\n",
      "Creating PCA components took: 6.384740114212036 sec.\n",
      "\n",
      "Creating PCA components took: 8.254553079605103 sec.\n",
      "\n",
      "Creating PCA components took: 6.163947105407715 sec.\n",
      "\n",
      "Creating PCA components took: 6.9147539138793945 sec.\n",
      "\n",
      "Creating PCA components took: 6.104944229125977 sec.\n",
      "\n",
      "Creating PCA components took: 6.159307956695557 sec.\n",
      "\n",
      "Creating PCA components took: 6.027549982070923 sec.\n",
      "\n",
      "Creating PCA components took: 6.863907098770142 sec.\n",
      "\n",
      "Creating PCA components took: 7.990466833114624 sec.\n",
      "\n",
      "Creating PCA components took: 5.694735288619995 sec.\n",
      "\n",
      "Creating PCA components took: 7.194269895553589 sec.\n",
      "\n",
      "Creating PCA components took: 7.16744589805603 sec.\n",
      "\n",
      "Creating PCA components took: 7.394131898880005 sec.\n",
      "\n",
      "Creating PCA components took: 8.264358282089233 sec.\n",
      "\n",
      "Creating PCA components took: 6.699645042419434 sec.\n",
      "\n",
      "Creating PCA components took: 5.573149919509888 sec.\n",
      "\n",
      "Creating PCA components took: 5.550850868225098 sec.\n",
      "\n",
      "Creating PCA components took: 5.806229114532471 sec.\n",
      "\n",
      "Creating PCA components took: 5.745045900344849 sec.\n",
      "\n",
      "Creating PCA components took: 5.832255125045776 sec.\n",
      "\n",
      "Creating PCA components took: 6.100748777389526 sec.\n",
      "\n",
      "Creating PCA components took: 6.257871150970459 sec.\n",
      "\n",
      "Creating PCA components took: 5.447737693786621 sec.\n",
      "\n",
      "Creating PCA components took: 5.300796985626221 sec.\n",
      "\n",
      "Creating PCA components took: 5.62887978553772 sec.\n",
      "\n",
      "Creating PCA components took: 5.960012674331665 sec.\n",
      "\n",
      "Creating PCA components took: 5.973788261413574 sec.\n",
      "\n",
      "Creating PCA components took: 6.803821086883545 sec.\n",
      "\n",
      "Creating PCA components took: 5.893496990203857 sec.\n",
      "\n",
      "Creating PCA components took: 6.713855981826782 sec.\n",
      "\n",
      "Creating PCA components took: 6.460849285125732 sec.\n",
      "\n",
      "Creating PCA components took: 6.491574048995972 sec.\n",
      "\n",
      "Creating PCA components took: 6.290348768234253 sec.\n",
      "\n"
     ]
    }
   ],
   "source": [
    "# could probably just initialize PCA with max components first, then just subset the\n",
    "# eigenvectors, but I'm too lazy to do that\n",
    "allpcas = [create_pca(cons_train_data, i) for i in range(2, 60)]"
   ]
  },
  {
   "cell_type": "code",
   "execution_count": 109,
   "metadata": {},
   "outputs": [
    {
     "name": "stdout",
     "output_type": "stream",
     "text": [
      "n_components: 2\n"
     ]
    },
    {
     "name": "stderr",
     "output_type": "stream",
     "text": [
      "/Users/jerry/mambaforge/envs/ece271bpr/lib/python3.10/site-packages/sklearn/linear_model/_logistic.py:469: ConvergenceWarning: lbfgs failed to converge (status=1):\n",
      "STOP: TOTAL NO. of ITERATIONS REACHED LIMIT.\n",
      "\n",
      "Increase the number of iterations (max_iter) or scale the data as shown in:\n",
      "    https://scikit-learn.org/stable/modules/preprocessing.html\n",
      "Please also refer to the documentation for alternative solver options:\n",
      "    https://scikit-learn.org/stable/modules/linear_model.html#logistic-regression\n",
      "  n_iter_i = _check_optimize_result(\n"
     ]
    },
    {
     "name": "stdout",
     "output_type": "stream",
     "text": [
      "Logistic Regression training took: 8.019427061080933 sec.\n",
      "\n",
      "Model testing took: 0.0728001594543457 sec.\n",
      "\n",
      "handwritten-isolated score: 0.036830357142857144\n",
      "notMNIST score: 0.08199786324786325\n",
      "standard OCR score: 0.02706519180983761\n",
      "MNIST score: 0.2195\n",
      "------\n",
      "n_components: 3\n"
     ]
    },
    {
     "name": "stderr",
     "output_type": "stream",
     "text": [
      "/Users/jerry/mambaforge/envs/ece271bpr/lib/python3.10/site-packages/sklearn/linear_model/_logistic.py:469: ConvergenceWarning: lbfgs failed to converge (status=1):\n",
      "STOP: TOTAL NO. of ITERATIONS REACHED LIMIT.\n",
      "\n",
      "Increase the number of iterations (max_iter) or scale the data as shown in:\n",
      "    https://scikit-learn.org/stable/modules/preprocessing.html\n",
      "Please also refer to the documentation for alternative solver options:\n",
      "    https://scikit-learn.org/stable/modules/linear_model.html#logistic-regression\n",
      "  n_iter_i = _check_optimize_result(\n"
     ]
    },
    {
     "name": "stdout",
     "output_type": "stream",
     "text": [
      "Logistic Regression training took: 7.04515814781189 sec.\n",
      "\n",
      "Model testing took: 0.059660911560058594 sec.\n",
      "\n",
      "handwritten-isolated score: 0.03180803571428571\n",
      "notMNIST score: 0.07799145299145299\n",
      "standard OCR score: 0.01906330901388562\n",
      "MNIST score: 0.2847\n",
      "------\n",
      "n_components: 4\n"
     ]
    },
    {
     "name": "stderr",
     "output_type": "stream",
     "text": [
      "/Users/jerry/mambaforge/envs/ece271bpr/lib/python3.10/site-packages/sklearn/linear_model/_logistic.py:469: ConvergenceWarning: lbfgs failed to converge (status=1):\n",
      "STOP: TOTAL NO. of ITERATIONS REACHED LIMIT.\n",
      "\n",
      "Increase the number of iterations (max_iter) or scale the data as shown in:\n",
      "    https://scikit-learn.org/stable/modules/preprocessing.html\n",
      "Please also refer to the documentation for alternative solver options:\n",
      "    https://scikit-learn.org/stable/modules/linear_model.html#logistic-regression\n",
      "  n_iter_i = _check_optimize_result(\n"
     ]
    },
    {
     "name": "stdout",
     "output_type": "stream",
     "text": [
      "Logistic Regression training took: 6.834728956222534 sec.\n",
      "\n",
      "Model testing took: 0.05127382278442383 sec.\n",
      "\n",
      "handwritten-isolated score: 0.033482142857142856\n",
      "notMNIST score: 0.0798611111111111\n",
      "standard OCR score: 0.02353494939985879\n",
      "MNIST score: 0.3003\n",
      "------\n",
      "n_components: 5\n"
     ]
    },
    {
     "name": "stderr",
     "output_type": "stream",
     "text": [
      "/Users/jerry/mambaforge/envs/ece271bpr/lib/python3.10/site-packages/sklearn/linear_model/_logistic.py:469: ConvergenceWarning: lbfgs failed to converge (status=1):\n",
      "STOP: TOTAL NO. of ITERATIONS REACHED LIMIT.\n",
      "\n",
      "Increase the number of iterations (max_iter) or scale the data as shown in:\n",
      "    https://scikit-learn.org/stable/modules/preprocessing.html\n",
      "Please also refer to the documentation for alternative solver options:\n",
      "    https://scikit-learn.org/stable/modules/linear_model.html#logistic-regression\n",
      "  n_iter_i = _check_optimize_result(\n"
     ]
    },
    {
     "name": "stdout",
     "output_type": "stream",
     "text": [
      "Logistic Regression training took: 6.324009895324707 sec.\n",
      "\n",
      "Model testing took: 0.047644853591918945 sec.\n",
      "\n",
      "handwritten-isolated score: 0.03404017857142857\n",
      "notMNIST score: 0.09695512820512821\n",
      "standard OCR score: 0.03271357966580372\n",
      "MNIST score: 0.3523\n",
      "------\n",
      "n_components: 6\n"
     ]
    },
    {
     "name": "stderr",
     "output_type": "stream",
     "text": [
      "/Users/jerry/mambaforge/envs/ece271bpr/lib/python3.10/site-packages/sklearn/linear_model/_logistic.py:469: ConvergenceWarning: lbfgs failed to converge (status=1):\n",
      "STOP: TOTAL NO. of ITERATIONS REACHED LIMIT.\n",
      "\n",
      "Increase the number of iterations (max_iter) or scale the data as shown in:\n",
      "    https://scikit-learn.org/stable/modules/preprocessing.html\n",
      "Please also refer to the documentation for alternative solver options:\n",
      "    https://scikit-learn.org/stable/modules/linear_model.html#logistic-regression\n",
      "  n_iter_i = _check_optimize_result(\n"
     ]
    },
    {
     "name": "stdout",
     "output_type": "stream",
     "text": [
      "Logistic Regression training took: 6.242440938949585 sec.\n",
      "\n",
      "Model testing took: 0.05039572715759277 sec.\n",
      "\n",
      "handwritten-isolated score: 0.03962053571428571\n",
      "notMNIST score: 0.11057692307692307\n",
      "standard OCR score: 0.051070840197693576\n",
      "MNIST score: 0.369\n",
      "------\n",
      "n_components: 7\n"
     ]
    },
    {
     "name": "stderr",
     "output_type": "stream",
     "text": [
      "/Users/jerry/mambaforge/envs/ece271bpr/lib/python3.10/site-packages/sklearn/linear_model/_logistic.py:469: ConvergenceWarning: lbfgs failed to converge (status=1):\n",
      "STOP: TOTAL NO. of ITERATIONS REACHED LIMIT.\n",
      "\n",
      "Increase the number of iterations (max_iter) or scale the data as shown in:\n",
      "    https://scikit-learn.org/stable/modules/preprocessing.html\n",
      "Please also refer to the documentation for alternative solver options:\n",
      "    https://scikit-learn.org/stable/modules/linear_model.html#logistic-regression\n",
      "  n_iter_i = _check_optimize_result(\n"
     ]
    },
    {
     "name": "stdout",
     "output_type": "stream",
     "text": [
      "Logistic Regression training took: 5.787383079528809 sec.\n",
      "\n",
      "Model testing took: 0.05087399482727051 sec.\n",
      "\n",
      "handwritten-isolated score: 0.030691964285714284\n",
      "notMNIST score: 0.12126068376068376\n",
      "standard OCR score: 0.057660626029654036\n",
      "MNIST score: 0.3824\n",
      "------\n",
      "n_components: 8\n"
     ]
    },
    {
     "name": "stderr",
     "output_type": "stream",
     "text": [
      "/Users/jerry/mambaforge/envs/ece271bpr/lib/python3.10/site-packages/sklearn/linear_model/_logistic.py:469: ConvergenceWarning: lbfgs failed to converge (status=1):\n",
      "STOP: TOTAL NO. of ITERATIONS REACHED LIMIT.\n",
      "\n",
      "Increase the number of iterations (max_iter) or scale the data as shown in:\n",
      "    https://scikit-learn.org/stable/modules/preprocessing.html\n",
      "Please also refer to the documentation for alternative solver options:\n",
      "    https://scikit-learn.org/stable/modules/linear_model.html#logistic-regression\n",
      "  n_iter_i = _check_optimize_result(\n"
     ]
    },
    {
     "name": "stdout",
     "output_type": "stream",
     "text": [
      "Logistic Regression training took: 5.8033130168914795 sec.\n",
      "\n",
      "Model testing took: 0.06183600425720215 sec.\n",
      "\n",
      "handwritten-isolated score: 0.036830357142857144\n",
      "notMNIST score: 0.13835470085470086\n",
      "standard OCR score: 0.0661332078136032\n",
      "MNIST score: 0.3944\n",
      "------\n",
      "n_components: 9\n"
     ]
    },
    {
     "name": "stderr",
     "output_type": "stream",
     "text": [
      "/Users/jerry/mambaforge/envs/ece271bpr/lib/python3.10/site-packages/sklearn/linear_model/_logistic.py:469: ConvergenceWarning: lbfgs failed to converge (status=1):\n",
      "STOP: TOTAL NO. of ITERATIONS REACHED LIMIT.\n",
      "\n",
      "Increase the number of iterations (max_iter) or scale the data as shown in:\n",
      "    https://scikit-learn.org/stable/modules/preprocessing.html\n",
      "Please also refer to the documentation for alternative solver options:\n",
      "    https://scikit-learn.org/stable/modules/linear_model.html#logistic-regression\n",
      "  n_iter_i = _check_optimize_result(\n"
     ]
    },
    {
     "name": "stdout",
     "output_type": "stream",
     "text": [
      "Logistic Regression training took: 5.952349901199341 sec.\n",
      "\n",
      "Model testing took: 0.05037689208984375 sec.\n",
      "\n",
      "handwritten-isolated score: 0.03571428571428571\n",
      "notMNIST score: 0.1936431623931624\n",
      "standard OCR score: 0.08802071075547188\n",
      "MNIST score: 0.4013\n",
      "------\n",
      "n_components: 10\n"
     ]
    },
    {
     "name": "stderr",
     "output_type": "stream",
     "text": [
      "/Users/jerry/mambaforge/envs/ece271bpr/lib/python3.10/site-packages/sklearn/linear_model/_logistic.py:469: ConvergenceWarning: lbfgs failed to converge (status=1):\n",
      "STOP: TOTAL NO. of ITERATIONS REACHED LIMIT.\n",
      "\n",
      "Increase the number of iterations (max_iter) or scale the data as shown in:\n",
      "    https://scikit-learn.org/stable/modules/preprocessing.html\n",
      "Please also refer to the documentation for alternative solver options:\n",
      "    https://scikit-learn.org/stable/modules/linear_model.html#logistic-regression\n",
      "  n_iter_i = _check_optimize_result(\n"
     ]
    },
    {
     "name": "stdout",
     "output_type": "stream",
     "text": [
      "Logistic Regression training took: 6.450594186782837 sec.\n",
      "\n",
      "Model testing took: 0.06009697914123535 sec.\n",
      "\n",
      "handwritten-isolated score: 0.030691964285714284\n",
      "notMNIST score: 0.19951923076923078\n",
      "standard OCR score: 0.12144033890327136\n",
      "MNIST score: 0.4171\n",
      "------\n",
      "n_components: 11\n"
     ]
    },
    {
     "name": "stderr",
     "output_type": "stream",
     "text": [
      "/Users/jerry/mambaforge/envs/ece271bpr/lib/python3.10/site-packages/sklearn/linear_model/_logistic.py:469: ConvergenceWarning: lbfgs failed to converge (status=1):\n",
      "STOP: TOTAL NO. of ITERATIONS REACHED LIMIT.\n",
      "\n",
      "Increase the number of iterations (max_iter) or scale the data as shown in:\n",
      "    https://scikit-learn.org/stable/modules/preprocessing.html\n",
      "Please also refer to the documentation for alternative solver options:\n",
      "    https://scikit-learn.org/stable/modules/linear_model.html#logistic-regression\n",
      "  n_iter_i = _check_optimize_result(\n"
     ]
    },
    {
     "name": "stdout",
     "output_type": "stream",
     "text": [
      "Logistic Regression training took: 7.100583076477051 sec.\n",
      "\n",
      "Model testing took: 0.054557085037231445 sec.\n",
      "\n",
      "handwritten-isolated score: 0.033482142857142856\n",
      "notMNIST score: 0.21634615384615385\n",
      "standard OCR score: 0.13297246410920216\n",
      "MNIST score: 0.4904\n",
      "------\n",
      "n_components: 12\n"
     ]
    },
    {
     "name": "stderr",
     "output_type": "stream",
     "text": [
      "/Users/jerry/mambaforge/envs/ece271bpr/lib/python3.10/site-packages/sklearn/linear_model/_logistic.py:469: ConvergenceWarning: lbfgs failed to converge (status=1):\n",
      "STOP: TOTAL NO. of ITERATIONS REACHED LIMIT.\n",
      "\n",
      "Increase the number of iterations (max_iter) or scale the data as shown in:\n",
      "    https://scikit-learn.org/stable/modules/preprocessing.html\n",
      "Please also refer to the documentation for alternative solver options:\n",
      "    https://scikit-learn.org/stable/modules/linear_model.html#logistic-regression\n",
      "  n_iter_i = _check_optimize_result(\n"
     ]
    },
    {
     "name": "stdout",
     "output_type": "stream",
     "text": [
      "Logistic Regression training took: 6.972098112106323 sec.\n",
      "\n",
      "Model testing took: 0.0568690299987793 sec.\n",
      "\n",
      "handwritten-isolated score: 0.033482142857142856\n",
      "notMNIST score: 0.22115384615384615\n",
      "standard OCR score: 0.15697811249705812\n",
      "MNIST score: 0.5456\n",
      "------\n",
      "n_components: 13\n"
     ]
    },
    {
     "name": "stderr",
     "output_type": "stream",
     "text": [
      "/Users/jerry/mambaforge/envs/ece271bpr/lib/python3.10/site-packages/sklearn/linear_model/_logistic.py:469: ConvergenceWarning: lbfgs failed to converge (status=1):\n",
      "STOP: TOTAL NO. of ITERATIONS REACHED LIMIT.\n",
      "\n",
      "Increase the number of iterations (max_iter) or scale the data as shown in:\n",
      "    https://scikit-learn.org/stable/modules/preprocessing.html\n",
      "Please also refer to the documentation for alternative solver options:\n",
      "    https://scikit-learn.org/stable/modules/linear_model.html#logistic-regression\n",
      "  n_iter_i = _check_optimize_result(\n"
     ]
    },
    {
     "name": "stdout",
     "output_type": "stream",
     "text": [
      "Logistic Regression training took: 6.741832971572876 sec.\n",
      "\n",
      "Model testing took: 0.06169605255126953 sec.\n",
      "\n",
      "handwritten-isolated score: 0.03962053571428571\n",
      "notMNIST score: 0.2329059829059829\n",
      "standard OCR score: 0.16898093669098613\n",
      "MNIST score: 0.5803\n",
      "------\n",
      "n_components: 14\n"
     ]
    },
    {
     "name": "stderr",
     "output_type": "stream",
     "text": [
      "/Users/jerry/mambaforge/envs/ece271bpr/lib/python3.10/site-packages/sklearn/linear_model/_logistic.py:469: ConvergenceWarning: lbfgs failed to converge (status=1):\n",
      "STOP: TOTAL NO. of ITERATIONS REACHED LIMIT.\n",
      "\n",
      "Increase the number of iterations (max_iter) or scale the data as shown in:\n",
      "    https://scikit-learn.org/stable/modules/preprocessing.html\n",
      "Please also refer to the documentation for alternative solver options:\n",
      "    https://scikit-learn.org/stable/modules/linear_model.html#logistic-regression\n",
      "  n_iter_i = _check_optimize_result(\n"
     ]
    },
    {
     "name": "stdout",
     "output_type": "stream",
     "text": [
      "Logistic Regression training took: 8.38724422454834 sec.\n",
      "\n",
      "Model testing took: 0.09121203422546387 sec.\n",
      "\n",
      "handwritten-isolated score: 0.03627232142857143\n",
      "notMNIST score: 0.24866452991452992\n",
      "standard OCR score: 0.17227582960696636\n",
      "MNIST score: 0.5881\n",
      "------\n",
      "n_components: 15\n"
     ]
    },
    {
     "name": "stderr",
     "output_type": "stream",
     "text": [
      "/Users/jerry/mambaforge/envs/ece271bpr/lib/python3.10/site-packages/sklearn/linear_model/_logistic.py:469: ConvergenceWarning: lbfgs failed to converge (status=1):\n",
      "STOP: TOTAL NO. of ITERATIONS REACHED LIMIT.\n",
      "\n",
      "Increase the number of iterations (max_iter) or scale the data as shown in:\n",
      "    https://scikit-learn.org/stable/modules/preprocessing.html\n",
      "Please also refer to the documentation for alternative solver options:\n",
      "    https://scikit-learn.org/stable/modules/linear_model.html#logistic-regression\n",
      "  n_iter_i = _check_optimize_result(\n"
     ]
    },
    {
     "name": "stdout",
     "output_type": "stream",
     "text": [
      "Logistic Regression training took: 6.904307842254639 sec.\n",
      "\n",
      "Model testing took: 0.055336952209472656 sec.\n",
      "\n",
      "handwritten-isolated score: 0.04185267857142857\n",
      "notMNIST score: 0.2761752136752137\n",
      "standard OCR score: 0.17439397505295365\n",
      "MNIST score: 0.619\n",
      "------\n",
      "n_components: 16\n"
     ]
    },
    {
     "name": "stderr",
     "output_type": "stream",
     "text": [
      "/Users/jerry/mambaforge/envs/ece271bpr/lib/python3.10/site-packages/sklearn/linear_model/_logistic.py:469: ConvergenceWarning: lbfgs failed to converge (status=1):\n",
      "STOP: TOTAL NO. of ITERATIONS REACHED LIMIT.\n",
      "\n",
      "Increase the number of iterations (max_iter) or scale the data as shown in:\n",
      "    https://scikit-learn.org/stable/modules/preprocessing.html\n",
      "Please also refer to the documentation for alternative solver options:\n",
      "    https://scikit-learn.org/stable/modules/linear_model.html#logistic-regression\n",
      "  n_iter_i = _check_optimize_result(\n"
     ]
    },
    {
     "name": "stdout",
     "output_type": "stream",
     "text": [
      "Logistic Regression training took: 6.474916934967041 sec.\n",
      "\n",
      "Model testing took: 0.06576681137084961 sec.\n",
      "\n",
      "handwritten-isolated score: 0.04017857142857143\n",
      "notMNIST score: 0.2692307692307692\n",
      "standard OCR score: 0.18451400329489293\n",
      "MNIST score: 0.625\n",
      "------\n",
      "n_components: 17\n"
     ]
    },
    {
     "name": "stderr",
     "output_type": "stream",
     "text": [
      "/Users/jerry/mambaforge/envs/ece271bpr/lib/python3.10/site-packages/sklearn/linear_model/_logistic.py:469: ConvergenceWarning: lbfgs failed to converge (status=1):\n",
      "STOP: TOTAL NO. of ITERATIONS REACHED LIMIT.\n",
      "\n",
      "Increase the number of iterations (max_iter) or scale the data as shown in:\n",
      "    https://scikit-learn.org/stable/modules/preprocessing.html\n",
      "Please also refer to the documentation for alternative solver options:\n",
      "    https://scikit-learn.org/stable/modules/linear_model.html#logistic-regression\n",
      "  n_iter_i = _check_optimize_result(\n"
     ]
    },
    {
     "name": "stdout",
     "output_type": "stream",
     "text": [
      "Logistic Regression training took: 7.568411827087402 sec.\n",
      "\n",
      "Model testing took: 0.06565093994140625 sec.\n",
      "\n",
      "handwritten-isolated score: 0.037388392857142856\n",
      "notMNIST score: 0.26495726495726496\n",
      "standard OCR score: 0.18992704165686045\n",
      "MNIST score: 0.6548\n",
      "------\n",
      "n_components: 18\n"
     ]
    },
    {
     "name": "stderr",
     "output_type": "stream",
     "text": [
      "/Users/jerry/mambaforge/envs/ece271bpr/lib/python3.10/site-packages/sklearn/linear_model/_logistic.py:469: ConvergenceWarning: lbfgs failed to converge (status=1):\n",
      "STOP: TOTAL NO. of ITERATIONS REACHED LIMIT.\n",
      "\n",
      "Increase the number of iterations (max_iter) or scale the data as shown in:\n",
      "    https://scikit-learn.org/stable/modules/preprocessing.html\n",
      "Please also refer to the documentation for alternative solver options:\n",
      "    https://scikit-learn.org/stable/modules/linear_model.html#logistic-regression\n",
      "  n_iter_i = _check_optimize_result(\n"
     ]
    },
    {
     "name": "stdout",
     "output_type": "stream",
     "text": [
      "Logistic Regression training took: 8.34489893913269 sec.\n",
      "\n",
      "Model testing took: 0.07631492614746094 sec.\n",
      "\n",
      "handwritten-isolated score: 0.03571428571428571\n",
      "notMNIST score: 0.2761752136752137\n",
      "standard OCR score: 0.20334196281477995\n",
      "MNIST score: 0.655\n",
      "------\n",
      "n_components: 19\n"
     ]
    },
    {
     "name": "stderr",
     "output_type": "stream",
     "text": [
      "/Users/jerry/mambaforge/envs/ece271bpr/lib/python3.10/site-packages/sklearn/linear_model/_logistic.py:469: ConvergenceWarning: lbfgs failed to converge (status=1):\n",
      "STOP: TOTAL NO. of ITERATIONS REACHED LIMIT.\n",
      "\n",
      "Increase the number of iterations (max_iter) or scale the data as shown in:\n",
      "    https://scikit-learn.org/stable/modules/preprocessing.html\n",
      "Please also refer to the documentation for alternative solver options:\n",
      "    https://scikit-learn.org/stable/modules/linear_model.html#logistic-regression\n",
      "  n_iter_i = _check_optimize_result(\n"
     ]
    },
    {
     "name": "stdout",
     "output_type": "stream",
     "text": [
      "Logistic Regression training took: 7.804897785186768 sec.\n",
      "\n",
      "Model testing took: 0.06920719146728516 sec.\n",
      "\n",
      "handwritten-isolated score: 0.03571428571428571\n",
      "notMNIST score: 0.27564102564102566\n",
      "standard OCR score: 0.21087314662273476\n",
      "MNIST score: 0.6641\n",
      "------\n",
      "n_components: 20\n"
     ]
    },
    {
     "name": "stderr",
     "output_type": "stream",
     "text": [
      "/Users/jerry/mambaforge/envs/ece271bpr/lib/python3.10/site-packages/sklearn/linear_model/_logistic.py:469: ConvergenceWarning: lbfgs failed to converge (status=1):\n",
      "STOP: TOTAL NO. of ITERATIONS REACHED LIMIT.\n",
      "\n",
      "Increase the number of iterations (max_iter) or scale the data as shown in:\n",
      "    https://scikit-learn.org/stable/modules/preprocessing.html\n",
      "Please also refer to the documentation for alternative solver options:\n",
      "    https://scikit-learn.org/stable/modules/linear_model.html#logistic-regression\n",
      "  n_iter_i = _check_optimize_result(\n"
     ]
    },
    {
     "name": "stdout",
     "output_type": "stream",
     "text": [
      "Logistic Regression training took: 9.536984920501709 sec.\n",
      "\n",
      "Model testing took: 0.08709096908569336 sec.\n",
      "\n",
      "handwritten-isolated score: 0.03515625\n",
      "notMNIST score: 0.27377136752136755\n",
      "standard OCR score: 0.23582019298658508\n",
      "MNIST score: 0.6678\n",
      "------\n",
      "n_components: 21\n"
     ]
    },
    {
     "name": "stderr",
     "output_type": "stream",
     "text": [
      "/Users/jerry/mambaforge/envs/ece271bpr/lib/python3.10/site-packages/sklearn/linear_model/_logistic.py:469: ConvergenceWarning: lbfgs failed to converge (status=1):\n",
      "STOP: TOTAL NO. of ITERATIONS REACHED LIMIT.\n",
      "\n",
      "Increase the number of iterations (max_iter) or scale the data as shown in:\n",
      "    https://scikit-learn.org/stable/modules/preprocessing.html\n",
      "Please also refer to the documentation for alternative solver options:\n",
      "    https://scikit-learn.org/stable/modules/linear_model.html#logistic-regression\n",
      "  n_iter_i = _check_optimize_result(\n"
     ]
    },
    {
     "name": "stdout",
     "output_type": "stream",
     "text": [
      "Logistic Regression training took: 9.504117012023926 sec.\n",
      "\n",
      "Model testing took: 0.15186095237731934 sec.\n",
      "\n",
      "handwritten-isolated score: 0.03571428571428571\n",
      "notMNIST score: 0.28392094017094016\n",
      "standard OCR score: 0.2511179100964933\n",
      "MNIST score: 0.6684\n",
      "------\n",
      "n_components: 22\n"
     ]
    },
    {
     "name": "stderr",
     "output_type": "stream",
     "text": [
      "/Users/jerry/mambaforge/envs/ece271bpr/lib/python3.10/site-packages/sklearn/linear_model/_logistic.py:469: ConvergenceWarning: lbfgs failed to converge (status=1):\n",
      "STOP: TOTAL NO. of ITERATIONS REACHED LIMIT.\n",
      "\n",
      "Increase the number of iterations (max_iter) or scale the data as shown in:\n",
      "    https://scikit-learn.org/stable/modules/preprocessing.html\n",
      "Please also refer to the documentation for alternative solver options:\n",
      "    https://scikit-learn.org/stable/modules/linear_model.html#logistic-regression\n",
      "  n_iter_i = _check_optimize_result(\n"
     ]
    },
    {
     "name": "stdout",
     "output_type": "stream",
     "text": [
      "Logistic Regression training took: 9.705971002578735 sec.\n",
      "\n",
      "Model testing took: 0.08446002006530762 sec.\n",
      "\n",
      "handwritten-isolated score: 0.03571428571428571\n",
      "notMNIST score: 0.28552350427350426\n",
      "standard OCR score: 0.2584137444104495\n",
      "MNIST score: 0.6696\n",
      "------\n",
      "n_components: 23\n"
     ]
    },
    {
     "name": "stderr",
     "output_type": "stream",
     "text": [
      "/Users/jerry/mambaforge/envs/ece271bpr/lib/python3.10/site-packages/sklearn/linear_model/_logistic.py:469: ConvergenceWarning: lbfgs failed to converge (status=1):\n",
      "STOP: TOTAL NO. of ITERATIONS REACHED LIMIT.\n",
      "\n",
      "Increase the number of iterations (max_iter) or scale the data as shown in:\n",
      "    https://scikit-learn.org/stable/modules/preprocessing.html\n",
      "Please also refer to the documentation for alternative solver options:\n",
      "    https://scikit-learn.org/stable/modules/linear_model.html#logistic-regression\n",
      "  n_iter_i = _check_optimize_result(\n"
     ]
    },
    {
     "name": "stdout",
     "output_type": "stream",
     "text": [
      "Logistic Regression training took: 11.538295030593872 sec.\n",
      "\n",
      "Model testing took: 0.07222914695739746 sec.\n",
      "\n",
      "handwritten-isolated score: 0.033482142857142856\n",
      "notMNIST score: 0.2849893162393162\n",
      "standard OCR score: 0.26947517062838316\n",
      "MNIST score: 0.6716\n",
      "------\n",
      "n_components: 24\n"
     ]
    },
    {
     "name": "stderr",
     "output_type": "stream",
     "text": [
      "/Users/jerry/mambaforge/envs/ece271bpr/lib/python3.10/site-packages/sklearn/linear_model/_logistic.py:469: ConvergenceWarning: lbfgs failed to converge (status=1):\n",
      "STOP: TOTAL NO. of ITERATIONS REACHED LIMIT.\n",
      "\n",
      "Increase the number of iterations (max_iter) or scale the data as shown in:\n",
      "    https://scikit-learn.org/stable/modules/preprocessing.html\n",
      "Please also refer to the documentation for alternative solver options:\n",
      "    https://scikit-learn.org/stable/modules/linear_model.html#logistic-regression\n",
      "  n_iter_i = _check_optimize_result(\n"
     ]
    },
    {
     "name": "stdout",
     "output_type": "stream",
     "text": [
      "Logistic Regression training took: 11.174911975860596 sec.\n",
      "\n",
      "Model testing took: 0.07422590255737305 sec.\n",
      "\n",
      "handwritten-isolated score: 0.03571428571428571\n",
      "notMNIST score: 0.28899572649572647\n",
      "standard OCR score: 0.2647681807484114\n",
      "MNIST score: 0.6765\n",
      "------\n",
      "n_components: 25\n"
     ]
    },
    {
     "name": "stderr",
     "output_type": "stream",
     "text": [
      "/Users/jerry/mambaforge/envs/ece271bpr/lib/python3.10/site-packages/sklearn/linear_model/_logistic.py:469: ConvergenceWarning: lbfgs failed to converge (status=1):\n",
      "STOP: TOTAL NO. of ITERATIONS REACHED LIMIT.\n",
      "\n",
      "Increase the number of iterations (max_iter) or scale the data as shown in:\n",
      "    https://scikit-learn.org/stable/modules/preprocessing.html\n",
      "Please also refer to the documentation for alternative solver options:\n",
      "    https://scikit-learn.org/stable/modules/linear_model.html#logistic-regression\n",
      "  n_iter_i = _check_optimize_result(\n"
     ]
    },
    {
     "name": "stdout",
     "output_type": "stream",
     "text": [
      "Logistic Regression training took: 10.911007165908813 sec.\n",
      "\n",
      "Model testing took: 0.07551074028015137 sec.\n",
      "\n",
      "handwritten-isolated score: 0.03962053571428571\n",
      "notMNIST score: 0.2919337606837607\n",
      "standard OCR score: 0.26194398682042835\n",
      "MNIST score: 0.6784\n",
      "------\n",
      "n_components: 26\n"
     ]
    },
    {
     "name": "stderr",
     "output_type": "stream",
     "text": [
      "/Users/jerry/mambaforge/envs/ece271bpr/lib/python3.10/site-packages/sklearn/linear_model/_logistic.py:469: ConvergenceWarning: lbfgs failed to converge (status=1):\n",
      "STOP: TOTAL NO. of ITERATIONS REACHED LIMIT.\n",
      "\n",
      "Increase the number of iterations (max_iter) or scale the data as shown in:\n",
      "    https://scikit-learn.org/stable/modules/preprocessing.html\n",
      "Please also refer to the documentation for alternative solver options:\n",
      "    https://scikit-learn.org/stable/modules/linear_model.html#logistic-regression\n",
      "  n_iter_i = _check_optimize_result(\n"
     ]
    },
    {
     "name": "stdout",
     "output_type": "stream",
     "text": [
      "Logistic Regression training took: 12.567180156707764 sec.\n",
      "\n",
      "Model testing took: 0.10552501678466797 sec.\n",
      "\n",
      "handwritten-isolated score: 0.0390625\n",
      "notMNIST score: 0.2916666666666667\n",
      "standard OCR score: 0.2666509767004001\n",
      "MNIST score: 0.6748\n",
      "------\n",
      "n_components: 27\n"
     ]
    },
    {
     "name": "stderr",
     "output_type": "stream",
     "text": [
      "/Users/jerry/mambaforge/envs/ece271bpr/lib/python3.10/site-packages/sklearn/linear_model/_logistic.py:469: ConvergenceWarning: lbfgs failed to converge (status=1):\n",
      "STOP: TOTAL NO. of ITERATIONS REACHED LIMIT.\n",
      "\n",
      "Increase the number of iterations (max_iter) or scale the data as shown in:\n",
      "    https://scikit-learn.org/stable/modules/preprocessing.html\n",
      "Please also refer to the documentation for alternative solver options:\n",
      "    https://scikit-learn.org/stable/modules/linear_model.html#logistic-regression\n",
      "  n_iter_i = _check_optimize_result(\n"
     ]
    },
    {
     "name": "stdout",
     "output_type": "stream",
     "text": [
      "Logistic Regression training took: 12.753158807754517 sec.\n",
      "\n",
      "Model testing took: 0.08974218368530273 sec.\n",
      "\n",
      "handwritten-isolated score: 0.03850446428571429\n",
      "notMNIST score: 0.28872863247863245\n",
      "standard OCR score: 0.2727700635443634\n",
      "MNIST score: 0.6772\n",
      "------\n",
      "n_components: 28\n"
     ]
    },
    {
     "name": "stderr",
     "output_type": "stream",
     "text": [
      "/Users/jerry/mambaforge/envs/ece271bpr/lib/python3.10/site-packages/sklearn/linear_model/_logistic.py:469: ConvergenceWarning: lbfgs failed to converge (status=1):\n",
      "STOP: TOTAL NO. of ITERATIONS REACHED LIMIT.\n",
      "\n",
      "Increase the number of iterations (max_iter) or scale the data as shown in:\n",
      "    https://scikit-learn.org/stable/modules/preprocessing.html\n",
      "Please also refer to the documentation for alternative solver options:\n",
      "    https://scikit-learn.org/stable/modules/linear_model.html#logistic-regression\n",
      "  n_iter_i = _check_optimize_result(\n"
     ]
    },
    {
     "name": "stdout",
     "output_type": "stream",
     "text": [
      "Logistic Regression training took: 12.205245971679688 sec.\n",
      "\n",
      "Model testing took: 0.11577296257019043 sec.\n",
      "\n",
      "handwritten-isolated score: 0.03515625\n",
      "notMNIST score: 0.2841880341880342\n",
      "standard OCR score: 0.27912449988232524\n",
      "MNIST score: 0.6827\n",
      "------\n",
      "n_components: 29\n"
     ]
    },
    {
     "name": "stderr",
     "output_type": "stream",
     "text": [
      "/Users/jerry/mambaforge/envs/ece271bpr/lib/python3.10/site-packages/sklearn/linear_model/_logistic.py:469: ConvergenceWarning: lbfgs failed to converge (status=1):\n",
      "STOP: TOTAL NO. of ITERATIONS REACHED LIMIT.\n",
      "\n",
      "Increase the number of iterations (max_iter) or scale the data as shown in:\n",
      "    https://scikit-learn.org/stable/modules/preprocessing.html\n",
      "Please also refer to the documentation for alternative solver options:\n",
      "    https://scikit-learn.org/stable/modules/linear_model.html#logistic-regression\n",
      "  n_iter_i = _check_optimize_result(\n"
     ]
    },
    {
     "name": "stdout",
     "output_type": "stream",
     "text": [
      "Logistic Regression training took: 12.35300898551941 sec.\n",
      "\n",
      "Model testing took: 0.09041070938110352 sec.\n",
      "\n",
      "handwritten-isolated score: 0.03850446428571429\n",
      "notMNIST score: 0.2831196581196581\n",
      "standard OCR score: 0.2833607907742998\n",
      "MNIST score: 0.6825\n",
      "------\n",
      "n_components: 30\n"
     ]
    },
    {
     "name": "stderr",
     "output_type": "stream",
     "text": [
      "/Users/jerry/mambaforge/envs/ece271bpr/lib/python3.10/site-packages/sklearn/linear_model/_logistic.py:469: ConvergenceWarning: lbfgs failed to converge (status=1):\n",
      "STOP: TOTAL NO. of ITERATIONS REACHED LIMIT.\n",
      "\n",
      "Increase the number of iterations (max_iter) or scale the data as shown in:\n",
      "    https://scikit-learn.org/stable/modules/preprocessing.html\n",
      "Please also refer to the documentation for alternative solver options:\n",
      "    https://scikit-learn.org/stable/modules/linear_model.html#logistic-regression\n",
      "  n_iter_i = _check_optimize_result(\n"
     ]
    },
    {
     "name": "stdout",
     "output_type": "stream",
     "text": [
      "Logistic Regression training took: 12.349707841873169 sec.\n",
      "\n",
      "Model testing took: 0.08498883247375488 sec.\n",
      "\n",
      "handwritten-isolated score: 0.03850446428571429\n",
      "notMNIST score: 0.2857905982905983\n",
      "standard OCR score: 0.28547893622028714\n",
      "MNIST score: 0.6825\n",
      "------\n",
      "n_components: 31\n"
     ]
    },
    {
     "name": "stderr",
     "output_type": "stream",
     "text": [
      "/Users/jerry/mambaforge/envs/ece271bpr/lib/python3.10/site-packages/sklearn/linear_model/_logistic.py:469: ConvergenceWarning: lbfgs failed to converge (status=1):\n",
      "STOP: TOTAL NO. of ITERATIONS REACHED LIMIT.\n",
      "\n",
      "Increase the number of iterations (max_iter) or scale the data as shown in:\n",
      "    https://scikit-learn.org/stable/modules/preprocessing.html\n",
      "Please also refer to the documentation for alternative solver options:\n",
      "    https://scikit-learn.org/stable/modules/linear_model.html#logistic-regression\n",
      "  n_iter_i = _check_optimize_result(\n"
     ]
    },
    {
     "name": "stdout",
     "output_type": "stream",
     "text": [
      "Logistic Regression training took: 14.980799913406372 sec.\n",
      "\n",
      "Model testing took: 0.09959101676940918 sec.\n",
      "\n",
      "handwritten-isolated score: 0.032924107142857144\n",
      "notMNIST score: 0.2847222222222222\n",
      "standard OCR score: 0.28900917863026593\n",
      "MNIST score: 0.6824\n",
      "------\n",
      "n_components: 32\n"
     ]
    },
    {
     "name": "stderr",
     "output_type": "stream",
     "text": [
      "/Users/jerry/mambaforge/envs/ece271bpr/lib/python3.10/site-packages/sklearn/linear_model/_logistic.py:469: ConvergenceWarning: lbfgs failed to converge (status=1):\n",
      "STOP: TOTAL NO. of ITERATIONS REACHED LIMIT.\n",
      "\n",
      "Increase the number of iterations (max_iter) or scale the data as shown in:\n",
      "    https://scikit-learn.org/stable/modules/preprocessing.html\n",
      "Please also refer to the documentation for alternative solver options:\n",
      "    https://scikit-learn.org/stable/modules/linear_model.html#logistic-regression\n",
      "  n_iter_i = _check_optimize_result(\n"
     ]
    },
    {
     "name": "stdout",
     "output_type": "stream",
     "text": [
      "Logistic Regression training took: 13.640987873077393 sec.\n",
      "\n",
      "Model testing took: 0.12818598747253418 sec.\n",
      "\n",
      "handwritten-isolated score: 0.03125\n",
      "notMNIST score: 0.28739316239316237\n",
      "standard OCR score: 0.2901859261002589\n",
      "MNIST score: 0.6818\n",
      "------\n",
      "n_components: 33\n"
     ]
    },
    {
     "name": "stderr",
     "output_type": "stream",
     "text": [
      "/Users/jerry/mambaforge/envs/ece271bpr/lib/python3.10/site-packages/sklearn/linear_model/_logistic.py:469: ConvergenceWarning: lbfgs failed to converge (status=1):\n",
      "STOP: TOTAL NO. of ITERATIONS REACHED LIMIT.\n",
      "\n",
      "Increase the number of iterations (max_iter) or scale the data as shown in:\n",
      "    https://scikit-learn.org/stable/modules/preprocessing.html\n",
      "Please also refer to the documentation for alternative solver options:\n",
      "    https://scikit-learn.org/stable/modules/linear_model.html#logistic-regression\n",
      "  n_iter_i = _check_optimize_result(\n"
     ]
    },
    {
     "name": "stdout",
     "output_type": "stream",
     "text": [
      "Logistic Regression training took: 12.956668853759766 sec.\n",
      "\n",
      "Model testing took: 0.09178805351257324 sec.\n",
      "\n",
      "handwritten-isolated score: 0.03236607142857143\n",
      "notMNIST score: 0.2863247863247863\n",
      "standard OCR score: 0.29536361496822783\n",
      "MNIST score: 0.6836\n",
      "------\n",
      "n_components: 34\n"
     ]
    },
    {
     "name": "stderr",
     "output_type": "stream",
     "text": [
      "/Users/jerry/mambaforge/envs/ece271bpr/lib/python3.10/site-packages/sklearn/linear_model/_logistic.py:469: ConvergenceWarning: lbfgs failed to converge (status=1):\n",
      "STOP: TOTAL NO. of ITERATIONS REACHED LIMIT.\n",
      "\n",
      "Increase the number of iterations (max_iter) or scale the data as shown in:\n",
      "    https://scikit-learn.org/stable/modules/preprocessing.html\n",
      "Please also refer to the documentation for alternative solver options:\n",
      "    https://scikit-learn.org/stable/modules/linear_model.html#logistic-regression\n",
      "  n_iter_i = _check_optimize_result(\n"
     ]
    },
    {
     "name": "stdout",
     "output_type": "stream",
     "text": [
      "Logistic Regression training took: 13.681921005249023 sec.\n",
      "\n",
      "Model testing took: 0.09452104568481445 sec.\n",
      "\n",
      "handwritten-isolated score: 0.033482142857142856\n",
      "notMNIST score: 0.28846153846153844\n",
      "standard OCR score: 0.29795245940221227\n",
      "MNIST score: 0.6869\n",
      "------\n",
      "n_components: 35\n"
     ]
    },
    {
     "name": "stderr",
     "output_type": "stream",
     "text": [
      "/Users/jerry/mambaforge/envs/ece271bpr/lib/python3.10/site-packages/sklearn/linear_model/_logistic.py:469: ConvergenceWarning: lbfgs failed to converge (status=1):\n",
      "STOP: TOTAL NO. of ITERATIONS REACHED LIMIT.\n",
      "\n",
      "Increase the number of iterations (max_iter) or scale the data as shown in:\n",
      "    https://scikit-learn.org/stable/modules/preprocessing.html\n",
      "Please also refer to the documentation for alternative solver options:\n",
      "    https://scikit-learn.org/stable/modules/linear_model.html#logistic-regression\n",
      "  n_iter_i = _check_optimize_result(\n"
     ]
    },
    {
     "name": "stdout",
     "output_type": "stream",
     "text": [
      "Logistic Regression training took: 13.457988023757935 sec.\n",
      "\n",
      "Model testing took: 0.10366702079772949 sec.\n",
      "\n",
      "handwritten-isolated score: 0.03459821428571429\n",
      "notMNIST score: 0.2876602564102564\n",
      "standard OCR score: 0.30171805130618967\n",
      "MNIST score: 0.689\n",
      "------\n",
      "n_components: 36\n"
     ]
    },
    {
     "name": "stderr",
     "output_type": "stream",
     "text": [
      "/Users/jerry/mambaforge/envs/ece271bpr/lib/python3.10/site-packages/sklearn/linear_model/_logistic.py:469: ConvergenceWarning: lbfgs failed to converge (status=1):\n",
      "STOP: TOTAL NO. of ITERATIONS REACHED LIMIT.\n",
      "\n",
      "Increase the number of iterations (max_iter) or scale the data as shown in:\n",
      "    https://scikit-learn.org/stable/modules/preprocessing.html\n",
      "Please also refer to the documentation for alternative solver options:\n",
      "    https://scikit-learn.org/stable/modules/linear_model.html#logistic-regression\n",
      "  n_iter_i = _check_optimize_result(\n"
     ]
    },
    {
     "name": "stdout",
     "output_type": "stream",
     "text": [
      "Logistic Regression training took: 12.857842922210693 sec.\n",
      "\n",
      "Model testing took: 0.09812092781066895 sec.\n",
      "\n",
      "handwritten-isolated score: 0.032924107142857144\n",
      "notMNIST score: 0.28739316239316237\n",
      "standard OCR score: 0.30242409978818546\n",
      "MNIST score: 0.6882\n",
      "------\n",
      "n_components: 37\n"
     ]
    },
    {
     "name": "stderr",
     "output_type": "stream",
     "text": [
      "/Users/jerry/mambaforge/envs/ece271bpr/lib/python3.10/site-packages/sklearn/linear_model/_logistic.py:469: ConvergenceWarning: lbfgs failed to converge (status=1):\n",
      "STOP: TOTAL NO. of ITERATIONS REACHED LIMIT.\n",
      "\n",
      "Increase the number of iterations (max_iter) or scale the data as shown in:\n",
      "    https://scikit-learn.org/stable/modules/preprocessing.html\n",
      "Please also refer to the documentation for alternative solver options:\n",
      "    https://scikit-learn.org/stable/modules/linear_model.html#logistic-regression\n",
      "  n_iter_i = _check_optimize_result(\n"
     ]
    },
    {
     "name": "stdout",
     "output_type": "stream",
     "text": [
      "Logistic Regression training took: 13.207397937774658 sec.\n",
      "\n",
      "Model testing took: 0.11166095733642578 sec.\n",
      "\n",
      "handwritten-isolated score: 0.030133928571428572\n",
      "notMNIST score: 0.2831196581196581\n",
      "standard OCR score: 0.30830783713815013\n",
      "MNIST score: 0.6891\n",
      "------\n",
      "n_components: 38\n"
     ]
    },
    {
     "name": "stderr",
     "output_type": "stream",
     "text": [
      "/Users/jerry/mambaforge/envs/ece271bpr/lib/python3.10/site-packages/sklearn/linear_model/_logistic.py:469: ConvergenceWarning: lbfgs failed to converge (status=1):\n",
      "STOP: TOTAL NO. of ITERATIONS REACHED LIMIT.\n",
      "\n",
      "Increase the number of iterations (max_iter) or scale the data as shown in:\n",
      "    https://scikit-learn.org/stable/modules/preprocessing.html\n",
      "Please also refer to the documentation for alternative solver options:\n",
      "    https://scikit-learn.org/stable/modules/linear_model.html#logistic-regression\n",
      "  n_iter_i = _check_optimize_result(\n"
     ]
    },
    {
     "name": "stdout",
     "output_type": "stream",
     "text": [
      "Logistic Regression training took: 13.956806182861328 sec.\n",
      "\n",
      "Model testing took: 0.08929896354675293 sec.\n",
      "\n",
      "handwritten-isolated score: 0.030691964285714284\n",
      "notMNIST score: 0.28365384615384615\n",
      "standard OCR score: 0.3099552835961403\n",
      "MNIST score: 0.691\n",
      "------\n",
      "n_components: 39\n"
     ]
    },
    {
     "name": "stderr",
     "output_type": "stream",
     "text": [
      "/Users/jerry/mambaforge/envs/ece271bpr/lib/python3.10/site-packages/sklearn/linear_model/_logistic.py:469: ConvergenceWarning: lbfgs failed to converge (status=1):\n",
      "STOP: TOTAL NO. of ITERATIONS REACHED LIMIT.\n",
      "\n",
      "Increase the number of iterations (max_iter) or scale the data as shown in:\n",
      "    https://scikit-learn.org/stable/modules/preprocessing.html\n",
      "Please also refer to the documentation for alternative solver options:\n",
      "    https://scikit-learn.org/stable/modules/linear_model.html#logistic-regression\n",
      "  n_iter_i = _check_optimize_result(\n"
     ]
    },
    {
     "name": "stdout",
     "output_type": "stream",
     "text": [
      "Logistic Regression training took: 13.358824014663696 sec.\n",
      "\n",
      "Model testing took: 0.1217958927154541 sec.\n",
      "\n",
      "handwritten-isolated score: 0.03236607142857143\n",
      "notMNIST score: 0.28952991452991456\n",
      "standard OCR score: 0.311838079548129\n",
      "MNIST score: 0.6933\n",
      "------\n",
      "n_components: 40\n"
     ]
    },
    {
     "name": "stderr",
     "output_type": "stream",
     "text": [
      "/Users/jerry/mambaforge/envs/ece271bpr/lib/python3.10/site-packages/sklearn/linear_model/_logistic.py:469: ConvergenceWarning: lbfgs failed to converge (status=1):\n",
      "STOP: TOTAL NO. of ITERATIONS REACHED LIMIT.\n",
      "\n",
      "Increase the number of iterations (max_iter) or scale the data as shown in:\n",
      "    https://scikit-learn.org/stable/modules/preprocessing.html\n",
      "Please also refer to the documentation for alternative solver options:\n",
      "    https://scikit-learn.org/stable/modules/linear_model.html#logistic-regression\n",
      "  n_iter_i = _check_optimize_result(\n"
     ]
    },
    {
     "name": "stdout",
     "output_type": "stream",
     "text": [
      "Logistic Regression training took: 14.801903009414673 sec.\n",
      "\n",
      "Model testing took: 0.0986330509185791 sec.\n",
      "\n",
      "handwritten-isolated score: 0.033482142857142856\n",
      "notMNIST score: 0.2857905982905983\n",
      "standard OCR score: 0.31348552600611906\n",
      "MNIST score: 0.6918\n",
      "------\n",
      "n_components: 41\n"
     ]
    },
    {
     "name": "stderr",
     "output_type": "stream",
     "text": [
      "/Users/jerry/mambaforge/envs/ece271bpr/lib/python3.10/site-packages/sklearn/linear_model/_logistic.py:469: ConvergenceWarning: lbfgs failed to converge (status=1):\n",
      "STOP: TOTAL NO. of ITERATIONS REACHED LIMIT.\n",
      "\n",
      "Increase the number of iterations (max_iter) or scale the data as shown in:\n",
      "    https://scikit-learn.org/stable/modules/preprocessing.html\n",
      "Please also refer to the documentation for alternative solver options:\n",
      "    https://scikit-learn.org/stable/modules/linear_model.html#logistic-regression\n",
      "  n_iter_i = _check_optimize_result(\n"
     ]
    },
    {
     "name": "stdout",
     "output_type": "stream",
     "text": [
      "Logistic Regression training took: 13.041445016860962 sec.\n",
      "\n",
      "Model testing took: 0.15139102935791016 sec.\n",
      "\n",
      "handwritten-isolated score: 0.03236607142857143\n",
      "notMNIST score: 0.2903311965811966\n",
      "standard OCR score: 0.31772181689809365\n",
      "MNIST score: 0.694\n",
      "------\n",
      "n_components: 42\n"
     ]
    },
    {
     "name": "stderr",
     "output_type": "stream",
     "text": [
      "/Users/jerry/mambaforge/envs/ece271bpr/lib/python3.10/site-packages/sklearn/linear_model/_logistic.py:469: ConvergenceWarning: lbfgs failed to converge (status=1):\n",
      "STOP: TOTAL NO. of ITERATIONS REACHED LIMIT.\n",
      "\n",
      "Increase the number of iterations (max_iter) or scale the data as shown in:\n",
      "    https://scikit-learn.org/stable/modules/preprocessing.html\n",
      "Please also refer to the documentation for alternative solver options:\n",
      "    https://scikit-learn.org/stable/modules/linear_model.html#logistic-regression\n",
      "  n_iter_i = _check_optimize_result(\n"
     ]
    },
    {
     "name": "stdout",
     "output_type": "stream",
     "text": [
      "Logistic Regression training took: 12.43740200996399 sec.\n",
      "\n",
      "Model testing took: 0.11971306800842285 sec.\n",
      "\n",
      "handwritten-isolated score: 0.03125\n",
      "notMNIST score: 0.2881944444444444\n",
      "standard OCR score: 0.3205460108260767\n",
      "MNIST score: 0.6905\n",
      "------\n",
      "n_components: 43\n"
     ]
    },
    {
     "name": "stderr",
     "output_type": "stream",
     "text": [
      "/Users/jerry/mambaforge/envs/ece271bpr/lib/python3.10/site-packages/sklearn/linear_model/_logistic.py:469: ConvergenceWarning: lbfgs failed to converge (status=1):\n",
      "STOP: TOTAL NO. of ITERATIONS REACHED LIMIT.\n",
      "\n",
      "Increase the number of iterations (max_iter) or scale the data as shown in:\n",
      "    https://scikit-learn.org/stable/modules/preprocessing.html\n",
      "Please also refer to the documentation for alternative solver options:\n",
      "    https://scikit-learn.org/stable/modules/linear_model.html#logistic-regression\n",
      "  n_iter_i = _check_optimize_result(\n"
     ]
    },
    {
     "name": "stdout",
     "output_type": "stream",
     "text": [
      "Logistic Regression training took: 13.503430843353271 sec.\n",
      "\n",
      "Model testing took: 0.12006783485412598 sec.\n",
      "\n",
      "handwritten-isolated score: 0.030691964285714284\n",
      "notMNIST score: 0.2919337606837607\n",
      "standard OCR score: 0.3212520593080725\n",
      "MNIST score: 0.6925\n",
      "------\n",
      "n_components: 44\n"
     ]
    },
    {
     "name": "stderr",
     "output_type": "stream",
     "text": [
      "/Users/jerry/mambaforge/envs/ece271bpr/lib/python3.10/site-packages/sklearn/linear_model/_logistic.py:469: ConvergenceWarning: lbfgs failed to converge (status=1):\n",
      "STOP: TOTAL NO. of ITERATIONS REACHED LIMIT.\n",
      "\n",
      "Increase the number of iterations (max_iter) or scale the data as shown in:\n",
      "    https://scikit-learn.org/stable/modules/preprocessing.html\n",
      "Please also refer to the documentation for alternative solver options:\n",
      "    https://scikit-learn.org/stable/modules/linear_model.html#logistic-regression\n",
      "  n_iter_i = _check_optimize_result(\n"
     ]
    },
    {
     "name": "stdout",
     "output_type": "stream",
     "text": [
      "Logistic Regression training took: 13.088896036148071 sec.\n",
      "\n",
      "Model testing took: 0.08995938301086426 sec.\n",
      "\n",
      "handwritten-isolated score: 0.03236607142857143\n",
      "notMNIST score: 0.2932692307692308\n",
      "standard OCR score: 0.3205460108260767\n",
      "MNIST score: 0.6943\n",
      "------\n",
      "n_components: 45\n"
     ]
    },
    {
     "name": "stderr",
     "output_type": "stream",
     "text": [
      "/Users/jerry/mambaforge/envs/ece271bpr/lib/python3.10/site-packages/sklearn/linear_model/_logistic.py:469: ConvergenceWarning: lbfgs failed to converge (status=1):\n",
      "STOP: TOTAL NO. of ITERATIONS REACHED LIMIT.\n",
      "\n",
      "Increase the number of iterations (max_iter) or scale the data as shown in:\n",
      "    https://scikit-learn.org/stable/modules/preprocessing.html\n",
      "Please also refer to the documentation for alternative solver options:\n",
      "    https://scikit-learn.org/stable/modules/linear_model.html#logistic-regression\n",
      "  n_iter_i = _check_optimize_result(\n"
     ]
    },
    {
     "name": "stdout",
     "output_type": "stream",
     "text": [
      "Logistic Regression training took: 14.160741806030273 sec.\n",
      "\n",
      "Model testing took: 0.13069915771484375 sec.\n",
      "\n",
      "handwritten-isolated score: 0.03236607142857143\n",
      "notMNIST score: 0.2951388888888889\n",
      "standard OCR score: 0.32172275829606967\n",
      "MNIST score: 0.6968\n",
      "------\n",
      "n_components: 46\n"
     ]
    },
    {
     "name": "stderr",
     "output_type": "stream",
     "text": [
      "/Users/jerry/mambaforge/envs/ece271bpr/lib/python3.10/site-packages/sklearn/linear_model/_logistic.py:469: ConvergenceWarning: lbfgs failed to converge (status=1):\n",
      "STOP: TOTAL NO. of ITERATIONS REACHED LIMIT.\n",
      "\n",
      "Increase the number of iterations (max_iter) or scale the data as shown in:\n",
      "    https://scikit-learn.org/stable/modules/preprocessing.html\n",
      "Please also refer to the documentation for alternative solver options:\n",
      "    https://scikit-learn.org/stable/modules/linear_model.html#logistic-regression\n",
      "  n_iter_i = _check_optimize_result(\n"
     ]
    },
    {
     "name": "stdout",
     "output_type": "stream",
     "text": [
      "Logistic Regression training took: 14.016649007797241 sec.\n",
      "\n",
      "Model testing took: 0.12354707717895508 sec.\n",
      "\n",
      "handwritten-isolated score: 0.03515625\n",
      "notMNIST score: 0.2954059829059829\n",
      "standard OCR score: 0.3210167098140739\n",
      "MNIST score: 0.6957\n",
      "------\n",
      "n_components: 47\n"
     ]
    },
    {
     "name": "stderr",
     "output_type": "stream",
     "text": [
      "/Users/jerry/mambaforge/envs/ece271bpr/lib/python3.10/site-packages/sklearn/linear_model/_logistic.py:469: ConvergenceWarning: lbfgs failed to converge (status=1):\n",
      "STOP: TOTAL NO. of ITERATIONS REACHED LIMIT.\n",
      "\n",
      "Increase the number of iterations (max_iter) or scale the data as shown in:\n",
      "    https://scikit-learn.org/stable/modules/preprocessing.html\n",
      "Please also refer to the documentation for alternative solver options:\n",
      "    https://scikit-learn.org/stable/modules/linear_model.html#logistic-regression\n",
      "  n_iter_i = _check_optimize_result(\n"
     ]
    },
    {
     "name": "stdout",
     "output_type": "stream",
     "text": [
      "Logistic Regression training took: 14.72439193725586 sec.\n",
      "\n",
      "Model testing took: 0.17493820190429688 sec.\n",
      "\n",
      "handwritten-isolated score: 0.030691964285714284\n",
      "notMNIST score: 0.2938034188034188\n",
      "standard OCR score: 0.3247823017180513\n",
      "MNIST score: 0.6948\n",
      "------\n",
      "n_components: 48\n"
     ]
    },
    {
     "name": "stderr",
     "output_type": "stream",
     "text": [
      "/Users/jerry/mambaforge/envs/ece271bpr/lib/python3.10/site-packages/sklearn/linear_model/_logistic.py:469: ConvergenceWarning: lbfgs failed to converge (status=1):\n",
      "STOP: TOTAL NO. of ITERATIONS REACHED LIMIT.\n",
      "\n",
      "Increase the number of iterations (max_iter) or scale the data as shown in:\n",
      "    https://scikit-learn.org/stable/modules/preprocessing.html\n",
      "Please also refer to the documentation for alternative solver options:\n",
      "    https://scikit-learn.org/stable/modules/linear_model.html#logistic-regression\n",
      "  n_iter_i = _check_optimize_result(\n"
     ]
    },
    {
     "name": "stdout",
     "output_type": "stream",
     "text": [
      "Logistic Regression training took: 14.540363788604736 sec.\n",
      "\n",
      "Model testing took: 0.11675786972045898 sec.\n",
      "\n",
      "handwritten-isolated score: 0.029575892857142856\n",
      "notMNIST score: 0.2951388888888889\n",
      "standard OCR score: 0.3273711461520358\n",
      "MNIST score: 0.6975\n",
      "------\n",
      "n_components: 49\n"
     ]
    },
    {
     "name": "stderr",
     "output_type": "stream",
     "text": [
      "/Users/jerry/mambaforge/envs/ece271bpr/lib/python3.10/site-packages/sklearn/linear_model/_logistic.py:469: ConvergenceWarning: lbfgs failed to converge (status=1):\n",
      "STOP: TOTAL NO. of ITERATIONS REACHED LIMIT.\n",
      "\n",
      "Increase the number of iterations (max_iter) or scale the data as shown in:\n",
      "    https://scikit-learn.org/stable/modules/preprocessing.html\n",
      "Please also refer to the documentation for alternative solver options:\n",
      "    https://scikit-learn.org/stable/modules/linear_model.html#logistic-regression\n",
      "  n_iter_i = _check_optimize_result(\n"
     ]
    },
    {
     "name": "stdout",
     "output_type": "stream",
     "text": [
      "Logistic Regression training took: 14.913822174072266 sec.\n",
      "\n",
      "Model testing took: 0.1091609001159668 sec.\n",
      "\n",
      "handwritten-isolated score: 0.030691964285714284\n",
      "notMNIST score: 0.296741452991453\n",
      "standard OCR score: 0.33325488350200044\n",
      "MNIST score: 0.6991\n",
      "------\n",
      "n_components: 50\n"
     ]
    },
    {
     "name": "stderr",
     "output_type": "stream",
     "text": [
      "/Users/jerry/mambaforge/envs/ece271bpr/lib/python3.10/site-packages/sklearn/linear_model/_logistic.py:469: ConvergenceWarning: lbfgs failed to converge (status=1):\n",
      "STOP: TOTAL NO. of ITERATIONS REACHED LIMIT.\n",
      "\n",
      "Increase the number of iterations (max_iter) or scale the data as shown in:\n",
      "    https://scikit-learn.org/stable/modules/preprocessing.html\n",
      "Please also refer to the documentation for alternative solver options:\n",
      "    https://scikit-learn.org/stable/modules/linear_model.html#logistic-regression\n",
      "  n_iter_i = _check_optimize_result(\n"
     ]
    },
    {
     "name": "stdout",
     "output_type": "stream",
     "text": [
      "Logistic Regression training took: 15.862032890319824 sec.\n",
      "\n",
      "Model testing took: 0.1578691005706787 sec.\n",
      "\n",
      "handwritten-isolated score: 0.030691964285714284\n",
      "notMNIST score: 0.3002136752136752\n",
      "standard OCR score: 0.3351376794539892\n",
      "MNIST score: 0.6996\n",
      "------\n",
      "n_components: 51\n"
     ]
    },
    {
     "name": "stderr",
     "output_type": "stream",
     "text": [
      "/Users/jerry/mambaforge/envs/ece271bpr/lib/python3.10/site-packages/sklearn/linear_model/_logistic.py:469: ConvergenceWarning: lbfgs failed to converge (status=1):\n",
      "STOP: TOTAL NO. of ITERATIONS REACHED LIMIT.\n",
      "\n",
      "Increase the number of iterations (max_iter) or scale the data as shown in:\n",
      "    https://scikit-learn.org/stable/modules/preprocessing.html\n",
      "Please also refer to the documentation for alternative solver options:\n",
      "    https://scikit-learn.org/stable/modules/linear_model.html#logistic-regression\n",
      "  n_iter_i = _check_optimize_result(\n"
     ]
    },
    {
     "name": "stdout",
     "output_type": "stream",
     "text": [
      "Logistic Regression training took: 14.967535018920898 sec.\n",
      "\n",
      "Model testing took: 0.11963105201721191 sec.\n",
      "\n",
      "handwritten-isolated score: 0.029575892857142856\n",
      "notMNIST score: 0.2980769230769231\n",
      "standard OCR score: 0.3287832431160273\n",
      "MNIST score: 0.7004\n",
      "------\n",
      "n_components: 52\n"
     ]
    },
    {
     "name": "stderr",
     "output_type": "stream",
     "text": [
      "/Users/jerry/mambaforge/envs/ece271bpr/lib/python3.10/site-packages/sklearn/linear_model/_logistic.py:469: ConvergenceWarning: lbfgs failed to converge (status=1):\n",
      "STOP: TOTAL NO. of ITERATIONS REACHED LIMIT.\n",
      "\n",
      "Increase the number of iterations (max_iter) or scale the data as shown in:\n",
      "    https://scikit-learn.org/stable/modules/preprocessing.html\n",
      "Please also refer to the documentation for alternative solver options:\n",
      "    https://scikit-learn.org/stable/modules/linear_model.html#logistic-regression\n",
      "  n_iter_i = _check_optimize_result(\n"
     ]
    },
    {
     "name": "stdout",
     "output_type": "stream",
     "text": [
      "Logistic Regression training took: 14.829684019088745 sec.\n",
      "\n",
      "Model testing took: 0.09552717208862305 sec.\n",
      "\n",
      "handwritten-isolated score: 0.03180803571428571\n",
      "notMNIST score: 0.29967948717948717\n",
      "standard OCR score: 0.33090138856201456\n",
      "MNIST score: 0.6996\n",
      "------\n",
      "n_components: 53\n"
     ]
    },
    {
     "name": "stderr",
     "output_type": "stream",
     "text": [
      "/Users/jerry/mambaforge/envs/ece271bpr/lib/python3.10/site-packages/sklearn/linear_model/_logistic.py:469: ConvergenceWarning: lbfgs failed to converge (status=1):\n",
      "STOP: TOTAL NO. of ITERATIONS REACHED LIMIT.\n",
      "\n",
      "Increase the number of iterations (max_iter) or scale the data as shown in:\n",
      "    https://scikit-learn.org/stable/modules/preprocessing.html\n",
      "Please also refer to the documentation for alternative solver options:\n",
      "    https://scikit-learn.org/stable/modules/linear_model.html#logistic-regression\n",
      "  n_iter_i = _check_optimize_result(\n"
     ]
    },
    {
     "name": "stdout",
     "output_type": "stream",
     "text": [
      "Logistic Regression training took: 14.914763927459717 sec.\n",
      "\n",
      "Model testing took: 0.14027810096740723 sec.\n",
      "\n",
      "handwritten-isolated score: 0.033482142857142856\n",
      "notMNIST score: 0.2986111111111111\n",
      "standard OCR score: 0.33537302894798776\n",
      "MNIST score: 0.7011\n",
      "------\n",
      "n_components: 54\n"
     ]
    },
    {
     "name": "stderr",
     "output_type": "stream",
     "text": [
      "/Users/jerry/mambaforge/envs/ece271bpr/lib/python3.10/site-packages/sklearn/linear_model/_logistic.py:469: ConvergenceWarning: lbfgs failed to converge (status=1):\n",
      "STOP: TOTAL NO. of ITERATIONS REACHED LIMIT.\n",
      "\n",
      "Increase the number of iterations (max_iter) or scale the data as shown in:\n",
      "    https://scikit-learn.org/stable/modules/preprocessing.html\n",
      "Please also refer to the documentation for alternative solver options:\n",
      "    https://scikit-learn.org/stable/modules/linear_model.html#logistic-regression\n",
      "  n_iter_i = _check_optimize_result(\n"
     ]
    },
    {
     "name": "stdout",
     "output_type": "stream",
     "text": [
      "Logistic Regression training took: 14.594466924667358 sec.\n",
      "\n",
      "Model testing took: 0.10592484474182129 sec.\n",
      "\n",
      "handwritten-isolated score: 0.033482142857142856\n",
      "notMNIST score: 0.29967948717948717\n",
      "standard OCR score: 0.3374911743939751\n",
      "MNIST score: 0.7007\n",
      "------\n",
      "n_components: 55\n"
     ]
    },
    {
     "name": "stderr",
     "output_type": "stream",
     "text": [
      "/Users/jerry/mambaforge/envs/ece271bpr/lib/python3.10/site-packages/sklearn/linear_model/_logistic.py:469: ConvergenceWarning: lbfgs failed to converge (status=1):\n",
      "STOP: TOTAL NO. of ITERATIONS REACHED LIMIT.\n",
      "\n",
      "Increase the number of iterations (max_iter) or scale the data as shown in:\n",
      "    https://scikit-learn.org/stable/modules/preprocessing.html\n",
      "Please also refer to the documentation for alternative solver options:\n",
      "    https://scikit-learn.org/stable/modules/linear_model.html#logistic-regression\n",
      "  n_iter_i = _check_optimize_result(\n"
     ]
    },
    {
     "name": "stdout",
     "output_type": "stream",
     "text": [
      "Logistic Regression training took: 14.918495178222656 sec.\n",
      "\n",
      "Model testing took: 0.14092397689819336 sec.\n",
      "\n",
      "handwritten-isolated score: 0.032924107142857144\n",
      "notMNIST score: 0.29967948717948717\n",
      "standard OCR score: 0.33796187338197226\n",
      "MNIST score: 0.701\n",
      "------\n",
      "n_components: 56\n"
     ]
    },
    {
     "name": "stderr",
     "output_type": "stream",
     "text": [
      "/Users/jerry/mambaforge/envs/ece271bpr/lib/python3.10/site-packages/sklearn/linear_model/_logistic.py:469: ConvergenceWarning: lbfgs failed to converge (status=1):\n",
      "STOP: TOTAL NO. of ITERATIONS REACHED LIMIT.\n",
      "\n",
      "Increase the number of iterations (max_iter) or scale the data as shown in:\n",
      "    https://scikit-learn.org/stable/modules/preprocessing.html\n",
      "Please also refer to the documentation for alternative solver options:\n",
      "    https://scikit-learn.org/stable/modules/linear_model.html#logistic-regression\n",
      "  n_iter_i = _check_optimize_result(\n"
     ]
    },
    {
     "name": "stdout",
     "output_type": "stream",
     "text": [
      "Logistic Regression training took: 14.757856130599976 sec.\n",
      "\n",
      "Model testing took: 0.14321494102478027 sec.\n",
      "\n",
      "handwritten-isolated score: 0.03459821428571429\n",
      "notMNIST score: 0.2988782051282051\n",
      "standard OCR score: 0.3370204754059779\n",
      "MNIST score: 0.7021\n",
      "------\n",
      "n_components: 57\n"
     ]
    },
    {
     "name": "stderr",
     "output_type": "stream",
     "text": [
      "/Users/jerry/mambaforge/envs/ece271bpr/lib/python3.10/site-packages/sklearn/linear_model/_logistic.py:469: ConvergenceWarning: lbfgs failed to converge (status=1):\n",
      "STOP: TOTAL NO. of ITERATIONS REACHED LIMIT.\n",
      "\n",
      "Increase the number of iterations (max_iter) or scale the data as shown in:\n",
      "    https://scikit-learn.org/stable/modules/preprocessing.html\n",
      "Please also refer to the documentation for alternative solver options:\n",
      "    https://scikit-learn.org/stable/modules/linear_model.html#logistic-regression\n",
      "  n_iter_i = _check_optimize_result(\n"
     ]
    },
    {
     "name": "stdout",
     "output_type": "stream",
     "text": [
      "Logistic Regression training took: 15.598469018936157 sec.\n",
      "\n",
      "Model testing took: 0.13768315315246582 sec.\n",
      "\n",
      "handwritten-isolated score: 0.03404017857142857\n",
      "notMNIST score: 0.2983440170940171\n",
      "standard OCR score: 0.34102141680395387\n",
      "MNIST score: 0.7048\n",
      "------\n",
      "n_components: 58\n"
     ]
    },
    {
     "name": "stderr",
     "output_type": "stream",
     "text": [
      "/Users/jerry/mambaforge/envs/ece271bpr/lib/python3.10/site-packages/sklearn/linear_model/_logistic.py:469: ConvergenceWarning: lbfgs failed to converge (status=1):\n",
      "STOP: TOTAL NO. of ITERATIONS REACHED LIMIT.\n",
      "\n",
      "Increase the number of iterations (max_iter) or scale the data as shown in:\n",
      "    https://scikit-learn.org/stable/modules/preprocessing.html\n",
      "Please also refer to the documentation for alternative solver options:\n",
      "    https://scikit-learn.org/stable/modules/linear_model.html#logistic-regression\n",
      "  n_iter_i = _check_optimize_result(\n"
     ]
    },
    {
     "name": "stdout",
     "output_type": "stream",
     "text": [
      "Logistic Regression training took: 16.01500391960144 sec.\n",
      "\n",
      "Model testing took: 0.12677001953125 sec.\n",
      "\n",
      "handwritten-isolated score: 0.03459821428571429\n",
      "notMNIST score: 0.29407051282051283\n",
      "standard OCR score: 0.3431395622499412\n",
      "MNIST score: 0.7053\n",
      "------\n",
      "n_components: 59\n",
      "Logistic Regression training took: 14.839990139007568 sec.\n",
      "\n",
      "Model testing took: 0.137678861618042 sec.\n",
      "\n",
      "handwritten-isolated score: 0.033482142857142856\n",
      "notMNIST score: 0.2951388888888889\n",
      "standard OCR score: 0.3438456107319369\n",
      "MNIST score: 0.7059\n",
      "------\n"
     ]
    },
    {
     "name": "stderr",
     "output_type": "stream",
     "text": [
      "/Users/jerry/mambaforge/envs/ece271bpr/lib/python3.10/site-packages/sklearn/linear_model/_logistic.py:469: ConvergenceWarning: lbfgs failed to converge (status=1):\n",
      "STOP: TOTAL NO. of ITERATIONS REACHED LIMIT.\n",
      "\n",
      "Increase the number of iterations (max_iter) or scale the data as shown in:\n",
      "    https://scikit-learn.org/stable/modules/preprocessing.html\n",
      "Please also refer to the documentation for alternative solver options:\n",
      "    https://scikit-learn.org/stable/modules/linear_model.html#logistic-regression\n",
      "  n_iter_i = _check_optimize_result(\n"
     ]
    }
   ],
   "source": [
    "handwrscores_logreg, notmnistscores_logreg, stdocrscores_logreg, mnistscores_logreg = [], [], [], []\n",
    "traintimes_logreg, predicttimes_logreg = [], []\n",
    "for ncomp in range(2, 60):\n",
    "    print(f\"n_components: {ncomp}\")\n",
    "    pca = allpcas[ncomp - 2]\n",
    "    ts = tic()\n",
    "    consol_logreg_pca = create_logreg(cons_train_data, cons_train_labels, data_transform=pca.transform)\n",
    "    traintimes_logreg.append(toc(ts, printtime=False))\n",
    "    ts = tic()\n",
    "    handwrscore, notmnistscore, stdocrscore, mnistscore = run_all_tests_model(consol_logreg_pca, data_transform=pca.transform)\n",
    "    predicttimes_logreg.append(toc(ts, printtime=False))\n",
    "    handwrscores_logreg.append(handwrscore)\n",
    "    notmnistscores_logreg.append(notmnistscore)\n",
    "    stdocrscores_logreg.append(stdocrscore)\n",
    "    mnistscores_logreg.append(mnistscore)\n",
    "    print(\"------\")"
   ]
  },
  {
   "cell_type": "code",
   "execution_count": 110,
   "metadata": {},
   "outputs": [
    {
     "data": {
      "image/png": "[encoded data removed]",
      "text/plain": [
       "<Figure size 640x480 with 1 Axes>"
      ]
     },
     "metadata": {},
     "output_type": "display_data"
    }
   ],
   "source": [
    "plt.plot(range(2, 60), handwrscores_logreg, label=\"handwritten-isolated\")\n",
    "plt.plot(range(2, 60), notmnistscores_logreg, label=\"notMNIST\")\n",
    "plt.plot(range(2, 60), stdocrscores_logreg, label=\"standard OCR\")\n",
    "plt.plot(range(2, 60), mnistscores_logreg, label=\"MNIST\")\n",
    "plt.xlabel(\"number of PCA components\")\n",
    "plt.ylabel(\"test accuracy\")\n",
    "plt.title(\"PCA for logistic regression classification\")\n",
    "plt.legend()\n",
    "plt.show()"
   ]
  },
  {
   "cell_type": "code",
   "execution_count": 112,
   "metadata": {},
   "outputs": [
    {
     "data": {
      "image/png": "[encoded data removed]",
      "text/plain": [
       "<Figure size 640x480 with 1 Axes>"
      ]
     },
     "metadata": {},
     "output_type": "display_data"
    }
   ],
   "source": [
    "plt.plot(range(2, 60), traintimes_logreg, label=\"predict time\")\n",
    "plt.xlabel(\"number of PCA components\")\n",
    "plt.ylabel(\"time taken for training (s)\")\n",
    "plt.title(\"time taken to train logistic regression classifier\")\n",
    "plt.show()"
   ]
  },
  {
   "cell_type": "code",
   "execution_count": 75,
   "metadata": {},
   "outputs": [],
   "source": [
    "def create_knn(X, y, k=5, data_transform=None):\n",
    "    if data_transform is None:\n",
    "        data_transform = lambda x: x\n",
    "    ts = tic()\n",
    "    knn = KNeighborsClassifier(n_neighbors=k)\n",
    "    knn.fit(data_transform(X), y)\n",
    "    toc(ts, \"KNN training\")\n",
    "    return knn"
   ]
  },
  {
   "cell_type": "code",
   "execution_count": 108,
   "metadata": {},
   "outputs": [
    {
     "name": "stdout",
     "output_type": "stream",
     "text": [
      "KNN training took: 0.01241302490234375 sec.\n",
      "\n",
      "Model testing took: 39.930012226104736 sec.\n",
      "\n",
      "handwritten-isolated score: 0.6032366071428571\n",
      "notMNIST score: 0.7753739316239316\n",
      "standard OCR score: 0.9042127559425748\n",
      "MNIST score: 0.9396\n"
     ]
    },
    {
     "data": {
      "text/plain": [
       "(0.6032366071428571, 0.7753739316239316, 0.9042127559425748, 0.9396)"
      ]
     },
     "execution_count": 108,
     "metadata": {},
     "output_type": "execute_result"
    }
   ],
   "source": [
    "consol_knn = create_knn(cons_train_data, cons_train_labels, k=5)\n",
    "run_all_tests_model(consol_knn)"
   ]
  },
  {
   "cell_type": "code",
   "execution_count": 82,
   "metadata": {},
   "outputs": [
    {
     "name": "stdout",
     "output_type": "stream",
     "text": [
      "n_components: 2\n",
      "Creating PCA components took: 2.8190972805023193 sec.\n",
      "\n",
      "KNN training took: 0.5200510025024414 sec.\n",
      "\n",
      "KNN testing took: 0.32169413566589355 sec.\n",
      "\n",
      "handwritten-isolated score: 0.2845982142857143\n",
      "notMNIST score: 0.17387820512820512\n",
      "standard OCR score: 0.06966345022358202\n",
      "MNIST score: 0.2326\n",
      "------\n",
      "n_components: 3\n",
      "Creating PCA components took: 1.8751511573791504 sec.\n",
      "\n",
      "KNN training took: 0.37133121490478516 sec.\n",
      "\n",
      "KNN testing took: 0.329941987991333 sec.\n",
      "\n",
      "handwritten-isolated score: 0.31529017857142855\n",
      "notMNIST score: 0.2676282051282051\n",
      "standard OCR score: 0.10473052482937162\n",
      "MNIST score: 0.306\n",
      "------\n",
      "n_components: 4\n",
      "Creating PCA components took: 1.788559913635254 sec.\n",
      "\n",
      "KNN training took: 0.34250617027282715 sec.\n",
      "\n",
      "KNN testing took: 0.3650670051574707 sec.\n",
      "\n",
      "handwritten-isolated score: 0.3431919642857143\n",
      "notMNIST score: 0.36511752136752135\n",
      "standard OCR score: 0.19604612850082373\n",
      "MNIST score: 0.3778\n",
      "------\n",
      "n_components: 5\n",
      "Creating PCA components took: 1.9595201015472412 sec.\n",
      "\n",
      "KNN training took: 0.3754599094390869 sec.\n",
      "\n",
      "KNN testing took: 0.42789602279663086 sec.\n",
      "\n",
      "handwritten-isolated score: 0.34988839285714285\n",
      "notMNIST score: 0.43349358974358976\n",
      "standard OCR score: 0.3212520593080725\n",
      "MNIST score: 0.4693\n",
      "------\n",
      "n_components: 6\n",
      "Creating PCA components took: 1.9050278663635254 sec.\n",
      "\n",
      "KNN training took: 0.3588581085205078 sec.\n",
      "\n",
      "KNN testing took: 0.5157430171966553 sec.\n",
      "\n",
      "handwritten-isolated score: 0.38560267857142855\n",
      "notMNIST score: 0.531784188034188\n",
      "standard OCR score: 0.4721110849611673\n",
      "MNIST score: 0.5302\n",
      "------\n",
      "n_components: 7\n",
      "Creating PCA components took: 1.8647432327270508 sec.\n",
      "\n",
      "KNN training took: 0.3929448127746582 sec.\n",
      "\n",
      "KNN testing took: 0.6375601291656494 sec.\n",
      "\n",
      "handwritten-isolated score: 0.38448660714285715\n",
      "notMNIST score: 0.6236645299145299\n",
      "standard OCR score: 0.5730760178865616\n",
      "MNIST score: 0.583\n",
      "------\n",
      "n_components: 8\n",
      "Creating PCA components took: 1.961129903793335 sec.\n",
      "\n",
      "KNN training took: 0.3910059928894043 sec.\n",
      "\n",
      "KNN testing took: 0.7270629405975342 sec.\n",
      "\n",
      "handwritten-isolated score: 0.40736607142857145\n",
      "notMNIST score: 0.6615918803418803\n",
      "standard OCR score: 0.640150623676159\n",
      "MNIST score: 0.641\n",
      "------\n",
      "n_components: 9\n",
      "Creating PCA components took: 1.8400459289550781 sec.\n",
      "\n",
      "KNN training took: 0.380856990814209 sec.\n",
      "\n",
      "KNN testing took: 0.9356880187988281 sec.\n",
      "\n",
      "handwritten-isolated score: 0.41908482142857145\n",
      "notMNIST score: 0.71875\n",
      "standard OCR score: 0.7277006354436338\n",
      "MNIST score: 0.6917\n",
      "------\n",
      "n_components: 10\n",
      "Creating PCA components took: 3.3690991401672363 sec.\n",
      "\n",
      "KNN training took: 0.4021897315979004 sec.\n",
      "\n",
      "KNN testing took: 1.174842119216919 sec.\n",
      "\n",
      "handwritten-isolated score: 0.43973214285714285\n",
      "notMNIST score: 0.7369123931623932\n",
      "standard OCR score: 0.7634737585314192\n",
      "MNIST score: 0.7212\n",
      "------\n",
      "n_components: 11\n",
      "Creating PCA components took: 3.5589799880981445 sec.\n",
      "\n",
      "KNN training took: 0.4091041088104248 sec.\n",
      "\n",
      "KNN testing took: 1.438809871673584 sec.\n",
      "\n",
      "handwritten-isolated score: 0.45200892857142855\n",
      "notMNIST score: 0.7553418803418803\n",
      "standard OCR score: 0.7888915038832667\n",
      "MNIST score: 0.7598\n",
      "------\n",
      "n_components: 12\n",
      "Creating PCA components took: 3.7486119270324707 sec.\n",
      "\n",
      "KNN training took: 0.47678709030151367 sec.\n",
      "\n",
      "KNN testing took: 1.772263765335083 sec.\n",
      "\n",
      "handwritten-isolated score: 0.46372767857142855\n",
      "notMNIST score: 0.7662927350427351\n",
      "standard OCR score: 0.8138385502471169\n",
      "MNIST score: 0.8142\n",
      "------\n",
      "n_components: 13\n",
      "Creating PCA components took: 4.202904939651489 sec.\n",
      "\n",
      "KNN training took: 0.623464822769165 sec.\n",
      "\n",
      "KNN testing took: 2.1420998573303223 sec.\n",
      "\n",
      "handwritten-isolated score: 0.46316964285714285\n",
      "notMNIST score: 0.7785790598290598\n",
      "standard OCR score: 0.8310190633090139\n",
      "MNIST score: 0.8448\n",
      "------\n",
      "n_components: 14\n",
      "Creating PCA components took: 4.326249122619629 sec.\n",
      "\n",
      "KNN training took: 0.41577982902526855 sec.\n",
      "\n",
      "KNN testing took: 2.6574440002441406 sec.\n",
      "\n",
      "handwritten-isolated score: 0.47377232142857145\n",
      "notMNIST score: 0.7841880341880342\n",
      "standard OCR score: 0.8467874794069192\n",
      "MNIST score: 0.8714\n",
      "------\n",
      "n_components: 15\n",
      "Creating PCA components took: 4.648988962173462 sec.\n",
      "\n",
      "KNN training took: 0.627871036529541 sec.\n",
      "\n",
      "KNN testing took: 3.170232057571411 sec.\n",
      "\n",
      "handwritten-isolated score: 0.47154017857142855\n",
      "notMNIST score: 0.7930021367521367\n",
      "standard OCR score: 0.8585549541068487\n",
      "MNIST score: 0.8854\n",
      "------\n",
      "n_components: 16\n",
      "Creating PCA components took: 4.435523986816406 sec.\n",
      "\n",
      "KNN training took: 0.3602738380432129 sec.\n",
      "\n",
      "KNN testing took: 1.312727928161621 sec.\n",
      "\n",
      "handwritten-isolated score: 0.47823660714285715\n",
      "notMNIST score: 0.7938034188034188\n",
      "standard OCR score: 0.8665568369028006\n",
      "MNIST score: 0.8918\n",
      "------\n",
      "n_components: 17\n",
      "Creating PCA components took: 4.881597995758057 sec.\n",
      "\n",
      "KNN training took: 0.3609490394592285 sec.\n",
      "\n",
      "KNN testing took: 1.334150791168213 sec.\n",
      "\n",
      "handwritten-isolated score: 0.48604910714285715\n",
      "notMNIST score: 0.7967414529914529\n",
      "standard OCR score: 0.8670275358907978\n",
      "MNIST score: 0.9026\n",
      "------\n",
      "n_components: 18\n",
      "Creating PCA components took: 4.6310930252075195 sec.\n",
      "\n",
      "KNN training took: 0.5699360370635986 sec.\n",
      "\n",
      "KNN testing took: 1.3519032001495361 sec.\n",
      "\n",
      "handwritten-isolated score: 0.4916294642857143\n",
      "notMNIST score: 0.7938034188034188\n",
      "standard OCR score: 0.8691456813367852\n",
      "MNIST score: 0.9071\n",
      "------\n",
      "n_components: 19\n",
      "Creating PCA components took: 5.112734079360962 sec.\n",
      "\n",
      "KNN training took: 0.38042593002319336 sec.\n",
      "\n",
      "KNN testing took: 1.3594422340393066 sec.\n",
      "\n",
      "handwritten-isolated score: 0.50390625\n",
      "notMNIST score: 0.7994123931623932\n",
      "standard OCR score: 0.8738526712167569\n",
      "MNIST score: 0.9125\n",
      "------\n",
      "n_components: 20\n",
      "Creating PCA components took: 4.97747015953064 sec.\n",
      "\n",
      "KNN training took: 0.4088311195373535 sec.\n",
      "\n",
      "KNN testing took: 1.4767041206359863 sec.\n",
      "\n",
      "handwritten-isolated score: 0.515625\n",
      "notMNIST score: 0.8026175213675214\n",
      "standard OCR score: 0.8844433984466933\n",
      "MNIST score: 0.9143\n",
      "------\n",
      "n_components: 21\n",
      "Creating PCA components took: 4.8969738483428955 sec.\n",
      "\n",
      "KNN training took: 0.44019198417663574 sec.\n",
      "\n",
      "KNN testing took: 1.4122889041900635 sec.\n",
      "\n",
      "handwritten-isolated score: 0.5228794642857143\n",
      "notMNIST score: 0.8074252136752137\n",
      "standard OCR score: 0.8853847964226876\n",
      "MNIST score: 0.9166\n",
      "------\n",
      "n_components: 22\n",
      "Creating PCA components took: 4.624634027481079 sec.\n",
      "\n",
      "KNN training took: 0.4146239757537842 sec.\n",
      "\n",
      "KNN testing took: 1.467965841293335 sec.\n",
      "\n",
      "handwritten-isolated score: 0.5206473214285714\n",
      "notMNIST score: 0.8090277777777778\n",
      "standard OCR score: 0.8877382913626736\n",
      "MNIST score: 0.9176\n",
      "------\n",
      "n_components: 23\n",
      "Creating PCA components took: 4.945258855819702 sec.\n",
      "\n",
      "KNN training took: 0.4315469264984131 sec.\n",
      "\n",
      "KNN testing took: 1.4693610668182373 sec.\n",
      "\n",
      "handwritten-isolated score: 0.5234375\n",
      "notMNIST score: 0.8135683760683761\n",
      "standard OCR score: 0.8865615438926806\n",
      "MNIST score: 0.9224\n",
      "------\n",
      "n_components: 24\n",
      "Creating PCA components took: 4.75850772857666 sec.\n",
      "\n",
      "KNN training took: 0.4572610855102539 sec.\n",
      "\n",
      "KNN testing took: 1.4994471073150635 sec.\n",
      "\n",
      "handwritten-isolated score: 0.5262276785714286\n",
      "notMNIST score: 0.8146367521367521\n",
      "standard OCR score: 0.8910331842786539\n",
      "MNIST score: 0.9277\n",
      "------\n",
      "n_components: 25\n",
      "Creating PCA components took: 4.585241079330444 sec.\n",
      "\n",
      "KNN training took: 0.6274919509887695 sec.\n",
      "\n",
      "KNN testing took: 1.5037751197814941 sec.\n",
      "\n",
      "handwritten-isolated score: 0.5334821428571429\n",
      "notMNIST score: 0.8141025641025641\n",
      "standard OCR score: 0.890327135796658\n",
      "MNIST score: 0.932\n",
      "------\n",
      "n_components: 26\n",
      "Creating PCA components took: 4.587364196777344 sec.\n",
      "\n",
      "KNN training took: 0.4720158576965332 sec.\n",
      "\n",
      "KNN testing took: 1.5929820537567139 sec.\n",
      "\n",
      "handwritten-isolated score: 0.5295758928571429\n",
      "notMNIST score: 0.8143696581196581\n",
      "standard OCR score: 0.8933866792186397\n",
      "MNIST score: 0.9386\n",
      "------\n",
      "n_components: 27\n",
      "Creating PCA components took: 4.598968982696533 sec.\n",
      "\n",
      "KNN training took: 0.6710507869720459 sec.\n",
      "\n",
      "KNN testing took: 1.5559837818145752 sec.\n",
      "\n",
      "handwritten-isolated score: 0.5424107142857143\n",
      "notMNIST score: 0.813301282051282\n",
      "standard OCR score: 0.8936220287126383\n",
      "MNIST score: 0.9406\n",
      "------\n",
      "n_components: 28\n",
      "Creating PCA components took: 4.643809795379639 sec.\n",
      "\n",
      "KNN training took: 0.7200891971588135 sec.\n",
      "\n",
      "KNN testing took: 1.5749890804290771 sec.\n",
      "\n",
      "handwritten-isolated score: 0.5390625\n",
      "notMNIST score: 0.811698717948718\n",
      "standard OCR score: 0.894328077194634\n",
      "MNIST score: 0.9405\n",
      "------\n",
      "n_components: 29\n",
      "Creating PCA components took: 4.266916275024414 sec.\n",
      "\n",
      "KNN training took: 0.4414820671081543 sec.\n",
      "\n",
      "KNN testing took: 1.619168996810913 sec.\n",
      "\n",
      "handwritten-isolated score: 0.5401785714285714\n",
      "notMNIST score: 0.812232905982906\n",
      "standard OCR score: 0.8971522711226171\n",
      "MNIST score: 0.9423\n",
      "------\n",
      "n_components: 30\n",
      "Creating PCA components took: 4.364055156707764 sec.\n",
      "\n",
      "KNN training took: 0.4639739990234375 sec.\n",
      "\n",
      "KNN testing took: 1.6027119159698486 sec.\n",
      "\n",
      "handwritten-isolated score: 0.5407366071428571\n",
      "notMNIST score: 0.812767094017094\n",
      "standard OCR score: 0.8980936690986114\n",
      "MNIST score: 0.9447\n",
      "------\n",
      "n_components: 31\n",
      "Creating PCA components took: 4.4384520053863525 sec.\n",
      "\n",
      "KNN training took: 0.46656107902526855 sec.\n",
      "\n",
      "KNN testing took: 1.6296770572662354 sec.\n",
      "\n",
      "handwritten-isolated score: 0.54296875\n",
      "notMNIST score: 0.8092948717948718\n",
      "standard OCR score: 0.8992704165686044\n",
      "MNIST score: 0.9442\n",
      "------\n",
      "n_components: 32\n",
      "Creating PCA components took: 4.435892820358276 sec.\n",
      "\n",
      "KNN training took: 0.46863532066345215 sec.\n",
      "\n",
      "KNN testing took: 1.6225552558898926 sec.\n",
      "\n",
      "handwritten-isolated score: 0.546875\n",
      "notMNIST score: 0.813034188034188\n",
      "standard OCR score: 0.8999764650506001\n",
      "MNIST score: 0.9456\n",
      "------\n",
      "n_components: 33\n",
      "Creating PCA components took: 4.8130340576171875 sec.\n",
      "\n",
      "KNN training took: 0.4550919532775879 sec.\n",
      "\n",
      "KNN testing took: 1.7012109756469727 sec.\n",
      "\n",
      "handwritten-isolated score: 0.5546875\n",
      "notMNIST score: 0.8146367521367521\n",
      "standard OCR score: 0.9013885620145917\n",
      "MNIST score: 0.9459\n",
      "------\n",
      "n_components: 34\n",
      "Creating PCA components took: 5.100172996520996 sec.\n",
      "\n",
      "KNN training took: 0.6123001575469971 sec.\n",
      "\n",
      "KNN testing took: 1.7119181156158447 sec.\n",
      "\n",
      "handwritten-isolated score: 0.5552455357142857\n",
      "notMNIST score: 0.813034188034188\n",
      "standard OCR score: 0.9013885620145917\n",
      "MNIST score: 0.9463\n",
      "------\n",
      "n_components: 35\n",
      "Creating PCA components took: 5.174805641174316 sec.\n",
      "\n",
      "KNN training took: 0.6806631088256836 sec.\n",
      "\n",
      "KNN testing took: 1.7120530605316162 sec.\n",
      "\n",
      "handwritten-isolated score: 0.5619419642857143\n",
      "notMNIST score: 0.812232905982906\n",
      "standard OCR score: 0.9006825135325959\n",
      "MNIST score: 0.9486\n",
      "------\n",
      "n_components: 36\n",
      "Creating PCA components took: 5.617555856704712 sec.\n",
      "\n",
      "KNN training took: 0.44826793670654297 sec.\n",
      "\n",
      "KNN testing took: 1.7298059463500977 sec.\n",
      "\n",
      "handwritten-isolated score: 0.5691964285714286\n",
      "notMNIST score: 0.8135683760683761\n",
      "standard OCR score: 0.9018592610025888\n",
      "MNIST score: 0.9476\n",
      "------\n",
      "n_components: 37\n",
      "Creating PCA components took: 5.523623943328857 sec.\n",
      "\n",
      "KNN training took: 0.6910479068756104 sec.\n",
      "\n",
      "KNN testing took: 1.75278902053833 sec.\n",
      "\n",
      "handwritten-isolated score: 0.5658482142857143\n",
      "notMNIST score: 0.811965811965812\n",
      "standard OCR score: 0.9035067074605789\n",
      "MNIST score: 0.9476\n",
      "------\n",
      "n_components: 38\n",
      "Creating PCA components took: 5.812849998474121 sec.\n",
      "\n",
      "KNN training took: 0.6555352210998535 sec.\n",
      "\n",
      "KNN testing took: 1.7268810272216797 sec.\n",
      "\n",
      "handwritten-isolated score: 0.5652901785714286\n",
      "notMNIST score: 0.812232905982906\n",
      "standard OCR score: 0.9051541539185691\n",
      "MNIST score: 0.9486\n",
      "------\n",
      "n_components: 39\n",
      "Creating PCA components took: 5.791850805282593 sec.\n",
      "\n",
      "KNN training took: 0.42668986320495605 sec.\n",
      "\n",
      "KNN testing took: 1.7072713375091553 sec.\n",
      "\n",
      "handwritten-isolated score: 0.5731026785714286\n",
      "notMNIST score: 0.8146367521367521\n",
      "standard OCR score: 0.9042127559425748\n",
      "MNIST score: 0.9491\n",
      "------\n",
      "n_components: 40\n",
      "Creating PCA components took: 6.094074726104736 sec.\n",
      "\n",
      "KNN training took: 0.43165111541748047 sec.\n",
      "\n",
      "KNN testing took: 1.8201088905334473 sec.\n",
      "\n",
      "handwritten-isolated score: 0.5719866071428571\n",
      "notMNIST score: 0.8135683760683761\n",
      "standard OCR score: 0.9044481054365733\n",
      "MNIST score: 0.9486\n",
      "------\n",
      "n_components: 41\n",
      "Creating PCA components took: 5.845829963684082 sec.\n",
      "\n",
      "KNN training took: 0.4576249122619629 sec.\n",
      "\n",
      "KNN testing took: 1.830552101135254 sec.\n",
      "\n",
      "handwritten-isolated score: 0.5725446428571429\n",
      "notMNIST score: 0.8146367521367521\n",
      "standard OCR score: 0.9065662508825606\n",
      "MNIST score: 0.9494\n",
      "------\n",
      "n_components: 42\n",
      "Creating PCA components took: 6.133440017700195 sec.\n",
      "\n",
      "KNN training took: 0.6991257667541504 sec.\n",
      "\n",
      "KNN testing took: 1.804908037185669 sec.\n",
      "\n",
      "handwritten-isolated score: 0.5736607142857143\n",
      "notMNIST score: 0.811698717948718\n",
      "standard OCR score: 0.9079783478465522\n",
      "MNIST score: 0.9494\n",
      "------\n",
      "n_components: 43\n",
      "Creating PCA components took: 5.863080978393555 sec.\n",
      "\n",
      "KNN training took: 0.6854679584503174 sec.\n",
      "\n",
      "KNN testing took: 1.8189101219177246 sec.\n",
      "\n",
      "handwritten-isolated score: 0.5764508928571429\n",
      "notMNIST score: 0.813034188034188\n",
      "standard OCR score: 0.9079783478465522\n",
      "MNIST score: 0.951\n",
      "------\n",
      "n_components: 44\n",
      "Creating PCA components took: 6.228445053100586 sec.\n",
      "\n",
      "KNN training took: 0.6684160232543945 sec.\n",
      "\n",
      "KNN testing took: 1.8418381214141846 sec.\n",
      "\n",
      "handwritten-isolated score: 0.5764508928571429\n",
      "notMNIST score: 0.8143696581196581\n",
      "standard OCR score: 0.9079783478465522\n",
      "MNIST score: 0.9517\n",
      "------\n",
      "n_components: 45\n",
      "Creating PCA components took: 6.4424521923065186 sec.\n",
      "\n",
      "KNN training took: 0.6614971160888672 sec.\n",
      "\n",
      "KNN testing took: 1.9073500633239746 sec.\n",
      "\n",
      "handwritten-isolated score: 0.578125\n",
      "notMNIST score: 0.8108974358974359\n",
      "standard OCR score: 0.9084490468345493\n",
      "MNIST score: 0.9527\n",
      "------\n",
      "n_components: 46\n",
      "Creating PCA components took: 5.965948104858398 sec.\n",
      "\n",
      "KNN training took: 0.699195146560669 sec.\n",
      "\n",
      "KNN testing took: 1.8991467952728271 sec.\n",
      "\n",
      "handwritten-isolated score: 0.5809151785714286\n",
      "notMNIST score: 0.813034188034188\n",
      "standard OCR score: 0.907507648858555\n",
      "MNIST score: 0.9533\n",
      "------\n",
      "n_components: 47\n",
      "Creating PCA components took: 6.734693288803101 sec.\n",
      "\n",
      "KNN training took: 0.6901330947875977 sec.\n",
      "\n",
      "KNN testing took: 1.9227490425109863 sec.\n",
      "\n",
      "handwritten-isolated score: 0.5848214285714286\n",
      "notMNIST score: 0.8138354700854701\n",
      "standard OCR score: 0.907507648858555\n",
      "MNIST score: 0.9527\n",
      "------\n",
      "n_components: 48\n",
      "Creating PCA components took: 6.44121789932251 sec.\n",
      "\n",
      "KNN training took: 0.7654337882995605 sec.\n",
      "\n",
      "KNN testing took: 1.9754149913787842 sec.\n",
      "\n",
      "handwritten-isolated score: 0.5892857142857143\n",
      "notMNIST score: 0.813301282051282\n",
      "standard OCR score: 0.9105671922805366\n",
      "MNIST score: 0.9529\n",
      "------\n",
      "n_components: 49\n",
      "Creating PCA components took: 6.1116180419921875 sec.\n",
      "\n",
      "KNN training took: 0.6986279487609863 sec.\n",
      "\n",
      "KNN testing took: 2.0190212726593018 sec.\n",
      "\n",
      "handwritten-isolated score: 0.5859375\n",
      "notMNIST score: 0.813301282051282\n",
      "standard OCR score: 0.9122146387385267\n",
      "MNIST score: 0.9534\n",
      "------\n",
      "n_components: 50\n",
      "Creating PCA components took: 6.494461297988892 sec.\n",
      "\n",
      "KNN training took: 0.7158141136169434 sec.\n",
      "\n",
      "KNN testing took: 1.9431579113006592 sec.\n",
      "\n",
      "handwritten-isolated score: 0.5876116071428571\n",
      "notMNIST score: 0.8125\n",
      "standard OCR score: 0.9126853377265239\n",
      "MNIST score: 0.9531\n",
      "------\n",
      "n_components: 51\n",
      "Creating PCA components took: 6.350775718688965 sec.\n",
      "\n",
      "KNN training took: 0.6776139736175537 sec.\n",
      "\n",
      "KNN testing took: 2.0398459434509277 sec.\n",
      "\n",
      "handwritten-isolated score: 0.5876116071428571\n",
      "notMNIST score: 0.8149038461538461\n",
      "standard OCR score: 0.9112732407625324\n",
      "MNIST score: 0.9529\n",
      "------\n",
      "n_components: 52\n",
      "Creating PCA components took: 6.863908052444458 sec.\n",
      "\n",
      "KNN training took: 0.714439868927002 sec.\n",
      "\n",
      "KNN testing took: 2.002188205718994 sec.\n",
      "\n",
      "handwritten-isolated score: 0.5848214285714286\n",
      "notMNIST score: 0.813301282051282\n",
      "standard OCR score: 0.911508590256531\n",
      "MNIST score: 0.953\n",
      "------\n",
      "n_components: 53\n",
      "Creating PCA components took: 6.676447868347168 sec.\n",
      "\n",
      "KNN training took: 0.48039722442626953 sec.\n",
      "\n",
      "KNN testing took: 2.042314052581787 sec.\n",
      "\n",
      "handwritten-isolated score: 0.5870535714285714\n",
      "notMNIST score: 0.813301282051282\n",
      "standard OCR score: 0.9105671922805366\n",
      "MNIST score: 0.9534\n",
      "------\n",
      "n_components: 54\n",
      "Creating PCA components took: 6.783909797668457 sec.\n",
      "\n",
      "KNN training took: 0.5355041027069092 sec.\n",
      "\n",
      "KNN testing took: 2.0724148750305176 sec.\n",
      "\n",
      "handwritten-isolated score: 0.5859375\n",
      "notMNIST score: 0.8146367521367521\n",
      "standard OCR score: 0.9117439397505296\n",
      "MNIST score: 0.9529\n",
      "------\n",
      "n_components: 55\n",
      "Creating PCA components took: 6.6509599685668945 sec.\n",
      "\n",
      "KNN training took: 0.6666438579559326 sec.\n",
      "\n",
      "KNN testing took: 2.02939772605896 sec.\n",
      "\n",
      "handwritten-isolated score: 0.5853794642857143\n",
      "notMNIST score: 0.812232905982906\n",
      "standard OCR score: 0.911508590256531\n",
      "MNIST score: 0.9536\n",
      "------\n",
      "n_components: 56\n",
      "Creating PCA components took: 7.108283996582031 sec.\n",
      "\n",
      "KNN training took: 0.6618449687957764 sec.\n",
      "\n",
      "KNN testing took: 2.103916883468628 sec.\n",
      "\n",
      "handwritten-isolated score: 0.5892857142857143\n",
      "notMNIST score: 0.813034188034188\n",
      "standard OCR score: 0.9108025417745352\n",
      "MNIST score: 0.9536\n",
      "------\n",
      "n_components: 57\n",
      "Creating PCA components took: 7.3383190631866455 sec.\n",
      "\n",
      "KNN training took: 0.6872739791870117 sec.\n",
      "\n",
      "KNN testing took: 2.109124183654785 sec.\n",
      "\n",
      "handwritten-isolated score: 0.58984375\n",
      "notMNIST score: 0.8114316239316239\n",
      "standard OCR score: 0.9108025417745352\n",
      "MNIST score: 0.953\n",
      "------\n",
      "n_components: 58\n",
      "Creating PCA components took: 7.337984085083008 sec.\n",
      "\n",
      "KNN training took: 0.7124300003051758 sec.\n",
      "\n",
      "KNN testing took: 2.14609694480896 sec.\n",
      "\n",
      "handwritten-isolated score: 0.5876116071428571\n",
      "notMNIST score: 0.813034188034188\n",
      "standard OCR score: 0.9098611437985409\n",
      "MNIST score: 0.9526\n",
      "------\n",
      "n_components: 59\n",
      "Creating PCA components took: 6.968785047531128 sec.\n",
      "\n",
      "KNN training took: 0.6801438331604004 sec.\n",
      "\n",
      "KNN testing took: 2.1899161338806152 sec.\n",
      "\n",
      "handwritten-isolated score: 0.5926339285714286\n",
      "notMNIST score: 0.813034188034188\n",
      "standard OCR score: 0.9105671922805366\n",
      "MNIST score: 0.9523\n",
      "------\n"
     ]
    }
   ],
   "source": [
    "handwrscores_knn, notmnistscores_knn, stdocrscores_knn, mnistscores_knn = [], [], [], []\n",
    "traintimes_knn, predicttimes_knn = [], []\n",
    "for ncomp in range(2, 60):\n",
    "    print(f\"n_components: {ncomp}\")\n",
    "    pca = allpcas[ncomp - 2]\n",
    "    ts = tic()\n",
    "    consol_knn_pca = create_knn(cons_train_data, cons_train_labels, k=5, data_transform=pca.transform)\n",
    "    traintimes_knn.append(toc(ts, printtime=False))\n",
    "    ts = tic()\n",
    "    handwrscore, notmnistscore, stdocrscore, mnistscore = run_all_tests_model(consol_knn_pca, data_transform=pca.transform)\n",
    "    predicttimes_knn.append(toc(ts, printtime=False))\n",
    "    handwrscores_knn.append(handwrscore)\n",
    "    notmnistscores_knn.append(notmnistscore)\n",
    "    stdocrscores_knn.append(stdocrscore)\n",
    "    mnistscores_knn.append(mnistscore)\n",
    "    print(\"------\")"
   ]
  },
  {
   "cell_type": "code",
   "execution_count": 93,
   "metadata": {},
   "outputs": [
    {
     "data": {
      "image/png": "[encoded data removed]",
      "text/plain": [
       "<Figure size 640x480 with 1 Axes>"
      ]
     },
     "metadata": {},
     "output_type": "display_data"
    }
   ],
   "source": [
    "plt.plot(range(2, 60), handwrscores_knn, label=\"handwritten-isolated\")\n",
    "plt.plot(range(2, 60), notmnistscores_knn, label=\"notMNIST\")\n",
    "plt.plot(range(2, 60), stdocrscores_knn, label=\"standard OCR\")\n",
    "plt.plot(range(2, 60), mnistscores_knn, label=\"MNIST\")\n",
    "plt.xlabel(\"number of PCA components\")\n",
    "plt.ylabel(\"test accuracy\")\n",
    "plt.title(\"PCA for KNNs\")\n",
    "plt.legend()\n",
    "plt.show()"
   ]
  },
  {
   "cell_type": "code",
   "execution_count": 94,
   "metadata": {},
   "outputs": [
    {
     "data": {
      "text/plain": [
       "Text(0, 0.5, 'time taken for predictions (s)')"
      ]
     },
     "execution_count": 94,
     "metadata": {},
     "output_type": "execute_result"
    },
    {
     "data": {
      "image/png": "[encoded data removed]",
      "text/plain": [
       "<Figure size 640x480 with 1 Axes>"
      ]
     },
     "metadata": {},
     "output_type": "display_data"
    }
   ],
   "source": [
    "plt.plot(range(2, 60), predicttimes_knn, label=\"predict time\")\n",
    "plt.xlabel(\"number of PCA components\")\n",
    "plt.ylabel(\"time taken for predictions (s)\")\n",
    "plt.show()"
   ]
  },
  {
   "cell_type": "code",
   "execution_count": null,
   "metadata": {},
   "outputs": [],
   "source": []
  }
 ],
 "metadata": {
  "kernelspec": {
   "display_name": "ece271bpr",
   "language": "python",
   "name": "python3"
  },
  "language_info": {
   "codemirror_mode": {
    "name": "ipython",
    "version": 3
   },
   "file_extension": ".py",
   "mimetype": "text/x-python",
   "name": "python",
   "nbconvert_exporter": "python",
   "pygments_lexer": "ipython3",
   "version": "3.10.13"
  }
 },
 "nbformat": 4,
 "nbformat_minor": 2
}
