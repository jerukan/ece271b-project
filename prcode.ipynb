{
 "cells": [
  {
   "cell_type": "code",
   "execution_count": 15,
   "metadata": {},
   "outputs": [],
   "source": [
    "import os\n",
    "from pathlib import Path\n",
    "\n",
    "import lightning as L\n",
    "from PIL import Image\n",
    "import torch\n",
    "from torchvision.datasets import MNIST\n",
    "from torchvision.transforms import ToTensor\n",
    "from torch.utils.data import Dataset\n",
    "from torchvision import datasets\n",
    "from torchvision.transforms import ToTensor"
   ]
  },
  {
   "cell_type": "code",
   "execution_count": 70,
   "metadata": {},
   "outputs": [],
   "source": [
    "class CharDataset(Dataset):\n",
    "    \"\"\"\n",
    "    General dataset for single character data loading.\n",
    "\n",
    "    Assumes that in the directory given, the subdirectories are the classes.\n",
    "    These directory names should be the single character class.\n",
    "    \"\"\"\n",
    "    def __init__(self, img_dir, transform=None):\n",
    "        self.img_dir = Path(img_dir)\n",
    "        if not self.img_dir.exists():\n",
    "            raise FileNotFoundError(f\"{img_dir} does not exist\")\n",
    "        alldirs = [p for p in self.img_dir.glob(\"*\") if p.is_dir()]\n",
    "        self.imgpaths = []\n",
    "        self.imglabels = []\n",
    "        for d in alldirs:\n",
    "            chclass = d.stem.lower()\n",
    "            imgpaths = list(d.glob(\"*.jpg\")) + list(d.glob(\"*.png\"))\n",
    "            self.imgpaths.extend(imgpaths)\n",
    "            self.imglabels.extend([chclass] * len(imgpaths))\n",
    "        self.transform = transform\n",
    "\n",
    "    def __len__(self):\n",
    "        return len(self.imglabels)\n",
    "\n",
    "    def __getitem__(self, idx):\n",
    "        imgpath = self.imgpaths[idx]\n",
    "        img = Image.open(imgpath).convert(\"L\")\n",
    "        label = self.imglabels[idx]\n",
    "        if self.transform:\n",
    "            img = self.transform(img)\n",
    "        return img, label"
   ]
  },
  {
   "cell_type": "code",
   "execution_count": 89,
   "metadata": {},
   "outputs": [],
   "source": [
    "handiso_ds_train = CharDataset(\"data/handwritten-isolated-english/train\")\n",
    "handiso_ds_test = CharDataset(\"data/handwritten-isolated-english/test\")\n",
    "nomnist_ds = CharDataset(\"data/notMNIST_small\")\n",
    "stdocr_ds_train = CharDataset(\"data/standard_ocr_dataset/data/training_data\") + CharDataset(\"data/standard_ocr_dataset/data2/training_data\")\n",
    "stdocr_ds_test = CharDataset(\"data/standard_ocr_dataset/data/testing_data\") + CharDataset(\"data/standard_ocr_dataset/data2/testing_data\")\n",
    "mnist_ds_train = MNIST(Path(os.getcwd(), \"data\"), train=True)\n",
    "mnist_ds_test = MNIST(Path(os.getcwd(), \"data\"), train=False)"
   ]
  }
 ],
 "metadata": {
  "kernelspec": {
   "display_name": "ece271bpr",
   "language": "python",
   "name": "python3"
  },
  "language_info": {
   "codemirror_mode": {
    "name": "ipython",
    "version": 3
   },
   "file_extension": ".py",
   "mimetype": "text/x-python",
   "name": "python",
   "nbconvert_exporter": "python",
   "pygments_lexer": "ipython3",
   "version": "3.10.13"
  }
 },
 "nbformat": 4,
 "nbformat_minor": 2
}
